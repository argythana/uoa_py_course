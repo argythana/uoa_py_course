{
 "cells": [
  {
   "cell_type": "markdown",
   "id": "fa382825-df21-4f61-80a4-235a2ee61c86",
   "metadata": {
    "tags": []
   },
   "source": [
    "# Lecture 10a. Classification using KNN scikit learn implementation.\n",
    "\n",
    "### The EDA part of this lecture is based on refactoring of a nice [blog post](https://medium.com/codex/machine-learning-k-nearest-neighbors-algorithm-with-python-df94b374ad41) that could be improved a lot. Note: the code from this blog post is not working with the current modules versions we use.   \n",
    "**Let's all repeat together once more: \"Version Control is a fundamental skill if you want to learn programming nad one of the first things to test for debugging.\"**\n",
    "\n",
    "\n",
    "### The *iris* plants dataset.\n",
    "[iris flowers](https://en.wikipedia.org/wiki/Iris_(plant))  \n",
    "[iris setosa](https://en.wikipedia.org/wiki/Iris_setosa)  \n",
    "[Iris Versicolour](https://en.wikipedia.org/wiki/Iris_versicolor)  \n",
    "[Iris Virginica](https://en.wikipedia.org/wiki/Iris_virginica)\n",
    "\n",
    "[Info about dataset](https://raw.githubusercontent.com/jbrownlee/Datasets/master/iris.names)    \n",
    "\n",
    "\n",
    "### Notes:  \n",
    "* Classify an observation in the data by measuring its distance from an integer K of nearest observations.  \n",
    "  Simple counting (voting) of K neighbours.    \n",
    "  \"Tell me who your friends are and I can tell you who you are.\"  \n",
    "\n",
    "* KNN is a **\"supervised learning\"** algo. We know the labels.  \n",
    "Goal is to classify observations to known categories.\n",
    "\n",
    "* **\"Lazy learning\"**: use the whole dataset, don't split the data into train, test and validation sets.\n",
    "\n",
    "[Intro to KNN by my favorite tutor](https://www.youtube.com/watch?v=HnCHdeyJNOM)  \n",
    "\n",
    "Appropriate for: \n",
    "* **\"tall skinny datasets\"**, Many instances, few features.\n",
    "* uniformly shaped datasets, \n",
    "\n",
    "**Selecting K**:  \n",
    "The optimal K is highly data-dependent: in general a larger K suppresses the effects of noise, but makes the classification boundaries less distinct.   \n",
    "Default scikit learn value is 5 neighbours. Not optimal, just a default value.      \n",
    "Changing the number of K is the only parameter you may set for a basic tuning implementation.  \n",
    "\n",
    "**Important \"keyword only\" parameters of scikit learn implementation and their default values:**\n",
    "* weights='uniform'. All neighbors have equal weights (\"voting power\"=1). If 'distance' increases then \"voting power\" of neighbour decreases. \n",
    "* metric='minkowski'. Metric used to compute distance. Default “minkowski” results in the standard Euclidean distance when p=2.  \n",
    "  See the documentation of [scipy.spatial.distance](https://docs.scipy.org/doc/scipy/reference/spatial.distance.html) and the metrics listed in [distance_metrics](https://scikit-learn.org/stable/modules/generated/sklearn.metrics.pairwise.distance_metrics.html#sklearn.metrics.pairwise.distance_metrics) for valid metric values.  \n",
    "* p=2. Power parameter for the Minkowski metric. When p = 1, this is equivalent to using manhattan_distance (l1), and euclidean_distance (l2) for p = 2.\n",
    "* algorithm='auto'. Decide the most appropriate algorithm based on data values.\n",
    "* leaf_size=30. The number of observation in the final \"leaf node\". Trade-offs in accuracy and efficienvy (RAM, speed).   \n",
    "    Larger Size: Tends to make tree construction faster and reduces memory usage, but may slow down query time as more points are checked within each leaf.  \n",
    "    The impact on accuracy is usually minimal unless the leaf size significantly affects the neighborhood search quality.  \n",
    "    Smaller Size: Leads to a more finely partitioned tree, potentially improving query speed and accuracy, but can increase tree construction time and memory usage.  \n",
    "Balance leaf size for optimal performance in both tree construction and querying, while ensuring that accuracy is not adversely affected.  \n",
    "* n_jobs=None. Used for parallel processors jobs. None means 1.\n",
    "\n",
    "\n",
    "### KNN implementaion reading material:\n",
    "[Knn user guide in scikit-learn](https://scikit-learn.org/stable/modules/neighbors.html#classification)\n",
    "\n",
    "[Knn funtion and parameters in scikit-learn](https://scikit-learn.org/stable/modules/generated/sklearn.neighbors.KNeighborsClassifier.html)\n",
    "\n",
    "\n",
    "### Extras:\n",
    "#### Alternative nearest neighbours classifier: Radius N N\n",
    "Classify based on the number of neighbors within a fixed radius of each training point, which is a floating-point value specified by the user.   \n",
    "Useful when data are not uniformely shaped (e.g. geospatial, time internals).   \n",
    "\n",
    "#### KNN Regression\n",
    "[KNN Regression User Guide](https://scikit-learn.org/stable/modules/neighbors.html#regression)  \n",
    "Data labels are continuous rather than discrete variables.   \n",
    "The label assigned to a query point is computed based on the mean of the labels of its nearest neighbors."
   ]
  },
  {
   "cell_type": "markdown",
   "id": "575d9f64-36b8-4b49-a387-5ba5151afdbb",
   "metadata": {},
   "source": [
    "### Import necessary modules."
   ]
  },
  {
   "cell_type": "code",
   "execution_count": null,
   "id": "806e7f94-fc25-4135-bdce-5a25a2769272",
   "metadata": {},
   "outputs": [],
   "source": [
    "import pandas as pd\n",
    "import numpy as np\n",
    "\n",
    "import seaborn as sns\n",
    "import matplotlib.pyplot as plt\n",
    "from matplotlib import style\n",
    "\n",
    "from sklearn.neighbors import KNeighborsClassifier  # The algo function\n",
    "\n",
    "from sklearn.metrics import accuracy_score, confusion_matrix, ConfusionMatrixDisplay\n",
    "from sklearn.preprocessing import StandardScaler, MinMaxScaler, MaxAbsScaler  # Just for presentation."
   ]
  },
  {
   "cell_type": "code",
   "execution_count": null,
   "id": "853f60b5-8125-427e-bc41-1441e79ae464",
   "metadata": {},
   "outputs": [],
   "source": [
    "import sklearn.neighbors"
   ]
  },
  {
   "cell_type": "markdown",
   "id": "9fe7c043-0a6b-4664-b444-a37f5a881198",
   "metadata": {},
   "source": [
    "## A. Examine the data, using graphs (EDA) and statistics."
   ]
  },
  {
   "cell_type": "code",
   "execution_count": null,
   "id": "chinese-skill",
   "metadata": {},
   "outputs": [],
   "source": [
    "# seaborn loads training datasets and returns a pandas dataframe\n",
    "df = sns.load_dataset('iris')"
   ]
  },
  {
   "cell_type": "code",
   "execution_count": null,
   "id": "industrial-spectacular",
   "metadata": {},
   "outputs": [],
   "source": [
    "type(df)"
   ]
  },
  {
   "cell_type": "code",
   "execution_count": null,
   "id": "patient-square",
   "metadata": {},
   "outputs": [],
   "source": [
    "# seaborn loads training datasets and returns a pandas dataframe which contains X and y.\n",
    "df.sample(5)"
   ]
  },
  {
   "cell_type": "markdown",
   "id": "eb65b2da-8639-4b0d-912a-044aeec47699",
   "metadata": {},
   "source": [
    "#### A1. Basic info about the data."
   ]
  },
  {
   "cell_type": "code",
   "execution_count": null,
   "id": "agricultural-spring",
   "metadata": {},
   "outputs": [],
   "source": [
    "df.columns"
   ]
  },
  {
   "cell_type": "code",
   "execution_count": null,
   "id": "pharmaceutical-johnson",
   "metadata": {},
   "outputs": [],
   "source": [
    "df.info()"
   ]
  },
  {
   "cell_type": "code",
   "execution_count": null,
   "id": "improved-flour",
   "metadata": {},
   "outputs": [],
   "source": [
    "# Descriptive stats on all the data offer no insights concerning the 3 different categories (species).\n",
    "df.describe()"
   ]
  },
  {
   "cell_type": "code",
   "execution_count": null,
   "id": "residential-castle",
   "metadata": {},
   "outputs": [],
   "source": [
    "# Species differences are obvious with scimple descriptive stats.\n",
    "df.groupby(\"species\").describe().T"
   ]
  },
  {
   "cell_type": "markdown",
   "id": "normal-roommate",
   "metadata": {},
   "source": [
    "### Various plots for EDA"
   ]
  },
  {
   "cell_type": "code",
   "execution_count": null,
   "id": "697167ea-2053-4922-aebc-ba0e098b131d",
   "metadata": {},
   "outputs": [],
   "source": [
    "# sns.  # Use tab key to aget options in Jupyter lab."
   ]
  },
  {
   "cell_type": "code",
   "execution_count": null,
   "id": "f8a8aaaa-2a88-4873-9832-2eac47f600fd",
   "metadata": {},
   "outputs": [],
   "source": [
    "# plt. # Use tab key to aget options in Jupyter lab."
   ]
  },
  {
   "cell_type": "code",
   "execution_count": null,
   "id": "7d33dbb9-43c2-4d35-a08f-552b268eddad",
   "metadata": {},
   "outputs": [],
   "source": [
    "# Matplotlib styles include seaborn styles currently.\n",
    "style.available"
   ]
  },
  {
   "cell_type": "code",
   "execution_count": null,
   "id": "asian-washington",
   "metadata": {},
   "outputs": [],
   "source": [
    "# Set a common style for all plots.\n",
    "# style.use('seaborn-whitegrid')  # This used to work a year ago. Not anymore.\n",
    "# style.use(\"seaborn-v0_8-dark\")  # Try this if you want.\n",
    "style.use(\"dark_background\")  # I prefer this one\n",
    "plt.rcParams['figure.figsize'] = (14, 8)"
   ]
  },
  {
   "cell_type": "markdown",
   "id": "b842c5f2-3060-4f90-ade7-8d356e6aceb1",
   "metadata": {},
   "source": [
    "#### A2. Sepal scatter visualization"
   ]
  },
  {
   "cell_type": "code",
   "execution_count": null,
   "id": "0d64e72e-784d-4060-a01d-7247f31bf8e9",
   "metadata": {
    "scrolled": true
   },
   "outputs": [],
   "source": [
    "# sns.scatterplot?"
   ]
  },
  {
   "cell_type": "code",
   "execution_count": null,
   "id": "de447ad5-537d-48a6-a22d-4290c3a4023f",
   "metadata": {},
   "outputs": [],
   "source": [
    "# Call functions with many parameters using one line for each parameter: Readability, flexibility, faster, cleaner code.\n",
    "sns.scatterplot(data=df,\n",
    "                x='sepal_length',\n",
    "                y='sepal_width',\n",
    "                hue='species',\n",
    "                palette=['Red', 'Blue', 'Limegreen'],\n",
    "                # palette = 'Set2', # Try this one.\n",
    "                edgecolor='black',\n",
    "                s=100,\n",
    "                alpha=0.85  # try setting 0.5\n",
    ")\n",
    "\n",
    "plt.title('Sepal Length and Sepal width')\n",
    "plt.xlabel('Sepal Length')\n",
    "plt.ylabel('Sepal Width')\n",
    "plt.legend(markerscale=1.5, loc=\"upper right\", prop={'size': 14});  # Try different marker scales.\n",
    "\n",
    "# plt.savefig(\"sepal.png\")  # Can you guess what does this line of code do?"
   ]
  },
  {
   "cell_type": "code",
   "execution_count": null,
   "id": "6ff68e15-18fc-439b-b67e-7b05e22f2187",
   "metadata": {},
   "outputs": [],
   "source": [
    "# Spot the three differences in the code between this plot and the one above:\n",
    "# a)\n",
    "# b)\n",
    "# c)\n",
    "\n",
    "# Call functions with many parameters using one line for each parameter: Readability, flexibility, faster, cleaner code.\n",
    "sns.scatterplot(\n",
    "    x='sepal_length',\n",
    "    y='sepal_width',\n",
    "    data=df,  # a)\n",
    "    hue='species',\n",
    "    palette=['red', 'blue', 'limegreen'],  # b)\n",
    "    edgecolor='b', # c) Can you guess if this is \"black\" or \"blue\"? Explicit is better than implicit.\n",
    "    s=100,\n",
    "    alpha=0.85\n",
    ")\n",
    "\n",
    "plt.title('Sepal Length to Sepal width')\n",
    "plt.xlabel('Sepal Length')\n",
    "plt.ylabel('Sepal Width')\n",
    "plt.legend(markerscale=1.5, loc=\"upper right\", prop={'size': 14});\n",
    "\n",
    "# plt.savefig('sepal.png')  # Can you guess what does this line of code do?"
   ]
  },
  {
   "cell_type": "markdown",
   "id": "8db9bf69-9a2c-4ab8-89b4-8e0dccccfb0e",
   "metadata": {},
   "source": [
    "#### A3. Petal scatter visualization"
   ]
  },
  {
   "cell_type": "code",
   "execution_count": null,
   "id": "6cf570de-931a-48a7-86eb-00389d6bacb9",
   "metadata": {},
   "outputs": [],
   "source": [
    "sns.scatterplot(\n",
    "    x='petal_length', y='petal_width', data=df, hue='species',\n",
    "    palette = ['Red', 'Blue', 'limegreen'],\n",
    "    edgecolor = 'w', s = 150, alpha = 0.7\n",
    ")\n",
    "\n",
    "plt.title('Petal Length To Petal Width')\n",
    "plt.xlabel('Petal Length')\n",
    "plt.ylabel('Petal Width')\n",
    "plt.legend(loc = 'upper left', fontsize = 12);\n",
    "\n",
    "# plt.savefig('petal.png')"
   ]
  },
  {
   "cell_type": "code",
   "execution_count": null,
   "id": "straight-aerospace",
   "metadata": {},
   "outputs": [],
   "source": [
    "# sns.heatmap?"
   ]
  },
  {
   "cell_type": "markdown",
   "id": "ee340650-2042-49d9-9078-6ec8cc931134",
   "metadata": {},
   "source": [
    "#### A4. Data Heatmap"
   ]
  },
  {
   "cell_type": "code",
   "execution_count": null,
   "id": "ca5ee7cb-67df-4cc8-b131-792e3f44d442",
   "metadata": {},
   "outputs": [],
   "source": [
    "# df_corr = df.corr()  # This used to work until Pandas 2.0. Not anymore.\n",
    "\n",
    "df_corr = df.corr(numeric_only=True)\n",
    "\n",
    "sns.heatmap(\n",
    "    df_corr, annot = True, \n",
    "    cmap = 'Blues',\n",
    "    xticklabels = df_corr.columns.values,\n",
    "    yticklabels = df_corr.columns.values\n",
    ");\n",
    "\n",
    "plt.title('Iris Data Heatmap', fontsize = 15);\n",
    "plt.xticks(fontsize = 12);\n",
    "plt.yticks(fontsize = 12);\n",
    "\n",
    "# plt.savefig('heatmap.png')"
   ]
  },
  {
   "cell_type": "markdown",
   "id": "9cf94d87-5c9f-4c40-b771-6f726c3f700e",
   "metadata": {},
   "source": [
    "#### A5. Scatter Matrix"
   ]
  },
  {
   "cell_type": "code",
   "execution_count": null,
   "id": "edeb18b0-a58b-49ab-ab25-497052ca9468",
   "metadata": {},
   "outputs": [],
   "source": [
    "# all features ar numeric, so we use the data as is.\n",
    "# use the species to \n",
    "sns.pairplot(data=df, hue='species', palette=['Red', 'Blue', 'limegreen']);\n",
    "\n",
    "# plt.savefig('iris_pairplot.png')"
   ]
  },
  {
   "cell_type": "code",
   "execution_count": null,
   "id": "quiet-debut",
   "metadata": {},
   "outputs": [],
   "source": [
    "# 5. Distribution plot for all species of iris\n",
    "\n",
    "ax1 = plt.subplot(211)\n",
    "# sns.kdeplot(df['sepal_length'], color = 'r', shade = True)  # deprecation warning\n",
    "# sns.kdeplot(df['sepal_width'], color = 'b', shade = True)\n",
    "sns.kdeplot(df['sepal_length'], color = 'r', fill = True);\n",
    "sns.kdeplot(df['sepal_width'], color = 'b', fill = True);\n",
    "plt.xlabel('Sepal width and sepal length');\n",
    "plt.legend([\"Length\", \"Width\"])\n",
    "\n",
    "\n",
    "ax2 = plt.subplot(212)\n",
    "# sns.kdeplot(df['petal_length'], color = 'coral', shade = True);  # deprecation warning\n",
    "# sns.kdeplot(df['petal_width'], color = 'green', shade = True);\n",
    "sns.kdeplot(df['petal_length'], color = 'coral', fill = True);\n",
    "sns.kdeplot(df['petal_width'], color = 'green', fill = True);\n",
    "plt.xlabel('Petal width and sepal length');\n",
    "plt.legend([\"Length\", \"Width\"])\n",
    "\n",
    "# plt.savefig('dist.png')"
   ]
  },
  {
   "cell_type": "markdown",
   "id": "civilian-maximum",
   "metadata": {},
   "source": [
    "## B. Apply knn, using scikit learn\n",
    "\n",
    "When using a function from library, a very important thing to know: the \"input\" data type. Also remember: libraries evolve fast."
   ]
  },
  {
   "cell_type": "markdown",
   "id": "acc46feb-67bf-48d0-98a3-37ad8864021e",
   "metadata": {},
   "source": [
    "### B1. Data Pre-processing "
   ]
  },
  {
   "cell_type": "markdown",
   "id": "weird-spider",
   "metadata": {},
   "source": [
    "#### B1.1 Separate:  \n",
    "* \"feature matrix\" = (explanatory variables)\n",
    "* \"classification vector\" = (target variable)"
   ]
  },
  {
   "cell_type": "code",
   "execution_count": null,
   "id": "f487d4dd-6396-40d3-9d2d-7dbb3fb055ba",
   "metadata": {},
   "outputs": [],
   "source": [
    "df.head(3)"
   ]
  },
  {
   "cell_type": "code",
   "execution_count": null,
   "id": "hidden-think",
   "metadata": {},
   "outputs": [],
   "source": [
    "# X = df[['sepal_length', 'sepal_width', 'petal_length', 'petal_width']].to_numpy()\n",
    "# convert to numpy array is not necessary, scikit works with pandas dataframes since ages. But that was not always the case.\n",
    "\n",
    "X = df.iloc[:, :-1]#.to_numpy()\n",
    "#X = df[[\"sepal_length\",\t\"sepal_width\", \t\"petal_length\", \"petal_width\"]]   # Same result as above, but what would you do if you had thousands of features?\n",
    "\n",
    "y = df['species']#.to_numpy()"
   ]
  },
  {
   "cell_type": "code",
   "execution_count": null,
   "id": "ab055b9a-0b03-4dfb-be07-8d08c7d8f867",
   "metadata": {},
   "outputs": [],
   "source": [
    "X.head(3)\n",
    "# X[:5]  # same result, pythonic syntax"
   ]
  },
  {
   "cell_type": "code",
   "execution_count": null,
   "id": "committed-trance",
   "metadata": {},
   "outputs": [],
   "source": [
    "# 5 Random target variable values\n",
    "y.sample(5)\n",
    "# y[:5]"
   ]
  },
  {
   "cell_type": "markdown",
   "id": "lesser-island",
   "metadata": {},
   "source": [
    "#### B1.2 Scale the data (if necessary)  \n",
    "\n",
    "In this case, the features all have the same scale, all are measeured in centimeters and their range is very small.  \n",
    "So this step is NOT necessary for this dataset.    \n",
    "Below are some examples of scaling methods, for you to practice.  \n",
    "Try to see if you get different results."
   ]
  },
  {
   "cell_type": "code",
   "execution_count": null,
   "id": "suitable-aspect",
   "metadata": {},
   "outputs": [],
   "source": [
    "# standardization = subtract the mean and divide by s. Mean becomes zero and s = 1\n",
    "# X = StandardScaler().fit_transform(X.astype(float))\n",
    "\n",
    "# X = MaxAbsScaler().fit_transform(X.astype(float))  # feature_range=[-1, 1]\n",
    "\n",
    "# X = MinMaxScaler().fit_transform(X.astype(float))  # feature_range=(min, max)\n",
    "\n",
    "# X.head()"
   ]
  },
  {
   "cell_type": "code",
   "execution_count": null,
   "id": "6e01ad68-2830-4457-9c9c-ce183606328a",
   "metadata": {},
   "outputs": [],
   "source": [
    "# Range of features values.\n",
    "(X.max() - X.min())"
   ]
  },
  {
   "cell_type": "markdown",
   "id": "returning-privacy",
   "metadata": {},
   "source": [
    "#### B1.3 Split data in train set and test set   \n",
    "\n",
    "#### IMPORTANT: k-NN does NOT need TRAIN & TEST => \"lazy learning algo\"."
   ]
  },
  {
   "cell_type": "markdown",
   "id": "psychological-minnesota",
   "metadata": {},
   "source": [
    "### B2. Implement the scikit library"
   ]
  },
  {
   "cell_type": "markdown",
   "id": "4b36bce8-fc14-4673-8c5f-7ac3a6de8473",
   "metadata": {},
   "source": [
    "#### B2.1 Select N of neighbours and classifier model"
   ]
  },
  {
   "cell_type": "code",
   "execution_count": null,
   "id": "a720b94a-a5f1-4bf9-81b8-8f5cda04ee37",
   "metadata": {
    "scrolled": true
   },
   "outputs": [],
   "source": [
    "# get help in jupyter about the function and its parameters\n",
    "KNeighborsClassifier?"
   ]
  },
  {
   "cell_type": "code",
   "execution_count": null,
   "id": "213daf7f-f063-4db0-b8f3-8b9a8d1b4b4d",
   "metadata": {},
   "outputs": [],
   "source": [
    "# help(KNeighborsClassifier)  # Extensive documentation."
   ]
  },
  {
   "cell_type": "code",
   "execution_count": null,
   "id": "ba43c1f5-2256-46cc-9f3b-59a487eff921",
   "metadata": {},
   "outputs": [],
   "source": [
    "k = 5  # Number of neighbours\n",
    "\n",
    "# name that we gave to the \"algo\" instance\n",
    "neighbours_clf = KNeighborsClassifier(n_neighbors=k)"
   ]
  },
  {
   "cell_type": "code",
   "execution_count": null,
   "id": "ea62b16c-5e1b-4473-b788-b3db8886af7a",
   "metadata": {},
   "outputs": [],
   "source": [
    "neighbours_clf = KNeighborsClassifier()"
   ]
  },
  {
   "cell_type": "markdown",
   "id": "2fe61281-b372-4554-9bc4-76b826e5def6",
   "metadata": {},
   "source": [
    "#### B2.2 Fit the model to the train set (a subset of the data)"
   ]
  },
  {
   "cell_type": "code",
   "execution_count": null,
   "id": "e71f791c-d3c0-4f4e-ab21-e9db7d4419a6",
   "metadata": {},
   "outputs": [],
   "source": [
    "neighbours_clf  # Before fitting"
   ]
  },
  {
   "cell_type": "code",
   "execution_count": null,
   "id": "51ee4e8e-118f-45c0-b570-420730f5f5c3",
   "metadata": {},
   "outputs": [],
   "source": [
    "neighbours_clf.fit(X, y);"
   ]
  },
  {
   "cell_type": "code",
   "execution_count": null,
   "id": "63c8a4d5-fb7c-4f46-a065-93981d29ed7b",
   "metadata": {},
   "outputs": [],
   "source": [
    "neighbours_clf  # After fitting"
   ]
  },
  {
   "cell_type": "markdown",
   "id": "8b7bd094-aaec-474e-b2b6-97daeb3a94b1",
   "metadata": {},
   "source": [
    "#### B2.3 Create predictions on test set"
   ]
  },
  {
   "cell_type": "code",
   "execution_count": null,
   "id": "successful-lottery",
   "metadata": {},
   "outputs": [],
   "source": [
    "# this creates a new, fifth subset\n",
    "y_pred = neighbours_clf.predict(X)"
   ]
  },
  {
   "cell_type": "code",
   "execution_count": null,
   "id": "behind-aruba",
   "metadata": {},
   "outputs": [],
   "source": [
    "y_pred"
   ]
  },
  {
   "cell_type": "markdown",
   "id": "abfe3022-09bc-449c-9d8c-d0fcdd70dd8f",
   "metadata": {},
   "source": [
    "#### B2.4 predict a single observation"
   ]
  },
  {
   "cell_type": "code",
   "execution_count": null,
   "id": "64ae7623-160c-4b5b-a1c5-70c16551bf33",
   "metadata": {},
   "outputs": [],
   "source": [
    "X.head(1)  # first row"
   ]
  },
  {
   "cell_type": "code",
   "execution_count": null,
   "id": "e88d10bc-13c2-49b8-bc8c-1c703fe08ac0",
   "metadata": {},
   "outputs": [],
   "source": [
    "X.iloc[0:1]  # first row, same as above different syntax"
   ]
  },
  {
   "cell_type": "code",
   "execution_count": null,
   "id": "6e777708-3b88-46ef-9fea-1be02cce34bd",
   "metadata": {},
   "outputs": [],
   "source": [
    "y_pred_obs_number_one = neighbours_clf.predict(X.iloc[0:1])  # predict class of first row\n",
    "y_pred_obs_number_one"
   ]
  },
  {
   "cell_type": "code",
   "execution_count": null,
   "id": "020176cf-07d4-4e16-a415-57749910dd92",
   "metadata": {},
   "outputs": [],
   "source": [
    "y[0:1]  # actual class value of first row"
   ]
  },
  {
   "cell_type": "code",
   "execution_count": null,
   "id": "e1fe37e3-a812-438a-a475-c866db5757ab",
   "metadata": {},
   "outputs": [],
   "source": [
    "# Read the warning and undestand it. Data without names, still works because of training.\n",
    "my_whatever_one_observation_feature_values = [[5.8, 2.8, 5.1, 2.4]]  # array of 4 random values, double brackets.\n",
    "y_pred_my_whatever_values = neighbours_clf.predict(my_whatever_one_observation_feature_values)\n",
    "\n",
    "y_pred_my_whatever_values = neighbours_clf.predict([[5.8, 2.8, 5.1, 2.4]])  # same as the line above.\n",
    "y_pred_my_whatever_values"
   ]
  },
  {
   "cell_type": "code",
   "execution_count": null,
   "id": "ff1e5103-0634-4dc8-9f41-24595fece8d0",
   "metadata": {},
   "outputs": [],
   "source": [
    "# Create DataFrame for the new observation to include headers\n",
    "feature_names = df.columns[:-1]\n",
    "feature_names"
   ]
  },
  {
   "cell_type": "code",
   "execution_count": null,
   "id": "d5edad2c-a8cb-4aa6-8323-bc37bab1b093",
   "metadata": {},
   "outputs": [],
   "source": [
    "# Create a df (values, columns headers)\n",
    "one_new_observation_df = pd.DataFrame(my_whatever_one_observation_feature_values, columns=feature_names)"
   ]
  },
  {
   "cell_type": "code",
   "execution_count": null,
   "id": "8bb61636-bbc5-419a-950a-6f10a9440559",
   "metadata": {},
   "outputs": [],
   "source": [
    "y_pred_my_whatever_values = neighbours_clf.predict(one_new_observation_df)\n",
    "y_pred_my_whatever_values"
   ]
  },
  {
   "cell_type": "code",
   "execution_count": null,
   "id": "2323026c-ae50-4b6e-9d66-4c0fc4b836c2",
   "metadata": {},
   "outputs": [],
   "source": [
    "# Create predictions\n",
    "y_pred_first_ten_rows = neighbours_clf.predict(X.iloc[:10])"
   ]
  },
  {
   "cell_type": "code",
   "execution_count": null,
   "id": "b201c717-2113-4898-8355-11d1a02e3f97",
   "metadata": {},
   "outputs": [],
   "source": [
    "# Call predictions\n",
    "y_pred_first_ten_rows"
   ]
  },
  {
   "cell_type": "code",
   "execution_count": null,
   "id": "dd42c62c-1147-42a1-83b7-5c96ef25edd1",
   "metadata": {},
   "outputs": [],
   "source": [
    "# show classifier classes\n",
    "neighbours_clf.classes_"
   ]
  },
  {
   "cell_type": "code",
   "execution_count": null,
   "id": "c0cb7f40-e50d-4869-ae49-135cab9dd861",
   "metadata": {},
   "outputs": [],
   "source": [
    "# Show probablilities of prediction for class for each observation\n",
    "neighbours_clf.predict_proba(X)"
   ]
  },
  {
   "cell_type": "code",
   "execution_count": null,
   "id": "37c8efb7-ee80-45ca-98b1-9350c4cc5828",
   "metadata": {},
   "outputs": [],
   "source": [
    "# Old school python:\n",
    "# Get the predicted probabilities for each sample\n",
    "probabilities = neighbours_clf.predict_proba(X)\n",
    "\n",
    "# Find the indices of samples where the maximum probability is not 1\n",
    "indices = np.where(np.max(probabilities, axis=1) != 1)\n",
    "\n",
    "# Print these samples and their corresponding probabilities\n",
    "for i in indices[0]:\n",
    "    print(f\"Sample {i}:\")\n",
    "    print(X.iloc[i])\n",
    "    print(f\"Predicted probabilities: {probabilities[i]}\")\n",
    "    print(\"\\n\")"
   ]
  },
  {
   "cell_type": "code",
   "execution_count": null,
   "id": "48e6bea3-22d8-4bbb-934b-2cb8dbc88e09",
   "metadata": {},
   "outputs": [],
   "source": [
    "# Get the predicted probabilities for each sample\n",
    "probabilities = neighbours_clf.predict_proba(X)\n",
    "\n",
    "# Find the indices of samples where the maximum probability is not 1\n",
    "indices = np.where(np.max(probabilities, axis=1) != 1)\n",
    "\n",
    "# Initialize an empty DataFrame to store the results\n",
    "results_df = pd.DataFrame(columns=[\"Sample\"] + list(X.columns) + [\"Predicted Probabilities\"])\n",
    "\n",
    "# Loop over the indices\n",
    "for i in indices[0]:\n",
    "    # Append the sample index, features and predicted probabilities to the DataFrame\n",
    "    results_df.loc[len(results_df)] = [i] + list(X.iloc[i]) + [probabilities[i]]\n",
    "\n",
    "# Print the results DataFrame\n",
    "results_df"
   ]
  },
  {
   "cell_type": "markdown",
   "id": "spiritual-wallpaper",
   "metadata": {},
   "source": [
    "### B3. Evaluate model performance"
   ]
  },
  {
   "cell_type": "markdown",
   "id": "0a65cd31-b0eb-4aee-9eac-80055ca8f90c",
   "metadata": {},
   "source": [
    "#### B3.1 Accuracy score"
   ]
  },
  {
   "cell_type": "code",
   "execution_count": null,
   "id": "steady-british",
   "metadata": {},
   "outputs": [],
   "source": [
    "# using the default score()  function of the classifier\n",
    "neighbours_clf.score(X, y)"
   ]
  },
  {
   "cell_type": "code",
   "execution_count": null,
   "id": "vertical-assistant",
   "metadata": {},
   "outputs": [],
   "source": [
    "# using the scikit learn metric function. Same result\n",
    "round(accuracy_score(y, y_pred) * 100, 4)"
   ]
  },
  {
   "cell_type": "code",
   "execution_count": null,
   "id": "responsible-scientist",
   "metadata": {},
   "outputs": [],
   "source": [
    "y[:10], y_pred[:10]"
   ]
  },
  {
   "cell_type": "code",
   "execution_count": null,
   "id": "916ea0e8-474a-42f2-a5d2-4bbd62023766",
   "metadata": {},
   "outputs": [],
   "source": [
    "# Create df (column_headers: values)\n",
    "y_df = pd.DataFrame({'y': y, 'y_pred': y_pred},\n",
    "                    columns=['y', 'y_pred'])"
   ]
  },
  {
   "cell_type": "code",
   "execution_count": null,
   "id": "e36be7a6-bdae-4fd3-b32c-5e3513b9c734",
   "metadata": {},
   "outputs": [],
   "source": [
    "# Call dateframe\n",
    "y_df"
   ]
  },
  {
   "cell_type": "code",
   "execution_count": null,
   "id": "57e240ba-d6a0-4bfc-a010-ca637e3c9d89",
   "metadata": {},
   "outputs": [],
   "source": [
    "# Create new column with [\"column name\"] and values = the result of boolean equality y is equal to predicted y\n",
    "\n",
    "y_df[\"prediction_outcome\"] = (y_df.y == y_df.y_pred)"
   ]
  },
  {
   "cell_type": "code",
   "execution_count": null,
   "id": "eligible-austin",
   "metadata": {},
   "outputs": [],
   "source": [
    "y_df.head()"
   ]
  },
  {
   "cell_type": "code",
   "execution_count": null,
   "id": "meaning-worship",
   "metadata": {},
   "outputs": [],
   "source": [
    "# Filter y_df, get rows of column prediction_outcome is False.\n",
    "y_df[y_df.prediction_outcome == False]"
   ]
  },
  {
   "cell_type": "markdown",
   "id": "strong-boring",
   "metadata": {},
   "source": [
    "#### B3.2 Confusion Matrix"
   ]
  },
  {
   "cell_type": "code",
   "execution_count": null,
   "id": "working-house",
   "metadata": {},
   "outputs": [],
   "source": [
    "# Confusion matrix, manual implementation using pandas crosstab function\n",
    "pd.crosstab(y, y_pred, rownames=['True'], colnames=['Predicted'], margins=True)"
   ]
  },
  {
   "cell_type": "code",
   "execution_count": null,
   "id": "83483d8b-8e01-4b40-a020-f91ac092681f",
   "metadata": {
    "scrolled": true
   },
   "outputs": [],
   "source": [
    "confusion_matrix?"
   ]
  },
  {
   "cell_type": "code",
   "execution_count": null,
   "id": "15ac450f-f129-4b95-a492-3d907d8bfc25",
   "metadata": {},
   "outputs": [],
   "source": [
    "# Confusion matrix, using ready scikit learn function\n",
    "confusion_matrix(y, y_pred, labels=[\"setosa\", \"versicolor\",\t\"virginica\"])"
   ]
  },
  {
   "cell_type": "code",
   "execution_count": null,
   "id": "a2c25d20-3dcc-4403-83ea-8f5e883f6c58",
   "metadata": {},
   "outputs": [],
   "source": [
    "# Confusion matrix,normalize in perventages\n",
    "confusion_matrix(y, y_pred, normalize=\"true\")"
   ]
  },
  {
   "cell_type": "code",
   "execution_count": null,
   "id": "65f37114-ea92-44ba-a9d2-5db7f23b1716",
   "metadata": {},
   "outputs": [],
   "source": [
    "confusion_matrix(y, y_pred, labels=neighbours_clf.classes_)"
   ]
  },
  {
   "cell_type": "code",
   "execution_count": null,
   "id": "c4b38ee3-153d-4bf7-b40b-1176406b3a14",
   "metadata": {},
   "outputs": [],
   "source": [
    "cm = confusion_matrix(y, y_pred, labels=neighbours_clf.classes_)"
   ]
  },
  {
   "cell_type": "code",
   "execution_count": null,
   "id": "2a514742-f0e4-4d44-a6c6-a8027b0f24e4",
   "metadata": {},
   "outputs": [],
   "source": [
    "# Get available colormap options for matplotlib\n",
    "plt.colormaps()"
   ]
  },
  {
   "cell_type": "code",
   "execution_count": null,
   "id": "3ad88411-c9ab-43c9-b780-e09ab31166f8",
   "metadata": {},
   "outputs": [],
   "source": [
    "ConfusionMatrixDisplay(\n",
    "    confusion_matrix=cm,\n",
    "    display_labels=neighbours_clf.classes_\n",
    ").plot(\n",
    "    # cmap=\"inferno_r\"\n",
    "    cmap='rocket_r'\n",
    ");"
   ]
  },
  {
   "cell_type": "markdown",
   "id": "olympic-feature",
   "metadata": {},
   "source": [
    "### B4. Compare different number of k for neighbors  \n",
    "[simple loops](https://www.kaggle.com/jmataya/k-nearest-neighbors-classifier)"
   ]
  },
  {
   "cell_type": "code",
   "execution_count": null,
   "id": "thrown-priest",
   "metadata": {},
   "outputs": [],
   "source": [
    "# Setup arrays to store train and test accuracies\n",
    "neighbors = np.arange(1, 20)\n",
    "accuracy = np.empty(len(neighbors))"
   ]
  },
  {
   "cell_type": "code",
   "execution_count": null,
   "id": "shaped-former",
   "metadata": {},
   "outputs": [],
   "source": [
    "# Loop over different values of k\n",
    "for i, k in enumerate(neighbors):\n",
    "    # Setup a k-NN Classifier with k neighbors: knn\n",
    "    knn_clf = KNeighborsClassifier(n_neighbors=k)\n",
    "\n",
    "    # Fit the classifier to the training data\n",
    "    knn_clf.fit(X, y)\n",
    "    \n",
    "    #Compute accuracy on the training set\n",
    "    accuracy[i] = knn_clf.score(X, y)"
   ]
  },
  {
   "cell_type": "code",
   "execution_count": null,
   "id": "5b170efc-8591-4ccb-b5f3-bf6bf7255cdf",
   "metadata": {},
   "outputs": [],
   "source": [
    "accuracy"
   ]
  },
  {
   "cell_type": "code",
   "execution_count": null,
   "id": "230ae804-5c9b-455a-95f6-d16cc04ff16b",
   "metadata": {},
   "outputs": [],
   "source": [
    "accuracy[4]  # k =5, index starts from zero"
   ]
  },
  {
   "cell_type": "code",
   "execution_count": null,
   "id": "searching-karma",
   "metadata": {},
   "outputs": [],
   "source": [
    "# Generate plot\n",
    "plt.title('k-NN: Using different Number of Neighbors')\n",
    "plt.plot(neighbors, accuracy, label='Accuracy')\n",
    "# plt.plot(neighbors, train_accuracy, label='Training Accuracy')\n",
    "plt.xticks(range(1, 20))\n",
    "plt.legend()\n",
    "plt.xlabel('Number of Neighbors')\n",
    "plt.ylabel('Accuracy')\n",
    "\n",
    "plt.show()"
   ]
  },
  {
   "cell_type": "code",
   "execution_count": null,
   "id": "81b518d8-cf3e-4f0c-ab8e-b51b29fdc18a",
   "metadata": {},
   "outputs": [],
   "source": [
    "# Generate the same plot as above without setting any parameter values for labels or ticks\n",
    "plt.plot(neighbors, accuracy, label='Accuracy')\n",
    "plt.show()"
   ]
  },
  {
   "cell_type": "code",
   "execution_count": null,
   "id": "0b6cd623-401e-4bd8-b4cd-bd0ac9514057",
   "metadata": {},
   "outputs": [],
   "source": [
    "type(accuracy)"
   ]
  },
  {
   "cell_type": "code",
   "execution_count": null,
   "id": "f59af071-92a0-43b9-9d8e-01462428394e",
   "metadata": {},
   "outputs": [],
   "source": [
    "max(accuracy)"
   ]
  },
  {
   "cell_type": "code",
   "execution_count": null,
   "id": "e4855da1-9368-4d9b-81c3-1788cb0da22b",
   "metadata": {},
   "outputs": [],
   "source": [
    "# accuracy for 5 neighbours\n",
    "accuracy[4]"
   ]
  },
  {
   "cell_type": "code",
   "execution_count": null,
   "id": "74be8f3d-2b85-4428-8938-449a65a2c55c",
   "metadata": {},
   "outputs": [],
   "source": [
    "# Apply knn with k=15\n",
    "fit_neighbours_15 = KNeighborsClassifier(n_neighbors=15).fit(X, y)"
   ]
  },
  {
   "cell_type": "code",
   "execution_count": null,
   "id": "91355b2d-a414-402f-83ef-6cd9a1f64818",
   "metadata": {},
   "outputs": [],
   "source": [
    "y_pred = fit_neighbours_15.predict(X)"
   ]
  },
  {
   "cell_type": "code",
   "execution_count": null,
   "id": "458dc9c6-ebb9-43d0-ba09-c0c5eee39373",
   "metadata": {},
   "outputs": [],
   "source": [
    "confusion_matrix(y, y_pred)"
   ]
  },
  {
   "cell_type": "code",
   "execution_count": null,
   "id": "7a34dc9e-ea13-4140-8d25-7e50cd8c6f43",
   "metadata": {},
   "outputs": [],
   "source": [
    "# Initialize variables to store the best number of neighbors and the highest accuracy\n",
    "best_n = 0\n",
    "highest_accuracy = 0\n",
    "\n",
    "# Loop over different values of k from 4 to 30\n",
    "for n_neighbors in range(4, 31):\n",
    "    # Train the KNN model on the entire dataset\n",
    "    knn = KNeighborsClassifier(n_neighbors=n_neighbors)\n",
    "    knn.fit(X, y)\n",
    "\n",
    "    # Make predictions on the entire dataset\n",
    "    y_pred = knn.predict(X)\n",
    "\n",
    "    # Calculate the accuracy of the model\n",
    "    accuracy = accuracy_score(y, y_pred)\n",
    "\n",
    "    # If the current model's accuracy is higher than our highest accuracy so far,\n",
    "    # update our best number of neighbors and highest accuracy\n",
    "    if accuracy > highest_accuracy:\n",
    "        best_n = n_neighbors\n",
    "        highest_accuracy = accuracy\n",
    "\n",
    "# Print the best number of neighbors and the highest accuracy\n",
    "print(\"Best number of neighbors:\", best_n)\n",
    "print(\"Highest accuracy:\", highest_accuracy)"
   ]
  },
  {
   "cell_type": "markdown",
   "id": "b1dd9c7e-82f3-4f88-b937-161ce0c5ee0c",
   "metadata": {},
   "source": [
    "### Apply Knn with k=15 and use wieghts for distance"
   ]
  },
  {
   "cell_type": "code",
   "execution_count": null,
   "id": "0c98ba0e-ddd4-44f9-b59d-6feb2ef9f226",
   "metadata": {},
   "outputs": [],
   "source": [
    "fit_neighbours_clf = KNeighborsClassifier(n_neighbors=15, weights='distance').fit(X, y)"
   ]
  },
  {
   "cell_type": "code",
   "execution_count": null,
   "id": "badcfa0a-c534-403a-91b9-15673d40c99f",
   "metadata": {},
   "outputs": [],
   "source": [
    "y_pred = fit_neighbours_clf.predict(X)"
   ]
  },
  {
   "cell_type": "code",
   "execution_count": null,
   "id": "e8081c40-aa55-4d7c-8d05-310d006a367a",
   "metadata": {},
   "outputs": [],
   "source": [
    "confusion_matrix(y, y_pred)"
   ]
  },
  {
   "cell_type": "markdown",
   "id": "dc5bbc2b-12e8-437f-adc1-5ed706f00ba7",
   "metadata": {},
   "source": [
    "#### WOW: 100% accuracy!   \n",
    "Important Note: In most cases, uniform weights are not optimal, just a starting point."
   ]
  },
  {
   "cell_type": "markdown",
   "id": "52229928-3c6d-4fb1-ad5b-87fdcce04bbc",
   "metadata": {},
   "source": [
    "## C. Discuss optimal k in general and in case of a \"tie\".   \n",
    "\n",
    "\n",
    "Tie-breaking rules:\n",
    "even or odd k,  \n",
    "number of classes,\n",
    "distribution of classes, SOS\n",
    "size of dataset,  \n",
    "random class assignment,  \n",
    "total distance weights (inverse distance)  \n",
    "different distance metrics,   \n",
    "loop over different k,  \n",
    "k-Fold validation of data."
   ]
  },
  {
   "cell_type": "markdown",
   "id": "03e598b1-3e30-4bfa-b675-ce84513ad8f2",
   "metadata": {},
   "source": [
    "[Scikit learn Knn iris example](https://scikit-learn.org/stable/auto_examples/neighbors/plot_classification.html#sphx-glr-auto-examples-neighbors-plot-classification-py)"
   ]
  },
  {
   "cell_type": "markdown",
   "id": "understood-chair",
   "metadata": {},
   "source": [
    "# In class Exercise  \n",
    "Implement KNN on a new dataset."
   ]
  },
  {
   "cell_type": "code",
   "execution_count": null,
   "id": "specialized-blackberry",
   "metadata": {},
   "outputs": [],
   "source": [
    "from sklearn import datasets"
   ]
  },
  {
   "cell_type": "code",
   "execution_count": null,
   "id": "narrative-emphasis",
   "metadata": {},
   "outputs": [],
   "source": [
    "digits = datasets.load_digits()"
   ]
  },
  {
   "cell_type": "code",
   "execution_count": null,
   "id": "clinical-solid",
   "metadata": {},
   "outputs": [],
   "source": [
    "dir(digits)"
   ]
  },
  {
   "cell_type": "code",
   "execution_count": null,
   "id": "military-oxford",
   "metadata": {},
   "outputs": [],
   "source": [
    "type(digits)  # custom Dictionary-like type"
   ]
  },
  {
   "cell_type": "code",
   "execution_count": null,
   "id": "instrumental-plant",
   "metadata": {},
   "outputs": [],
   "source": [
    "print(digits.keys())"
   ]
  },
  {
   "cell_type": "code",
   "execution_count": null,
   "id": "negative-entry",
   "metadata": {},
   "outputs": [],
   "source": [
    "print(digits.DESCR)"
   ]
  },
  {
   "cell_type": "code",
   "execution_count": null,
   "id": "f9c5d224-7f71-4a8a-9ed2-f749e5672ef1",
   "metadata": {},
   "outputs": [],
   "source": [
    "digits.target[100]"
   ]
  },
  {
   "cell_type": "code",
   "execution_count": null,
   "id": "d2ee21a9-90d3-4078-aae5-fca829e591c3",
   "metadata": {},
   "outputs": [],
   "source": [
    "digits.target[1282]"
   ]
  },
  {
   "cell_type": "code",
   "execution_count": null,
   "id": "above-reaction",
   "metadata": {},
   "outputs": [],
   "source": [
    "# Display digit observation 1010\n",
    "plt.imshow(\n",
    "    digits.images[100],\n",
    "    cmap=plt.cm.gray_r,\n",
    "    interpolation='nearest');"
   ]
  },
  {
   "cell_type": "code",
   "execution_count": null,
   "id": "76ba1c28-8619-45a6-85ce-9d921c62cadb",
   "metadata": {},
   "outputs": [],
   "source": [
    "plt.imshow(digits.images[1282], cmap=plt.cm.gray_r, interpolation='nearest');"
   ]
  },
  {
   "cell_type": "markdown",
   "id": "indonesian-offset",
   "metadata": {},
   "source": [
    "[Convert scikit learn data to pandas dataframe](https://stackoverflow.com/a/46379878)  (How it was donw some years ago)."
   ]
  },
  {
   "cell_type": "code",
   "execution_count": null,
   "id": "65fc456a-32f1-4a85-974b-d03d8757920e",
   "metadata": {},
   "outputs": [],
   "source": [
    "digits.data"
   ]
  },
  {
   "cell_type": "code",
   "execution_count": null,
   "id": "34b41c19-666e-41ab-8273-854721a32267",
   "metadata": {},
   "outputs": [],
   "source": [
    "digits.target_names"
   ]
  },
  {
   "cell_type": "code",
   "execution_count": null,
   "id": "3968adfd-6fcf-47bb-ac5a-1c49a07edfa6",
   "metadata": {},
   "outputs": [],
   "source": [
    "# digits.feature_names  # Show column names"
   ]
  },
  {
   "cell_type": "markdown",
   "id": "49c81877-a3be-4c08-adc5-bb471746222e",
   "metadata": {},
   "source": [
    "### The floor is yours!"
   ]
  },
  {
   "cell_type": "code",
   "execution_count": null,
   "id": "a7b492d6-edda-4f0a-97e9-e5d6b4e653c6",
   "metadata": {},
   "outputs": [],
   "source": [
    "digits = datasets.load_digits(as_frame=True)"
   ]
  },
  {
   "cell_type": "code",
   "execution_count": null,
   "id": "c7862dce-e52a-469f-b2c4-ac6f29b757be",
   "metadata": {},
   "outputs": [],
   "source": [
    "digits.data.head(5)"
   ]
  },
  {
   "cell_type": "code",
   "execution_count": null,
   "id": "595b212f-587b-4f66-bc38-8ce8d2a62184",
   "metadata": {},
   "outputs": [],
   "source": [
    "digits.target.sample(3)"
   ]
  },
  {
   "cell_type": "code",
   "execution_count": null,
   "id": "df30c461-771e-4fa1-bd7a-e96989757cc8",
   "metadata": {},
   "outputs": [],
   "source": [
    "digits.data[\"pixel_4_4\"]"
   ]
  },
  {
   "cell_type": "markdown",
   "id": "549da253-86ef-4051-98d6-0b90fba3b0fd",
   "metadata": {},
   "source": [
    "#### Fastest and optimal way to solve this:\n",
    "Open the notebook in Pycharm and open copilot chat. Type in prompt:   \n",
    "\"Solve the inclass Exercise without splitting to train and test and without scaling the data. Show max accuracy\"."
   ]
  },
  {
   "cell_type": "code",
   "execution_count": null,
   "id": "64dc4fba-4e67-4f4a-bdd0-35366a62b8ca",
   "metadata": {},
   "outputs": [],
   "source": [
    "## This is what copilot returned.\n",
    "# Split the dataset into features (X) and target (y)\n",
    "digits = datasets.load_digits(as_frame=True)\n",
    "X = digits.data\n",
    "y = digits.target\n",
    "\n",
    "# Initialize variables to store the best number of neighbors and the highest accuracy\n",
    "best_n = 0\n",
    "highest_accuracy = 0\n",
    "\n",
    "# Loop over different values of k from 4 to 30\n",
    "for n_neighbors in range(4, 31):\n",
    "    # Train the KNN model on the entire dataset\n",
    "    knn = KNeighborsClassifier(n_neighbors=n_neighbors)\n",
    "    knn.fit(X, y)\n",
    "\n",
    "    # Make predictions on the entire dataset\n",
    "    y_pred = knn.predict(X)\n",
    "\n",
    "    # Calculate the accuracy of the model\n",
    "    accuracy = accuracy_score(y, y_pred)\n",
    "\n",
    "    # If the current model's accuracy is higher than our highest accuracy so far,\n",
    "    # update our best number of neighbors and highest accuracy\n",
    "    if accuracy > highest_accuracy:\n",
    "        best_n = n_neighbors\n",
    "        highest_accuracy = accuracy\n",
    "\n",
    "# Print the best number of neighbors and the highest accuracy\n",
    "print(\"Best number of neighbors:\", best_n)\n",
    "print(\"Highest accuracy:\", highest_accuracy)"
   ]
  },
  {
   "cell_type": "code",
   "execution_count": null,
   "id": "1db26584-f2e6-43f0-be54-517281ade403",
   "metadata": {},
   "outputs": [],
   "source": []
  }
 ],
 "metadata": {
  "kernelspec": {
   "display_name": "Python 3 (ipykernel)",
   "language": "python",
   "name": "python3"
  },
  "language_info": {
   "codemirror_mode": {
    "name": "ipython",
    "version": 3
   },
   "file_extension": ".py",
   "mimetype": "text/x-python",
   "name": "python",
   "nbconvert_exporter": "python",
   "pygments_lexer": "ipython3",
   "version": "3.11.9"
  }
 },
 "nbformat": 4,
 "nbformat_minor": 5
}
