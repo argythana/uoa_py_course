{
 "cells": [
  {
   "cell_type": "markdown",
   "id": "9a146950-b957-4bbe-8572-9e760db71ab7",
   "metadata": {},
   "source": [
    "# Lecture 11a. Naive Bayes Classification\n",
    "\n",
    "[Naive Bayes User Guide](https://scikit-learn.org/stable/modules/naive_bayes.html)\n",
    "\n",
    "[Gaussian Naive Bayes implementation](https://scikit-learn.org/stable/modules/generated/sklearn.naive_bayes.GaussianNB.html#sklearn.naive_bayes.GaussianNB)\n",
    "\n",
    "## Dataset: iris flowers,\n",
    "Load from seaborn, or from scikit-learn   \n",
    "\n",
    "**Summary about the algo:**    \n",
    "Naive Bayes is an \"supervised learning\" model.   \n",
    "We know the labels. We have a \"y\" target variable. \n",
    "\n",
    "Goal:  \n",
    "Classify observations in known categories.\n",
    "\n",
    "Important note:   \n",
    "Assumption of \"conditional independence\" between every pair of features.  \n",
    "This means that the value of any feature is not correlated with any other feature.   \n",
    "Can you think of examples that this applies?"
   ]
  },
  {
   "cell_type": "markdown",
   "id": "bf1b6413-db3f-4add-86fe-ec4906024a28",
   "metadata": {},
   "source": [
    "# A. Import the necessary modules.   \n",
    "Imports should be at the first code cell."
   ]
  },
  {
   "cell_type": "code",
   "execution_count": 1,
   "id": "97cbb40d-cd3f-4461-944e-2508650f9115",
   "metadata": {},
   "outputs": [],
   "source": [
    "# data management libraries\n",
    "import pandas as pd\n",
    "import numpy as np\n",
    "np.set_printoptions(suppress=True, precision=3)\n",
    "\n",
    "# visualization libraries\n",
    "import matplotlib.pyplot as plt\n",
    "import seaborn as sns\n",
    "\n",
    "# interactive visualizarion libaries\n",
    "import plotly.express as px\n",
    "from plotly.subplots import make_subplots\n",
    "import plotly.graph_objects as go\n",
    "\n",
    "# scikit learn algo library (google it)\n",
    "from sklearn import datasets\n",
    "from sklearn.naive_bayes import GaussianNB, MultinomialNB\n",
    "# data preprocessing \n",
    "from sklearn.model_selection import train_test_split\n",
    "# algo metric\n",
    "from sklearn.metrics import accuracy_score"
   ]
  },
  {
   "cell_type": "markdown",
   "id": "5ec850b0-263e-47bc-ac89-c259463884dd",
   "metadata": {},
   "source": [
    "# B. Load the data and understand its features.   \n",
    "See which are the variables, what is their type, what are the values that the variables take.  \n",
    "At this step, you should think about possible relations that you ought to examine.   \n",
    "Which do you think might be more important?"
   ]
  },
  {
   "cell_type": "code",
   "execution_count": 2,
   "id": "7c4b8c84-c36c-421d-a999-d1cb8de11699",
   "metadata": {
    "tags": []
   },
   "outputs": [],
   "source": [
    "# load iris from scikit-learn\n",
    "iris = datasets.load_iris(as_frame=True)\n",
    "df = pd.DataFrame(iris.frame)"
   ]
  },
  {
   "cell_type": "code",
   "execution_count": 3,
   "id": "721a2d08-f89d-4c5a-bb98-e226cdf99d04",
   "metadata": {},
   "outputs": [
    {
     "data": {
      "text/plain": [
       "Index(['sepal length (cm)', 'sepal width (cm)', 'petal length (cm)',\n",
       "       'petal width (cm)', 'target'],\n",
       "      dtype='object')"
      ]
     },
     "execution_count": 3,
     "metadata": {},
     "output_type": "execute_result"
    }
   ],
   "source": [
    "df.columns  # I don't like the headers for the features, but I like the \"target\" name for y."
   ]
  },
  {
   "cell_type": "code",
   "execution_count": 4,
   "id": "0b3ddd0d-38e1-4d92-bcde-e1b7974373dc",
   "metadata": {},
   "outputs": [],
   "source": [
    "# load iris from seaborn, which loads training datasets and returns a pandas dataframe\n",
    "df = sns.load_dataset('iris')"
   ]
  },
  {
   "cell_type": "code",
   "execution_count": 5,
   "id": "a5060823-d367-4ac4-b5ea-713b497dceb2",
   "metadata": {
    "tags": []
   },
   "outputs": [
    {
     "data": {
      "text/plain": [
       "Index(['sepal_length', 'sepal_width', 'petal_length', 'petal_width',\n",
       "       'species'],\n",
       "      dtype='object')"
      ]
     },
     "execution_count": 5,
     "metadata": {},
     "output_type": "execute_result"
    }
   ],
   "source": [
    "df.columns  # i don't like the \"species\" header. I prefer the \"target\""
   ]
  },
  {
   "cell_type": "code",
   "execution_count": 6,
   "id": "a8970e3a-d50b-425b-956a-22cc543ebda9",
   "metadata": {},
   "outputs": [],
   "source": [
    "# use .loc to get all columns names,  the \"~\" operator is a negation of \n",
    "X = df.loc[:, ~df.columns.isin(['species'])]"
   ]
  },
  {
   "cell_type": "code",
   "execution_count": 7,
   "id": "cb80c10d-adb4-4fb6-b174-097769f80302",
   "metadata": {},
   "outputs": [
    {
     "data": {
      "text/plain": [
       "Index(['sepal_length', 'sepal_width', 'petal_length', 'petal_width'], dtype='object')"
      ]
     },
     "execution_count": 7,
     "metadata": {},
     "output_type": "execute_result"
    }
   ],
   "source": [
    "X.columns"
   ]
  },
  {
   "cell_type": "code",
   "execution_count": 8,
   "id": "dfe95ded-5da6-4aa6-8490-7b7ea1e5a971",
   "metadata": {},
   "outputs": [
    {
     "data": {
      "text/plain": [
       "0    setosa\n",
       "1    setosa\n",
       "2    setosa\n",
       "3    setosa\n",
       "4    setosa\n",
       "Name: species, dtype: object"
      ]
     },
     "execution_count": 8,
     "metadata": {},
     "output_type": "execute_result"
    }
   ],
   "source": [
    "y = df[\"species\"]\n",
    "y.head()"
   ]
  },
  {
   "cell_type": "code",
   "execution_count": 9,
   "id": "7c97c13a-8f5b-48c7-803d-ce16b92106f3",
   "metadata": {},
   "outputs": [],
   "source": [
    "X_train, X_test, y_train, y_test = train_test_split(X, y, test_size=0.5, random_state=0)"
   ]
  },
  {
   "cell_type": "markdown",
   "id": "564c57eb-0358-4f2c-a8c8-872734c70260",
   "metadata": {},
   "source": [
    "## Apply Naive Bayes on Iris dataset"
   ]
  },
  {
   "cell_type": "code",
   "execution_count": 10,
   "id": "4e46b14f-809d-4c9a-a939-6c9d4d06ec5d",
   "metadata": {},
   "outputs": [
    {
     "name": "stdout",
     "output_type": "stream",
     "text": [
      "4 mislabeled points out of a total 75  observations.\n"
     ]
    }
   ],
   "source": [
    "clf = GaussianNB()\n",
    "\n",
    "fit_clf = clf.fit(X_train, y_train)\n",
    "\n",
    "y_pred = fit_clf.predict(X_test)\n",
    "\n",
    "print(f\"{(y_test != y_pred).sum()} mislabeled points out of a total {len(X_test)}  observations.\")"
   ]
  },
  {
   "cell_type": "code",
   "execution_count": 11,
   "id": "fb4eff2d-ea2b-4963-80b6-afdc8ad432e7",
   "metadata": {
    "scrolled": true
   },
   "outputs": [],
   "source": [
    "# accuracy_score??"
   ]
  },
  {
   "cell_type": "code",
   "execution_count": 12,
   "id": "7edccb1d-1a63-4b48-a565-5ca0863908ab",
   "metadata": {},
   "outputs": [
    {
     "data": {
      "text/plain": [
       "\u001b[0;31mSignature:\u001b[0m \u001b[0mfit_clf\u001b[0m\u001b[0;34m.\u001b[0m\u001b[0mscore\u001b[0m\u001b[0;34m(\u001b[0m\u001b[0mX\u001b[0m\u001b[0;34m,\u001b[0m \u001b[0my\u001b[0m\u001b[0;34m,\u001b[0m \u001b[0msample_weight\u001b[0m\u001b[0;34m=\u001b[0m\u001b[0;32mNone\u001b[0m\u001b[0;34m)\u001b[0m\u001b[0;34m\u001b[0m\u001b[0;34m\u001b[0m\u001b[0m\n",
       "\u001b[0;31mDocstring:\u001b[0m\n",
       "Return the mean accuracy on the given test data and labels.\n",
       "\n",
       "In multi-label classification, this is the subset accuracy\n",
       "which is a harsh metric since you require for each sample that\n",
       "each label set be correctly predicted.\n",
       "\n",
       "Parameters\n",
       "----------\n",
       "X : array-like of shape (n_samples, n_features)\n",
       "    Test samples.\n",
       "\n",
       "y : array-like of shape (n_samples,) or (n_samples, n_outputs)\n",
       "    True labels for `X`.\n",
       "\n",
       "sample_weight : array-like of shape (n_samples,), default=None\n",
       "    Sample weights.\n",
       "\n",
       "Returns\n",
       "-------\n",
       "score : float\n",
       "    Mean accuracy of ``self.predict(X)`` w.r.t. `y`.\n",
       "\u001b[0;31mFile:\u001b[0m      ~/venv_projects/uoa_py_course/course_venv/lib/python3.11/site-packages/sklearn/base.py\n",
       "\u001b[0;31mType:\u001b[0m      method"
      ]
     },
     "metadata": {},
     "output_type": "display_data"
    }
   ],
   "source": [
    "fit_clf.score?"
   ]
  },
  {
   "cell_type": "code",
   "execution_count": 13,
   "id": "6da606b5-9b2b-441c-8725-5d168f55bb78",
   "metadata": {},
   "outputs": [
    {
     "data": {
      "text/plain": [
       "0.9733333333333334"
      ]
     },
     "execution_count": 13,
     "metadata": {},
     "output_type": "execute_result"
    }
   ],
   "source": [
    "fit_clf.score(X_train, y_train)"
   ]
  },
  {
   "cell_type": "code",
   "execution_count": 14,
   "id": "64c7e1e5-6f0f-487d-a531-b68eafeeb7ba",
   "metadata": {},
   "outputs": [
    {
     "data": {
      "text/plain": [
       "0.9466666666666667"
      ]
     },
     "execution_count": 14,
     "metadata": {},
     "output_type": "execute_result"
    }
   ],
   "source": [
    "fit_clf.score(X_test, y_test)"
   ]
  },
  {
   "cell_type": "code",
   "execution_count": 15,
   "id": "66da49a8-328b-4224-8cb8-cb1c0a711187",
   "metadata": {},
   "outputs": [
    {
     "data": {
      "text/plain": [
       "array([[0.   , 0.   , 1.   ],\n",
       "       [0.   , 1.   , 0.   ],\n",
       "       [1.   , 0.   , 0.   ],\n",
       "       [0.   , 0.   , 1.   ],\n",
       "       [1.   , 0.   , 0.   ],\n",
       "       [0.   , 0.   , 1.   ],\n",
       "       [1.   , 0.   , 0.   ],\n",
       "       [0.   , 0.94 , 0.06 ],\n",
       "       [0.   , 0.992, 0.008],\n",
       "       [0.   , 1.   , 0.   ],\n",
       "       [0.   , 0.956, 0.044],\n",
       "       [0.   , 0.985, 0.015],\n",
       "       [0.   , 1.   , 0.   ],\n",
       "       [0.   , 0.994, 0.006],\n",
       "       [0.   , 0.999, 0.001],\n",
       "       [1.   , 0.   , 0.   ],\n",
       "       [0.   , 0.999, 0.001],\n",
       "       [0.   , 1.   , 0.   ],\n",
       "       [1.   , 0.   , 0.   ],\n",
       "       [1.   , 0.   , 0.   ],\n",
       "       [0.   , 0.048, 0.952],\n",
       "       [0.   , 0.999, 0.001],\n",
       "       [1.   , 0.   , 0.   ],\n",
       "       [1.   , 0.   , 0.   ],\n",
       "       [0.   , 0.44 , 0.56 ],\n",
       "       [1.   , 0.   , 0.   ],\n",
       "       [1.   , 0.   , 0.   ],\n",
       "       [0.   , 1.   , 0.   ],\n",
       "       [0.   , 1.   , 0.   ],\n",
       "       [1.   , 0.   , 0.   ],\n",
       "       [0.   , 0.002, 0.998],\n",
       "       [0.   , 0.999, 0.001],\n",
       "       [1.   , 0.   , 0.   ],\n",
       "       [0.   , 0.202, 0.798],\n",
       "       [0.   , 0.   , 1.   ],\n",
       "       [0.   , 1.   , 0.   ],\n",
       "       [1.   , 0.   , 0.   ],\n",
       "       [0.   , 0.919, 0.081],\n",
       "       [0.   , 1.   , 0.   ],\n",
       "       [0.   , 1.   , 0.   ],\n",
       "       [0.   , 0.   , 1.   ],\n",
       "       [1.   , 0.   , 0.   ],\n",
       "       [0.   , 0.   , 1.   ],\n",
       "       [1.   , 0.   , 0.   ],\n",
       "       [1.   , 0.   , 0.   ],\n",
       "       [0.   , 1.   , 0.   ],\n",
       "       [0.   , 0.003, 0.997],\n",
       "       [0.   , 0.   , 1.   ],\n",
       "       [0.   , 0.998, 0.002],\n",
       "       [0.   , 0.002, 0.998],\n",
       "       [0.   , 1.   , 0.   ],\n",
       "       [0.   , 0.   , 1.   ],\n",
       "       [0.   , 0.774, 0.226],\n",
       "       [0.   , 1.   , 0.   ],\n",
       "       [0.   , 0.342, 0.658],\n",
       "       [0.   , 0.953, 0.047],\n",
       "       [0.   , 0.998, 0.002],\n",
       "       [0.   , 0.096, 0.904],\n",
       "       [0.   , 0.951, 0.049],\n",
       "       [0.   , 0.001, 0.999],\n",
       "       [0.   , 0.924, 0.076],\n",
       "       [1.   , 0.   , 0.   ],\n",
       "       [0.   , 0.088, 0.912],\n",
       "       [0.   , 1.   , 0.   ],\n",
       "       [0.   , 1.   , 0.   ],\n",
       "       [0.   , 1.   , 0.   ],\n",
       "       [0.   , 0.999, 0.001],\n",
       "       [0.   , 0.   , 1.   ],\n",
       "       [1.   , 0.   , 0.   ],\n",
       "       [1.   , 0.   , 0.   ],\n",
       "       [0.   , 0.007, 0.993],\n",
       "       [0.   , 1.   , 0.   ],\n",
       "       [1.   , 0.   , 0.   ],\n",
       "       [1.   , 0.   , 0.   ],\n",
       "       [0.   , 0.732, 0.268]])"
      ]
     },
     "execution_count": 15,
     "metadata": {},
     "output_type": "execute_result"
    }
   ],
   "source": [
    "fit_clf.predict_proba(X_test)"
   ]
  },
  {
   "cell_type": "code",
   "execution_count": 16,
   "id": "bbfe2aef-cdb7-4d0a-857b-eabf7ef53363",
   "metadata": {},
   "outputs": [
    {
     "data": {
      "text/plain": [
       "0.9466666666666667"
      ]
     },
     "execution_count": 16,
     "metadata": {},
     "output_type": "execute_result"
    }
   ],
   "source": [
    "accuracy_score(y_test, y_pred)"
   ]
  },
  {
   "cell_type": "code",
   "execution_count": 17,
   "id": "93d7c012-224d-4275-bc11-0498e9a4d53d",
   "metadata": {},
   "outputs": [
    {
     "name": "stdout",
     "output_type": "stream",
     "text": [
      "['setosa']\n"
     ]
    },
    {
     "name": "stderr",
     "output_type": "stream",
     "text": [
      "/home/tharg/venv_projects/uoa_py_course/course_venv/lib/python3.11/site-packages/sklearn/base.py:493: UserWarning: X does not have valid feature names, but GaussianNB was fitted with feature names\n",
      "  warnings.warn(\n"
     ]
    }
   ],
   "source": [
    "print(fit_clf.predict([[5.1, 3.5, 1.4, 0.2]]))  # mind the two [[]] "
   ]
  },
  {
   "cell_type": "code",
   "execution_count": 18,
   "id": "72b1dd6c-249b-4c26-a240-25de1c94a73a",
   "metadata": {},
   "outputs": [],
   "source": [
    "y_pred = MultinomialNB().fit(X_train, y_train).predict(X_test)"
   ]
  },
  {
   "cell_type": "code",
   "execution_count": 19,
   "id": "118000ad-3fa8-4da8-a4b8-3e6f36c561b8",
   "metadata": {},
   "outputs": [
    {
     "data": {
      "text/plain": [
       "0.6"
      ]
     },
     "execution_count": 19,
     "metadata": {},
     "output_type": "execute_result"
    }
   ],
   "source": [
    "accuracy_score(y_test, y_pred)"
   ]
  },
  {
   "cell_type": "markdown",
   "id": "956dfb44-7c67-4e79-a894-a291d6e3271f",
   "metadata": {},
   "source": [
    "## Digits dataset"
   ]
  },
  {
   "cell_type": "code",
   "execution_count": 20,
   "id": "081c1616-6c5b-455e-b489-65282fbf036e",
   "metadata": {},
   "outputs": [],
   "source": [
    "X, y = datasets.load_digits(as_frame=True, return_X_y=True)"
   ]
  },
  {
   "cell_type": "code",
   "execution_count": 21,
   "id": "be17e6c6-d0c2-4d4c-b504-c5601e5a5cda",
   "metadata": {},
   "outputs": [
    {
     "data": {
      "text/html": [
       "<div>\n",
       "<style scoped>\n",
       "    .dataframe tbody tr th:only-of-type {\n",
       "        vertical-align: middle;\n",
       "    }\n",
       "\n",
       "    .dataframe tbody tr th {\n",
       "        vertical-align: top;\n",
       "    }\n",
       "\n",
       "    .dataframe thead th {\n",
       "        text-align: right;\n",
       "    }\n",
       "</style>\n",
       "<table border=\"1\" class=\"dataframe\">\n",
       "  <thead>\n",
       "    <tr style=\"text-align: right;\">\n",
       "      <th></th>\n",
       "      <th>pixel_0_0</th>\n",
       "      <th>pixel_0_1</th>\n",
       "      <th>pixel_0_2</th>\n",
       "      <th>pixel_0_3</th>\n",
       "      <th>pixel_0_4</th>\n",
       "      <th>pixel_0_5</th>\n",
       "      <th>pixel_0_6</th>\n",
       "      <th>pixel_0_7</th>\n",
       "      <th>pixel_1_0</th>\n",
       "      <th>pixel_1_1</th>\n",
       "      <th>...</th>\n",
       "      <th>pixel_6_6</th>\n",
       "      <th>pixel_6_7</th>\n",
       "      <th>pixel_7_0</th>\n",
       "      <th>pixel_7_1</th>\n",
       "      <th>pixel_7_2</th>\n",
       "      <th>pixel_7_3</th>\n",
       "      <th>pixel_7_4</th>\n",
       "      <th>pixel_7_5</th>\n",
       "      <th>pixel_7_6</th>\n",
       "      <th>pixel_7_7</th>\n",
       "    </tr>\n",
       "  </thead>\n",
       "  <tbody>\n",
       "    <tr>\n",
       "      <th>0</th>\n",
       "      <td>0.0</td>\n",
       "      <td>0.0</td>\n",
       "      <td>5.0</td>\n",
       "      <td>13.0</td>\n",
       "      <td>9.0</td>\n",
       "      <td>1.0</td>\n",
       "      <td>0.0</td>\n",
       "      <td>0.0</td>\n",
       "      <td>0.0</td>\n",
       "      <td>0.0</td>\n",
       "      <td>...</td>\n",
       "      <td>0.0</td>\n",
       "      <td>0.0</td>\n",
       "      <td>0.0</td>\n",
       "      <td>0.0</td>\n",
       "      <td>6.0</td>\n",
       "      <td>13.0</td>\n",
       "      <td>10.0</td>\n",
       "      <td>0.0</td>\n",
       "      <td>0.0</td>\n",
       "      <td>0.0</td>\n",
       "    </tr>\n",
       "    <tr>\n",
       "      <th>1</th>\n",
       "      <td>0.0</td>\n",
       "      <td>0.0</td>\n",
       "      <td>0.0</td>\n",
       "      <td>12.0</td>\n",
       "      <td>13.0</td>\n",
       "      <td>5.0</td>\n",
       "      <td>0.0</td>\n",
       "      <td>0.0</td>\n",
       "      <td>0.0</td>\n",
       "      <td>0.0</td>\n",
       "      <td>...</td>\n",
       "      <td>0.0</td>\n",
       "      <td>0.0</td>\n",
       "      <td>0.0</td>\n",
       "      <td>0.0</td>\n",
       "      <td>0.0</td>\n",
       "      <td>11.0</td>\n",
       "      <td>16.0</td>\n",
       "      <td>10.0</td>\n",
       "      <td>0.0</td>\n",
       "      <td>0.0</td>\n",
       "    </tr>\n",
       "  </tbody>\n",
       "</table>\n",
       "<p>2 rows × 64 columns</p>\n",
       "</div>"
      ],
      "text/plain": [
       "   pixel_0_0  pixel_0_1  pixel_0_2  pixel_0_3  pixel_0_4  pixel_0_5  \\\n",
       "0        0.0        0.0        5.0       13.0        9.0        1.0   \n",
       "1        0.0        0.0        0.0       12.0       13.0        5.0   \n",
       "\n",
       "   pixel_0_6  pixel_0_7  pixel_1_0  pixel_1_1  ...  pixel_6_6  pixel_6_7  \\\n",
       "0        0.0        0.0        0.0        0.0  ...        0.0        0.0   \n",
       "1        0.0        0.0        0.0        0.0  ...        0.0        0.0   \n",
       "\n",
       "   pixel_7_0  pixel_7_1  pixel_7_2  pixel_7_3  pixel_7_4  pixel_7_5  \\\n",
       "0        0.0        0.0        6.0       13.0       10.0        0.0   \n",
       "1        0.0        0.0        0.0       11.0       16.0       10.0   \n",
       "\n",
       "   pixel_7_6  pixel_7_7  \n",
       "0        0.0        0.0  \n",
       "1        0.0        0.0  \n",
       "\n",
       "[2 rows x 64 columns]"
      ]
     },
     "execution_count": 21,
     "metadata": {},
     "output_type": "execute_result"
    }
   ],
   "source": [
    "X.head(2)"
   ]
  },
  {
   "cell_type": "code",
   "execution_count": 22,
   "id": "c2a00b9e-4065-481b-8083-b0b73a9f2679",
   "metadata": {},
   "outputs": [],
   "source": [
    "X_train, X_test, y_train, y_test = train_test_split(X, y, test_size=0.25, random_state=0)"
   ]
  },
  {
   "cell_type": "code",
   "execution_count": 23,
   "id": "d7b337a6-3680-4423-84cf-569f62286aa5",
   "metadata": {},
   "outputs": [],
   "source": [
    "y_pred = GaussianNB().fit(X_train, y_train).predict(X_test)"
   ]
  },
  {
   "cell_type": "code",
   "execution_count": 24,
   "id": "5adfd2e0-185a-44e2-a192-1c0ac36029da",
   "metadata": {},
   "outputs": [
    {
     "data": {
      "text/plain": [
       "0.8333333333333334"
      ]
     },
     "execution_count": 24,
     "metadata": {},
     "output_type": "execute_result"
    }
   ],
   "source": [
    "accuracy_score(y_test, y_pred)"
   ]
  },
  {
   "cell_type": "code",
   "execution_count": 25,
   "id": "b3cb9c48-3e2e-47cc-afce-8126b9258afb",
   "metadata": {},
   "outputs": [],
   "source": [
    "y_pred = MultinomialNB().fit(X_train, y_train).predict(X_test)"
   ]
  },
  {
   "cell_type": "code",
   "execution_count": 26,
   "id": "98e47312-c71d-45d7-851e-975ce7948035",
   "metadata": {},
   "outputs": [
    {
     "data": {
      "text/plain": [
       "0.9088888888888889"
      ]
     },
     "execution_count": 26,
     "metadata": {},
     "output_type": "execute_result"
    }
   ],
   "source": [
    "accuracy_score(y_test, y_pred)"
   ]
  }
 ],
 "metadata": {
  "kernelspec": {
   "display_name": "Python 3 (ipykernel)",
   "language": "python",
   "name": "python3"
  },
  "language_info": {
   "codemirror_mode": {
    "name": "ipython",
    "version": 3
   },
   "file_extension": ".py",
   "mimetype": "text/x-python",
   "name": "python",
   "nbconvert_exporter": "python",
   "pygments_lexer": "ipython3",
   "version": "3.11.9"
  }
 },
 "nbformat": 4,
 "nbformat_minor": 5
}
