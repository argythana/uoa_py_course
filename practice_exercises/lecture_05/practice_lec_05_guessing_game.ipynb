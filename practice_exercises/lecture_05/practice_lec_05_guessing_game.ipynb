{
 "cells": [
  {
   "cell_type": "markdown",
   "id": "fe134fb9-e5d2-4bbc-bfa2-e21dcb8ccfb7",
   "metadata": {},
   "source": [
    "## Assignment, Practice Exercise for lecture 5\n",
    "\n",
    "**Create a guessing game. Will be graded with 10 points.**  \n",
    "**Goal: Show pseudo coding and test learning so far.**   \n",
    "\n",
    "\n",
    "\n",
    "Create a random integer number from 1 to 100. (Hint: try with a range from 1 to 20 first)  \n",
    "Ask user to guess the random number that was created.  \n",
    "Store the number of users' tries in a counter.  \n",
    "\n",
    "If user guess < number: inform users that their guess is lower than the number and ask user again.  \n",
    "If user guess > number: inform users that their guess is higher than the number and ask user again.   \n",
    "If user guess is equal to the number, inform user about the number of tries it took and then congratulate user.   \n",
    "\n",
    "Important:   \n",
    "Try to make different versions using AI assistants.  \n",
    "If you have more than one solutions, include your pseudocoding variations in the solutions file."
   ]
  },
  {
   "cell_type": "code",
   "execution_count": null,
   "id": "82811a07-6075-49cd-bbf0-f8cc234eec99",
   "metadata": {},
   "outputs": [],
   "source": []
  }
 ],
 "metadata": {
  "kernelspec": {
   "display_name": "Python 3 (ipykernel)",
   "language": "python",
   "name": "python3"
  },
  "language_info": {
   "codemirror_mode": {
    "name": "ipython",
    "version": 3
   },
   "file_extension": ".py",
   "mimetype": "text/x-python",
   "name": "python",
   "nbconvert_exporter": "python",
   "pygments_lexer": "ipython3",
   "version": "3.11.8"
  }
 },
 "nbformat": 4,
 "nbformat_minor": 5
}
