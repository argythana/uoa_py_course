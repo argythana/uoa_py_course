{
 "cells": [
  {
   "cell_type": "markdown",
   "id": "418075f9-78cf-4ec0-ba71-73cd02fee100",
   "metadata": {},
   "source": [
    "# Indexing and Slicing exercises.\n",
    "author: Argyriou Thanasis   \n",
    "email: argythana@gmail.com"
   ]
  },
  {
   "cell_type": "markdown",
   "id": "90d3a23e-e598-4f58-bc2b-0e4de6c92772",
   "metadata": {},
   "source": [
    "## Index and Slice Strings"
   ]
  },
  {
   "cell_type": "code",
   "execution_count": 1,
   "id": "2f7e7996-2773-4e67-85a7-be20ac6ef405",
   "metadata": {},
   "outputs": [],
   "source": [
    "string_example1 = 'This is a string for demonstration purposes'\n",
    "string_example2 = 'and for practise purposes.'"
   ]
  },
  {
   "cell_type": "code",
   "execution_count": 2,
   "id": "d3a2f6dd-ede6-467f-8468-e826e98254bc",
   "metadata": {},
   "outputs": [],
   "source": [
    "# 0. Find number of characters of string_example1."
   ]
  },
  {
   "cell_type": "code",
   "execution_count": 3,
   "id": "f4fdadaf-5b7a-43cc-bccb-199297cccdbb",
   "metadata": {},
   "outputs": [],
   "source": [
    "# 1. Find the total number of characters of both strings."
   ]
  },
  {
   "cell_type": "code",
   "execution_count": 4,
   "id": "d698bf06-f92c-4ad9-8d5f-aad69cb60c5f",
   "metadata": {},
   "outputs": [],
   "source": [
    "# 2. Select first 6 characters of string_example1."
   ]
  },
  {
   "cell_type": "code",
   "execution_count": 5,
   "id": "57f8f0eb-5d00-4078-a702-1650671b853b",
   "metadata": {},
   "outputs": [],
   "source": [
    "# 3. Select last 6 characters of string_example1."
   ]
  },
  {
   "cell_type": "code",
   "execution_count": 6,
   "id": "1a15d99e-ee1f-41fa-a783-e7bebaf659a8",
   "metadata": {},
   "outputs": [],
   "source": [
    "# 4. Create a string by concatenating string_example1 and string_example2."
   ]
  },
  {
   "cell_type": "code",
   "execution_count": 7,
   "id": "a4bbb23d-aa7e-459a-9f45-f57e89052b9a",
   "metadata": {},
   "outputs": [],
   "source": [
    "# 5. Create a string by concatenating string_example1 and string_example2, but:\n",
    "# at the end of the example1, after the word demonstrate don't repeat the word \"purposes\"."
   ]
  },
  {
   "cell_type": "code",
   "execution_count": 8,
   "id": "e777e810-a756-4da5-bb83-2f379d1aa4f9",
   "metadata": {},
   "outputs": [],
   "source": [
    "# 6. Find the sixth digit of number 124243527."
   ]
  },
  {
   "cell_type": "code",
   "execution_count": 9,
   "id": "218471da-1f3a-49d2-8c05-4e822725d1c0",
   "metadata": {},
   "outputs": [],
   "source": [
    "# 7. Find last 6 digits of number 43543655463465345243."
   ]
  },
  {
   "cell_type": "markdown",
   "id": "1799411f-3667-4376-b4d2-70bfa4f151c1",
   "metadata": {},
   "source": [
    "## Index and slice lists."
   ]
  },
  {
   "cell_type": "code",
   "execution_count": 10,
   "id": "1891dc16-bbc1-42f5-86c5-1c8274044ccf",
   "metadata": {},
   "outputs": [],
   "source": [
    "list_example1 = ['nikos', 'maria', 'antonis', 'vasilis', 'afroditi']\n",
    "list_example2 = ['success', 'comes', 'by', 'completing', 'small', 'milestones']"
   ]
  },
  {
   "cell_type": "code",
   "execution_count": 11,
   "id": "8059d931-e2e6-4efc-bb37-987a4fdec327",
   "metadata": {},
   "outputs": [],
   "source": [
    "# 0. Count the number of items in list_example1."
   ]
  },
  {
   "cell_type": "code",
   "execution_count": 12,
   "id": "1b8eebc3-fa32-4455-a7a0-16d7d34baa26",
   "metadata": {},
   "outputs": [],
   "source": [
    "# 1. Join the two lists in a new list."
   ]
  },
  {
   "cell_type": "code",
   "execution_count": 13,
   "id": "71249405-fd71-4b75-ae26-69d79d62014e",
   "metadata": {},
   "outputs": [],
   "source": [
    "# 2. Find 3rd item of the new joined list."
   ]
  },
  {
   "cell_type": "code",
   "execution_count": 14,
   "id": "08f28551-8704-402a-bc4e-4fe556b67ec2",
   "metadata": {},
   "outputs": [],
   "source": [
    "# 3. Find the last letter of the third item of list_example1."
   ]
  },
  {
   "cell_type": "code",
   "execution_count": 15,
   "id": "db9d367e-42b7-4683-a5c8-828a55fce3c5",
   "metadata": {},
   "outputs": [],
   "source": [
    "# 4. Use a list method to append the second list to the first list so that:\n",
    "# the second list is the last item of the first list."
   ]
  },
  {
   "cell_type": "code",
   "execution_count": 16,
   "id": "ffbd4bc7-b56a-4247-bbf1-66d9180f3aac",
   "metadata": {},
   "outputs": [],
   "source": [
    "# 5. When the second list is the last item of the first list:\n",
    "# 5a. Find the last letter of the second item of the second list.\n",
    "# 5b. Find the first four letters of the last item of the second list.\n",
    "# 5c. Concatenate 5a and 5b to create a new string."
   ]
  },
  {
   "cell_type": "code",
   "execution_count": 17,
   "id": "2a952a96-f3c8-4bbe-8fb9-c68eaf405a4b",
   "metadata": {},
   "outputs": [],
   "source": [
    "# 6. Convert list items to a string separated by : and blank space."
   ]
  },
  {
   "cell_type": "code",
   "execution_count": 18,
   "id": "5a648e1f-e3aa-40a2-8be0-b9599c786264",
   "metadata": {},
   "outputs": [],
   "source": [
    "# 7. Find the 15th item of the joined list."
   ]
  },
  {
   "cell_type": "code",
   "execution_count": null,
   "id": "9e788881-a7c7-4094-87a6-9b54ef5e1ae1",
   "metadata": {},
   "outputs": [],
   "source": []
  }
 ],
 "metadata": {
  "kernelspec": {
   "display_name": "Python 3 (ipykernel)",
   "language": "python",
   "name": "python3"
  },
  "language_info": {
   "codemirror_mode": {
    "name": "ipython",
    "version": 3
   },
   "file_extension": ".py",
   "mimetype": "text/x-python",
   "name": "python",
   "nbconvert_exporter": "python",
   "pygments_lexer": "ipython3",
   "version": "3.11.8"
  }
 },
 "nbformat": 4,
 "nbformat_minor": 5
}
