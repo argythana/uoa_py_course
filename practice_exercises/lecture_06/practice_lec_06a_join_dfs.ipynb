{
 "cells": [
  {
   "cell_type": "markdown",
   "id": "a9ef956d-3bf8-40a2-a755-562bfdb82290",
   "metadata": {},
   "source": [
    "# Lecture 05 practice exercise"
   ]
  },
  {
   "cell_type": "markdown",
   "id": "0e50e21b-a886-4c96-8b3d-f7efe23eefc8",
   "metadata": {},
   "source": [
    "**REQUIRES ADDITIONAL READING OF METHODS NOT PRESENTED IN CLASS**  \n",
    "\n",
    "Pandas provides several ways to join DataFrames:\n",
    "\n",
    "1. **Concatenation**: Concatenation basically glues the DataFrames together.  \n",
    "   Concatenation is almost a synonym for addition.  \n",
    "   You can select the axis (default is 0) according to your needs.  \n",
    "   This can be done using the `concat()` function.\n",
    "\n",
    "3. **Appending**: Appending a DataFrame to another one is essentially concatenation, but the `append()` function is used instead.  \n",
    "   It's essentially a shortcut to `concat()` along `axis=0`.\n",
    "\n",
    "5. **Merging**: Merging is a more powerful way to join two DataFrames, allowing you to join using as criteria any column(s) or index.\n",
    "   This can be done using the `merge()` function.\n",
    "\n",
    "7. **Joining**: Joining is a convenient method for combining the columns of two potentially differently-indexed DataFrames into a single result DataFrame.   \n",
    "Similar to the `merge()` function, but the `join()` function is used instead.\n",
    "\n",
    "Examples:\n",
    "\n",
    "```python\n",
    "import pandas as pd\n",
    "\n",
    "# Assume we have two dataframes df1 and df2\n",
    "\n",
    "# Concatenation\n",
    "result = pd.concat([df1, df2])\n",
    "\n",
    "# Appending\n",
    "result = df1.append(df2)\n",
    "\n",
    "# Merging\n",
    "# Assume 'key_column_name' is a common column ΝΑΜΕ in df1 and df2\n",
    "result = pd.merge(df1, df2, on='key_column_name')\n",
    "\n",
    "# Joining\n",
    "# Assume df1 and df2 have a common index\n",
    "result = df1.join(df2, lsuffix='_df1', rsuffix='_df2')\n",
    "```"
   ]
  },
  {
   "cell_type": "markdown",
   "id": "6b174ec1-0118-49b5-9364-c412eb4938ea",
   "metadata": {},
   "source": [
    "## 1) Practice on df merging"
   ]
  },
  {
   "cell_type": "code",
   "execution_count": 4,
   "id": "67fc5cb5-c90a-443f-a96c-5d2f9025e110",
   "metadata": {},
   "outputs": [],
   "source": [
    "import pandas as pd\n",
    "\n",
    "# Two dataframes with countries and their GDP.\n",
    "# Create two dfs using the DataFrame function and dictionary notation.\n",
    "\n",
    "df1 = pd.DataFrame({\n",
    "    'Country': ['USA', 'China', 'Japan', 'Germany'],\n",
    "    'GDP': [21.44, 15.42, 4.97, 3.86]  # In trillions of dollars.\n",
    "})\n",
    "\n",
    "df2 = pd.DataFrame({\n",
    "    'Country': ['Germany', 'India', 'UK', 'France'],\n",
    "    'GDP': [3.86, 2.94, 2.83, 2.71]  # In trillions of dollars.\n",
    "})"
   ]
  },
  {
   "cell_type": "code",
   "execution_count": 5,
   "id": "fe77f4d3-a354-434b-8d2a-c42abaae633e",
   "metadata": {},
   "outputs": [],
   "source": [
    "# Perform an inner join on the 'Country' column"
   ]
  },
  {
   "cell_type": "code",
   "execution_count": null,
   "id": "a8beb19b-096d-4966-9bf7-4be9167380f6",
   "metadata": {},
   "outputs": [],
   "source": [
    "# Perform a left join on the 'Country' column"
   ]
  },
  {
   "cell_type": "code",
   "execution_count": null,
   "id": "13c81ff2-accf-40ff-9e4d-ee7d1851ddfa",
   "metadata": {},
   "outputs": [],
   "source": [
    "# Perform a right join on the two DataFrames."
   ]
  },
  {
   "cell_type": "code",
   "execution_count": 3,
   "id": "f06ed4a2-dbe4-430c-a953-77494ba03bc2",
   "metadata": {},
   "outputs": [],
   "source": [
    "# Perform a full join (also known as an outer join) on the two DataFrames. "
   ]
  },
  {
   "cell_type": "code",
   "execution_count": null,
   "id": "87a268a0-1aa2-4b66-89ec-b9fcc249741e",
   "metadata": {},
   "outputs": [],
   "source": [
    "# Concatenate along the rows (axis=0)"
   ]
  },
  {
   "cell_type": "code",
   "execution_count": null,
   "id": "c642f4f3-098b-4c23-a174-80d529a14ae8",
   "metadata": {},
   "outputs": [],
   "source": [
    "# Concatenate along the columns (axis=1)"
   ]
  },
  {
   "cell_type": "code",
   "execution_count": 6,
   "id": "f50f9b95-5dc6-4201-93f0-051ad1847609",
   "metadata": {},
   "outputs": [],
   "source": [
    "# Append df2 at the end of df1"
   ]
  },
  {
   "cell_type": "markdown",
   "id": "7508a26a-be6f-4131-8162-a4e58780e50d",
   "metadata": {},
   "source": [
    "## 2) Advanced practice on a multi-key join:"
   ]
  },
  {
   "cell_type": "code",
   "execution_count": null,
   "id": "3ab2f357-55dd-4d98-aa83-b7110cc8416a",
   "metadata": {},
   "outputs": [],
   "source": [
    "# Two dataframes with countries, their GDP, the year and the population only for some countries.\n",
    "# Create two dfs using the DataFrame function and dictionary notation.\n",
    "\n",
    "df1 = pd.DataFrame({\n",
    "    'Country': ['USA', 'China', 'Japan', 'Germany', 'UK'],\n",
    "    'Year': [2020, 2020, 2020, 2020, 2020],\n",
    "    'GDP': [21.44, 15.42, 4.97, 3.86, 2.83]  # in trillions of dollars\n",
    "})\n",
    "\n",
    "df2 = pd.DataFrame({\n",
    "    'Country': ['Germany', 'India', 'UK', 'France'],\n",
    "    'Year': [2020, 2020, 2020, 2020],\n",
    "    'Population': [83.02, 1380, 66.65, 67.06]  # in millions\n",
    "})"
   ]
  },
  {
   "cell_type": "code",
   "execution_count": null,
   "id": "e6e7b5b0-bf71-48d2-bf2c-8a56a5dddc58",
   "metadata": {},
   "outputs": [],
   "source": [
    "# Perform an inner join on the 'Country' and 'Year' columns."
   ]
  },
  {
   "cell_type": "code",
   "execution_count": null,
   "id": "dc51141f-266f-498d-8028-ceedeb1461d3",
   "metadata": {},
   "outputs": [],
   "source": []
  }
 ],
 "metadata": {
  "kernelspec": {
   "display_name": "Python 3 (ipykernel)",
   "language": "python",
   "name": "python3"
  },
  "language_info": {
   "codemirror_mode": {
    "name": "ipython",
    "version": 3
   },
   "file_extension": ".py",
   "mimetype": "text/x-python",
   "name": "python",
   "nbconvert_exporter": "python",
   "pygments_lexer": "ipython3",
   "version": "3.11.8"
  }
 },
 "nbformat": 4,
 "nbformat_minor": 5
}
