{
 "cells": [
  {
   "cell_type": "markdown",
   "id": "c828ff05-02b4-48ec-b6e0-80e00998d944",
   "metadata": {},
   "source": [
    "Pandas provides several ways to join two DataFrames:\n",
    "\n",
    "1. **Concatenation**: Concatenation basically glues the DataFrames together. You can select the axis (default is 0) according to your needs. This can be done using the `concat()` function.\n",
    "\n",
    "2. **Appending**: Appending a DataFrame to another one is essentially concatenation, but the `append()` function is used instead.\n",
    "\n",
    "3. **Merging**: Merging is a more powerful way to join two DataFrames, allowing you to join on any column(s) or index. This can be done using the `merge()` function.\n",
    "\n",
    "4. **Joining**: Joining is a convenient method for combining the columns of two potentially differently-indexed DataFrames into a single result DataFrame. This is very similar to the `merge()` function, but the `join()` function is used instead.\n",
    "\n",
    "Here are examples of each:\n",
    "\n",
    "```python\n",
    "import pandas as pd\n",
    "\n",
    "# Assume we have two dataframes df1 and df2\n",
    "\n",
    "# Concatenation\n",
    "result = pd.concat([df1, df2])\n",
    "\n",
    "# Appending\n",
    "result = df1.append(df2)\n",
    "\n",
    "# Merging\n",
    "# Assume 'key' is a common column in df1 and df2\n",
    "result = pd.merge(df1, df2, on='key')\n",
    "\n",
    "# Joining\n",
    "# Assume df1 and df2 have a common index\n",
    "result = df1.join(df2, lsuffix='_df1', rsuffix='_df2')\n",
    "```\n",
    "\n",
    "Remember to choose the method that best fits your specific needs and constraints."
   ]
  },
  {
   "cell_type": "markdown",
   "id": "ab0a2c4a-0710-4111-979f-3bc869041fa1",
   "metadata": {},
   "source": [
    "Sure, let's create two small pandas DataFrames with country names and their GDPs, and perform an inner join on them. \n",
    "\n",
    "Here's the Python code that follows this plan:\n",
    "\n",
    "```python\n",
    "import pandas as pd\n",
    "\n",
    "# Create two small dataframes\n",
    "df1 = pd.DataFrame({\n",
    "    'Country': ['USA', 'China', 'Japan', 'Germany'],\n",
    "    'GDP': [21.44, 15.42, 4.97, 3.86]  # in trillions of dollars\n",
    "})\n",
    "\n",
    "df2 = pd.DataFrame({\n",
    "    'Country': ['Germany', 'India', 'UK', 'France'],\n",
    "    'GDP': [3.86, 2.94, 2.83, 2.71]  # in trillions of dollars\n",
    "})\n",
    "\n",
    "# Perform an inner join on the 'Country' column\n",
    "df_inner = pd.merge(df1, df2, on='Country', how='inner')\n",
    "\n",
    "print(df_inner)\n",
    "```\n",
    "\n",
    "In this example, the `merge()` function is used to perform an inner join on the 'Country' column. The `how='inner'` argument specifies that we want an inner join. The resulting DataFrame, `df_inner`, contains only the rows with countries that are present in both `df1` and `df2`."
   ]
  },
  {
   "cell_type": "markdown",
   "id": "4b970b2e-46b8-48fa-a04a-caaba26c455a",
   "metadata": {},
   "source": [
    "Sure, let's perform a left join on the two DataFrames. A left join returns all the rows from the left dataframe and the matched rows from the right dataframe. If there is no match, the result is `NaN` in the columns of the right dataframe.\n",
    "\n",
    "Here's the Python code that follows this plan:\n",
    "\n",
    "```python\n",
    "# Perform a left join on the 'Country' column\n",
    "df_left = pd.merge(df1, df2, on='Country', how='left')\n",
    "\n",
    "print(df_left)\n",
    "```\n",
    "\n",
    "In this example, the `merge()` function is used to perform a left join on the 'Country' column. The `how='left'` argument specifies that we want a left join. The resulting DataFrame, `df_left`, contains all rows from `df1` and the matching rows from `df2`. If there is no match, the result is `NaN` in the columns of `df2`."
   ]
  },
  {
   "cell_type": "markdown",
   "id": "ac74c889-f145-420d-bac4-40c872a79ef0",
   "metadata": {},
   "source": [
    "Sure, let's perform a right join on the two DataFrames. A right join returns all the rows from the right dataframe and the matched rows from the left dataframe. If there is no match, the result is `NaN` in the columns of the left dataframe.\n",
    "\n",
    "Here's the Python code that follows this plan:\n",
    "\n",
    "```python\n",
    "# Perform a right join on the 'Country' column\n",
    "df_right = pd.merge(df1, df2, on='Country', how='right')\n",
    "\n",
    "print(df_right)\n",
    "```\n",
    "\n",
    "In this example, the `merge()` function is used to perform a right join on the 'Country' column. The `how='right'` argument specifies that we want a right join. The resulting DataFrame, `df_right`, contains all rows from `df2` and the matching rows from `df1`. If there is no match, the result is `NaN` in the columns of `df1`."
   ]
  },
  {
   "cell_type": "markdown",
   "id": "cf8e63cd-5e5b-4ab2-8065-cba5345d1ddc",
   "metadata": {},
   "source": [
    "Sure, let's perform a full join (also known as an outer join) on the two DataFrames. A full join returns all the rows from both dataframes, and if there is no match, the result is `NaN` in the columns of the dataframe that does not have a match.\n",
    "\n",
    "Here's the Python code that follows this plan:\n",
    "\n",
    "```python\n",
    "# Perform a full join on the 'Country' column\n",
    "df_full = pd.merge(df1, df2, on='Country', how='outer')\n",
    "\n",
    "print(df_full)\n",
    "```\n",
    "\n",
    "In this example, the `merge()` function is used to perform a full join on the 'Country' column. The `how='outer'` argument specifies that we want a full join. The resulting DataFrame, `df_full`, contains all rows from both `df1` and `df2`. If there is no match, the result is `NaN` in the columns of the dataframe that does not have a match."
   ]
  },
  {
   "cell_type": "markdown",
   "id": "bf75106c-9fe6-45e4-97df-d88205041967",
   "metadata": {},
   "source": [
    "There are four main types of joins that you can perform with pandas: inner, left, right, and full (or outer). We've already covered these in the previous examples. \n",
    "\n",
    "However, there are variations of these joins that you can perform based on multiple keys or conditions. For example, you can perform a join on multiple columns by passing a list of column names to the `on` parameter. \n",
    "\n",
    "Here's an example of a multi-key join:\n",
    "\n",
    "```python\n",
    "# Create two small dataframes with multiple keys\n",
    "df1 = pd.DataFrame({\n",
    "    'Country': ['USA', 'China', 'Japan', 'Germany'],\n",
    "    'Year': [2020, 2020, 2020, 2020],\n",
    "    'GDP': [21.44, 15.42, 4.97, 3.86]  # in trillions of dollars\n",
    "})\n",
    "\n",
    "df2 = pd.DataFrame({\n",
    "    'Country': ['Germany', 'India', 'UK', 'France'],\n",
    "    'Year': [2020, 2020, 2020, 2020],\n",
    "    'Population': [83.02, 1380, 66.65, 67.06]  # in millions\n",
    "})\n",
    "\n",
    "# Perform an inner join on the 'Country' and 'Year' columns\n",
    "df_inner = pd.merge(df1, df2, on=['Country', 'Year'], how='inner')\n",
    "\n",
    "print(df_inner)\n",
    "```\n",
    "\n",
    "In this example, the `merge()` function is used to perform an inner join on the 'Country' and 'Year' columns. The resulting DataFrame contains only the rows with countries and years that are present in both `df1` and `df2`."
   ]
  },
  {
   "cell_type": "markdown",
   "id": "c344ca60-6f7f-4572-8978-ff8b8593da96",
   "metadata": {},
   "source": [
    "# Concatenate along the rows (axis=0)\n",
    "df_concat_rows = pd.concat([df1, df2], axis=0)\n",
    "\n",
    "print(\"Concatenation along rows:\")\n",
    "print(df_concat_rows)\n",
    "\n",
    "# Concatenate along the columns (axis=1)\n",
    "df_concat_cols = pd.concat([df1, df2], axis=1)\n",
    "\n",
    "print(\"\\nConcatenation along columns:\")\n",
    "print(df_concat_cols)"
   ]
  },
  {
   "cell_type": "markdown",
   "id": "d2b330d8-d72e-4412-a1c8-0fe763ca0552",
   "metadata": {},
   "source": [
    "Sure, the `append()` function in pandas can be used to append rows of one DataFrame to the end of another DataFrame, resulting in a new DataFrame. It's essentially a shortcut to `concat()` along `axis=0`.\n",
    "\n",
    "Here's the Python code that follows this plan:\n",
    "\n",
    "```python\n",
    "# Append df2 at the end of df1\n",
    "df_append = df1.append(df2)\n",
    "\n",
    "print(df_append)\n",
    "```\n",
    "\n",
    "In this example, the `append()` function is used to append `df2` at the end of `df1`. The resulting DataFrame, `df_append`, contains all rows from `df1` followed by all rows from `df2`."
   ]
  },
  {
   "cell_type": "code",
   "execution_count": 2,
   "id": "86a07843-27cf-47e9-937a-1b4905ecfb8b",
   "metadata": {},
   "outputs": [
    {
     "name": "stdout",
     "output_type": "stream",
     "text": [
      "    A   B   C   D\n",
      "0  A0  B0  C0  D0\n",
      "1  A0  B0  C1  D1\n",
      "2  A0  B0  C2  D2\n",
      "3  A1  B1  C0  D0\n",
      "4  A1  B1  C1  D1\n",
      "5  A1  B1  C2  D2\n",
      "6  A2  B2  C0  D0\n",
      "7  A2  B2  C1  D1\n",
      "8  A2  B2  C2  D2\n"
     ]
    }
   ],
   "source": [
    "import pandas as pd\n",
    "\n",
    "# Create two dataframes with no common columns or rows\n",
    "df1 = pd.DataFrame({'A': ['A0', 'A1', 'A2'],\n",
    "                    'B': ['B0', 'B1', 'B2']})\n",
    "\n",
    "df2 = pd.DataFrame({'C': ['C0', 'C1', 'C2'],\n",
    "                    'D': ['D0', 'D1', 'D2']})\n",
    "\n",
    "# Introduce a temporary key for both dataframes\n",
    "df1['key'] = 0\n",
    "df2['key'] = 0\n",
    "\n",
    "# Perform the merge, which results in a Cartesian product\n",
    "df_cross = pd.merge(df1, df2, on='key')\n",
    "\n",
    "# Drop the temporary key column\n",
    "df_cross.drop('key', axis=1, inplace=True)\n",
    "\n",
    "print(df_cross)"
   ]
  },
  {
   "cell_type": "code",
   "execution_count": null,
   "id": "f77389dd-2e33-4430-9d0e-b7037ddef1cd",
   "metadata": {},
   "outputs": [],
   "source": []
  }
 ],
 "metadata": {
  "kernelspec": {
   "display_name": "Python 3 (ipykernel)",
   "language": "python",
   "name": "python3"
  },
  "language_info": {
   "codemirror_mode": {
    "name": "ipython",
    "version": 3
   },
   "file_extension": ".py",
   "mimetype": "text/x-python",
   "name": "python",
   "nbconvert_exporter": "python",
   "pygments_lexer": "ipython3",
   "version": "3.11.8"
  }
 },
 "nbformat": 4,
 "nbformat_minor": 5
}
