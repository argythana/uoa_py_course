{
 "cells": [
  {
   "metadata": {},
   "cell_type": "markdown",
   "source": [
    "## Todo for 2025:\n",
    "a) separate notebook for Markdown\n",
    "b) Separate notebook for Jupyterlab and linux cli instructions,\n",
    "c) Separate notebbok for google Colab and Kaggle."
   ]
  },
  {
   "cell_type": "markdown",
   "metadata": {
    "id": "-qn1fuJ2Gj5A"
   },
   "source": [
    "# Markdown language. Not python but simple and necessary!\n",
    "\n",
    "[Google colab Markdown Flavour Guide](https://colab.research.google.com/notebooks/markdown_guide.ipynb)  \n",
    "\n",
    "[Wikipedia](https://en.wikipedia.org/wiki/Markdown)  \n",
    "\n",
    "[Official website](https://daringfireball.net/projects/markdown/)  "
   ]
  },
  {
   "cell_type": "markdown",
   "metadata": {
    "id": "1wUTmtIThPXN"
   },
   "source": [
    "# Google colab basics\n",
    "[Official Intro to Google Colab](https://colab.research.google.com/notebooks/intro.ipynb)  \n",
    "\n",
    "[Basic Colab notebook features](https://colab.research.google.com/notebooks/basic_features_overview.ipynb)  \n",
    "\n",
    "Mind the files path.  \n",
    "How to upload: next class."
   ]
  },
  {
   "cell_type": "markdown",
   "metadata": {
    "id": "1wUTmtIThPXN"
   },
   "source": [
    "### The commands and the oputput in the following section DO NOT WORK in the Python IDLE.  \n",
    "They work on the linux servers of Google Colab."
   ]
  },
  {
   "cell_type": "code",
   "execution_count": null,
   "metadata": {
    "colab": {
     "base_uri": "https://localhost:8080/"
    },
    "id": "EYN3movRhsbV",
    "outputId": "3144aee6-531a-414c-9b0d-73a777ccd37d",
    "tags": []
   },
   "outputs": [],
   "source": [
    "!pwd  # Command to show the present working directory (pwd)."
   ]
  },
  {
   "cell_type": "code",
   "execution_count": null,
   "metadata": {
    "colab": {
     "base_uri": "https://localhost:8080/"
    },
    "id": "wXkH5xZ5hvHN",
    "outputId": "1b1a9047-a216-4278-9420-6e4c9e53004b",
    "tags": []
   },
   "outputs": [],
   "source": [
    "!ls  # Command to list the files in pwd."
   ]
  },
  {
   "cell_type": "code",
   "execution_count": null,
   "metadata": {
    "colab": {
     "base_uri": "https://localhost:8080/"
    },
    "id": "Q8lShYmG4fEp",
    "outputId": "b7691fa8-3411-4a93-fd6e-9d3dbac859c6",
    "tags": []
   },
   "outputs": [],
   "source": [
    "!ls sample_data  # Command to list the files in a directory below pwd."
   ]
  },
  {
   "cell_type": "code",
   "execution_count": null,
   "metadata": {
    "colab": {
     "base_uri": "https://localhost:8080/"
    },
    "id": "v5OoIa2f4sDx",
    "outputId": "e4e5494c-bd65-42c7-cf3b-8f3b3d228ce5",
    "tags": []
   },
   "outputs": [],
   "source": [
    "# Command to change directory to a folder under the present working directory.\n",
    "%cd sample_data  "
   ]
  },
  {
   "cell_type": "code",
   "execution_count": null,
   "metadata": {
    "colab": {
     "base_uri": "https://localhost:8080/"
    },
    "id": "1uI5E0fI4-Cu",
    "outputId": "de387143-746c-4270-8f42-d50298737548",
    "tags": []
   },
   "outputs": [],
   "source": [
    "# Now we are inside a different directory.\n",
    "!pwd"
   ]
  },
  {
   "cell_type": "code",
   "execution_count": null,
   "metadata": {
    "colab": {
     "base_uri": "https://localhost:8080/"
    },
    "id": "qUhVXkRh5zTv",
    "outputId": "f8726b4c-65a9-481d-cb8d-cdcbe679a627"
   },
   "outputs": [],
   "source": [
    "!ls"
   ]
  },
  {
   "cell_type": "code",
   "execution_count": null,
   "metadata": {
    "colab": {
     "base_uri": "https://localhost:8080/"
    },
    "id": "BId0Ukf09s99",
    "outputId": "8c4ae45e-2e42-41ce-c651-2989f32fe1a5"
   },
   "outputs": [],
   "source": [
    "# Command to change directory to a folder ABOVE of pwd.\n",
    "%cd .."
   ]
  },
  {
   "cell_type": "code",
   "execution_count": null,
   "metadata": {
    "colab": {
     "base_uri": "https://localhost:8080/"
    },
    "id": "O8Mx6Ehg9uge",
    "outputId": "8397eb91-646d-47a2-fedb-f3821569d11d"
   },
   "outputs": [],
   "source": [
    "!pwd"
   ]
  },
  {
   "cell_type": "markdown",
   "metadata": {},
   "source": [
    "## Kaggle"
   ]
  },
  {
   "cell_type": "markdown",
   "metadata": {
    "tags": []
   },
   "source": [
    "Create an account on [Kaggle](https://www.kaggle.com/)  \n",
    "Kaggles is a project by Google and is intented to be an AI & ML community.\n",
    "They work with their own flavour of ipynbs. Small differences.   \n",
    "\n",
    "\n",
    "Take the tutorials.    \n",
    "Join a Competition.  \n",
    "It's fun.   \n",
    "I participated to try it and got really good results.  \n",
    "My collaboration with a close friend: https://www.kaggle.com/code/pmav99/spam-identification-and-data-scientists-profile"
   ]
  },
  {
   "cell_type": "markdown",
   "metadata": {
    "tags": []
   },
   "source": [
    "## I would be happy to participate in ML competitions if any one is interested\n",
    "Let's create a team!   \n",
    "https://mlcontests.com/"
   ]
  },
  {
   "cell_type": "code",
   "execution_count": null,
   "metadata": {},
   "outputs": [],
   "source": []
  }
 ],
 "metadata": {
  "colab": {
   "collapsed_sections": [],
   "name": "lecture_a.ipynb",
   "provenance": [],
   "toc_visible": true
  },
  "kernelspec": {
   "display_name": "Python 3 (ipykernel)",
   "language": "python",
   "name": "python3"
  },
  "language_info": {
   "codemirror_mode": {
    "name": "ipython",
    "version": 3
   },
   "file_extension": ".py",
   "mimetype": "text/x-python",
   "name": "python",
   "nbconvert_exporter": "python",
   "pygments_lexer": "ipython3",
   "version": "3.11.8"
  }
 },
 "nbformat": 4,
 "nbformat_minor": 4
}
