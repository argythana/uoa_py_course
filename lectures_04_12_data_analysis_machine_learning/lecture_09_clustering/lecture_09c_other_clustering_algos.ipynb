{
 "cells": [
  {
   "cell_type": "markdown",
   "id": "2e1a9e64-6fa5-4834-8fa0-4a4640c499cc",
   "metadata": {
    "collapsed": true,
    "jupyter": {
     "outputs_hidden": true
    }
   },
   "source": [
    "Happy Surprise. There is nothing more to read here!    \n",
    "\n",
    "Lucky you! It's just two links.    \n",
    "\n",
    "Scikit-learn [clustering examples](https://scikit-learn.org/stable/auto_examples/cluster/index.html)  \n",
    "\n",
    "Scikit-learn [clustering algos](https://scikit-learn.org/stable/modules/clustering.html#clustering)\n",
    "\n",
    "Oh wait, Oops, I did it again ...  \n",
    "\n",
    "And remember:   \n",
    "* Ask an AI, beware that it may hallucinate, it may invent things that don't exist, and may also be a bit out of date.  \n",
    "* Use GitHub Copilot as a coding assistant."
   ]
  },
  {
   "cell_type": "code",
   "execution_count": null,
   "id": "1a84346e-64ed-42fa-8dc4-d1a1eacf36b5",
   "metadata": {},
   "outputs": [],
   "source": []
  }
 ],
 "metadata": {
  "kernelspec": {
   "display_name": "Python 3 (ipykernel)",
   "language": "python",
   "name": "python3"
  },
  "language_info": {
   "codemirror_mode": {
    "name": "ipython",
    "version": 3
   },
   "file_extension": ".py",
   "mimetype": "text/x-python",
   "name": "python",
   "nbconvert_exporter": "python",
   "pygments_lexer": "ipython3",
   "version": "3.11.9"
  }
 },
 "nbformat": 4,
 "nbformat_minor": 5
}
