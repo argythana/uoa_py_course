{
 "cells": [
  {
   "cell_type": "markdown",
   "id": "likely-falls",
   "metadata": {},
   "source": [
    "# Lecture 8b. Multiple Linear Regression using python."
   ]
  },
  {
   "cell_type": "markdown",
   "id": "391f5b0c-c045-4f22-9897-b481341cee7b",
   "metadata": {},
   "source": [
    "Preliminary Definitions:   \n",
    "[Fit a model](https://en.wikipedia.org/wiki/Goodness_of_fit)  \n",
    "[Overfitting VS Underfitting](https://en.wikipedia.org/wiki/Overfitting)  \n",
    "[Bias-Variance tradeoff (underfit VS overfit)](https://en.wikipedia.org/wiki/Bias%E2%80%93variance_tradeoff)   \n",
    "High Bias => Underfit.  \n",
    "High Variance = > Overfit\n"
   ]
  },
  {
   "cell_type": "markdown",
   "id": "78475533-4cbf-47ed-8315-428071b05903",
   "metadata": {
    "tags": []
   },
   "source": [
    "## Install necessary libraries with activated virtual env.\n",
    "* Install from Windows Command Line, not from here!\n",
    "\n",
    "* [Pingouin](https://pingouin-stats.org/) is new but funky and very helpful for beginners. Endless source of cuteness.  \n",
    "Must read: [Pingouin guidelines.](https://pingouin-stats.org/guidelines.html)   \n",
    "\n",
    "* [Statsmodels](https://www.statsmodels.org/stable/index.html) is more advanced, has more features. Has extensive [examples.](https://www.statsmodels.org/stable/examples/index.html)   \n",
    "\n",
    "Understand what version 0.x.x means!\n",
    "\n",
    "```\n",
    "pip install statsmodels\n",
    "pip install pingouin\n",
    "pip install scikit-learn\n",
    "pip install openpyxl\n",
    "```"
   ]
  },
  {
   "cell_type": "code",
   "execution_count": 99,
   "id": "charming-armstrong",
   "metadata": {},
   "outputs": [],
   "source": [
    "import numpy as np\n",
    "import pandas as pd\n",
    "\n",
    "import seaborn as sns\n",
    "import matplotlib.pyplot as plt\n",
    "\n",
    "# from statsmodels.sandbox.regression.predstd import wls_prediction_std\n",
    "import pingouin as pg\n",
    "import statsmodels.api as sm"
   ]
  },
  {
   "cell_type": "code",
   "execution_count": 100,
   "id": "c9a5a200-4df7-4a93-aa3a-98747e4d81cc",
   "metadata": {},
   "outputs": [],
   "source": [
    "# pandas set display output options\n",
    "pd.set_option(\"display.precision\", 3)"
   ]
  },
  {
   "cell_type": "code",
   "execution_count": 101,
   "id": "champion-helena",
   "metadata": {},
   "outputs": [],
   "source": [
    "# pandas set display output options\n",
    "# Uncomment line below to see the error.\n",
    "\n",
    "#pd.set_option(\"precision\", 3)  #  This was working fine last year, now it is not.\n",
    "\n",
    "# I found the correct syntax using:\n",
    "# pd.set_option?"
   ]
  },
  {
   "cell_type": "markdown",
   "id": "applicable-bouquet",
   "metadata": {},
   "source": [
    "## Read and prepare the data"
   ]
  },
  {
   "cell_type": "code",
   "execution_count": 102,
   "id": "contained-multimedia",
   "metadata": {},
   "outputs": [],
   "source": [
    "# This is the path on my PC not yours!\n",
    "# Learn how to set the proper path, please, please!\n",
    "df = pd.read_excel(\"../../data/calc_grades_determinants.xlsx\")\n",
    "# Notice that openpyxl is a dependency that pandas requires to read excel files.\n",
    "# Although we don't need to import it, we have to install it."
   ]
  },
  {
   "cell_type": "markdown",
   "id": "9790d540-6627-4bef-9d92-463154712cdd",
   "metadata": {},
   "source": [
    "    ModuleNotFoundError  \n",
    "    ImportError: Missing optional dependency 'openpyxl'.  Use pip or conda to install openpyxl.\n",
    "\n",
    "    So, with the virtual environment activated:  \n",
    "\n",
    "```\n",
    "pip install openpyxl  \n",
    "```"
   ]
  },
  {
   "cell_type": "code",
   "execution_count": 103,
   "id": "retained-turkish",
   "metadata": {},
   "outputs": [
    {
     "data": {
      "text/html": [
       "<div>\n",
       "<style scoped>\n",
       "    .dataframe tbody tr th:only-of-type {\n",
       "        vertical-align: middle;\n",
       "    }\n",
       "\n",
       "    .dataframe tbody tr th {\n",
       "        vertical-align: top;\n",
       "    }\n",
       "\n",
       "    .dataframe thead th {\n",
       "        text-align: right;\n",
       "    }\n",
       "</style>\n",
       "<table border=\"1\" class=\"dataframe\">\n",
       "  <thead>\n",
       "    <tr style=\"text-align: right;\">\n",
       "      <th></th>\n",
       "      <th>Calc HS</th>\n",
       "      <th>ACT Math</th>\n",
       "      <th>Alg Place</th>\n",
       "      <th>Alg2 Grade</th>\n",
       "      <th>HS Rank</th>\n",
       "      <th>Gender Code</th>\n",
       "      <th>Gender</th>\n",
       "      <th>Calc</th>\n",
       "    </tr>\n",
       "  </thead>\n",
       "  <tbody>\n",
       "    <tr>\n",
       "      <th>0</th>\n",
       "      <td>0</td>\n",
       "      <td>27</td>\n",
       "      <td>21</td>\n",
       "      <td>3.5</td>\n",
       "      <td>68</td>\n",
       "      <td>0</td>\n",
       "      <td>F</td>\n",
       "      <td>62</td>\n",
       "    </tr>\n",
       "    <tr>\n",
       "      <th>1</th>\n",
       "      <td>0</td>\n",
       "      <td>29</td>\n",
       "      <td>16</td>\n",
       "      <td>4.0</td>\n",
       "      <td>99</td>\n",
       "      <td>0</td>\n",
       "      <td>F</td>\n",
       "      <td>75</td>\n",
       "    </tr>\n",
       "    <tr>\n",
       "      <th>2</th>\n",
       "      <td>1</td>\n",
       "      <td>30</td>\n",
       "      <td>22</td>\n",
       "      <td>4.0</td>\n",
       "      <td>98</td>\n",
       "      <td>1</td>\n",
       "      <td>M</td>\n",
       "      <td>95</td>\n",
       "    </tr>\n",
       "    <tr>\n",
       "      <th>3</th>\n",
       "      <td>0</td>\n",
       "      <td>34</td>\n",
       "      <td>25</td>\n",
       "      <td>3.0</td>\n",
       "      <td>90</td>\n",
       "      <td>1</td>\n",
       "      <td>M</td>\n",
       "      <td>78</td>\n",
       "    </tr>\n",
       "    <tr>\n",
       "      <th>4</th>\n",
       "      <td>0</td>\n",
       "      <td>29</td>\n",
       "      <td>22</td>\n",
       "      <td>4.0</td>\n",
       "      <td>99</td>\n",
       "      <td>0</td>\n",
       "      <td>F</td>\n",
       "      <td>95</td>\n",
       "    </tr>\n",
       "  </tbody>\n",
       "</table>\n",
       "</div>"
      ],
      "text/plain": [
       "   Calc HS  ACT Math  Alg Place  Alg2 Grade  HS Rank  Gender Code Gender  Calc\n",
       "0        0        27         21         3.5       68            0      F    62\n",
       "1        0        29         16         4.0       99            0      F    75\n",
       "2        1        30         22         4.0       98            1      M    95\n",
       "3        0        34         25         3.0       90            1      M    78\n",
       "4        0        29         22         4.0       99            0      F    95"
      ]
     },
     "execution_count": 103,
     "metadata": {},
     "output_type": "execute_result"
    }
   ],
   "source": [
    "df.head()"
   ]
  },
  {
   "cell_type": "code",
   "execution_count": 105,
   "id": "ceefe1a1-13a5-4fa7-b51a-38ba03260ace",
   "metadata": {},
   "outputs": [
    {
     "data": {
      "text/plain": [
       "Index(['Calc HS', 'ACT Math', 'Alg Place', 'Alg2 Grade', 'HS Rank',\n",
       "       'Gender Code', 'Gender', 'Calc'],\n",
       "      dtype='object')"
      ]
     },
     "execution_count": 105,
     "metadata": {},
     "output_type": "execute_result"
    }
   ],
   "source": [
    "df.columns"
   ]
  },
  {
   "cell_type": "code",
   "execution_count": 115,
   "id": "fcacfebd-1841-4517-b4a9-4e1589251703",
   "metadata": {},
   "outputs": [
    {
     "data": {
      "text/html": [
       "<div>\n",
       "<style scoped>\n",
       "    .dataframe tbody tr th:only-of-type {\n",
       "        vertical-align: middle;\n",
       "    }\n",
       "\n",
       "    .dataframe tbody tr th {\n",
       "        vertical-align: top;\n",
       "    }\n",
       "\n",
       "    .dataframe thead th {\n",
       "        text-align: right;\n",
       "    }\n",
       "</style>\n",
       "<table border=\"1\" class=\"dataframe\">\n",
       "  <thead>\n",
       "    <tr style=\"text-align: right;\">\n",
       "      <th></th>\n",
       "      <th>calc_hs</th>\n",
       "      <th>act_math</th>\n",
       "      <th>alg_place</th>\n",
       "      <th>alg2_grade</th>\n",
       "      <th>hs_rank</th>\n",
       "      <th>gender_code</th>\n",
       "    </tr>\n",
       "  </thead>\n",
       "  <tbody>\n",
       "    <tr>\n",
       "      <th>0</th>\n",
       "      <td>0</td>\n",
       "      <td>27</td>\n",
       "      <td>21</td>\n",
       "      <td>3.5</td>\n",
       "      <td>68</td>\n",
       "      <td>0</td>\n",
       "    </tr>\n",
       "    <tr>\n",
       "      <th>1</th>\n",
       "      <td>0</td>\n",
       "      <td>29</td>\n",
       "      <td>16</td>\n",
       "      <td>4.0</td>\n",
       "      <td>99</td>\n",
       "      <td>0</td>\n",
       "    </tr>\n",
       "    <tr>\n",
       "      <th>2</th>\n",
       "      <td>1</td>\n",
       "      <td>30</td>\n",
       "      <td>22</td>\n",
       "      <td>4.0</td>\n",
       "      <td>98</td>\n",
       "      <td>1</td>\n",
       "    </tr>\n",
       "    <tr>\n",
       "      <th>3</th>\n",
       "      <td>0</td>\n",
       "      <td>34</td>\n",
       "      <td>25</td>\n",
       "      <td>3.0</td>\n",
       "      <td>90</td>\n",
       "      <td>1</td>\n",
       "    </tr>\n",
       "    <tr>\n",
       "      <th>4</th>\n",
       "      <td>0</td>\n",
       "      <td>29</td>\n",
       "      <td>22</td>\n",
       "      <td>4.0</td>\n",
       "      <td>99</td>\n",
       "      <td>0</td>\n",
       "    </tr>\n",
       "    <tr>\n",
       "      <th>...</th>\n",
       "      <td>...</td>\n",
       "      <td>...</td>\n",
       "      <td>...</td>\n",
       "      <td>...</td>\n",
       "      <td>...</td>\n",
       "      <td>...</td>\n",
       "    </tr>\n",
       "    <tr>\n",
       "      <th>75</th>\n",
       "      <td>0</td>\n",
       "      <td>29</td>\n",
       "      <td>22</td>\n",
       "      <td>4.0</td>\n",
       "      <td>88</td>\n",
       "      <td>1</td>\n",
       "    </tr>\n",
       "    <tr>\n",
       "      <th>76</th>\n",
       "      <td>0</td>\n",
       "      <td>29</td>\n",
       "      <td>17</td>\n",
       "      <td>3.0</td>\n",
       "      <td>92</td>\n",
       "      <td>0</td>\n",
       "    </tr>\n",
       "    <tr>\n",
       "      <th>77</th>\n",
       "      <td>1</td>\n",
       "      <td>27</td>\n",
       "      <td>26</td>\n",
       "      <td>4.0</td>\n",
       "      <td>95</td>\n",
       "      <td>0</td>\n",
       "    </tr>\n",
       "    <tr>\n",
       "      <th>78</th>\n",
       "      <td>0</td>\n",
       "      <td>28</td>\n",
       "      <td>26</td>\n",
       "      <td>4.0</td>\n",
       "      <td>99</td>\n",
       "      <td>0</td>\n",
       "    </tr>\n",
       "    <tr>\n",
       "      <th>79</th>\n",
       "      <td>0</td>\n",
       "      <td>28</td>\n",
       "      <td>21</td>\n",
       "      <td>4.0</td>\n",
       "      <td>99</td>\n",
       "      <td>0</td>\n",
       "    </tr>\n",
       "  </tbody>\n",
       "</table>\n",
       "<p>80 rows × 6 columns</p>\n",
       "</div>"
      ],
      "text/plain": [
       "    calc_hs  act_math  alg_place  alg2_grade  hs_rank  gender_code\n",
       "0         0        27         21         3.5       68            0\n",
       "1         0        29         16         4.0       99            0\n",
       "2         1        30         22         4.0       98            1\n",
       "3         0        34         25         3.0       90            1\n",
       "4         0        29         22         4.0       99            0\n",
       "..      ...       ...        ...         ...      ...          ...\n",
       "75        0        29         22         4.0       88            1\n",
       "76        0        29         17         3.0       92            0\n",
       "77        1        27         26         4.0       95            0\n",
       "78        0        28         26         4.0       99            0\n",
       "79        0        28         21         4.0       99            0\n",
       "\n",
       "[80 rows x 6 columns]"
      ]
     },
     "execution_count": 115,
     "metadata": {},
     "output_type": "execute_result"
    }
   ],
   "source": [
    "X = df[['calc_hs', 'act_math', 'alg_place', 'alg2_grade', 'hs_rank',\n",
    "       'gender_code']]\n",
    "X"
   ]
  },
  {
   "cell_type": "code",
   "execution_count": 106,
   "id": "macro-suspect",
   "metadata": {},
   "outputs": [
    {
     "data": {
      "text/plain": [
       "Index(['calc_hs', 'act_math', 'alg_place', 'alg2_grade', 'hs_rank',\n",
       "       'gender_code', 'gender', 'calc'],\n",
       "      dtype='object')"
      ]
     },
     "execution_count": 106,
     "metadata": {},
     "output_type": "execute_result"
    }
   ],
   "source": [
    "# this step may be avoided, since we create X and y by numeric index\n",
    "df.columns = df.columns.str.replace(\" \", \"_\").str.lower()  # or str.replace(\" \", \"\") # to replace blank space with nothing\n",
    "df.columns"
   ]
  },
  {
   "cell_type": "code",
   "execution_count": 107,
   "id": "durable-sigma",
   "metadata": {},
   "outputs": [
    {
     "data": {
      "text/plain": [
       "calc_hs          int64\n",
       "act_math         int64\n",
       "alg_place        int64\n",
       "alg2_grade     float64\n",
       "hs_rank          int64\n",
       "gender_code      int64\n",
       "gender          object\n",
       "calc             int64\n",
       "dtype: object"
      ]
     },
     "execution_count": 107,
     "metadata": {},
     "output_type": "execute_result"
    }
   ],
   "source": [
    "# get column names and data type in each column\n",
    "df.dtypes"
   ]
  },
  {
   "cell_type": "code",
   "execution_count": 108,
   "id": "little-necklace",
   "metadata": {},
   "outputs": [
    {
     "data": {
      "text/plain": [
       "array([3.5, 4. , 3. , 2.5, 2. ])"
      ]
     },
     "execution_count": 108,
     "metadata": {},
     "output_type": "execute_result"
    }
   ],
   "source": [
    "df.alg2_grade.unique()"
   ]
  },
  {
   "cell_type": "code",
   "execution_count": 109,
   "id": "ahead-director",
   "metadata": {},
   "outputs": [
    {
     "data": {
      "text/plain": [
       "array([3.5, 4. , 3. , 2.5, 2. ])"
      ]
     },
     "execution_count": 109,
     "metadata": {},
     "output_type": "execute_result"
    }
   ],
   "source": [
    "df.alg2_grade.unique()"
   ]
  },
  {
   "cell_type": "code",
   "execution_count": 110,
   "id": "proof-blair",
   "metadata": {},
   "outputs": [
    {
     "data": {
      "text/html": [
       "<div>\n",
       "<style scoped>\n",
       "    .dataframe tbody tr th:only-of-type {\n",
       "        vertical-align: middle;\n",
       "    }\n",
       "\n",
       "    .dataframe tbody tr th {\n",
       "        vertical-align: top;\n",
       "    }\n",
       "\n",
       "    .dataframe thead th {\n",
       "        text-align: right;\n",
       "    }\n",
       "</style>\n",
       "<table border=\"1\" class=\"dataframe\">\n",
       "  <thead>\n",
       "    <tr style=\"text-align: right;\">\n",
       "      <th></th>\n",
       "      <th>calc_hs</th>\n",
       "      <th>act_math</th>\n",
       "      <th>alg_place</th>\n",
       "    </tr>\n",
       "  </thead>\n",
       "  <tbody>\n",
       "    <tr>\n",
       "      <th>0</th>\n",
       "      <td>0</td>\n",
       "      <td>27</td>\n",
       "      <td>21</td>\n",
       "    </tr>\n",
       "    <tr>\n",
       "      <th>1</th>\n",
       "      <td>0</td>\n",
       "      <td>29</td>\n",
       "      <td>16</td>\n",
       "    </tr>\n",
       "  </tbody>\n",
       "</table>\n",
       "</div>"
      ],
      "text/plain": [
       "   calc_hs  act_math  alg_place\n",
       "0        0        27         21\n",
       "1        0        29         16"
      ]
     },
     "execution_count": 110,
     "metadata": {},
     "output_type": "execute_result"
    }
   ],
   "source": [
    "df.dtypes## Example of how to select some columns by HEADER name\n",
    "df[[\"calc_hs\", \"act_math\", \"alg_place\"]].head(2)"
   ]
  },
  {
   "cell_type": "markdown",
   "id": "useful-stationery",
   "metadata": {},
   "source": [
    "### Select the features columns X, not include gender code  and Y  \n",
    "Array data strucure = indexed collection of data elements.   \n",
    "This is an n-dimensional array, a matrix, conventionally denoted with capital letters.   \n",
    "The feature matrix is denoted with X (usually).  \n",
    "Sometimes, I prefer properly named subsets. E.g. we could call it ```all_X```"
   ]
  },
  {
   "cell_type": "code",
   "execution_count": 14,
   "id": "alike-worse",
   "metadata": {},
   "outputs": [
    {
     "data": {
      "text/html": [
       "<div>\n",
       "<style scoped>\n",
       "    .dataframe tbody tr th:only-of-type {\n",
       "        vertical-align: middle;\n",
       "    }\n",
       "\n",
       "    .dataframe tbody tr th {\n",
       "        vertical-align: top;\n",
       "    }\n",
       "\n",
       "    .dataframe thead th {\n",
       "        text-align: right;\n",
       "    }\n",
       "</style>\n",
       "<table border=\"1\" class=\"dataframe\">\n",
       "  <thead>\n",
       "    <tr style=\"text-align: right;\">\n",
       "      <th></th>\n",
       "      <th>calc_hs</th>\n",
       "      <th>act_math</th>\n",
       "      <th>alg_place</th>\n",
       "      <th>alg2_grade</th>\n",
       "      <th>hs_rank</th>\n",
       "      <th>gender_code</th>\n",
       "    </tr>\n",
       "  </thead>\n",
       "  <tbody>\n",
       "    <tr>\n",
       "      <th>0</th>\n",
       "      <td>0</td>\n",
       "      <td>27</td>\n",
       "      <td>21</td>\n",
       "      <td>3.5</td>\n",
       "      <td>68</td>\n",
       "      <td>0</td>\n",
       "    </tr>\n",
       "    <tr>\n",
       "      <th>1</th>\n",
       "      <td>0</td>\n",
       "      <td>29</td>\n",
       "      <td>16</td>\n",
       "      <td>4.0</td>\n",
       "      <td>99</td>\n",
       "      <td>0</td>\n",
       "    </tr>\n",
       "    <tr>\n",
       "      <th>2</th>\n",
       "      <td>1</td>\n",
       "      <td>30</td>\n",
       "      <td>22</td>\n",
       "      <td>4.0</td>\n",
       "      <td>98</td>\n",
       "      <td>1</td>\n",
       "    </tr>\n",
       "  </tbody>\n",
       "</table>\n",
       "</div>"
      ],
      "text/plain": [
       "   calc_hs  act_math  alg_place  alg2_grade  hs_rank  gender_code\n",
       "0        0        27         21         3.5       68            0\n",
       "1        0        29         16         4.0       99            0\n",
       "2        1        30         22         4.0       98            1"
      ]
     },
     "execution_count": 14,
     "metadata": {},
     "output_type": "execute_result"
    }
   ],
   "source": [
    "# exclude gender and calc\n",
    "# Can you try it using column labels?\n",
    "X = df.iloc[:, :-2]\n",
    "X.head(3)"
   ]
  },
  {
   "cell_type": "code",
   "execution_count": 15,
   "id": "verified-cathedral",
   "metadata": {},
   "outputs": [
    {
     "data": {
      "text/plain": [
       "(80, 6)"
      ]
     },
     "execution_count": 15,
     "metadata": {},
     "output_type": "execute_result"
    }
   ],
   "source": [
    "# 80rows, 6 cols, index NOT INCLUDED\n",
    "X.shape"
   ]
  },
  {
   "cell_type": "markdown",
   "id": "round-relay",
   "metadata": {},
   "source": [
    "### Select dependent variable column (aka, target, predicted, ...)  \n",
    "The predicted variable is a one dimensional array (1d-vector) conventionally denoted with small letters.  \n",
    "Usually it is called as y, if more than one better use explicit naming.   \n",
    "Different algorithms ask for different input.   \n",
    "Be very careful with the data structure:\n",
    "* type\n",
    "* shape\n",
    "* dimensions"
   ]
  },
  {
   "cell_type": "code",
   "execution_count": 111,
   "id": "13190291-cf94-4abc-97ea-a3605f0be49b",
   "metadata": {},
   "outputs": [
    {
     "data": {
      "text/plain": [
       "0     62\n",
       "1     75\n",
       "2     95\n",
       "3     78\n",
       "4     95\n",
       "      ..\n",
       "75    85\n",
       "76    75\n",
       "77    88\n",
       "78    95\n",
       "79    85\n",
       "Name: calc, Length: 80, dtype: int64"
      ]
     },
     "execution_count": 111,
     "metadata": {},
     "output_type": "execute_result"
    }
   ],
   "source": [
    "y = df[\"calc\"]\n",
    "y"
   ]
  },
  {
   "cell_type": "code",
   "execution_count": 16,
   "id": "signal-provincial",
   "metadata": {},
   "outputs": [
    {
     "data": {
      "text/plain": [
       "0    62\n",
       "1    75\n",
       "2    95\n",
       "Name: calc, dtype: int64"
      ]
     },
     "execution_count": 16,
     "metadata": {},
     "output_type": "execute_result"
    }
   ],
   "source": [
    "# this notation returns a pandas Series\n",
    "y = df.iloc[:, -1]\n",
    "y.head(3)"
   ]
  },
  {
   "cell_type": "code",
   "execution_count": 17,
   "id": "public-liverpool",
   "metadata": {},
   "outputs": [
    {
     "data": {
      "text/plain": [
       "pandas.core.series.Series"
      ]
     },
     "execution_count": 17,
     "metadata": {},
     "output_type": "execute_result"
    }
   ],
   "source": [
    "type(y)"
   ]
  },
  {
   "cell_type": "code",
   "execution_count": 18,
   "id": "geological-aircraft",
   "metadata": {},
   "outputs": [
    {
     "data": {
      "text/plain": [
       "(80,)"
      ]
     },
     "execution_count": 18,
     "metadata": {},
     "output_type": "execute_result"
    }
   ],
   "source": [
    "y.shape"
   ]
  },
  {
   "cell_type": "code",
   "execution_count": 18,
   "id": "accepting-singer",
   "metadata": {},
   "outputs": [
    {
     "data": {
      "text/plain": [
       "1"
      ]
     },
     "execution_count": 18,
     "metadata": {},
     "output_type": "execute_result"
    }
   ],
   "source": [
    "np.ndim(y)"
   ]
  },
  {
   "cell_type": "code",
   "execution_count": 21,
   "id": "contemporary-column",
   "metadata": {},
   "outputs": [
    {
     "data": {
      "text/html": [
       "<div>\n",
       "<style scoped>\n",
       "    .dataframe tbody tr th:only-of-type {\n",
       "        vertical-align: middle;\n",
       "    }\n",
       "\n",
       "    .dataframe tbody tr th {\n",
       "        vertical-align: top;\n",
       "    }\n",
       "\n",
       "    .dataframe thead th {\n",
       "        text-align: right;\n",
       "    }\n",
       "</style>\n",
       "<table border=\"1\" class=\"dataframe\">\n",
       "  <thead>\n",
       "    <tr style=\"text-align: right;\">\n",
       "      <th></th>\n",
       "      <th>calc</th>\n",
       "    </tr>\n",
       "  </thead>\n",
       "  <tbody>\n",
       "    <tr>\n",
       "      <th>0</th>\n",
       "      <td>62</td>\n",
       "    </tr>\n",
       "    <tr>\n",
       "      <th>1</th>\n",
       "      <td>75</td>\n",
       "    </tr>\n",
       "    <tr>\n",
       "      <th>2</th>\n",
       "      <td>95</td>\n",
       "    </tr>\n",
       "  </tbody>\n",
       "</table>\n",
       "</div>"
      ],
      "text/plain": [
       "   calc\n",
       "0    62\n",
       "1    75\n",
       "2    95"
      ]
     },
     "execution_count": 21,
     "metadata": {},
     "output_type": "execute_result"
    }
   ],
   "source": [
    "# if you prefer this output\n",
    "# this notation returns a pandas dataframe\n",
    "# y = df.iloc[:, -1:]\n",
    "df.iloc[:, -1:].head(3)"
   ]
  },
  {
   "cell_type": "code",
   "execution_count": 22,
   "id": "amino-running",
   "metadata": {},
   "outputs": [
    {
     "data": {
      "text/plain": [
       "pandas.core.frame.DataFrame"
      ]
     },
     "execution_count": 22,
     "metadata": {},
     "output_type": "execute_result"
    }
   ],
   "source": [
    "type(df.iloc[:, -1:])"
   ]
  },
  {
   "cell_type": "code",
   "execution_count": 23,
   "id": "mexican-colonial",
   "metadata": {},
   "outputs": [
    {
     "data": {
      "text/plain": [
       "(80, 1)"
      ]
     },
     "execution_count": 23,
     "metadata": {},
     "output_type": "execute_result"
    }
   ],
   "source": [
    "# 80 rows, 1 column\n",
    "df.iloc[:, -1:].shape"
   ]
  },
  {
   "cell_type": "code",
   "execution_count": 24,
   "id": "visible-paint",
   "metadata": {},
   "outputs": [
    {
     "data": {
      "text/plain": [
       "2"
      ]
     },
     "execution_count": 24,
     "metadata": {},
     "output_type": "execute_result"
    }
   ],
   "source": [
    "# 2d array\n",
    "np.ndim(df.iloc[:, -1:])"
   ]
  },
  {
   "cell_type": "code",
   "execution_count": 25,
   "id": "violent-respect",
   "metadata": {},
   "outputs": [
    {
     "data": {
      "text/html": [
       "<div>\n",
       "<style scoped>\n",
       "    .dataframe tbody tr th:only-of-type {\n",
       "        vertical-align: middle;\n",
       "    }\n",
       "\n",
       "    .dataframe tbody tr th {\n",
       "        vertical-align: top;\n",
       "    }\n",
       "\n",
       "    .dataframe thead th {\n",
       "        text-align: right;\n",
       "    }\n",
       "</style>\n",
       "<table border=\"1\" class=\"dataframe\">\n",
       "  <thead>\n",
       "    <tr style=\"text-align: right;\">\n",
       "      <th></th>\n",
       "      <th>calc_hs</th>\n",
       "      <th>act_math</th>\n",
       "      <th>alg_place</th>\n",
       "      <th>alg2_grade</th>\n",
       "      <th>hs_rank</th>\n",
       "      <th>gender_code</th>\n",
       "      <th>gender</th>\n",
       "      <th>calc</th>\n",
       "    </tr>\n",
       "  </thead>\n",
       "  <tbody>\n",
       "    <tr>\n",
       "      <th>79</th>\n",
       "      <td>0</td>\n",
       "      <td>28</td>\n",
       "      <td>21</td>\n",
       "      <td>4.0</td>\n",
       "      <td>99</td>\n",
       "      <td>0</td>\n",
       "      <td>F</td>\n",
       "      <td>85</td>\n",
       "    </tr>\n",
       "  </tbody>\n",
       "</table>\n",
       "</div>"
      ],
      "text/plain": [
       "    calc_hs  act_math  alg_place  alg2_grade  hs_rank  gender_code gender  \\\n",
       "79        0        28         21         4.0       99            0      F   \n",
       "\n",
       "    calc  \n",
       "79    85  "
      ]
     },
     "execution_count": 25,
     "metadata": {},
     "output_type": "execute_result"
    }
   ],
   "source": [
    "# this is the last row as a dataframe, not the last column\n",
    "df_last_row = df.iloc[[-1]]\n",
    "df_last_row"
   ]
  },
  {
   "cell_type": "code",
   "execution_count": 26,
   "id": "veterinary-animal",
   "metadata": {},
   "outputs": [
    {
     "data": {
      "text/plain": [
       "pandas.core.frame.DataFrame"
      ]
     },
     "execution_count": 26,
     "metadata": {},
     "output_type": "execute_result"
    }
   ],
   "source": [
    "type(df_last_row)"
   ]
  },
  {
   "cell_type": "code",
   "execution_count": 27,
   "id": "opening-puppy",
   "metadata": {},
   "outputs": [
    {
     "data": {
      "text/plain": [
       "calc_hs          0\n",
       "act_math        28\n",
       "alg_place       21\n",
       "alg2_grade     4.0\n",
       "hs_rank         99\n",
       "gender_code      0\n",
       "gender           F\n",
       "calc            85\n",
       "Name: 79, dtype: object"
      ]
     },
     "execution_count": 27,
     "metadata": {},
     "output_type": "execute_result"
    }
   ],
   "source": [
    "# this returns the last row as \"pandas series type\".\n",
    "series_last_row = df.iloc[-1]\n",
    "series_last_row"
   ]
  },
  {
   "cell_type": "code",
   "execution_count": 28,
   "id": "virgin-oakland",
   "metadata": {},
   "outputs": [
    {
     "data": {
      "text/plain": [
       "pandas.core.series.Series"
      ]
     },
     "execution_count": 28,
     "metadata": {},
     "output_type": "execute_result"
    }
   ],
   "source": [
    "type(series_last_row)"
   ]
  },
  {
   "cell_type": "markdown",
   "id": "biblical-cornell",
   "metadata": {},
   "source": [
    "### Categorical Variables Encoding"
   ]
  },
  {
   "cell_type": "code",
   "execution_count": 118,
   "id": "challenging-fisher",
   "metadata": {},
   "outputs": [],
   "source": [
    "# create a new df for presentation reasons\n",
    "df_enc = df.copy()"
   ]
  },
  {
   "cell_type": "code",
   "execution_count": 119,
   "id": "thick-sociology",
   "metadata": {},
   "outputs": [
    {
     "data": {
      "text/plain": [
       "calc_hs           int64\n",
       "act_math          int64\n",
       "alg_place         int64\n",
       "alg2_grade      float64\n",
       "hs_rank           int64\n",
       "gender_code    category\n",
       "gender           object\n",
       "calc              int64\n",
       "dtype: object"
      ]
     },
     "execution_count": 119,
     "metadata": {},
     "output_type": "execute_result"
    }
   ],
   "source": [
    "df_enc[\"gender_code\"] = df_enc[\"gender_code\"].astype(\"category\")\n",
    "\n",
    "df_enc.dtypes"
   ]
  },
  {
   "cell_type": "code",
   "execution_count": 120,
   "id": "romantic-competition",
   "metadata": {},
   "outputs": [],
   "source": [
    "# hot encode gender. drop_first=True, not used so set columns of X one by one. \n",
    "df_enc = pd.get_dummies(df_enc, prefix=[\"gender\"], columns=[\"gender\"])"
   ]
  },
  {
   "cell_type": "code",
   "execution_count": 121,
   "id": "aerial-sheffield",
   "metadata": {},
   "outputs": [
    {
     "data": {
      "text/plain": [
       "Index(['calc_hs', 'act_math', 'alg_place', 'alg2_grade', 'hs_rank',\n",
       "       'gender_code', 'calc', 'gender_F', 'gender_M'],\n",
       "      dtype='object')"
      ]
     },
     "execution_count": 121,
     "metadata": {},
     "output_type": "execute_result"
    }
   ],
   "source": [
    "df_enc.columns"
   ]
  },
  {
   "cell_type": "code",
   "execution_count": 39,
   "id": "25bd2d6a-5dd6-4ad3-bd71-6c5efb60189a",
   "metadata": {},
   "outputs": [
    {
     "data": {
      "text/html": [
       "<div>\n",
       "<style scoped>\n",
       "    .dataframe tbody tr th:only-of-type {\n",
       "        vertical-align: middle;\n",
       "    }\n",
       "\n",
       "    .dataframe tbody tr th {\n",
       "        vertical-align: top;\n",
       "    }\n",
       "\n",
       "    .dataframe thead th {\n",
       "        text-align: right;\n",
       "    }\n",
       "</style>\n",
       "<table border=\"1\" class=\"dataframe\">\n",
       "  <thead>\n",
       "    <tr style=\"text-align: right;\">\n",
       "      <th></th>\n",
       "      <th>calc_hs</th>\n",
       "      <th>act_math</th>\n",
       "      <th>alg_place</th>\n",
       "      <th>alg2_grade</th>\n",
       "      <th>hs_rank</th>\n",
       "      <th>gender_code</th>\n",
       "      <th>calc</th>\n",
       "      <th>gender_F</th>\n",
       "      <th>gender_M</th>\n",
       "    </tr>\n",
       "  </thead>\n",
       "  <tbody>\n",
       "    <tr>\n",
       "      <th>0</th>\n",
       "      <td>0</td>\n",
       "      <td>27</td>\n",
       "      <td>21</td>\n",
       "      <td>3.5</td>\n",
       "      <td>68</td>\n",
       "      <td>0</td>\n",
       "      <td>62</td>\n",
       "      <td>True</td>\n",
       "      <td>False</td>\n",
       "    </tr>\n",
       "    <tr>\n",
       "      <th>1</th>\n",
       "      <td>0</td>\n",
       "      <td>29</td>\n",
       "      <td>16</td>\n",
       "      <td>4.0</td>\n",
       "      <td>99</td>\n",
       "      <td>0</td>\n",
       "      <td>75</td>\n",
       "      <td>True</td>\n",
       "      <td>False</td>\n",
       "    </tr>\n",
       "    <tr>\n",
       "      <th>2</th>\n",
       "      <td>1</td>\n",
       "      <td>30</td>\n",
       "      <td>22</td>\n",
       "      <td>4.0</td>\n",
       "      <td>98</td>\n",
       "      <td>1</td>\n",
       "      <td>95</td>\n",
       "      <td>False</td>\n",
       "      <td>True</td>\n",
       "    </tr>\n",
       "    <tr>\n",
       "      <th>3</th>\n",
       "      <td>0</td>\n",
       "      <td>34</td>\n",
       "      <td>25</td>\n",
       "      <td>3.0</td>\n",
       "      <td>90</td>\n",
       "      <td>1</td>\n",
       "      <td>78</td>\n",
       "      <td>False</td>\n",
       "      <td>True</td>\n",
       "    </tr>\n",
       "    <tr>\n",
       "      <th>4</th>\n",
       "      <td>0</td>\n",
       "      <td>29</td>\n",
       "      <td>22</td>\n",
       "      <td>4.0</td>\n",
       "      <td>99</td>\n",
       "      <td>0</td>\n",
       "      <td>95</td>\n",
       "      <td>True</td>\n",
       "      <td>False</td>\n",
       "    </tr>\n",
       "  </tbody>\n",
       "</table>\n",
       "</div>"
      ],
      "text/plain": [
       "   calc_hs  act_math  alg_place  alg2_grade  hs_rank gender_code  calc  \\\n",
       "0        0        27         21         3.5       68           0    62   \n",
       "1        0        29         16         4.0       99           0    75   \n",
       "2        1        30         22         4.0       98           1    95   \n",
       "3        0        34         25         3.0       90           1    78   \n",
       "4        0        29         22         4.0       99           0    95   \n",
       "\n",
       "   gender_F  gender_M  \n",
       "0      True     False  \n",
       "1      True     False  \n",
       "2     False      True  \n",
       "3     False      True  \n",
       "4      True     False  "
      ]
     },
     "execution_count": 39,
     "metadata": {},
     "output_type": "execute_result"
    }
   ],
   "source": [
    "df_enc.head()"
   ]
  },
  {
   "cell_type": "code",
   "execution_count": 38,
   "id": "chief-weekly",
   "metadata": {},
   "outputs": [
    {
     "data": {
      "text/plain": [
       "array([ True,  True, False, False,  True,  True, False,  True, False,\n",
       "       False, False, False,  True,  True,  True, False,  True, False,\n",
       "       False, False,  True,  True,  True, False, False, False, False,\n",
       "       False,  True,  True,  True,  True, False, False, False, False,\n",
       "        True,  True, False,  True, False, False, False,  True,  True,\n",
       "        True, False, False, False,  True, False, False, False, False,\n",
       "        True, False, False,  True, False, False, False,  True, False,\n",
       "       False, False, False,  True,  True, False,  True,  True, False,\n",
       "        True,  True,  True, False,  True,  True,  True,  True])"
      ]
     },
     "execution_count": 38,
     "metadata": {},
     "output_type": "execute_result"
    }
   ],
   "source": [
    "df_enc.gender_F.values"
   ]
  },
  {
   "cell_type": "markdown",
   "id": "generous-brush",
   "metadata": {},
   "source": [
    "## Examine the various variable correlation with each other."
   ]
  },
  {
   "cell_type": "markdown",
   "id": "annual-triple",
   "metadata": {},
   "source": [
    "### Correlation table"
   ]
  },
  {
   "cell_type": "code",
   "execution_count": 122,
   "id": "345b6ff5-919a-4c4b-ae33-251c78ebf950",
   "metadata": {},
   "outputs": [
    {
     "data": {
      "text/plain": [
       "\u001b[0;31mSignature:\u001b[0m\n",
       "\u001b[0mdf\u001b[0m\u001b[0;34m.\u001b[0m\u001b[0mcorr\u001b[0m\u001b[0;34m(\u001b[0m\u001b[0;34m\u001b[0m\n",
       "\u001b[0;34m\u001b[0m    \u001b[0mmethod\u001b[0m\u001b[0;34m:\u001b[0m \u001b[0;34m'CorrelationMethod'\u001b[0m \u001b[0;34m=\u001b[0m \u001b[0;34m'pearson'\u001b[0m\u001b[0;34m,\u001b[0m\u001b[0;34m\u001b[0m\n",
       "\u001b[0;34m\u001b[0m    \u001b[0mmin_periods\u001b[0m\u001b[0;34m:\u001b[0m \u001b[0;34m'int'\u001b[0m \u001b[0;34m=\u001b[0m \u001b[0;36m1\u001b[0m\u001b[0;34m,\u001b[0m\u001b[0;34m\u001b[0m\n",
       "\u001b[0;34m\u001b[0m    \u001b[0mnumeric_only\u001b[0m\u001b[0;34m:\u001b[0m \u001b[0;34m'bool'\u001b[0m \u001b[0;34m=\u001b[0m \u001b[0;32mFalse\u001b[0m\u001b[0;34m,\u001b[0m\u001b[0;34m\u001b[0m\n",
       "\u001b[0;34m\u001b[0m\u001b[0;34m)\u001b[0m \u001b[0;34m->\u001b[0m \u001b[0;34m'DataFrame'\u001b[0m\u001b[0;34m\u001b[0m\u001b[0;34m\u001b[0m\u001b[0m\n",
       "\u001b[0;31mDocstring:\u001b[0m\n",
       "Compute pairwise correlation of columns, excluding NA/null values.\n",
       "\n",
       "Parameters\n",
       "----------\n",
       "method : {'pearson', 'kendall', 'spearman'} or callable\n",
       "    Method of correlation:\n",
       "\n",
       "    * pearson : standard correlation coefficient\n",
       "    * kendall : Kendall Tau correlation coefficient\n",
       "    * spearman : Spearman rank correlation\n",
       "    * callable: callable with input two 1d ndarrays\n",
       "        and returning a float. Note that the returned matrix from corr\n",
       "        will have 1 along the diagonals and will be symmetric\n",
       "        regardless of the callable's behavior.\n",
       "min_periods : int, optional\n",
       "    Minimum number of observations required per pair of columns\n",
       "    to have a valid result. Currently only available for Pearson\n",
       "    and Spearman correlation.\n",
       "numeric_only : bool, default False\n",
       "    Include only `float`, `int` or `boolean` data.\n",
       "\n",
       "    .. versionadded:: 1.5.0\n",
       "\n",
       "    .. versionchanged:: 2.0.0\n",
       "        The default value of ``numeric_only`` is now ``False``.\n",
       "\n",
       "Returns\n",
       "-------\n",
       "DataFrame\n",
       "    Correlation matrix.\n",
       "\n",
       "See Also\n",
       "--------\n",
       "DataFrame.corrwith : Compute pairwise correlation with another\n",
       "    DataFrame or Series.\n",
       "Series.corr : Compute the correlation between two Series.\n",
       "\n",
       "Notes\n",
       "-----\n",
       "Pearson, Kendall and Spearman correlation are currently computed using pairwise complete observations.\n",
       "\n",
       "* `Pearson correlation coefficient <https://en.wikipedia.org/wiki/Pearson_correlation_coefficient>`_\n",
       "* `Kendall rank correlation coefficient <https://en.wikipedia.org/wiki/Kendall_rank_correlation_coefficient>`_\n",
       "* `Spearman's rank correlation coefficient <https://en.wikipedia.org/wiki/Spearman%27s_rank_correlation_coefficient>`_\n",
       "\n",
       "Examples\n",
       "--------\n",
       ">>> def histogram_intersection(a, b):\n",
       "...     v = np.minimum(a, b).sum().round(decimals=1)\n",
       "...     return v\n",
       ">>> df = pd.DataFrame([(.2, .3), (.0, .6), (.6, .0), (.2, .1)],\n",
       "...                   columns=['dogs', 'cats'])\n",
       ">>> df.corr(method=histogram_intersection)\n",
       "      dogs  cats\n",
       "dogs   1.0   0.3\n",
       "cats   0.3   1.0\n",
       "\n",
       ">>> df = pd.DataFrame([(1, 1), (2, np.nan), (np.nan, 3), (4, 4)],\n",
       "...                   columns=['dogs', 'cats'])\n",
       ">>> df.corr(min_periods=3)\n",
       "      dogs  cats\n",
       "dogs   1.0   NaN\n",
       "cats   NaN   1.0\n",
       "\u001b[0;31mFile:\u001b[0m      ~/venv_projects/uoa_py_course/course_venv/lib/python3.11/site-packages/pandas/core/frame.py\n",
       "\u001b[0;31mType:\u001b[0m      method"
      ]
     },
     "metadata": {},
     "output_type": "display_data"
    }
   ],
   "source": [
    "df.corr?"
   ]
  },
  {
   "cell_type": "code",
   "execution_count": 40,
   "id": "acting-simpson",
   "metadata": {},
   "outputs": [
    {
     "ename": "ValueError",
     "evalue": "could not convert string to float: 'F'",
     "output_type": "error",
     "traceback": [
      "\u001b[0;31m---------------------------------------------------------------------------\u001b[0m",
      "\u001b[0;31mValueError\u001b[0m                                Traceback (most recent call last)",
      "Cell \u001b[0;32mIn[40], line 1\u001b[0m\n\u001b[0;32m----> 1\u001b[0m \u001b[43mdf\u001b[49m\u001b[38;5;241;43m.\u001b[39;49m\u001b[43mcorr\u001b[49m\u001b[43m(\u001b[49m\u001b[43mmethod\u001b[49m\u001b[38;5;241;43m=\u001b[39;49m\u001b[38;5;124;43m'\u001b[39;49m\u001b[38;5;124;43mpearson\u001b[39;49m\u001b[38;5;124;43m'\u001b[39;49m\u001b[43m)\u001b[49m\n",
      "File \u001b[0;32m~/venv_projects/uoa_py_course/course_venv/lib/python3.11/site-packages/pandas/core/frame.py:11036\u001b[0m, in \u001b[0;36mDataFrame.corr\u001b[0;34m(self, method, min_periods, numeric_only)\u001b[0m\n\u001b[1;32m  11034\u001b[0m cols \u001b[38;5;241m=\u001b[39m data\u001b[38;5;241m.\u001b[39mcolumns\n\u001b[1;32m  11035\u001b[0m idx \u001b[38;5;241m=\u001b[39m cols\u001b[38;5;241m.\u001b[39mcopy()\n\u001b[0;32m> 11036\u001b[0m mat \u001b[38;5;241m=\u001b[39m \u001b[43mdata\u001b[49m\u001b[38;5;241;43m.\u001b[39;49m\u001b[43mto_numpy\u001b[49m\u001b[43m(\u001b[49m\u001b[43mdtype\u001b[49m\u001b[38;5;241;43m=\u001b[39;49m\u001b[38;5;28;43mfloat\u001b[39;49m\u001b[43m,\u001b[49m\u001b[43m \u001b[49m\u001b[43mna_value\u001b[49m\u001b[38;5;241;43m=\u001b[39;49m\u001b[43mnp\u001b[49m\u001b[38;5;241;43m.\u001b[39;49m\u001b[43mnan\u001b[49m\u001b[43m,\u001b[49m\u001b[43m \u001b[49m\u001b[43mcopy\u001b[49m\u001b[38;5;241;43m=\u001b[39;49m\u001b[38;5;28;43;01mFalse\u001b[39;49;00m\u001b[43m)\u001b[49m\n\u001b[1;32m  11038\u001b[0m \u001b[38;5;28;01mif\u001b[39;00m method \u001b[38;5;241m==\u001b[39m \u001b[38;5;124m\"\u001b[39m\u001b[38;5;124mpearson\u001b[39m\u001b[38;5;124m\"\u001b[39m:\n\u001b[1;32m  11039\u001b[0m     correl \u001b[38;5;241m=\u001b[39m libalgos\u001b[38;5;241m.\u001b[39mnancorr(mat, minp\u001b[38;5;241m=\u001b[39mmin_periods)\n",
      "File \u001b[0;32m~/venv_projects/uoa_py_course/course_venv/lib/python3.11/site-packages/pandas/core/frame.py:1981\u001b[0m, in \u001b[0;36mDataFrame.to_numpy\u001b[0;34m(self, dtype, copy, na_value)\u001b[0m\n\u001b[1;32m   1979\u001b[0m \u001b[38;5;28;01mif\u001b[39;00m dtype \u001b[38;5;129;01mis\u001b[39;00m \u001b[38;5;129;01mnot\u001b[39;00m \u001b[38;5;28;01mNone\u001b[39;00m:\n\u001b[1;32m   1980\u001b[0m     dtype \u001b[38;5;241m=\u001b[39m np\u001b[38;5;241m.\u001b[39mdtype(dtype)\n\u001b[0;32m-> 1981\u001b[0m result \u001b[38;5;241m=\u001b[39m \u001b[38;5;28;43mself\u001b[39;49m\u001b[38;5;241;43m.\u001b[39;49m\u001b[43m_mgr\u001b[49m\u001b[38;5;241;43m.\u001b[39;49m\u001b[43mas_array\u001b[49m\u001b[43m(\u001b[49m\u001b[43mdtype\u001b[49m\u001b[38;5;241;43m=\u001b[39;49m\u001b[43mdtype\u001b[49m\u001b[43m,\u001b[49m\u001b[43m \u001b[49m\u001b[43mcopy\u001b[49m\u001b[38;5;241;43m=\u001b[39;49m\u001b[43mcopy\u001b[49m\u001b[43m,\u001b[49m\u001b[43m \u001b[49m\u001b[43mna_value\u001b[49m\u001b[38;5;241;43m=\u001b[39;49m\u001b[43mna_value\u001b[49m\u001b[43m)\u001b[49m\n\u001b[1;32m   1982\u001b[0m \u001b[38;5;28;01mif\u001b[39;00m result\u001b[38;5;241m.\u001b[39mdtype \u001b[38;5;129;01mis\u001b[39;00m \u001b[38;5;129;01mnot\u001b[39;00m dtype:\n\u001b[1;32m   1983\u001b[0m     result \u001b[38;5;241m=\u001b[39m np\u001b[38;5;241m.\u001b[39marray(result, dtype\u001b[38;5;241m=\u001b[39mdtype, copy\u001b[38;5;241m=\u001b[39m\u001b[38;5;28;01mFalse\u001b[39;00m)\n",
      "File \u001b[0;32m~/venv_projects/uoa_py_course/course_venv/lib/python3.11/site-packages/pandas/core/internals/managers.py:1692\u001b[0m, in \u001b[0;36mBlockManager.as_array\u001b[0;34m(self, dtype, copy, na_value)\u001b[0m\n\u001b[1;32m   1690\u001b[0m         arr\u001b[38;5;241m.\u001b[39mflags\u001b[38;5;241m.\u001b[39mwriteable \u001b[38;5;241m=\u001b[39m \u001b[38;5;28;01mFalse\u001b[39;00m\n\u001b[1;32m   1691\u001b[0m \u001b[38;5;28;01melse\u001b[39;00m:\n\u001b[0;32m-> 1692\u001b[0m     arr \u001b[38;5;241m=\u001b[39m \u001b[38;5;28;43mself\u001b[39;49m\u001b[38;5;241;43m.\u001b[39;49m\u001b[43m_interleave\u001b[49m\u001b[43m(\u001b[49m\u001b[43mdtype\u001b[49m\u001b[38;5;241;43m=\u001b[39;49m\u001b[43mdtype\u001b[49m\u001b[43m,\u001b[49m\u001b[43m \u001b[49m\u001b[43mna_value\u001b[49m\u001b[38;5;241;43m=\u001b[39;49m\u001b[43mna_value\u001b[49m\u001b[43m)\u001b[49m\n\u001b[1;32m   1693\u001b[0m     \u001b[38;5;66;03m# The underlying data was copied within _interleave, so no need\u001b[39;00m\n\u001b[1;32m   1694\u001b[0m     \u001b[38;5;66;03m# to further copy if copy=True or setting na_value\u001b[39;00m\n\u001b[1;32m   1696\u001b[0m \u001b[38;5;28;01mif\u001b[39;00m na_value \u001b[38;5;129;01mis\u001b[39;00m lib\u001b[38;5;241m.\u001b[39mno_default:\n",
      "File \u001b[0;32m~/venv_projects/uoa_py_course/course_venv/lib/python3.11/site-packages/pandas/core/internals/managers.py:1751\u001b[0m, in \u001b[0;36mBlockManager._interleave\u001b[0;34m(self, dtype, na_value)\u001b[0m\n\u001b[1;32m   1749\u001b[0m     \u001b[38;5;28;01melse\u001b[39;00m:\n\u001b[1;32m   1750\u001b[0m         arr \u001b[38;5;241m=\u001b[39m blk\u001b[38;5;241m.\u001b[39mget_values(dtype)\n\u001b[0;32m-> 1751\u001b[0m     \u001b[43mresult\u001b[49m\u001b[43m[\u001b[49m\u001b[43mrl\u001b[49m\u001b[38;5;241;43m.\u001b[39;49m\u001b[43mindexer\u001b[49m\u001b[43m]\u001b[49m \u001b[38;5;241m=\u001b[39m arr\n\u001b[1;32m   1752\u001b[0m     itemmask[rl\u001b[38;5;241m.\u001b[39mindexer] \u001b[38;5;241m=\u001b[39m \u001b[38;5;241m1\u001b[39m\n\u001b[1;32m   1754\u001b[0m \u001b[38;5;28;01mif\u001b[39;00m \u001b[38;5;129;01mnot\u001b[39;00m itemmask\u001b[38;5;241m.\u001b[39mall():\n",
      "\u001b[0;31mValueError\u001b[0m: could not convert string to float: 'F'"
     ]
    }
   ],
   "source": [
    "df.corr(method='pearson')"
   ]
  },
  {
   "cell_type": "markdown",
   "id": "listed-bride",
   "metadata": {},
   "source": [
    "### Correlation plots"
   ]
  },
  {
   "cell_type": "code",
   "execution_count": 95,
   "id": "9699cf59-da1f-4459-b498-d5676f662c46",
   "metadata": {},
   "outputs": [
    {
     "data": {
      "text/html": [
       "<div>\n",
       "<style scoped>\n",
       "    .dataframe tbody tr th:only-of-type {\n",
       "        vertical-align: middle;\n",
       "    }\n",
       "\n",
       "    .dataframe tbody tr th {\n",
       "        vertical-align: top;\n",
       "    }\n",
       "\n",
       "    .dataframe thead th {\n",
       "        text-align: right;\n",
       "    }\n",
       "</style>\n",
       "<table border=\"1\" class=\"dataframe\">\n",
       "  <thead>\n",
       "    <tr style=\"text-align: right;\">\n",
       "      <th></th>\n",
       "      <th>calc_hs</th>\n",
       "      <th>act_math</th>\n",
       "      <th>alg_place</th>\n",
       "      <th>alg2_grade</th>\n",
       "      <th>hs_rank</th>\n",
       "      <th>gender_code</th>\n",
       "      <th>calc</th>\n",
       "    </tr>\n",
       "  </thead>\n",
       "  <tbody>\n",
       "    <tr>\n",
       "      <th>calc_hs</th>\n",
       "      <td>1.000</td>\n",
       "      <td>0.161</td>\n",
       "      <td>0.102</td>\n",
       "      <td>-0.091</td>\n",
       "      <td>0.063</td>\n",
       "      <td>0.014</td>\n",
       "      <td>0.318</td>\n",
       "    </tr>\n",
       "    <tr>\n",
       "      <th>act_math</th>\n",
       "      <td>0.161</td>\n",
       "      <td>1.000</td>\n",
       "      <td>0.427</td>\n",
       "      <td>-0.019</td>\n",
       "      <td>0.443</td>\n",
       "      <td>0.126</td>\n",
       "      <td>0.353</td>\n",
       "    </tr>\n",
       "    <tr>\n",
       "      <th>alg_place</th>\n",
       "      <td>0.102</td>\n",
       "      <td>0.427</td>\n",
       "      <td>1.000</td>\n",
       "      <td>0.312</td>\n",
       "      <td>0.303</td>\n",
       "      <td>-0.103</td>\n",
       "      <td>0.491</td>\n",
       "    </tr>\n",
       "    <tr>\n",
       "      <th>alg2_grade</th>\n",
       "      <td>-0.091</td>\n",
       "      <td>-0.019</td>\n",
       "      <td>0.312</td>\n",
       "      <td>1.000</td>\n",
       "      <td>0.437</td>\n",
       "      <td>-0.446</td>\n",
       "      <td>0.259</td>\n",
       "    </tr>\n",
       "    <tr>\n",
       "      <th>hs_rank</th>\n",
       "      <td>0.063</td>\n",
       "      <td>0.443</td>\n",
       "      <td>0.303</td>\n",
       "      <td>0.437</td>\n",
       "      <td>1.000</td>\n",
       "      <td>-0.319</td>\n",
       "      <td>0.324</td>\n",
       "    </tr>\n",
       "    <tr>\n",
       "      <th>gender_code</th>\n",
       "      <td>0.014</td>\n",
       "      <td>0.126</td>\n",
       "      <td>-0.103</td>\n",
       "      <td>-0.446</td>\n",
       "      <td>-0.319</td>\n",
       "      <td>1.000</td>\n",
       "      <td>-0.021</td>\n",
       "    </tr>\n",
       "    <tr>\n",
       "      <th>calc</th>\n",
       "      <td>0.318</td>\n",
       "      <td>0.353</td>\n",
       "      <td>0.491</td>\n",
       "      <td>0.259</td>\n",
       "      <td>0.324</td>\n",
       "      <td>-0.021</td>\n",
       "      <td>1.000</td>\n",
       "    </tr>\n",
       "  </tbody>\n",
       "</table>\n",
       "</div>"
      ],
      "text/plain": [
       "             calc_hs  act_math  alg_place  alg2_grade  hs_rank  gender_code  \\\n",
       "calc_hs        1.000     0.161      0.102      -0.091    0.063        0.014   \n",
       "act_math       0.161     1.000      0.427      -0.019    0.443        0.126   \n",
       "alg_place      0.102     0.427      1.000       0.312    0.303       -0.103   \n",
       "alg2_grade    -0.091    -0.019      0.312       1.000    0.437       -0.446   \n",
       "hs_rank        0.063     0.443      0.303       0.437    1.000       -0.319   \n",
       "gender_code    0.014     0.126     -0.103      -0.446   -0.319        1.000   \n",
       "calc           0.318     0.353      0.491       0.259    0.324       -0.021   \n",
       "\n",
       "              calc  \n",
       "calc_hs      0.318  \n",
       "act_math     0.353  \n",
       "alg_place    0.491  \n",
       "alg2_grade   0.259  \n",
       "hs_rank      0.324  \n",
       "gender_code -0.021  \n",
       "calc         1.000  "
      ]
     },
     "execution_count": 95,
     "metadata": {},
     "output_type": "execute_result"
    }
   ],
   "source": [
    "df.corr(method='pearson', numeric_only=True)"
   ]
  },
  {
   "cell_type": "code",
   "execution_count": 123,
   "id": "312371b6-7666-4f81-839c-a173b8a432a5",
   "metadata": {},
   "outputs": [
    {
     "data": {
      "text/plain": [
       "pandas.core.frame.DataFrame"
      ]
     },
     "execution_count": 123,
     "metadata": {},
     "output_type": "execute_result"
    }
   ],
   "source": [
    "type(df.corr(method='pearson', numeric_only=True))"
   ]
  },
  {
   "cell_type": "code",
   "execution_count": 128,
   "id": "determined-reform",
   "metadata": {},
   "outputs": [],
   "source": [
    "# set default size options, width, height\n",
    "plt.rcParams['figure.figsize'] = (7, 7)"
   ]
  },
  {
   "cell_type": "code",
   "execution_count": 129,
   "id": "cb787c6b-f041-4464-8120-fe0526066be1",
   "metadata": {
    "scrolled": true
   },
   "outputs": [
    {
     "data": {
      "text/plain": [
       "\u001b[0;31mSignature:\u001b[0m\n",
       "\u001b[0msns\u001b[0m\u001b[0;34m.\u001b[0m\u001b[0mheatmap\u001b[0m\u001b[0;34m(\u001b[0m\u001b[0;34m\u001b[0m\n",
       "\u001b[0;34m\u001b[0m    \u001b[0mdata\u001b[0m\u001b[0;34m,\u001b[0m\u001b[0;34m\u001b[0m\n",
       "\u001b[0;34m\u001b[0m    \u001b[0;34m*\u001b[0m\u001b[0;34m,\u001b[0m\u001b[0;34m\u001b[0m\n",
       "\u001b[0;34m\u001b[0m    \u001b[0mvmin\u001b[0m\u001b[0;34m=\u001b[0m\u001b[0;32mNone\u001b[0m\u001b[0;34m,\u001b[0m\u001b[0;34m\u001b[0m\n",
       "\u001b[0;34m\u001b[0m    \u001b[0mvmax\u001b[0m\u001b[0;34m=\u001b[0m\u001b[0;32mNone\u001b[0m\u001b[0;34m,\u001b[0m\u001b[0;34m\u001b[0m\n",
       "\u001b[0;34m\u001b[0m    \u001b[0mcmap\u001b[0m\u001b[0;34m=\u001b[0m\u001b[0;32mNone\u001b[0m\u001b[0;34m,\u001b[0m\u001b[0;34m\u001b[0m\n",
       "\u001b[0;34m\u001b[0m    \u001b[0mcenter\u001b[0m\u001b[0;34m=\u001b[0m\u001b[0;32mNone\u001b[0m\u001b[0;34m,\u001b[0m\u001b[0;34m\u001b[0m\n",
       "\u001b[0;34m\u001b[0m    \u001b[0mrobust\u001b[0m\u001b[0;34m=\u001b[0m\u001b[0;32mFalse\u001b[0m\u001b[0;34m,\u001b[0m\u001b[0;34m\u001b[0m\n",
       "\u001b[0;34m\u001b[0m    \u001b[0mannot\u001b[0m\u001b[0;34m=\u001b[0m\u001b[0;32mNone\u001b[0m\u001b[0;34m,\u001b[0m\u001b[0;34m\u001b[0m\n",
       "\u001b[0;34m\u001b[0m    \u001b[0mfmt\u001b[0m\u001b[0;34m=\u001b[0m\u001b[0;34m'.2g'\u001b[0m\u001b[0;34m,\u001b[0m\u001b[0;34m\u001b[0m\n",
       "\u001b[0;34m\u001b[0m    \u001b[0mannot_kws\u001b[0m\u001b[0;34m=\u001b[0m\u001b[0;32mNone\u001b[0m\u001b[0;34m,\u001b[0m\u001b[0;34m\u001b[0m\n",
       "\u001b[0;34m\u001b[0m    \u001b[0mlinewidths\u001b[0m\u001b[0;34m=\u001b[0m\u001b[0;36m0\u001b[0m\u001b[0;34m,\u001b[0m\u001b[0;34m\u001b[0m\n",
       "\u001b[0;34m\u001b[0m    \u001b[0mlinecolor\u001b[0m\u001b[0;34m=\u001b[0m\u001b[0;34m'white'\u001b[0m\u001b[0;34m,\u001b[0m\u001b[0;34m\u001b[0m\n",
       "\u001b[0;34m\u001b[0m    \u001b[0mcbar\u001b[0m\u001b[0;34m=\u001b[0m\u001b[0;32mTrue\u001b[0m\u001b[0;34m,\u001b[0m\u001b[0;34m\u001b[0m\n",
       "\u001b[0;34m\u001b[0m    \u001b[0mcbar_kws\u001b[0m\u001b[0;34m=\u001b[0m\u001b[0;32mNone\u001b[0m\u001b[0;34m,\u001b[0m\u001b[0;34m\u001b[0m\n",
       "\u001b[0;34m\u001b[0m    \u001b[0mcbar_ax\u001b[0m\u001b[0;34m=\u001b[0m\u001b[0;32mNone\u001b[0m\u001b[0;34m,\u001b[0m\u001b[0;34m\u001b[0m\n",
       "\u001b[0;34m\u001b[0m    \u001b[0msquare\u001b[0m\u001b[0;34m=\u001b[0m\u001b[0;32mFalse\u001b[0m\u001b[0;34m,\u001b[0m\u001b[0;34m\u001b[0m\n",
       "\u001b[0;34m\u001b[0m    \u001b[0mxticklabels\u001b[0m\u001b[0;34m=\u001b[0m\u001b[0;34m'auto'\u001b[0m\u001b[0;34m,\u001b[0m\u001b[0;34m\u001b[0m\n",
       "\u001b[0;34m\u001b[0m    \u001b[0myticklabels\u001b[0m\u001b[0;34m=\u001b[0m\u001b[0;34m'auto'\u001b[0m\u001b[0;34m,\u001b[0m\u001b[0;34m\u001b[0m\n",
       "\u001b[0;34m\u001b[0m    \u001b[0mmask\u001b[0m\u001b[0;34m=\u001b[0m\u001b[0;32mNone\u001b[0m\u001b[0;34m,\u001b[0m\u001b[0;34m\u001b[0m\n",
       "\u001b[0;34m\u001b[0m    \u001b[0max\u001b[0m\u001b[0;34m=\u001b[0m\u001b[0;32mNone\u001b[0m\u001b[0;34m,\u001b[0m\u001b[0;34m\u001b[0m\n",
       "\u001b[0;34m\u001b[0m    \u001b[0;34m**\u001b[0m\u001b[0mkwargs\u001b[0m\u001b[0;34m,\u001b[0m\u001b[0;34m\u001b[0m\n",
       "\u001b[0;34m\u001b[0m\u001b[0;34m)\u001b[0m\u001b[0;34m\u001b[0m\u001b[0;34m\u001b[0m\u001b[0m\n",
       "\u001b[0;31mDocstring:\u001b[0m\n",
       "Plot rectangular data as a color-encoded matrix.\n",
       "\n",
       "This is an Axes-level function and will draw the heatmap into the\n",
       "currently-active Axes if none is provided to the ``ax`` argument.  Part of\n",
       "this Axes space will be taken and used to plot a colormap, unless ``cbar``\n",
       "is False or a separate Axes is provided to ``cbar_ax``.\n",
       "\n",
       "Parameters\n",
       "----------\n",
       "data : rectangular dataset\n",
       "    2D dataset that can be coerced into an ndarray. If a Pandas DataFrame\n",
       "    is provided, the index/column information will be used to label the\n",
       "    columns and rows.\n",
       "vmin, vmax : floats, optional\n",
       "    Values to anchor the colormap, otherwise they are inferred from the\n",
       "    data and other keyword arguments.\n",
       "cmap : matplotlib colormap name or object, or list of colors, optional\n",
       "    The mapping from data values to color space. If not provided, the\n",
       "    default will depend on whether ``center`` is set.\n",
       "center : float, optional\n",
       "    The value at which to center the colormap when plotting divergent data.\n",
       "    Using this parameter will change the default ``cmap`` if none is\n",
       "    specified.\n",
       "robust : bool, optional\n",
       "    If True and ``vmin`` or ``vmax`` are absent, the colormap range is\n",
       "    computed with robust quantiles instead of the extreme values.\n",
       "annot : bool or rectangular dataset, optional\n",
       "    If True, write the data value in each cell. If an array-like with the\n",
       "    same shape as ``data``, then use this to annotate the heatmap instead\n",
       "    of the data. Note that DataFrames will match on position, not index.\n",
       "fmt : str, optional\n",
       "    String formatting code to use when adding annotations.\n",
       "annot_kws : dict of key, value mappings, optional\n",
       "    Keyword arguments for :meth:`matplotlib.axes.Axes.text` when ``annot``\n",
       "    is True.\n",
       "linewidths : float, optional\n",
       "    Width of the lines that will divide each cell.\n",
       "linecolor : color, optional\n",
       "    Color of the lines that will divide each cell.\n",
       "cbar : bool, optional\n",
       "    Whether to draw a colorbar.\n",
       "cbar_kws : dict of key, value mappings, optional\n",
       "    Keyword arguments for :meth:`matplotlib.figure.Figure.colorbar`.\n",
       "cbar_ax : matplotlib Axes, optional\n",
       "    Axes in which to draw the colorbar, otherwise take space from the\n",
       "    main Axes.\n",
       "square : bool, optional\n",
       "    If True, set the Axes aspect to \"equal\" so each cell will be\n",
       "    square-shaped.\n",
       "xticklabels, yticklabels : \"auto\", bool, list-like, or int, optional\n",
       "    If True, plot the column names of the dataframe. If False, don't plot\n",
       "    the column names. If list-like, plot these alternate labels as the\n",
       "    xticklabels. If an integer, use the column names but plot only every\n",
       "    n label. If \"auto\", try to densely plot non-overlapping labels.\n",
       "mask : bool array or DataFrame, optional\n",
       "    If passed, data will not be shown in cells where ``mask`` is True.\n",
       "    Cells with missing values are automatically masked.\n",
       "ax : matplotlib Axes, optional\n",
       "    Axes in which to draw the plot, otherwise use the currently-active\n",
       "    Axes.\n",
       "kwargs : other keyword arguments\n",
       "    All other keyword arguments are passed to\n",
       "    :meth:`matplotlib.axes.Axes.pcolormesh`.\n",
       "\n",
       "Returns\n",
       "-------\n",
       "ax : matplotlib Axes\n",
       "    Axes object with the heatmap.\n",
       "\n",
       "See Also\n",
       "--------\n",
       "clustermap : Plot a matrix using hierarchical clustering to arrange the\n",
       "             rows and columns.\n",
       "\n",
       "Examples\n",
       "--------\n",
       "\n",
       ".. include:: ../docstrings/heatmap.rst\n",
       "\u001b[0;31mFile:\u001b[0m      ~/venv_projects/uoa_py_course/course_venv/lib/python3.11/site-packages/seaborn/matrix.py\n",
       "\u001b[0;31mType:\u001b[0m      function"
      ]
     },
     "metadata": {},
     "output_type": "display_data"
    }
   ],
   "source": [
    "sns.heatmap?"
   ]
  },
  {
   "cell_type": "code",
   "execution_count": 132,
   "id": "incorrect-proposition",
   "metadata": {},
   "outputs": [
    {
     "data": {
      "image/png": "[encoded data removed]",
      "text/plain": [
       "<Figure size 700x700 with 2 Axes>"
      ]
     },
     "metadata": {},
     "output_type": "display_data"
    }
   ],
   "source": [
    "df_corr = df.corr(method='pearson', numeric_only=True)\n",
    "\n",
    "sns.heatmap(\n",
    "    data = df_corr,\n",
    "    annot = True,\n",
    "    cmap = 'Blues',\n",
    "    xticklabels = df_corr.columns.values,\n",
    "    yticklabels = df_corr.columns.values\n",
    ");\n",
    "\n",
    "plt.title('Calculus grades Heatmap', fontsize = 15);\n",
    "plt.xticks(fontsize = 12);\n",
    "plt.yticks(fontsize = 12);"
   ]
  },
  {
   "cell_type": "code",
   "execution_count": 133,
   "id": "cordless-trail",
   "metadata": {},
   "outputs": [
    {
     "data": {
      "text/plain": [
       "array(['M'], dtype=object)"
      ]
     },
     "execution_count": 133,
     "metadata": {},
     "output_type": "execute_result"
    }
   ],
   "source": [
    "df.loc[(df.gender_code == 1), \"gender\"].unique()"
   ]
  },
  {
   "cell_type": "code",
   "execution_count": 134,
   "id": "criminal-attention",
   "metadata": {},
   "outputs": [
    {
     "data": {
      "text/plain": [
       "array([[0, 'F'],\n",
       "       [0, 'F'],\n",
       "       [1, 'M']], dtype=object)"
      ]
     },
     "execution_count": 134,
     "metadata": {},
     "output_type": "execute_result"
    }
   ],
   "source": [
    "df[[\"gender_code\", \"gender\"]].values[:3]"
   ]
  },
  {
   "cell_type": "code",
   "execution_count": 54,
   "id": "owned-purse",
   "metadata": {},
   "outputs": [
    {
     "data": {
      "image/png": "[encoded data removed]",
      "text/plain": [
       "<Figure size 850.861x750 with 12 Axes>"
      ]
     },
     "metadata": {},
     "output_type": "display_data"
    }
   ],
   "source": [
    "# pairwise correlation comparison\n",
    "sns.pairplot(\n",
    "    data = df[[ \"act_math\", \"alg_place\", \"gender_code\", \"calc\"]],\n",
    "    hue = 'gender_code' ,\n",
    "    palette = ['Violet', 'Blue']);"
   ]
  },
  {
   "cell_type": "markdown",
   "id": "backed-detective",
   "metadata": {},
   "source": [
    "## Linear regression libraries"
   ]
  },
  {
   "cell_type": "markdown",
   "id": "sharp-atlas",
   "metadata": {},
   "source": [
    "### Linear regression using pingouin"
   ]
  },
  {
   "cell_type": "code",
   "execution_count": 135,
   "id": "f57e3e8f-06de-4ac6-a48b-9b28b40b32d4",
   "metadata": {},
   "outputs": [],
   "source": [
    "# y was used as a Series\n",
    "# just in case we go up and down\n",
    "X = df.iloc[:, :-2]\n",
    "y = df.iloc[:, -1]"
   ]
  },
  {
   "cell_type": "code",
   "execution_count": 136,
   "id": "0d40b158-e874-4965-a015-6a4ea0bd7679",
   "metadata": {},
   "outputs": [
    {
     "data": {
      "text/html": [
       "<div>\n",
       "<style scoped>\n",
       "    .dataframe tbody tr th:only-of-type {\n",
       "        vertical-align: middle;\n",
       "    }\n",
       "\n",
       "    .dataframe tbody tr th {\n",
       "        vertical-align: top;\n",
       "    }\n",
       "\n",
       "    .dataframe thead th {\n",
       "        text-align: right;\n",
       "    }\n",
       "</style>\n",
       "<table border=\"1\" class=\"dataframe\">\n",
       "  <thead>\n",
       "    <tr style=\"text-align: right;\">\n",
       "      <th></th>\n",
       "      <th>calc_hs</th>\n",
       "      <th>act_math</th>\n",
       "      <th>alg_place</th>\n",
       "      <th>alg2_grade</th>\n",
       "      <th>hs_rank</th>\n",
       "      <th>gender_code</th>\n",
       "    </tr>\n",
       "  </thead>\n",
       "  <tbody>\n",
       "    <tr>\n",
       "      <th>0</th>\n",
       "      <td>0</td>\n",
       "      <td>27</td>\n",
       "      <td>21</td>\n",
       "      <td>3.5</td>\n",
       "      <td>68</td>\n",
       "      <td>0</td>\n",
       "    </tr>\n",
       "    <tr>\n",
       "      <th>1</th>\n",
       "      <td>0</td>\n",
       "      <td>29</td>\n",
       "      <td>16</td>\n",
       "      <td>4.0</td>\n",
       "      <td>99</td>\n",
       "      <td>0</td>\n",
       "    </tr>\n",
       "    <tr>\n",
       "      <th>2</th>\n",
       "      <td>1</td>\n",
       "      <td>30</td>\n",
       "      <td>22</td>\n",
       "      <td>4.0</td>\n",
       "      <td>98</td>\n",
       "      <td>1</td>\n",
       "    </tr>\n",
       "    <tr>\n",
       "      <th>3</th>\n",
       "      <td>0</td>\n",
       "      <td>34</td>\n",
       "      <td>25</td>\n",
       "      <td>3.0</td>\n",
       "      <td>90</td>\n",
       "      <td>1</td>\n",
       "    </tr>\n",
       "    <tr>\n",
       "      <th>4</th>\n",
       "      <td>0</td>\n",
       "      <td>29</td>\n",
       "      <td>22</td>\n",
       "      <td>4.0</td>\n",
       "      <td>99</td>\n",
       "      <td>0</td>\n",
       "    </tr>\n",
       "  </tbody>\n",
       "</table>\n",
       "</div>"
      ],
      "text/plain": [
       "   calc_hs  act_math  alg_place  alg2_grade  hs_rank  gender_code\n",
       "0        0        27         21         3.5       68            0\n",
       "1        0        29         16         4.0       99            0\n",
       "2        1        30         22         4.0       98            1\n",
       "3        0        34         25         3.0       90            1\n",
       "4        0        29         22         4.0       99            0"
      ]
     },
     "execution_count": 136,
     "metadata": {},
     "output_type": "execute_result"
    }
   ],
   "source": [
    "X.head()"
   ]
  },
  {
   "cell_type": "code",
   "execution_count": 57,
   "id": "f44e001e-9d20-4352-8522-0d3321082774",
   "metadata": {},
   "outputs": [
    {
     "data": {
      "text/html": [
       "<div>\n",
       "<style scoped>\n",
       "    .dataframe tbody tr th:only-of-type {\n",
       "        vertical-align: middle;\n",
       "    }\n",
       "\n",
       "    .dataframe tbody tr th {\n",
       "        vertical-align: top;\n",
       "    }\n",
       "\n",
       "    .dataframe thead th {\n",
       "        text-align: right;\n",
       "    }\n",
       "</style>\n",
       "<table border=\"1\" class=\"dataframe\">\n",
       "  <thead>\n",
       "    <tr style=\"text-align: right;\">\n",
       "      <th></th>\n",
       "      <th>names</th>\n",
       "      <th>coef</th>\n",
       "      <th>se</th>\n",
       "      <th>T</th>\n",
       "      <th>pval</th>\n",
       "      <th>r2</th>\n",
       "      <th>adj_r2</th>\n",
       "      <th>CI[2.5%]</th>\n",
       "      <th>CI[97.5%]</th>\n",
       "    </tr>\n",
       "  </thead>\n",
       "  <tbody>\n",
       "    <tr>\n",
       "      <th>0</th>\n",
       "      <td>Intercept</td>\n",
       "      <td>27.943</td>\n",
       "      <td>12.438</td>\n",
       "      <td>2.247</td>\n",
       "      <td>0.028</td>\n",
       "      <td>0.372</td>\n",
       "      <td>0.32</td>\n",
       "      <td>3.155</td>\n",
       "      <td>52.732</td>\n",
       "    </tr>\n",
       "    <tr>\n",
       "      <th>1</th>\n",
       "      <td>calc_hs</td>\n",
       "      <td>7.192</td>\n",
       "      <td>2.488</td>\n",
       "      <td>2.891</td>\n",
       "      <td>0.005</td>\n",
       "      <td>0.372</td>\n",
       "      <td>0.32</td>\n",
       "      <td>2.233</td>\n",
       "      <td>12.151</td>\n",
       "    </tr>\n",
       "    <tr>\n",
       "      <th>2</th>\n",
       "      <td>act_math</td>\n",
       "      <td>0.352</td>\n",
       "      <td>0.430</td>\n",
       "      <td>0.817</td>\n",
       "      <td>0.417</td>\n",
       "      <td>0.372</td>\n",
       "      <td>0.32</td>\n",
       "      <td>-0.506</td>\n",
       "      <td>1.209</td>\n",
       "    </tr>\n",
       "    <tr>\n",
       "      <th>3</th>\n",
       "      <td>alg_place</td>\n",
       "      <td>0.827</td>\n",
       "      <td>0.268</td>\n",
       "      <td>3.092</td>\n",
       "      <td>0.003</td>\n",
       "      <td>0.372</td>\n",
       "      <td>0.32</td>\n",
       "      <td>0.294</td>\n",
       "      <td>1.360</td>\n",
       "    </tr>\n",
       "    <tr>\n",
       "      <th>4</th>\n",
       "      <td>alg2_grade</td>\n",
       "      <td>3.683</td>\n",
       "      <td>2.441</td>\n",
       "      <td>1.509</td>\n",
       "      <td>0.136</td>\n",
       "      <td>0.372</td>\n",
       "      <td>0.32</td>\n",
       "      <td>-1.182</td>\n",
       "      <td>8.548</td>\n",
       "    </tr>\n",
       "    <tr>\n",
       "      <th>5</th>\n",
       "      <td>hs_rank</td>\n",
       "      <td>0.111</td>\n",
       "      <td>0.116</td>\n",
       "      <td>0.953</td>\n",
       "      <td>0.344</td>\n",
       "      <td>0.372</td>\n",
       "      <td>0.32</td>\n",
       "      <td>-0.121</td>\n",
       "      <td>0.342</td>\n",
       "    </tr>\n",
       "    <tr>\n",
       "      <th>6</th>\n",
       "      <td>gender_code</td>\n",
       "      <td>2.627</td>\n",
       "      <td>2.469</td>\n",
       "      <td>1.064</td>\n",
       "      <td>0.291</td>\n",
       "      <td>0.372</td>\n",
       "      <td>0.32</td>\n",
       "      <td>-2.294</td>\n",
       "      <td>7.548</td>\n",
       "    </tr>\n",
       "  </tbody>\n",
       "</table>\n",
       "</div>"
      ],
      "text/plain": [
       "         names    coef      se      T   pval     r2  adj_r2  CI[2.5%]  \\\n",
       "0    Intercept  27.943  12.438  2.247  0.028  0.372    0.32     3.155   \n",
       "1      calc_hs   7.192   2.488  2.891  0.005  0.372    0.32     2.233   \n",
       "2     act_math   0.352   0.430  0.817  0.417  0.372    0.32    -0.506   \n",
       "3    alg_place   0.827   0.268  3.092  0.003  0.372    0.32     0.294   \n",
       "4   alg2_grade   3.683   2.441  1.509  0.136  0.372    0.32    -1.182   \n",
       "5      hs_rank   0.111   0.116  0.953  0.344  0.372    0.32    -0.121   \n",
       "6  gender_code   2.627   2.469  1.064  0.291  0.372    0.32    -2.294   \n",
       "\n",
       "   CI[97.5%]  \n",
       "0     52.732  \n",
       "1     12.151  \n",
       "2      1.209  \n",
       "3      1.360  \n",
       "4      8.548  \n",
       "5      0.342  \n",
       "6      7.548  "
      ]
     },
     "execution_count": 57,
     "metadata": {},
     "output_type": "execute_result"
    }
   ],
   "source": [
    "pg.linear_regression(X, y, add_intercept=True)"
   ]
  },
  {
   "cell_type": "code",
   "execution_count": 137,
   "id": "05727ef0-1280-44f7-a699-152f253b0137",
   "metadata": {},
   "outputs": [
    {
     "data": {
      "text/html": [
       "<div>\n",
       "<style scoped>\n",
       "    .dataframe tbody tr th:only-of-type {\n",
       "        vertical-align: middle;\n",
       "    }\n",
       "\n",
       "    .dataframe tbody tr th {\n",
       "        vertical-align: top;\n",
       "    }\n",
       "\n",
       "    .dataframe thead th {\n",
       "        text-align: right;\n",
       "    }\n",
       "</style>\n",
       "<table border=\"1\" class=\"dataframe\">\n",
       "  <thead>\n",
       "    <tr style=\"text-align: right;\">\n",
       "      <th></th>\n",
       "      <th>names</th>\n",
       "      <th>coef</th>\n",
       "      <th>se</th>\n",
       "      <th>T</th>\n",
       "      <th>pval</th>\n",
       "      <th>r2</th>\n",
       "      <th>adj_r2</th>\n",
       "      <th>CI[2.5%]</th>\n",
       "      <th>CI[97.5%]</th>\n",
       "    </tr>\n",
       "  </thead>\n",
       "  <tbody>\n",
       "    <tr>\n",
       "      <th>0</th>\n",
       "      <td>Intercept</td>\n",
       "      <td>27.943</td>\n",
       "      <td>12.438</td>\n",
       "      <td>2.247</td>\n",
       "      <td>0.028</td>\n",
       "      <td>0.372</td>\n",
       "      <td>0.32</td>\n",
       "      <td>3.155</td>\n",
       "      <td>52.732</td>\n",
       "    </tr>\n",
       "    <tr>\n",
       "      <th>1</th>\n",
       "      <td>calc_hs</td>\n",
       "      <td>7.192</td>\n",
       "      <td>2.488</td>\n",
       "      <td>2.891</td>\n",
       "      <td>0.005</td>\n",
       "      <td>0.372</td>\n",
       "      <td>0.32</td>\n",
       "      <td>2.233</td>\n",
       "      <td>12.151</td>\n",
       "    </tr>\n",
       "    <tr>\n",
       "      <th>2</th>\n",
       "      <td>act_math</td>\n",
       "      <td>0.352</td>\n",
       "      <td>0.430</td>\n",
       "      <td>0.817</td>\n",
       "      <td>0.417</td>\n",
       "      <td>0.372</td>\n",
       "      <td>0.32</td>\n",
       "      <td>-0.506</td>\n",
       "      <td>1.209</td>\n",
       "    </tr>\n",
       "    <tr>\n",
       "      <th>3</th>\n",
       "      <td>alg_place</td>\n",
       "      <td>0.827</td>\n",
       "      <td>0.268</td>\n",
       "      <td>3.092</td>\n",
       "      <td>0.003</td>\n",
       "      <td>0.372</td>\n",
       "      <td>0.32</td>\n",
       "      <td>0.294</td>\n",
       "      <td>1.360</td>\n",
       "    </tr>\n",
       "    <tr>\n",
       "      <th>4</th>\n",
       "      <td>alg2_grade</td>\n",
       "      <td>3.683</td>\n",
       "      <td>2.441</td>\n",
       "      <td>1.509</td>\n",
       "      <td>0.136</td>\n",
       "      <td>0.372</td>\n",
       "      <td>0.32</td>\n",
       "      <td>-1.182</td>\n",
       "      <td>8.548</td>\n",
       "    </tr>\n",
       "    <tr>\n",
       "      <th>5</th>\n",
       "      <td>hs_rank</td>\n",
       "      <td>0.111</td>\n",
       "      <td>0.116</td>\n",
       "      <td>0.953</td>\n",
       "      <td>0.344</td>\n",
       "      <td>0.372</td>\n",
       "      <td>0.32</td>\n",
       "      <td>-0.121</td>\n",
       "      <td>0.342</td>\n",
       "    </tr>\n",
       "    <tr>\n",
       "      <th>6</th>\n",
       "      <td>gender_code</td>\n",
       "      <td>2.627</td>\n",
       "      <td>2.469</td>\n",
       "      <td>1.064</td>\n",
       "      <td>0.291</td>\n",
       "      <td>0.372</td>\n",
       "      <td>0.32</td>\n",
       "      <td>-2.294</td>\n",
       "      <td>7.548</td>\n",
       "    </tr>\n",
       "  </tbody>\n",
       "</table>\n",
       "</div>"
      ],
      "text/plain": [
       "         names    coef      se      T   pval     r2  adj_r2  CI[2.5%]  \\\n",
       "0    Intercept  27.943  12.438  2.247  0.028  0.372    0.32     3.155   \n",
       "1      calc_hs   7.192   2.488  2.891  0.005  0.372    0.32     2.233   \n",
       "2     act_math   0.352   0.430  0.817  0.417  0.372    0.32    -0.506   \n",
       "3    alg_place   0.827   0.268  3.092  0.003  0.372    0.32     0.294   \n",
       "4   alg2_grade   3.683   2.441  1.509  0.136  0.372    0.32    -1.182   \n",
       "5      hs_rank   0.111   0.116  0.953  0.344  0.372    0.32    -0.121   \n",
       "6  gender_code   2.627   2.469  1.064  0.291  0.372    0.32    -2.294   \n",
       "\n",
       "   CI[97.5%]  \n",
       "0     52.732  \n",
       "1     12.151  \n",
       "2      1.209  \n",
       "3      1.360  \n",
       "4      8.548  \n",
       "5      0.342  \n",
       "6      7.548  "
      ]
     },
     "execution_count": 137,
     "metadata": {},
     "output_type": "execute_result"
    }
   ],
   "source": [
    "lm_df = pg.linear_regression(X, y, add_intercept=True)\n",
    "lm_df"
   ]
  },
  {
   "cell_type": "code",
   "execution_count": 103,
   "id": "serious-headset",
   "metadata": {},
   "outputs": [
    {
     "data": {
      "text/plain": [
       "pandas.core.frame.DataFrame"
      ]
     },
     "execution_count": 103,
     "metadata": {},
     "output_type": "execute_result"
    }
   ],
   "source": [
    "type(lm_df)"
   ]
  },
  {
   "cell_type": "code",
   "execution_count": 104,
   "id": "perfect-career",
   "metadata": {},
   "outputs": [],
   "source": [
    "# help(pg.linear_regression)"
   ]
  },
  {
   "cell_type": "code",
   "execution_count": 105,
   "id": "roman-minimum",
   "metadata": {},
   "outputs": [
    {
     "data": {
      "text/html": [
       "<div>\n",
       "<style scoped>\n",
       "    .dataframe tbody tr th:only-of-type {\n",
       "        vertical-align: middle;\n",
       "    }\n",
       "\n",
       "    .dataframe tbody tr th {\n",
       "        vertical-align: top;\n",
       "    }\n",
       "\n",
       "    .dataframe thead th {\n",
       "        text-align: right;\n",
       "    }\n",
       "</style>\n",
       "<table border=\"1\" class=\"dataframe\">\n",
       "  <thead>\n",
       "    <tr style=\"text-align: right;\">\n",
       "      <th></th>\n",
       "      <th>names</th>\n",
       "      <th>coef</th>\n",
       "    </tr>\n",
       "  </thead>\n",
       "  <tbody>\n",
       "    <tr>\n",
       "      <th>0</th>\n",
       "      <td>Intercept</td>\n",
       "      <td>27.943</td>\n",
       "    </tr>\n",
       "    <tr>\n",
       "      <th>1</th>\n",
       "      <td>calc_hs</td>\n",
       "      <td>7.192</td>\n",
       "    </tr>\n",
       "    <tr>\n",
       "      <th>2</th>\n",
       "      <td>act_math</td>\n",
       "      <td>0.352</td>\n",
       "    </tr>\n",
       "    <tr>\n",
       "      <th>3</th>\n",
       "      <td>alg_place</td>\n",
       "      <td>0.827</td>\n",
       "    </tr>\n",
       "    <tr>\n",
       "      <th>4</th>\n",
       "      <td>alg2_grade</td>\n",
       "      <td>3.683</td>\n",
       "    </tr>\n",
       "    <tr>\n",
       "      <th>5</th>\n",
       "      <td>hs_rank</td>\n",
       "      <td>0.111</td>\n",
       "    </tr>\n",
       "    <tr>\n",
       "      <th>6</th>\n",
       "      <td>gender_code</td>\n",
       "      <td>2.627</td>\n",
       "    </tr>\n",
       "  </tbody>\n",
       "</table>\n",
       "</div>"
      ],
      "text/plain": [
       "         names    coef\n",
       "0    Intercept  27.943\n",
       "1      calc_hs   7.192\n",
       "2     act_math   0.352\n",
       "3    alg_place   0.827\n",
       "4   alg2_grade   3.683\n",
       "5      hs_rank   0.111\n",
       "6  gender_code   2.627"
      ]
     },
     "execution_count": 105,
     "metadata": {},
     "output_type": "execute_result"
    }
   ],
   "source": [
    "lm_df[[\"names\", 'coef']]"
   ]
  },
  {
   "cell_type": "code",
   "execution_count": 176,
   "id": "0160d37b-f85d-4f7d-8646-1fb624426c54",
   "metadata": {},
   "outputs": [
    {
     "data": {
      "text/plain": [
       "\u001b[0;31mSignature:\u001b[0m      \u001b[0mlm_df\u001b[0m\u001b[0;34m.\u001b[0m\u001b[0mancova\u001b[0m\u001b[0;34m(\u001b[0m\u001b[0mdv\u001b[0m\u001b[0;34m=\u001b[0m\u001b[0;32mNone\u001b[0m\u001b[0;34m,\u001b[0m \u001b[0mbetween\u001b[0m\u001b[0;34m=\u001b[0m\u001b[0;32mNone\u001b[0m\u001b[0;34m,\u001b[0m \u001b[0mcovar\u001b[0m\u001b[0;34m=\u001b[0m\u001b[0;32mNone\u001b[0m\u001b[0;34m,\u001b[0m \u001b[0meffsize\u001b[0m\u001b[0;34m=\u001b[0m\u001b[0;34m'np2'\u001b[0m\u001b[0;34m)\u001b[0m\u001b[0;34m\u001b[0m\u001b[0;34m\u001b[0m\u001b[0m\n",
       "\u001b[0;31mType:\u001b[0m           AccessorMethod\n",
       "\u001b[0;31mString form:\u001b[0m    <pandas_flavor.register.register_dataframe_method.<locals>.inner.<locals>.AccessorMethod object at 0x7fca3092d8d0>\n",
       "\u001b[0;31mFile:\u001b[0m           ~/venv_projects/uoa_py_course/course_venv/lib/python3.11/site-packages/pandas_flavor/register.py\n",
       "\u001b[0;31mDocstring:\u001b[0m      DataFrame Accessor method class.\n",
       "\u001b[0;31mInit docstring:\u001b[0m\n",
       "Initialize the accessor method class.\n",
       "\n",
       "Args:\n",
       "    pandas_obj (pandas.DataFrame): The pandas DataFrame object.\n",
       "\u001b[0;31mCall docstring:\u001b[0m\n",
       "ANCOVA with one or more covariate(s).\n",
       "\n",
       "Parameters\n",
       "----------\n",
       "data : :py:class:`pandas.DataFrame`\n",
       "    DataFrame. Note that this function can also directly be used as a\n",
       "    Pandas method, in which case this argument is no longer needed.\n",
       "dv : string\n",
       "    Name of column in data with the dependent variable.\n",
       "between : string\n",
       "    Name of column in data with the between factor.\n",
       "covar : string or list\n",
       "    Name(s) of column(s) in data with the covariate.\n",
       "effsize : str\n",
       "    Effect size. Must be 'np2' (partial eta-squared) or 'n2'\n",
       "    (eta-squared).\n",
       "\n",
       "Returns\n",
       "-------\n",
       "aov : :py:class:`pandas.DataFrame`\n",
       "    ANCOVA summary:\n",
       "\n",
       "    * ``'Source'``: Names of the factor considered\n",
       "    * ``'SS'``: Sums of squares\n",
       "    * ``'DF'``: Degrees of freedom\n",
       "    * ``'F'``: F-values\n",
       "    * ``'p-unc'``: Uncorrected p-values\n",
       "    * ``'np2'``: Partial eta-squared\n",
       "\n",
       "Notes\n",
       "-----\n",
       "Analysis of covariance (ANCOVA) is a general linear model which blends\n",
       "ANOVA and regression. ANCOVA evaluates whether the means of a dependent\n",
       "variable (dv) are equal across levels of a categorical independent\n",
       "variable (between) often called a treatment, while statistically\n",
       "controlling for the effects of other continuous variables that are not\n",
       "of primary interest, known as covariates or nuisance variables (covar).\n",
       "\n",
       "Pingouin uses :py:class:`statsmodels.regression.linear_model.OLS` to\n",
       "compute the ANCOVA.\n",
       "\n",
       ".. important:: Rows with missing values are automatically removed\n",
       "    (listwise deletion).\n",
       "\n",
       "See Also\n",
       "--------\n",
       "anova : One-way and N-way ANOVA\n",
       "\n",
       "Examples\n",
       "--------\n",
       "1. Evaluate the reading scores of students with different teaching method\n",
       "and family income as a covariate.\n",
       "\n",
       ">>> from pingouin import ancova, read_dataset\n",
       ">>> df = read_dataset('ancova')\n",
       ">>> ancova(data=df, dv='Scores', covar='Income', between='Method')\n",
       "     Source           SS  DF          F     p-unc       np2\n",
       "0    Method   571.029883   3   3.336482  0.031940  0.244077\n",
       "1    Income  1678.352687   1  29.419438  0.000006  0.486920\n",
       "2  Residual  1768.522313  31        NaN       NaN       NaN\n",
       "\n",
       "2. Evaluate the reading scores of students with different teaching method\n",
       "and family income + BMI as a covariate.\n",
       "\n",
       ">>> ancova(data=df, dv='Scores', covar=['Income', 'BMI'], between='Method',\n",
       "...        effsize=\"n2\")\n",
       "     Source           SS  DF          F     p-unc        n2\n",
       "0    Method   552.284043   3   3.232550  0.036113  0.141802\n",
       "1    Income  1573.952434   1  27.637304  0.000011  0.404121\n",
       "2       BMI    60.013656   1   1.053790  0.312842  0.015409\n",
       "3  Residual  1708.508657  30        NaN       NaN       NaN"
      ]
     },
     "metadata": {},
     "output_type": "display_data"
    }
   ],
   "source": [
    "lm_df.ancova?"
   ]
  },
  {
   "cell_type": "code",
   "execution_count": 106,
   "id": "upper-filling",
   "metadata": {},
   "outputs": [
    {
     "data": {
      "text/plain": [
       "array([-13.21286866,  -2.05046265,   2.9269346 ,  -6.20016977,\n",
       "        12.98727004,   4.1457711 , -11.25509849,  19.57044916,\n",
       "        11.87627504,  16.01829256, -20.28970098,  -8.26652483,\n",
       "         1.90781605,  -0.07419223,   4.02429657,  19.01287875,\n",
       "        -0.94641306,   0.02875115,  -7.40458965,   7.4982304 ,\n",
       "         3.7827158 ,  11.93140625,   2.71877132,  10.99633818,\n",
       "       -11.76215125,   1.41035292,   8.63249374,   0.65085924,\n",
       "       -10.96745199,   5.99467594,   7.22412468,   5.49832403,\n",
       "         4.68457735,  -4.62185161,  17.11207371, -15.81839726,\n",
       "        -9.33536255, -16.58361086,  -8.15713117,  -2.01832844,\n",
       "       -11.85836931, -14.78361596,  16.78587242,  -4.94771103,\n",
       "       -12.91781619,  -7.79644334, -10.95777985,   2.4045891 ,\n",
       "         4.55529   ,  -4.72582593,   3.8103524 ,  11.1071759 ,\n",
       "         8.29349018,  -0.17019173,   4.86477745,  -9.71250256,\n",
       "         0.11493625,   1.27920122,   9.62396062,  -8.93300671,\n",
       "        -4.29931944,   1.36205772,  15.31455523,  -5.76223423,\n",
       "       -11.27137186,  -6.06085038,   1.41356413,  -3.24610914,\n",
       "        -3.38964646,   7.38140443,  -5.68656003,   6.53958294,\n",
       "        -2.8775072 , -11.52246049,   0.41423846,   1.57664084,\n",
       "         1.57966796,  -3.36783369,  10.03060121,   4.16582397])"
      ]
     },
     "execution_count": 106,
     "metadata": {},
     "output_type": "execute_result"
    }
   ],
   "source": [
    "lm_df.residuals_"
   ]
  },
  {
   "cell_type": "code",
   "execution_count": 107,
   "id": "cathedral-playback",
   "metadata": {},
   "outputs": [
    {
     "data": {
      "text/plain": [
       "count    80.00\n",
       "mean      0.00\n",
       "std       9.07\n",
       "min     -20.29\n",
       "25%      -6.50\n",
       "50%       0.53\n",
       "75%       5.62\n",
       "max      19.57\n",
       "dtype: float64"
      ]
     },
     "execution_count": 107,
     "metadata": {},
     "output_type": "execute_result"
    }
   ],
   "source": [
    "pd.Series(lm_df.residuals_).describe().round(2)"
   ]
  },
  {
   "cell_type": "code",
   "execution_count": 139,
   "id": "reflected-omega",
   "metadata": {},
   "outputs": [],
   "source": [
    "# regression get output not as df\n",
    "X = df.iloc[:, :-2]\n",
    "y = df.iloc[:, -1]\n",
    "\n",
    "lm_not_df = pg.linear_regression(X, y, add_intercept=True, as_dataframe=False)\n",
    "# lm_not_df"
   ]
  },
  {
   "cell_type": "code",
   "execution_count": 140,
   "id": "standing-bouquet",
   "metadata": {},
   "outputs": [
    {
     "data": {
      "text/plain": [
       "array([75.21286866, 77.05046265, 92.0730654 , 84.20016977, 82.01272996,\n",
       "       86.8542289 , 83.25509849, 75.42955084, 76.12372496, 80.98170744,\n",
       "       69.28970098, 78.26652483, 73.09218395, 78.07419223, 84.97570343,\n",
       "       67.98712125, 79.94641306, 84.97124885, 64.40458965, 73.5017696 ,\n",
       "       72.2172842 , 76.06859375, 80.28122868, 86.00366182, 71.76215125,\n",
       "       82.58964708, 78.36750626, 94.34914076, 74.96745199, 74.00532406,\n",
       "       85.77587532, 85.50167597, 91.31542265, 89.62185161, 76.88792629,\n",
       "       85.81839726, 89.33536255, 76.58361086, 73.15713117, 84.01832844,\n",
       "       76.85836931, 79.78361596, 67.21412758, 74.94771103, 77.91781619,\n",
       "       85.79644334, 80.95777985, 79.5954109 , 84.44471   , 76.72582593,\n",
       "       86.1896476 , 68.8928241 , 90.70650982, 83.17019173, 84.13522255,\n",
       "       84.71250256, 91.88506375, 68.72079878, 85.37603938, 78.93300671,\n",
       "       64.29931944, 90.63794228, 75.68544477, 80.76223423, 71.27137186,\n",
       "       84.06085038, 92.58643587, 70.24610914, 81.38964646, 82.61859557,\n",
       "       83.68656003, 72.46041706, 77.8775072 , 86.52246049, 80.58576154,\n",
       "       83.42335916, 73.42033204, 91.36783369, 84.96939879, 80.83417603])"
      ]
     },
     "execution_count": 140,
     "metadata": {},
     "output_type": "execute_result"
    }
   ],
   "source": [
    "lm_not_df['pred']"
   ]
  },
  {
   "cell_type": "code",
   "execution_count": 141,
   "id": "broadband-missouri",
   "metadata": {},
   "outputs": [
    {
     "data": {
      "text/plain": [
       "count    80.00\n",
       "mean      0.00\n",
       "std       9.07\n",
       "min     -20.29\n",
       "25%      -6.50\n",
       "50%       0.53\n",
       "75%       5.62\n",
       "max      19.57\n",
       "dtype: float64"
      ]
     },
     "execution_count": 141,
     "metadata": {},
     "output_type": "execute_result"
    }
   ],
   "source": [
    "pd.Series(lm_not_df[\"residuals\"]).describe().round(2)"
   ]
  },
  {
   "cell_type": "code",
   "execution_count": 142,
   "id": "forward-harassment",
   "metadata": {},
   "outputs": [],
   "source": [
    "# # If y is input as a dataframe data type\n",
    "# # AssertionError: y must be one-dimensional.\n",
    "\n",
    "# y = df.iloc[:, -1:]\n",
    "\n",
    "# pg.linear_regression(X, y, add_intercept=True)"
   ]
  },
  {
   "cell_type": "code",
   "execution_count": 143,
   "id": "essential-christopher",
   "metadata": {},
   "outputs": [],
   "source": [
    "# # regression using encoded column for gender\n",
    "# lm_enc = pg.linear_regression(\n",
    "#     df_enc[['calc_hs', 'act_math', 'alg_place', 'alg2_grade', 'hs_rank', 'gender_M']],\n",
    "#     y, add_intercept=True)\n",
    "# lm_enc"
   ]
  },
  {
   "cell_type": "markdown",
   "id": "agricultural-output",
   "metadata": {},
   "source": [
    "### Linear regression using statsmodels"
   ]
  },
  {
   "cell_type": "code",
   "execution_count": 144,
   "id": "4a9133c2-30a1-45a4-b1df-291383e22fcb",
   "metadata": {},
   "outputs": [],
   "source": [
    "# add a constant intercept differently\n",
    "X = df.iloc[:, :-2]\n",
    "y = df.iloc[:, -1]"
   ]
  },
  {
   "cell_type": "code",
   "execution_count": 145,
   "id": "52a68e42-6ed4-423f-8279-3993df55d213",
   "metadata": {},
   "outputs": [
    {
     "data": {
      "text/html": [
       "<div>\n",
       "<style scoped>\n",
       "    .dataframe tbody tr th:only-of-type {\n",
       "        vertical-align: middle;\n",
       "    }\n",
       "\n",
       "    .dataframe tbody tr th {\n",
       "        vertical-align: top;\n",
       "    }\n",
       "\n",
       "    .dataframe thead th {\n",
       "        text-align: right;\n",
       "    }\n",
       "</style>\n",
       "<table border=\"1\" class=\"dataframe\">\n",
       "  <thead>\n",
       "    <tr style=\"text-align: right;\">\n",
       "      <th></th>\n",
       "      <th>calc_hs</th>\n",
       "      <th>act_math</th>\n",
       "      <th>alg_place</th>\n",
       "      <th>alg2_grade</th>\n",
       "      <th>hs_rank</th>\n",
       "      <th>gender_code</th>\n",
       "    </tr>\n",
       "  </thead>\n",
       "  <tbody>\n",
       "    <tr>\n",
       "      <th>0</th>\n",
       "      <td>0</td>\n",
       "      <td>27</td>\n",
       "      <td>21</td>\n",
       "      <td>3.5</td>\n",
       "      <td>68</td>\n",
       "      <td>0</td>\n",
       "    </tr>\n",
       "    <tr>\n",
       "      <th>1</th>\n",
       "      <td>0</td>\n",
       "      <td>29</td>\n",
       "      <td>16</td>\n",
       "      <td>4.0</td>\n",
       "      <td>99</td>\n",
       "      <td>0</td>\n",
       "    </tr>\n",
       "    <tr>\n",
       "      <th>2</th>\n",
       "      <td>1</td>\n",
       "      <td>30</td>\n",
       "      <td>22</td>\n",
       "      <td>4.0</td>\n",
       "      <td>98</td>\n",
       "      <td>1</td>\n",
       "    </tr>\n",
       "    <tr>\n",
       "      <th>3</th>\n",
       "      <td>0</td>\n",
       "      <td>34</td>\n",
       "      <td>25</td>\n",
       "      <td>3.0</td>\n",
       "      <td>90</td>\n",
       "      <td>1</td>\n",
       "    </tr>\n",
       "    <tr>\n",
       "      <th>4</th>\n",
       "      <td>0</td>\n",
       "      <td>29</td>\n",
       "      <td>22</td>\n",
       "      <td>4.0</td>\n",
       "      <td>99</td>\n",
       "      <td>0</td>\n",
       "    </tr>\n",
       "  </tbody>\n",
       "</table>\n",
       "</div>"
      ],
      "text/plain": [
       "   calc_hs  act_math  alg_place  alg2_grade  hs_rank  gender_code\n",
       "0        0        27         21         3.5       68            0\n",
       "1        0        29         16         4.0       99            0\n",
       "2        1        30         22         4.0       98            1\n",
       "3        0        34         25         3.0       90            1\n",
       "4        0        29         22         4.0       99            0"
      ]
     },
     "execution_count": 145,
     "metadata": {},
     "output_type": "execute_result"
    }
   ],
   "source": [
    "X.head()"
   ]
  },
  {
   "cell_type": "code",
   "execution_count": 146,
   "id": "27b85818-72e0-4b84-a73d-4eb8238d6c67",
   "metadata": {},
   "outputs": [
    {
     "data": {
      "text/html": [
       "<div>\n",
       "<style scoped>\n",
       "    .dataframe tbody tr th:only-of-type {\n",
       "        vertical-align: middle;\n",
       "    }\n",
       "\n",
       "    .dataframe tbody tr th {\n",
       "        vertical-align: top;\n",
       "    }\n",
       "\n",
       "    .dataframe thead th {\n",
       "        text-align: right;\n",
       "    }\n",
       "</style>\n",
       "<table border=\"1\" class=\"dataframe\">\n",
       "  <thead>\n",
       "    <tr style=\"text-align: right;\">\n",
       "      <th></th>\n",
       "      <th>const</th>\n",
       "      <th>calc_hs</th>\n",
       "      <th>act_math</th>\n",
       "      <th>alg_place</th>\n",
       "      <th>alg2_grade</th>\n",
       "      <th>hs_rank</th>\n",
       "      <th>gender_code</th>\n",
       "    </tr>\n",
       "  </thead>\n",
       "  <tbody>\n",
       "    <tr>\n",
       "      <th>0</th>\n",
       "      <td>1.0</td>\n",
       "      <td>0</td>\n",
       "      <td>27</td>\n",
       "      <td>21</td>\n",
       "      <td>3.5</td>\n",
       "      <td>68</td>\n",
       "      <td>0</td>\n",
       "    </tr>\n",
       "    <tr>\n",
       "      <th>1</th>\n",
       "      <td>1.0</td>\n",
       "      <td>0</td>\n",
       "      <td>29</td>\n",
       "      <td>16</td>\n",
       "      <td>4.0</td>\n",
       "      <td>99</td>\n",
       "      <td>0</td>\n",
       "    </tr>\n",
       "  </tbody>\n",
       "</table>\n",
       "</div>"
      ],
      "text/plain": [
       "   const  calc_hs  act_math  alg_place  alg2_grade  hs_rank  gender_code\n",
       "0    1.0        0        27         21         3.5       68            0\n",
       "1    1.0        0        29         16         4.0       99            0"
      ]
     },
     "execution_count": 146,
     "metadata": {},
     "output_type": "execute_result"
    }
   ],
   "source": [
    "X = sm.add_constant(X)\n",
    "X.head(2)"
   ]
  },
  {
   "cell_type": "code",
   "execution_count": 147,
   "id": "convertible-tunnel",
   "metadata": {},
   "outputs": [
    {
     "name": "stdout",
     "output_type": "stream",
     "text": [
      "                            OLS Regression Results                            \n",
      "==============================================================================\n",
      "Dep. Variable:                   calc   R-squared:                       0.372\n",
      "Model:                            OLS   Adj. R-squared:                  0.320\n",
      "Method:                 Least Squares   F-statistic:                     7.197\n",
      "Date:                Thu, 11 Apr 2024   Prob (F-statistic):           4.70e-06\n",
      "Time:                        20:08:43   Log-Likelihood:                -289.37\n",
      "No. Observations:                  80   AIC:                             592.7\n",
      "Df Residuals:                      73   BIC:                             609.4\n",
      "Df Model:                           6                                         \n",
      "Covariance Type:            nonrobust                                         \n",
      "===============================================================================\n",
      "                  coef    std err          t      P>|t|      [0.025      0.975]\n",
      "-------------------------------------------------------------------------------\n",
      "const          27.9434     12.438      2.247      0.028       3.155      52.732\n",
      "calc_hs         7.1923      2.488      2.891      0.005       2.233      12.151\n",
      "act_math        0.3515      0.430      0.817      0.417      -0.506       1.209\n",
      "alg_place       0.8270      0.268      3.092      0.003       0.294       1.360\n",
      "alg2_grade      3.6830      2.441      1.509      0.136      -1.182       8.548\n",
      "hs_rank         0.1106      0.116      0.953      0.344      -0.121       0.342\n",
      "gender_code     2.6271      2.469      1.064      0.291      -2.294       7.548\n",
      "==============================================================================\n",
      "Omnibus:                        1.372   Durbin-Watson:                   1.918\n",
      "Prob(Omnibus):                  0.504   Jarque-Bera (JB):                1.155\n",
      "Skew:                           0.087   Prob(JB):                        0.561\n",
      "Kurtosis:                       2.437   Cond. No.                     1.13e+03\n",
      "==============================================================================\n",
      "\n",
      "Notes:\n",
      "[1] Standard Errors assume that the covariance matrix of the errors is correctly specified.\n",
      "[2] The condition number is large, 1.13e+03. This might indicate that there are\n",
      "strong multicollinearity or other numerical problems.\n"
     ]
    }
   ],
   "source": [
    "ols_results = sm.OLS(y, X).fit()\n",
    "print(ols_results.summary())"
   ]
  },
  {
   "cell_type": "code",
   "execution_count": 148,
   "id": "running-frost",
   "metadata": {},
   "outputs": [
    {
     "data": {
      "text/plain": [
       "statsmodels.regression.linear_model.RegressionResultsWrapper"
      ]
     },
     "execution_count": 148,
     "metadata": {},
     "output_type": "execute_result"
    }
   ],
   "source": [
    "type(ols_results)"
   ]
  },
  {
   "cell_type": "code",
   "execution_count": 149,
   "id": "recent-vitamin",
   "metadata": {},
   "outputs": [
    {
     "name": "stdout",
     "output_type": "stream",
     "text": [
      "                 Results: Ordinary least squares\n",
      "=================================================================\n",
      "Model:              OLS              Adj. R-squared:     0.320   \n",
      "Dependent Variable: calc             AIC:                592.7346\n",
      "Date:               2024-04-11 20:08 BIC:                609.4087\n",
      "No. Observations:   80               Log-Likelihood:     -289.37 \n",
      "Df Model:           6                F-statistic:        7.197   \n",
      "Df Residuals:       73               Prob (F-statistic): 4.70e-06\n",
      "R-squared:          0.372            Scale:              88.932  \n",
      "------------------------------------------------------------------\n",
      "                Coef.   Std.Err.    t     P>|t|    [0.025   0.975]\n",
      "------------------------------------------------------------------\n",
      "const          27.9434   12.4378  2.2466  0.0277   3.1549  52.7320\n",
      "calc_hs         7.1923    2.4882  2.8906  0.0051   2.2333  12.1513\n",
      "act_math        0.3515    0.4304  0.8168  0.4167  -0.5062   1.2092\n",
      "alg_place       0.8270    0.2675  3.0915  0.0028   0.2939   1.3602\n",
      "alg2_grade      3.6830    2.4409  1.5089  0.1356  -1.1816   8.5477\n",
      "hs_rank         0.1106    0.1160  0.9534  0.3436  -0.1206   0.3418\n",
      "gender_code     2.6271    2.4692  1.0640  0.2908  -2.2939   7.5481\n",
      "-----------------------------------------------------------------\n",
      "Omnibus:              1.372        Durbin-Watson:           1.918\n",
      "Prob(Omnibus):        0.504        Jarque-Bera (JB):        1.155\n",
      "Skew:                 0.087        Prob(JB):                0.561\n",
      "Kurtosis:             2.437        Condition No.:           1130 \n",
      "=================================================================\n",
      "Notes:\n",
      "[1] Standard Errors assume that the covariance matrix of the\n",
      "errors is correctly specified.\n",
      "[2] The condition number is large, 1.13e+03. This might indicate\n",
      "that there are strong multicollinearity or other numerical\n",
      "problems.\n"
     ]
    }
   ],
   "source": [
    "print(ols_results.summary2())"
   ]
  },
  {
   "cell_type": "code",
   "execution_count": 150,
   "id": "answering-opening",
   "metadata": {},
   "outputs": [
    {
     "data": {
      "text/html": [
       "<table class=\"simpletable\">\n",
       "<caption>OLS Regression Results</caption>\n",
       "<tr>\n",
       "  <th>Dep. Variable:</th>          <td>calc</td>       <th>  R-squared:         </th> <td>   0.372</td>\n",
       "</tr>\n",
       "<tr>\n",
       "  <th>Model:</th>                   <td>OLS</td>       <th>  Adj. R-squared:    </th> <td>   0.320</td>\n",
       "</tr>\n",
       "<tr>\n",
       "  <th>Method:</th>             <td>Least Squares</td>  <th>  F-statistic:       </th> <td>   7.197</td>\n",
       "</tr>\n",
       "<tr>\n",
       "  <th>Date:</th>             <td>Thu, 11 Apr 2024</td> <th>  Prob (F-statistic):</th> <td>4.70e-06</td>\n",
       "</tr>\n",
       "<tr>\n",
       "  <th>Time:</th>                 <td>20:08:45</td>     <th>  Log-Likelihood:    </th> <td> -289.37</td>\n",
       "</tr>\n",
       "<tr>\n",
       "  <th>No. Observations:</th>      <td>    80</td>      <th>  AIC:               </th> <td>   592.7</td>\n",
       "</tr>\n",
       "<tr>\n",
       "  <th>Df Residuals:</th>          <td>    73</td>      <th>  BIC:               </th> <td>   609.4</td>\n",
       "</tr>\n",
       "<tr>\n",
       "  <th>Df Model:</th>              <td>     6</td>      <th>                     </th>     <td> </td>   \n",
       "</tr>\n",
       "<tr>\n",
       "  <th>Covariance Type:</th>      <td>nonrobust</td>    <th>                     </th>     <td> </td>   \n",
       "</tr>\n",
       "</table>\n",
       "<table class=\"simpletable\">\n",
       "<tr>\n",
       "       <td></td>          <th>coef</th>     <th>std err</th>      <th>t</th>      <th>P>|t|</th>  <th>[0.025</th>    <th>0.975]</th>  \n",
       "</tr>\n",
       "<tr>\n",
       "  <th>const</th>       <td>   27.9434</td> <td>   12.438</td> <td>    2.247</td> <td> 0.028</td> <td>    3.155</td> <td>   52.732</td>\n",
       "</tr>\n",
       "<tr>\n",
       "  <th>calc_hs</th>     <td>    7.1923</td> <td>    2.488</td> <td>    2.891</td> <td> 0.005</td> <td>    2.233</td> <td>   12.151</td>\n",
       "</tr>\n",
       "<tr>\n",
       "  <th>act_math</th>    <td>    0.3515</td> <td>    0.430</td> <td>    0.817</td> <td> 0.417</td> <td>   -0.506</td> <td>    1.209</td>\n",
       "</tr>\n",
       "<tr>\n",
       "  <th>alg_place</th>   <td>    0.8270</td> <td>    0.268</td> <td>    3.092</td> <td> 0.003</td> <td>    0.294</td> <td>    1.360</td>\n",
       "</tr>\n",
       "<tr>\n",
       "  <th>alg2_grade</th>  <td>    3.6830</td> <td>    2.441</td> <td>    1.509</td> <td> 0.136</td> <td>   -1.182</td> <td>    8.548</td>\n",
       "</tr>\n",
       "<tr>\n",
       "  <th>hs_rank</th>     <td>    0.1106</td> <td>    0.116</td> <td>    0.953</td> <td> 0.344</td> <td>   -0.121</td> <td>    0.342</td>\n",
       "</tr>\n",
       "<tr>\n",
       "  <th>gender_code</th> <td>    2.6271</td> <td>    2.469</td> <td>    1.064</td> <td> 0.291</td> <td>   -2.294</td> <td>    7.548</td>\n",
       "</tr>\n",
       "</table>\n",
       "<table class=\"simpletable\">\n",
       "<tr>\n",
       "  <th>Omnibus:</th>       <td> 1.372</td> <th>  Durbin-Watson:     </th> <td>   1.918</td>\n",
       "</tr>\n",
       "<tr>\n",
       "  <th>Prob(Omnibus):</th> <td> 0.504</td> <th>  Jarque-Bera (JB):  </th> <td>   1.155</td>\n",
       "</tr>\n",
       "<tr>\n",
       "  <th>Skew:</th>          <td> 0.087</td> <th>  Prob(JB):          </th> <td>   0.561</td>\n",
       "</tr>\n",
       "<tr>\n",
       "  <th>Kurtosis:</th>      <td> 2.437</td> <th>  Cond. No.          </th> <td>1.13e+03</td>\n",
       "</tr>\n",
       "</table><br/><br/>Notes:<br/>[1] Standard Errors assume that the covariance matrix of the errors is correctly specified.<br/>[2] The condition number is large, 1.13e+03. This might indicate that there are<br/>strong multicollinearity or other numerical problems."
      ],
      "text/latex": [
       "\\begin{center}\n",
       "\\begin{tabular}{lclc}\n",
       "\\toprule\n",
       "\\textbf{Dep. Variable:}    &       calc       & \\textbf{  R-squared:         } &     0.372   \\\\\n",
       "\\textbf{Model:}            &       OLS        & \\textbf{  Adj. R-squared:    } &     0.320   \\\\\n",
       "\\textbf{Method:}           &  Least Squares   & \\textbf{  F-statistic:       } &     7.197   \\\\\n",
       "\\textbf{Date:}             & Thu, 11 Apr 2024 & \\textbf{  Prob (F-statistic):} &  4.70e-06   \\\\\n",
       "\\textbf{Time:}             &     20:08:45     & \\textbf{  Log-Likelihood:    } &   -289.37   \\\\\n",
       "\\textbf{No. Observations:} &          80      & \\textbf{  AIC:               } &     592.7   \\\\\n",
       "\\textbf{Df Residuals:}     &          73      & \\textbf{  BIC:               } &     609.4   \\\\\n",
       "\\textbf{Df Model:}         &           6      & \\textbf{                     } &             \\\\\n",
       "\\textbf{Covariance Type:}  &    nonrobust     & \\textbf{                     } &             \\\\\n",
       "\\bottomrule\n",
       "\\end{tabular}\n",
       "\\begin{tabular}{lcccccc}\n",
       "                      & \\textbf{coef} & \\textbf{std err} & \\textbf{t} & \\textbf{P$> |$t$|$} & \\textbf{[0.025} & \\textbf{0.975]}  \\\\\n",
       "\\midrule\n",
       "\\textbf{const}        &      27.9434  &       12.438     &     2.247  &         0.028        &        3.155    &       52.732     \\\\\n",
       "\\textbf{calc\\_hs}     &       7.1923  &        2.488     &     2.891  &         0.005        &        2.233    &       12.151     \\\\\n",
       "\\textbf{act\\_math}    &       0.3515  &        0.430     &     0.817  &         0.417        &       -0.506    &        1.209     \\\\\n",
       "\\textbf{alg\\_place}   &       0.8270  &        0.268     &     3.092  &         0.003        &        0.294    &        1.360     \\\\\n",
       "\\textbf{alg2\\_grade}  &       3.6830  &        2.441     &     1.509  &         0.136        &       -1.182    &        8.548     \\\\\n",
       "\\textbf{hs\\_rank}     &       0.1106  &        0.116     &     0.953  &         0.344        &       -0.121    &        0.342     \\\\\n",
       "\\textbf{gender\\_code} &       2.6271  &        2.469     &     1.064  &         0.291        &       -2.294    &        7.548     \\\\\n",
       "\\bottomrule\n",
       "\\end{tabular}\n",
       "\\begin{tabular}{lclc}\n",
       "\\textbf{Omnibus:}       &  1.372 & \\textbf{  Durbin-Watson:     } &    1.918  \\\\\n",
       "\\textbf{Prob(Omnibus):} &  0.504 & \\textbf{  Jarque-Bera (JB):  } &    1.155  \\\\\n",
       "\\textbf{Skew:}          &  0.087 & \\textbf{  Prob(JB):          } &    0.561  \\\\\n",
       "\\textbf{Kurtosis:}      &  2.437 & \\textbf{  Cond. No.          } & 1.13e+03  \\\\\n",
       "\\bottomrule\n",
       "\\end{tabular}\n",
       "%\\caption{OLS Regression Results}\n",
       "\\end{center}\n",
       "\n",
       "Notes: \\newline\n",
       " [1] Standard Errors assume that the covariance matrix of the errors is correctly specified. \\newline\n",
       " [2] The condition number is large, 1.13e+03. This might indicate that there are \\newline\n",
       " strong multicollinearity or other numerical problems."
      ],
      "text/plain": [
       "<class 'statsmodels.iolib.summary.Summary'>\n",
       "\"\"\"\n",
       "                            OLS Regression Results                            \n",
       "==============================================================================\n",
       "Dep. Variable:                   calc   R-squared:                       0.372\n",
       "Model:                            OLS   Adj. R-squared:                  0.320\n",
       "Method:                 Least Squares   F-statistic:                     7.197\n",
       "Date:                Thu, 11 Apr 2024   Prob (F-statistic):           4.70e-06\n",
       "Time:                        20:08:45   Log-Likelihood:                -289.37\n",
       "No. Observations:                  80   AIC:                             592.7\n",
       "Df Residuals:                      73   BIC:                             609.4\n",
       "Df Model:                           6                                         \n",
       "Covariance Type:            nonrobust                                         \n",
       "===============================================================================\n",
       "                  coef    std err          t      P>|t|      [0.025      0.975]\n",
       "-------------------------------------------------------------------------------\n",
       "const          27.9434     12.438      2.247      0.028       3.155      52.732\n",
       "calc_hs         7.1923      2.488      2.891      0.005       2.233      12.151\n",
       "act_math        0.3515      0.430      0.817      0.417      -0.506       1.209\n",
       "alg_place       0.8270      0.268      3.092      0.003       0.294       1.360\n",
       "alg2_grade      3.6830      2.441      1.509      0.136      -1.182       8.548\n",
       "hs_rank         0.1106      0.116      0.953      0.344      -0.121       0.342\n",
       "gender_code     2.6271      2.469      1.064      0.291      -2.294       7.548\n",
       "==============================================================================\n",
       "Omnibus:                        1.372   Durbin-Watson:                   1.918\n",
       "Prob(Omnibus):                  0.504   Jarque-Bera (JB):                1.155\n",
       "Skew:                           0.087   Prob(JB):                        0.561\n",
       "Kurtosis:                       2.437   Cond. No.                     1.13e+03\n",
       "==============================================================================\n",
       "\n",
       "Notes:\n",
       "[1] Standard Errors assume that the covariance matrix of the errors is correctly specified.\n",
       "[2] The condition number is large, 1.13e+03. This might indicate that there are\n",
       "strong multicollinearity or other numerical problems.\n",
       "\"\"\""
      ]
     },
     "execution_count": 150,
     "metadata": {},
     "output_type": "execute_result"
    }
   ],
   "source": [
    "# different output representation\n",
    "ols_results.summary()"
   ]
  },
  {
   "cell_type": "code",
   "execution_count": 151,
   "id": "registered-supplement",
   "metadata": {},
   "outputs": [
    {
     "data": {
      "text/plain": [
       "{'jb': 1.1552537336407829,\n",
       " 'jbpv': 0.5612286578111305,\n",
       " 'skew': 0.08652548845623431,\n",
       " 'kurtosis': 2.4373016087797343,\n",
       " 'omni': 1.3719992805348942,\n",
       " 'omnipv': 0.5035865724628221,\n",
       " 'condno': 1129.742875813099,\n",
       " 'mineigval': 0.5655505492075009}"
      ]
     },
     "execution_count": 151,
     "metadata": {},
     "output_type": "execute_result"
    }
   ],
   "source": [
    "ols_results.diagn"
   ]
  },
  {
   "cell_type": "code",
   "execution_count": null,
   "id": "8b16c76d-47b1-48ee-8426-52fcbe5232c9",
   "metadata": {},
   "outputs": [],
   "source": [
    "ols_results."
   ]
  },
  {
   "cell_type": "code",
   "execution_count": 121,
   "id": "built-recovery",
   "metadata": {},
   "outputs": [
    {
     "data": {
      "text/plain": [
       "592.7345529039097"
      ]
     },
     "execution_count": 121,
     "metadata": {},
     "output_type": "execute_result"
    }
   ],
   "source": [
    "ols_results.aic"
   ]
  },
  {
   "cell_type": "code",
   "execution_count": 69,
   "id": "billion-inclusion",
   "metadata": {},
   "outputs": [
    {
     "data": {
      "text/plain": [
       "const          2.247\n",
       "calc_hs        2.891\n",
       "act_math       0.817\n",
       "alg_place      3.092\n",
       "alg2_grade     1.509\n",
       "hs_rank        0.953\n",
       "gender_code    1.064\n",
       "dtype: float64"
      ]
     },
     "execution_count": 69,
     "metadata": {},
     "output_type": "execute_result"
    }
   ],
   "source": [
    "ols_results.tvalues"
   ]
  },
  {
   "cell_type": "code",
   "execution_count": 70,
   "id": "sealed-coffee",
   "metadata": {},
   "outputs": [],
   "source": [
    "# dir(ols_results)"
   ]
  },
  {
   "cell_type": "code",
   "execution_count": 71,
   "id": "ongoing-desire",
   "metadata": {},
   "outputs": [
    {
     "data": {
      "text/plain": [
       "const          0.028\n",
       "calc_hs        0.005\n",
       "act_math       0.417\n",
       "alg_place      0.003\n",
       "alg2_grade     0.136\n",
       "hs_rank        0.344\n",
       "gender_code    0.291\n",
       "dtype: float64"
      ]
     },
     "execution_count": 71,
     "metadata": {},
     "output_type": "execute_result"
    }
   ],
   "source": [
    "ols_results.pvalues"
   ]
  },
  {
   "cell_type": "code",
   "execution_count": 72,
   "id": "economic-reward",
   "metadata": {},
   "outputs": [
    {
     "data": {
      "text/plain": [
       "0    -13.213\n",
       "1     -2.050\n",
       "2      2.927\n",
       "3     -6.200\n",
       "4     12.987\n",
       "       ...  \n",
       "75     1.577\n",
       "76     1.580\n",
       "77    -3.368\n",
       "78    10.031\n",
       "79     4.166\n",
       "Length: 80, dtype: float64"
      ]
     },
     "execution_count": 72,
     "metadata": {},
     "output_type": "execute_result"
    }
   ],
   "source": [
    "ols_results.resid"
   ]
  },
  {
   "cell_type": "code",
   "execution_count": 73,
   "id": "expressed-zambia",
   "metadata": {},
   "outputs": [
    {
     "data": {
      "text/plain": [
       "count    80.00\n",
       "mean      0.00\n",
       "std       9.07\n",
       "min     -20.29\n",
       "25%      -6.50\n",
       "50%       0.53\n",
       "75%       5.62\n",
       "max      19.57\n",
       "dtype: float64"
      ]
     },
     "execution_count": 73,
     "metadata": {},
     "output_type": "execute_result"
    }
   ],
   "source": [
    "pd.Series(ols_results.resid).describe().round(2)"
   ]
  },
  {
   "cell_type": "code",
   "execution_count": 74,
   "id": "manual-dollar",
   "metadata": {},
   "outputs": [
    {
     "data": {
      "text/plain": [
       "6492.036036730608"
      ]
     },
     "execution_count": 74,
     "metadata": {},
     "output_type": "execute_result"
    }
   ],
   "source": [
    "# sum of squared residuals or RSS residual sum of squares\n",
    "ols_results.ssr"
   ]
  },
  {
   "cell_type": "code",
   "execution_count": 152,
   "id": "cheap-responsibility",
   "metadata": {},
   "outputs": [
    {
     "data": {
      "text/html": [
       "<div>\n",
       "<style scoped>\n",
       "    .dataframe tbody tr th:only-of-type {\n",
       "        vertical-align: middle;\n",
       "    }\n",
       "\n",
       "    .dataframe tbody tr th {\n",
       "        vertical-align: top;\n",
       "    }\n",
       "\n",
       "    .dataframe thead th {\n",
       "        text-align: right;\n",
       "    }\n",
       "</style>\n",
       "<table border=\"1\" class=\"dataframe\">\n",
       "  <thead>\n",
       "    <tr style=\"text-align: right;\">\n",
       "      <th></th>\n",
       "      <th>actual_y</th>\n",
       "      <th>y_hat</th>\n",
       "    </tr>\n",
       "  </thead>\n",
       "  <tbody>\n",
       "    <tr>\n",
       "      <th>0</th>\n",
       "      <td>62</td>\n",
       "      <td>75.213</td>\n",
       "    </tr>\n",
       "    <tr>\n",
       "      <th>1</th>\n",
       "      <td>75</td>\n",
       "      <td>77.050</td>\n",
       "    </tr>\n",
       "    <tr>\n",
       "      <th>2</th>\n",
       "      <td>95</td>\n",
       "      <td>92.073</td>\n",
       "    </tr>\n",
       "    <tr>\n",
       "      <th>3</th>\n",
       "      <td>78</td>\n",
       "      <td>84.200</td>\n",
       "    </tr>\n",
       "    <tr>\n",
       "      <th>4</th>\n",
       "      <td>95</td>\n",
       "      <td>82.013</td>\n",
       "    </tr>\n",
       "    <tr>\n",
       "      <th>5</th>\n",
       "      <td>91</td>\n",
       "      <td>86.854</td>\n",
       "    </tr>\n",
       "    <tr>\n",
       "      <th>6</th>\n",
       "      <td>72</td>\n",
       "      <td>83.255</td>\n",
       "    </tr>\n",
       "    <tr>\n",
       "      <th>7</th>\n",
       "      <td>95</td>\n",
       "      <td>75.430</td>\n",
       "    </tr>\n",
       "    <tr>\n",
       "      <th>8</th>\n",
       "      <td>88</td>\n",
       "      <td>76.124</td>\n",
       "    </tr>\n",
       "    <tr>\n",
       "      <th>9</th>\n",
       "      <td>97</td>\n",
       "      <td>80.982</td>\n",
       "    </tr>\n",
       "  </tbody>\n",
       "</table>\n",
       "</div>"
      ],
      "text/plain": [
       "   actual_y   y_hat\n",
       "0        62  75.213\n",
       "1        75  77.050\n",
       "2        95  92.073\n",
       "3        78  84.200\n",
       "4        95  82.013\n",
       "5        91  86.854\n",
       "6        72  83.255\n",
       "7        95  75.430\n",
       "8        88  76.124\n",
       "9        97  80.982"
      ]
     },
     "execution_count": 152,
     "metadata": {},
     "output_type": "execute_result"
    }
   ],
   "source": [
    "compare_pred_df = pd.DataFrame({'actual_y': y, 'y_hat':ols_results.fittedvalues})\n",
    "compare_pred_df.head(10)"
   ]
  },
  {
   "cell_type": "markdown",
   "id": "greek-camping",
   "metadata": {},
   "source": [
    "### Linear Regression Plots"
   ]
  },
  {
   "cell_type": "code",
   "execution_count": 153,
   "id": "interpreted-victor",
   "metadata": {},
   "outputs": [
    {
     "data": {
      "image/png": "[encoded data removed]",
      "text/plain": [
       "<Figure size 700x700 with 1 Axes>"
      ]
     },
     "metadata": {},
     "output_type": "display_data"
    }
   ],
   "source": [
    "sns.scatterplot(x=\"actual_y\", y=\"y_hat\", color=\"b\", data=compare_pred_df);"
   ]
  },
  {
   "cell_type": "code",
   "execution_count": 154,
   "id": "excess-certificate",
   "metadata": {},
   "outputs": [
    {
     "data": {
      "image/png": "[encoded data removed]",
      "text/plain": [
       "<Figure size 700x700 with 1 Axes>"
      ]
     },
     "metadata": {},
     "output_type": "display_data"
    }
   ],
   "source": [
    "# takes arrays as arguments\n",
    "sns.scatterplot(x=y, y=ols_results.fittedvalues, color=\"b\");"
   ]
  },
  {
   "cell_type": "code",
   "execution_count": 155,
   "id": "hired-accident",
   "metadata": {},
   "outputs": [
    {
     "data": {
      "image/png": "[encoded data removed]",
      "text/plain": [
       "<Figure size 500x500 with 1 Axes>"
      ]
     },
     "metadata": {},
     "output_type": "display_data"
    }
   ],
   "source": [
    "g = sns.lmplot(x=\"actual_y\", y=\"y_hat\", data=compare_pred_df)"
   ]
  },
  {
   "cell_type": "code",
   "execution_count": 156,
   "id": "equal-running",
   "metadata": {},
   "outputs": [
    {
     "data": {
      "image/png": "[encoded data removed]",
      "text/plain": [
       "<Figure size 700x700 with 1 Axes>"
      ]
     },
     "metadata": {},
     "output_type": "display_data"
    }
   ],
   "source": [
    "sns.residplot(x=ols_results.fittedvalues, y=ols_results.resid, lowess=True, color=\"g\");"
   ]
  },
  {
   "cell_type": "code",
   "execution_count": 157,
   "id": "weighted-friendly",
   "metadata": {},
   "outputs": [
    {
     "data": {
      "image/png": "[encoded data removed]",
      "text/plain": [
       "<Figure size 700x700 with 1 Axes>"
      ]
     },
     "metadata": {},
     "output_type": "display_data"
    }
   ],
   "source": [
    "sm.qqplot(ols_results.resid);\n",
    "# plt.show()"
   ]
  },
  {
   "cell_type": "code",
   "execution_count": 158,
   "id": "accessory-landscape",
   "metadata": {},
   "outputs": [
    {
     "data": {
      "image/png": "[encoded data removed]",
      "text/plain": [
       "<Figure size 700x700 with 1 Axes>"
      ]
     },
     "metadata": {},
     "output_type": "display_data"
    }
   ],
   "source": [
    "from scipy import stats\n",
    "\n",
    "stats.probplot(ols_results.resid, plot=sns.mpl.pyplot);"
   ]
  },
  {
   "cell_type": "code",
   "execution_count": 159,
   "id": "incident-backing",
   "metadata": {},
   "outputs": [
    {
     "data": {
      "image/png": "[encoded data removed]",
      "text/plain": [
       "<Figure size 500x500 with 1 Axes>"
      ]
     },
     "metadata": {},
     "output_type": "display_data"
    }
   ],
   "source": [
    "sns.displot(x=ols_results.resid, kind=\"kde\");"
   ]
  },
  {
   "cell_type": "code",
   "execution_count": 160,
   "id": "devoted-gallery",
   "metadata": {},
   "outputs": [
    {
     "data": {
      "image/png": "[encoded data removed]",
      "text/plain": [
       "<Figure size 500x500 with 1 Axes>"
      ]
     },
     "metadata": {},
     "output_type": "display_data"
    }
   ],
   "source": [
    "sns.displot(x=ols_results.resid, kde=True);"
   ]
  },
  {
   "cell_type": "code",
   "execution_count": 161,
   "id": "parental-sunset",
   "metadata": {},
   "outputs": [
    {
     "data": {
      "image/png": "[encoded data removed]",
      "text/plain": [
       "<Figure size 500x500 with 1 Axes>"
      ]
     },
     "metadata": {},
     "output_type": "display_data"
    }
   ],
   "source": [
    "sns.displot(x=ols_results.resid, kind=\"ecdf\", rug=True);"
   ]
  },
  {
   "cell_type": "code",
   "execution_count": 162,
   "id": "logical-reducing",
   "metadata": {},
   "outputs": [
    {
     "data": {
      "image/png": "[encoded data removed]",
      "text/plain": [
       "<Figure size 500x500 with 1 Axes>"
      ]
     },
     "metadata": {},
     "output_type": "display_data"
    }
   ],
   "source": [
    "sns.displot(x=y, kind=\"ecdf\",  rug=True);"
   ]
  },
  {
   "cell_type": "code",
   "execution_count": 163,
   "id": "celtic-donna",
   "metadata": {},
   "outputs": [
    {
     "data": {
      "image/png": "[encoded data removed]",
      "text/plain": [
       "<Figure size 500x500 with 1 Axes>"
      ]
     },
     "metadata": {},
     "output_type": "display_data"
    }
   ],
   "source": [
    "sns.displot(x=y, kind=\"kde\");"
   ]
  },
  {
   "cell_type": "code",
   "execution_count": 164,
   "id": "accepted-boulder",
   "metadata": {},
   "outputs": [],
   "source": [
    "# # documentation on the function\n",
    "# help(sm.OLS)"
   ]
  },
  {
   "cell_type": "code",
   "execution_count": 165,
   "id": "patent-hardware",
   "metadata": {},
   "outputs": [],
   "source": [
    "# # documentation on the output\n",
    "# help(ols_results)"
   ]
  },
  {
   "cell_type": "markdown",
   "id": "humanitarian-duncan",
   "metadata": {},
   "source": [
    "### Remove non statistically significant factors"
   ]
  },
  {
   "cell_type": "code",
   "execution_count": 166,
   "id": "macro-vehicle",
   "metadata": {},
   "outputs": [
    {
     "data": {
      "text/html": [
       "<table class=\"simpletable\">\n",
       "<caption>OLS Regression Results</caption>\n",
       "<tr>\n",
       "  <th>Dep. Variable:</th>          <td>calc</td>       <th>  R-squared:         </th> <td>   0.358</td>\n",
       "</tr>\n",
       "<tr>\n",
       "  <th>Model:</th>                   <td>OLS</td>       <th>  Adj. R-squared:    </th> <td>   0.323</td>\n",
       "</tr>\n",
       "<tr>\n",
       "  <th>Method:</th>             <td>Least Squares</td>  <th>  F-statistic:       </th> <td>   10.44</td>\n",
       "</tr>\n",
       "<tr>\n",
       "  <th>Date:</th>             <td>Thu, 11 Apr 2024</td> <th>  Prob (F-statistic):</th> <td>8.91e-07</td>\n",
       "</tr>\n",
       "<tr>\n",
       "  <th>Time:</th>                 <td>20:10:46</td>     <th>  Log-Likelihood:    </th> <td> -290.25</td>\n",
       "</tr>\n",
       "<tr>\n",
       "  <th>No. Observations:</th>      <td>    80</td>      <th>  AIC:               </th> <td>   590.5</td>\n",
       "</tr>\n",
       "<tr>\n",
       "  <th>Df Residuals:</th>          <td>    75</td>      <th>  BIC:               </th> <td>   602.4</td>\n",
       "</tr>\n",
       "<tr>\n",
       "  <th>Df Model:</th>              <td>     4</td>      <th>                     </th>     <td> </td>   \n",
       "</tr>\n",
       "<tr>\n",
       "  <th>Covariance Type:</th>      <td>nonrobust</td>    <th>                     </th>     <td> </td>   \n",
       "</tr>\n",
       "</table>\n",
       "<table class=\"simpletable\">\n",
       "<tr>\n",
       "       <td></td>         <th>coef</th>     <th>std err</th>      <th>t</th>      <th>P>|t|</th>  <th>[0.025</th>    <th>0.975]</th>  \n",
       "</tr>\n",
       "<tr>\n",
       "  <th>const</th>      <td>   32.1694</td> <td>   11.841</td> <td>    2.717</td> <td> 0.008</td> <td>    8.580</td> <td>   55.759</td>\n",
       "</tr>\n",
       "<tr>\n",
       "  <th>calc_hs</th>    <td>    7.1631</td> <td>    2.478</td> <td>    2.891</td> <td> 0.005</td> <td>    2.227</td> <td>   12.099</td>\n",
       "</tr>\n",
       "<tr>\n",
       "  <th>act_math</th>   <td>    0.5980</td> <td>    0.369</td> <td>    1.622</td> <td> 0.109</td> <td>   -0.136</td> <td>    1.332</td>\n",
       "</tr>\n",
       "<tr>\n",
       "  <th>alg2_grade</th> <td>    3.7553</td> <td>    2.046</td> <td>    1.836</td> <td> 0.070</td> <td>   -0.320</td> <td>    7.830</td>\n",
       "</tr>\n",
       "<tr>\n",
       "  <th>alg_place</th>  <td>    0.8098</td> <td>    0.266</td> <td>    3.039</td> <td> 0.003</td> <td>    0.279</td> <td>    1.341</td>\n",
       "</tr>\n",
       "</table>\n",
       "<table class=\"simpletable\">\n",
       "<tr>\n",
       "  <th>Omnibus:</th>       <td> 1.058</td> <th>  Durbin-Watson:     </th> <td>   1.931</td>\n",
       "</tr>\n",
       "<tr>\n",
       "  <th>Prob(Omnibus):</th> <td> 0.589</td> <th>  Jarque-Bera (JB):  </th> <td>   1.075</td>\n",
       "</tr>\n",
       "<tr>\n",
       "  <th>Skew:</th>          <td> 0.159</td> <th>  Prob(JB):          </th> <td>   0.584</td>\n",
       "</tr>\n",
       "<tr>\n",
       "  <th>Kurtosis:</th>      <td> 2.529</td> <th>  Cond. No.          </th> <td>    394.</td>\n",
       "</tr>\n",
       "</table><br/><br/>Notes:<br/>[1] Standard Errors assume that the covariance matrix of the errors is correctly specified."
      ],
      "text/latex": [
       "\\begin{center}\n",
       "\\begin{tabular}{lclc}\n",
       "\\toprule\n",
       "\\textbf{Dep. Variable:}    &       calc       & \\textbf{  R-squared:         } &     0.358   \\\\\n",
       "\\textbf{Model:}            &       OLS        & \\textbf{  Adj. R-squared:    } &     0.323   \\\\\n",
       "\\textbf{Method:}           &  Least Squares   & \\textbf{  F-statistic:       } &     10.44   \\\\\n",
       "\\textbf{Date:}             & Thu, 11 Apr 2024 & \\textbf{  Prob (F-statistic):} &  8.91e-07   \\\\\n",
       "\\textbf{Time:}             &     20:10:46     & \\textbf{  Log-Likelihood:    } &   -290.25   \\\\\n",
       "\\textbf{No. Observations:} &          80      & \\textbf{  AIC:               } &     590.5   \\\\\n",
       "\\textbf{Df Residuals:}     &          75      & \\textbf{  BIC:               } &     602.4   \\\\\n",
       "\\textbf{Df Model:}         &           4      & \\textbf{                     } &             \\\\\n",
       "\\textbf{Covariance Type:}  &    nonrobust     & \\textbf{                     } &             \\\\\n",
       "\\bottomrule\n",
       "\\end{tabular}\n",
       "\\begin{tabular}{lcccccc}\n",
       "                     & \\textbf{coef} & \\textbf{std err} & \\textbf{t} & \\textbf{P$> |$t$|$} & \\textbf{[0.025} & \\textbf{0.975]}  \\\\\n",
       "\\midrule\n",
       "\\textbf{const}       &      32.1694  &       11.841     &     2.717  &         0.008        &        8.580    &       55.759     \\\\\n",
       "\\textbf{calc\\_hs}    &       7.1631  &        2.478     &     2.891  &         0.005        &        2.227    &       12.099     \\\\\n",
       "\\textbf{act\\_math}   &       0.5980  &        0.369     &     1.622  &         0.109        &       -0.136    &        1.332     \\\\\n",
       "\\textbf{alg2\\_grade} &       3.7553  &        2.046     &     1.836  &         0.070        &       -0.320    &        7.830     \\\\\n",
       "\\textbf{alg\\_place}  &       0.8098  &        0.266     &     3.039  &         0.003        &        0.279    &        1.341     \\\\\n",
       "\\bottomrule\n",
       "\\end{tabular}\n",
       "\\begin{tabular}{lclc}\n",
       "\\textbf{Omnibus:}       &  1.058 & \\textbf{  Durbin-Watson:     } &    1.931  \\\\\n",
       "\\textbf{Prob(Omnibus):} &  0.589 & \\textbf{  Jarque-Bera (JB):  } &    1.075  \\\\\n",
       "\\textbf{Skew:}          &  0.159 & \\textbf{  Prob(JB):          } &    0.584  \\\\\n",
       "\\textbf{Kurtosis:}      &  2.529 & \\textbf{  Cond. No.          } &     394.  \\\\\n",
       "\\bottomrule\n",
       "\\end{tabular}\n",
       "%\\caption{OLS Regression Results}\n",
       "\\end{center}\n",
       "\n",
       "Notes: \\newline\n",
       " [1] Standard Errors assume that the covariance matrix of the errors is correctly specified."
      ],
      "text/plain": [
       "<class 'statsmodels.iolib.summary.Summary'>\n",
       "\"\"\"\n",
       "                            OLS Regression Results                            \n",
       "==============================================================================\n",
       "Dep. Variable:                   calc   R-squared:                       0.358\n",
       "Model:                            OLS   Adj. R-squared:                  0.323\n",
       "Method:                 Least Squares   F-statistic:                     10.44\n",
       "Date:                Thu, 11 Apr 2024   Prob (F-statistic):           8.91e-07\n",
       "Time:                        20:10:46   Log-Likelihood:                -290.25\n",
       "No. Observations:                  80   AIC:                             590.5\n",
       "Df Residuals:                      75   BIC:                             602.4\n",
       "Df Model:                           4                                         \n",
       "Covariance Type:            nonrobust                                         \n",
       "==============================================================================\n",
       "                 coef    std err          t      P>|t|      [0.025      0.975]\n",
       "------------------------------------------------------------------------------\n",
       "const         32.1694     11.841      2.717      0.008       8.580      55.759\n",
       "calc_hs        7.1631      2.478      2.891      0.005       2.227      12.099\n",
       "act_math       0.5980      0.369      1.622      0.109      -0.136       1.332\n",
       "alg2_grade     3.7553      2.046      1.836      0.070      -0.320       7.830\n",
       "alg_place      0.8098      0.266      3.039      0.003       0.279       1.341\n",
       "==============================================================================\n",
       "Omnibus:                        1.058   Durbin-Watson:                   1.931\n",
       "Prob(Omnibus):                  0.589   Jarque-Bera (JB):                1.075\n",
       "Skew:                           0.159   Prob(JB):                        0.584\n",
       "Kurtosis:                       2.529   Cond. No.                         394.\n",
       "==============================================================================\n",
       "\n",
       "Notes:\n",
       "[1] Standard Errors assume that the covariance matrix of the errors is correctly specified.\n",
       "\"\"\""
      ]
     },
     "execution_count": 166,
     "metadata": {},
     "output_type": "execute_result"
    }
   ],
   "source": [
    "# four features, mind the F-statistic\n",
    "X = df[[\"calc_hs\", \"act_math\", \"alg2_grade\", \"alg_place\"]]\n",
    "X = sm.add_constant(X)\n",
    "\n",
    "ols_results = sm.OLS(y, X).fit()\n",
    "ols_results.summary()"
   ]
  },
  {
   "cell_type": "markdown",
   "id": "outer-aside",
   "metadata": {},
   "source": [
    "### Best model I managed  to find   \n",
    "\n",
    "* three features  \n",
    "* F-statistic\n",
    "* p-values "
   ]
  },
  {
   "cell_type": "code",
   "execution_count": 167,
   "id": "selected-light",
   "metadata": {},
   "outputs": [
    {
     "data": {
      "text/html": [
       "<table class=\"simpletable\">\n",
       "<caption>OLS Regression Results</caption>\n",
       "<tr>\n",
       "  <th>Dep. Variable:</th>          <td>calc</td>       <th>  R-squared:         </th> <td>   0.279</td>\n",
       "</tr>\n",
       "<tr>\n",
       "  <th>Model:</th>                   <td>OLS</td>       <th>  Adj. R-squared:    </th> <td>   0.250</td>\n",
       "</tr>\n",
       "<tr>\n",
       "  <th>Method:</th>             <td>Least Squares</td>  <th>  F-statistic:       </th> <td>   9.781</td>\n",
       "</tr>\n",
       "<tr>\n",
       "  <th>Date:</th>             <td>Thu, 11 Apr 2024</td> <th>  Prob (F-statistic):</th> <td>1.57e-05</td>\n",
       "</tr>\n",
       "<tr>\n",
       "  <th>Time:</th>                 <td>20:10:53</td>     <th>  Log-Likelihood:    </th> <td> -294.89</td>\n",
       "</tr>\n",
       "<tr>\n",
       "  <th>No. Observations:</th>      <td>    80</td>      <th>  AIC:               </th> <td>   597.8</td>\n",
       "</tr>\n",
       "<tr>\n",
       "  <th>Df Residuals:</th>          <td>    76</td>      <th>  BIC:               </th> <td>   607.3</td>\n",
       "</tr>\n",
       "<tr>\n",
       "  <th>Df Model:</th>              <td>     3</td>      <th>                     </th>     <td> </td>   \n",
       "</tr>\n",
       "<tr>\n",
       "  <th>Covariance Type:</th>      <td>nonrobust</td>    <th>                     </th>     <td> </td>   \n",
       "</tr>\n",
       "</table>\n",
       "<table class=\"simpletable\">\n",
       "<tr>\n",
       "       <td></td>         <th>coef</th>     <th>std err</th>      <th>t</th>      <th>P>|t|</th>  <th>[0.025</th>    <th>0.975]</th>  \n",
       "</tr>\n",
       "<tr>\n",
       "  <th>const</th>      <td>   25.6355</td> <td>   12.259</td> <td>    2.091</td> <td> 0.040</td> <td>    1.219</td> <td>   50.052</td>\n",
       "</tr>\n",
       "<tr>\n",
       "  <th>calc_hs</th>    <td>    7.7175</td> <td>    2.601</td> <td>    2.967</td> <td> 0.004</td> <td>    2.537</td> <td>   12.898</td>\n",
       "</tr>\n",
       "<tr>\n",
       "  <th>act_math</th>   <td>    1.0955</td> <td>    0.348</td> <td>    3.151</td> <td> 0.002</td> <td>    0.403</td> <td>    1.788</td>\n",
       "</tr>\n",
       "<tr>\n",
       "  <th>alg2_grade</th> <td>    5.9895</td> <td>    2.010</td> <td>    2.980</td> <td> 0.004</td> <td>    1.987</td> <td>    9.992</td>\n",
       "</tr>\n",
       "</table>\n",
       "<table class=\"simpletable\">\n",
       "<tr>\n",
       "  <th>Omnibus:</th>       <td> 1.034</td> <th>  Durbin-Watson:     </th> <td>   1.878</td>\n",
       "</tr>\n",
       "<tr>\n",
       "  <th>Prob(Omnibus):</th> <td> 0.596</td> <th>  Jarque-Bera (JB):  </th> <td>   0.949</td>\n",
       "</tr>\n",
       "<tr>\n",
       "  <th>Skew:</th>          <td>-0.031</td> <th>  Prob(JB):          </th> <td>   0.622</td>\n",
       "</tr>\n",
       "<tr>\n",
       "  <th>Kurtosis:</th>      <td> 2.470</td> <th>  Cond. No.          </th> <td>    319.</td>\n",
       "</tr>\n",
       "</table><br/><br/>Notes:<br/>[1] Standard Errors assume that the covariance matrix of the errors is correctly specified."
      ],
      "text/latex": [
       "\\begin{center}\n",
       "\\begin{tabular}{lclc}\n",
       "\\toprule\n",
       "\\textbf{Dep. Variable:}    &       calc       & \\textbf{  R-squared:         } &     0.279   \\\\\n",
       "\\textbf{Model:}            &       OLS        & \\textbf{  Adj. R-squared:    } &     0.250   \\\\\n",
       "\\textbf{Method:}           &  Least Squares   & \\textbf{  F-statistic:       } &     9.781   \\\\\n",
       "\\textbf{Date:}             & Thu, 11 Apr 2024 & \\textbf{  Prob (F-statistic):} &  1.57e-05   \\\\\n",
       "\\textbf{Time:}             &     20:10:53     & \\textbf{  Log-Likelihood:    } &   -294.89   \\\\\n",
       "\\textbf{No. Observations:} &          80      & \\textbf{  AIC:               } &     597.8   \\\\\n",
       "\\textbf{Df Residuals:}     &          76      & \\textbf{  BIC:               } &     607.3   \\\\\n",
       "\\textbf{Df Model:}         &           3      & \\textbf{                     } &             \\\\\n",
       "\\textbf{Covariance Type:}  &    nonrobust     & \\textbf{                     } &             \\\\\n",
       "\\bottomrule\n",
       "\\end{tabular}\n",
       "\\begin{tabular}{lcccccc}\n",
       "                     & \\textbf{coef} & \\textbf{std err} & \\textbf{t} & \\textbf{P$> |$t$|$} & \\textbf{[0.025} & \\textbf{0.975]}  \\\\\n",
       "\\midrule\n",
       "\\textbf{const}       &      25.6355  &       12.259     &     2.091  &         0.040        &        1.219    &       50.052     \\\\\n",
       "\\textbf{calc\\_hs}    &       7.7175  &        2.601     &     2.967  &         0.004        &        2.537    &       12.898     \\\\\n",
       "\\textbf{act\\_math}   &       1.0955  &        0.348     &     3.151  &         0.002        &        0.403    &        1.788     \\\\\n",
       "\\textbf{alg2\\_grade} &       5.9895  &        2.010     &     2.980  &         0.004        &        1.987    &        9.992     \\\\\n",
       "\\bottomrule\n",
       "\\end{tabular}\n",
       "\\begin{tabular}{lclc}\n",
       "\\textbf{Omnibus:}       &  1.034 & \\textbf{  Durbin-Watson:     } &    1.878  \\\\\n",
       "\\textbf{Prob(Omnibus):} &  0.596 & \\textbf{  Jarque-Bera (JB):  } &    0.949  \\\\\n",
       "\\textbf{Skew:}          & -0.031 & \\textbf{  Prob(JB):          } &    0.622  \\\\\n",
       "\\textbf{Kurtosis:}      &  2.470 & \\textbf{  Cond. No.          } &     319.  \\\\\n",
       "\\bottomrule\n",
       "\\end{tabular}\n",
       "%\\caption{OLS Regression Results}\n",
       "\\end{center}\n",
       "\n",
       "Notes: \\newline\n",
       " [1] Standard Errors assume that the covariance matrix of the errors is correctly specified."
      ],
      "text/plain": [
       "<class 'statsmodels.iolib.summary.Summary'>\n",
       "\"\"\"\n",
       "                            OLS Regression Results                            \n",
       "==============================================================================\n",
       "Dep. Variable:                   calc   R-squared:                       0.279\n",
       "Model:                            OLS   Adj. R-squared:                  0.250\n",
       "Method:                 Least Squares   F-statistic:                     9.781\n",
       "Date:                Thu, 11 Apr 2024   Prob (F-statistic):           1.57e-05\n",
       "Time:                        20:10:53   Log-Likelihood:                -294.89\n",
       "No. Observations:                  80   AIC:                             597.8\n",
       "Df Residuals:                      76   BIC:                             607.3\n",
       "Df Model:                           3                                         \n",
       "Covariance Type:            nonrobust                                         \n",
       "==============================================================================\n",
       "                 coef    std err          t      P>|t|      [0.025      0.975]\n",
       "------------------------------------------------------------------------------\n",
       "const         25.6355     12.259      2.091      0.040       1.219      50.052\n",
       "calc_hs        7.7175      2.601      2.967      0.004       2.537      12.898\n",
       "act_math       1.0955      0.348      3.151      0.002       0.403       1.788\n",
       "alg2_grade     5.9895      2.010      2.980      0.004       1.987       9.992\n",
       "==============================================================================\n",
       "Omnibus:                        1.034   Durbin-Watson:                   1.878\n",
       "Prob(Omnibus):                  0.596   Jarque-Bera (JB):                0.949\n",
       "Skew:                          -0.031   Prob(JB):                        0.622\n",
       "Kurtosis:                       2.470   Cond. No.                         319.\n",
       "==============================================================================\n",
       "\n",
       "Notes:\n",
       "[1] Standard Errors assume that the covariance matrix of the errors is correctly specified.\n",
       "\"\"\""
      ]
     },
     "execution_count": 167,
     "metadata": {},
     "output_type": "execute_result"
    }
   ],
   "source": [
    "# three features, mind the F-statistic, the \n",
    "\n",
    "X = df[[\"calc_hs\", \"act_math\", \"alg2_grade\"]]\n",
    "X = sm.add_constant(X)\n",
    "\n",
    "ols_results = sm.OLS(y, X).fit()\n",
    "ols_results.summary()"
   ]
  },
  {
   "cell_type": "code",
   "execution_count": 168,
   "id": "elder-receptor",
   "metadata": {},
   "outputs": [
    {
     "data": {
      "text/html": [
       "<div>\n",
       "<style scoped>\n",
       "    .dataframe tbody tr th:only-of-type {\n",
       "        vertical-align: middle;\n",
       "    }\n",
       "\n",
       "    .dataframe tbody tr th {\n",
       "        vertical-align: top;\n",
       "    }\n",
       "\n",
       "    .dataframe thead th {\n",
       "        text-align: right;\n",
       "    }\n",
       "</style>\n",
       "<table border=\"1\" class=\"dataframe\">\n",
       "  <thead>\n",
       "    <tr style=\"text-align: right;\">\n",
       "      <th></th>\n",
       "      <th>names</th>\n",
       "      <th>coef</th>\n",
       "      <th>se</th>\n",
       "      <th>T</th>\n",
       "      <th>pval</th>\n",
       "      <th>r2</th>\n",
       "      <th>adj_r2</th>\n",
       "      <th>CI[2.5%]</th>\n",
       "      <th>CI[97.5%]</th>\n",
       "    </tr>\n",
       "  </thead>\n",
       "  <tbody>\n",
       "    <tr>\n",
       "      <th>0</th>\n",
       "      <td>Intercept</td>\n",
       "      <td>25.635</td>\n",
       "      <td>12.259</td>\n",
       "      <td>2.091</td>\n",
       "      <td>0.040</td>\n",
       "      <td>0.279</td>\n",
       "      <td>0.25</td>\n",
       "      <td>1.219</td>\n",
       "      <td>50.052</td>\n",
       "    </tr>\n",
       "    <tr>\n",
       "      <th>1</th>\n",
       "      <td>calc_hs</td>\n",
       "      <td>7.718</td>\n",
       "      <td>2.601</td>\n",
       "      <td>2.967</td>\n",
       "      <td>0.004</td>\n",
       "      <td>0.279</td>\n",
       "      <td>0.25</td>\n",
       "      <td>2.537</td>\n",
       "      <td>12.898</td>\n",
       "    </tr>\n",
       "    <tr>\n",
       "      <th>2</th>\n",
       "      <td>act_math</td>\n",
       "      <td>1.096</td>\n",
       "      <td>0.348</td>\n",
       "      <td>3.151</td>\n",
       "      <td>0.002</td>\n",
       "      <td>0.279</td>\n",
       "      <td>0.25</td>\n",
       "      <td>0.403</td>\n",
       "      <td>1.788</td>\n",
       "    </tr>\n",
       "    <tr>\n",
       "      <th>3</th>\n",
       "      <td>alg2_grade</td>\n",
       "      <td>5.990</td>\n",
       "      <td>2.010</td>\n",
       "      <td>2.980</td>\n",
       "      <td>0.004</td>\n",
       "      <td>0.279</td>\n",
       "      <td>0.25</td>\n",
       "      <td>1.987</td>\n",
       "      <td>9.992</td>\n",
       "    </tr>\n",
       "  </tbody>\n",
       "</table>\n",
       "</div>"
      ],
      "text/plain": [
       "        names    coef      se      T   pval     r2  adj_r2  CI[2.5%]  \\\n",
       "0   Intercept  25.635  12.259  2.091  0.040  0.279    0.25     1.219   \n",
       "1     calc_hs   7.718   2.601  2.967  0.004  0.279    0.25     2.537   \n",
       "2    act_math   1.096   0.348  3.151  0.002  0.279    0.25     0.403   \n",
       "3  alg2_grade   5.990   2.010  2.980  0.004  0.279    0.25     1.987   \n",
       "\n",
       "   CI[97.5%]  \n",
       "0     50.052  \n",
       "1     12.898  \n",
       "2      1.788  \n",
       "3      9.992  "
      ]
     },
     "execution_count": 168,
     "metadata": {},
     "output_type": "execute_result"
    }
   ],
   "source": [
    "X = df[[\"calc_hs\", \"act_math\", \"alg2_grade\"]]\n",
    "lm = pg.linear_regression(X, y, add_intercept=True)\n",
    "lm"
   ]
  },
  {
   "cell_type": "code",
   "execution_count": 169,
   "id": "iraqi-heart",
   "metadata": {},
   "outputs": [
    {
     "data": {
      "text/html": [
       "<table class=\"simpletable\">\n",
       "<caption>OLS Regression Results</caption>\n",
       "<tr>\n",
       "  <th>Dep. Variable:</th>          <td>calc</td>       <th>  R-squared:         </th> <td>   0.329</td>\n",
       "</tr>\n",
       "<tr>\n",
       "  <th>Model:</th>                   <td>OLS</td>       <th>  Adj. R-squared:    </th> <td>   0.302</td>\n",
       "</tr>\n",
       "<tr>\n",
       "  <th>Method:</th>             <td>Least Squares</td>  <th>  F-statistic:       </th> <td>   12.41</td>\n",
       "</tr>\n",
       "<tr>\n",
       "  <th>Date:</th>             <td>Thu, 11 Apr 2024</td> <th>  Prob (F-statistic):</th> <td>1.09e-06</td>\n",
       "</tr>\n",
       "<tr>\n",
       "  <th>Time:</th>                 <td>20:10:54</td>     <th>  Log-Likelihood:    </th> <td> -292.01</td>\n",
       "</tr>\n",
       "<tr>\n",
       "  <th>No. Observations:</th>      <td>    80</td>      <th>  AIC:               </th> <td>   592.0</td>\n",
       "</tr>\n",
       "<tr>\n",
       "  <th>Df Residuals:</th>          <td>    76</td>      <th>  BIC:               </th> <td>   601.5</td>\n",
       "</tr>\n",
       "<tr>\n",
       "  <th>Df Model:</th>              <td>     3</td>      <th>                     </th>     <td> </td>   \n",
       "</tr>\n",
       "<tr>\n",
       "  <th>Covariance Type:</th>      <td>nonrobust</td>    <th>                     </th>     <td> </td>   \n",
       "</tr>\n",
       "</table>\n",
       "<table class=\"simpletable\">\n",
       "<tr>\n",
       "      <td></td>         <th>coef</th>     <th>std err</th>      <th>t</th>      <th>P>|t|</th>  <th>[0.025</th>    <th>0.975]</th>  \n",
       "</tr>\n",
       "<tr>\n",
       "  <th>const</th>     <td>   45.5705</td> <td>    9.468</td> <td>    4.813</td> <td> 0.000</td> <td>   26.714</td> <td>   64.427</td>\n",
       "</tr>\n",
       "<tr>\n",
       "  <th>calc_hs</th>   <td>    6.6644</td> <td>    2.501</td> <td>    2.665</td> <td> 0.009</td> <td>    1.684</td> <td>   11.645</td>\n",
       "</tr>\n",
       "<tr>\n",
       "  <th>act_math</th>  <td>    0.4874</td> <td>    0.369</td> <td>    1.320</td> <td> 0.191</td> <td>   -0.248</td> <td>    1.223</td>\n",
       "</tr>\n",
       "<tr>\n",
       "  <th>alg_place</th> <td>    0.9855</td> <td>    0.252</td> <td>    3.903</td> <td> 0.000</td> <td>    0.483</td> <td>    1.488</td>\n",
       "</tr>\n",
       "</table>\n",
       "<table class=\"simpletable\">\n",
       "<tr>\n",
       "  <th>Omnibus:</th>       <td> 1.406</td> <th>  Durbin-Watson:     </th> <td>   1.879</td>\n",
       "</tr>\n",
       "<tr>\n",
       "  <th>Prob(Omnibus):</th> <td> 0.495</td> <th>  Jarque-Bera (JB):  </th> <td>   1.129</td>\n",
       "</tr>\n",
       "<tr>\n",
       "  <th>Skew:</th>          <td> 0.022</td> <th>  Prob(JB):          </th> <td>   0.569</td>\n",
       "</tr>\n",
       "<tr>\n",
       "  <th>Kurtosis:</th>      <td> 2.420</td> <th>  Cond. No.          </th> <td>    307.</td>\n",
       "</tr>\n",
       "</table><br/><br/>Notes:<br/>[1] Standard Errors assume that the covariance matrix of the errors is correctly specified."
      ],
      "text/latex": [
       "\\begin{center}\n",
       "\\begin{tabular}{lclc}\n",
       "\\toprule\n",
       "\\textbf{Dep. Variable:}    &       calc       & \\textbf{  R-squared:         } &     0.329   \\\\\n",
       "\\textbf{Model:}            &       OLS        & \\textbf{  Adj. R-squared:    } &     0.302   \\\\\n",
       "\\textbf{Method:}           &  Least Squares   & \\textbf{  F-statistic:       } &     12.41   \\\\\n",
       "\\textbf{Date:}             & Thu, 11 Apr 2024 & \\textbf{  Prob (F-statistic):} &  1.09e-06   \\\\\n",
       "\\textbf{Time:}             &     20:10:54     & \\textbf{  Log-Likelihood:    } &   -292.01   \\\\\n",
       "\\textbf{No. Observations:} &          80      & \\textbf{  AIC:               } &     592.0   \\\\\n",
       "\\textbf{Df Residuals:}     &          76      & \\textbf{  BIC:               } &     601.5   \\\\\n",
       "\\textbf{Df Model:}         &           3      & \\textbf{                     } &             \\\\\n",
       "\\textbf{Covariance Type:}  &    nonrobust     & \\textbf{                     } &             \\\\\n",
       "\\bottomrule\n",
       "\\end{tabular}\n",
       "\\begin{tabular}{lcccccc}\n",
       "                    & \\textbf{coef} & \\textbf{std err} & \\textbf{t} & \\textbf{P$> |$t$|$} & \\textbf{[0.025} & \\textbf{0.975]}  \\\\\n",
       "\\midrule\n",
       "\\textbf{const}      &      45.5705  &        9.468     &     4.813  &         0.000        &       26.714    &       64.427     \\\\\n",
       "\\textbf{calc\\_hs}   &       6.6644  &        2.501     &     2.665  &         0.009        &        1.684    &       11.645     \\\\\n",
       "\\textbf{act\\_math}  &       0.4874  &        0.369     &     1.320  &         0.191        &       -0.248    &        1.223     \\\\\n",
       "\\textbf{alg\\_place} &       0.9855  &        0.252     &     3.903  &         0.000        &        0.483    &        1.488     \\\\\n",
       "\\bottomrule\n",
       "\\end{tabular}\n",
       "\\begin{tabular}{lclc}\n",
       "\\textbf{Omnibus:}       &  1.406 & \\textbf{  Durbin-Watson:     } &    1.879  \\\\\n",
       "\\textbf{Prob(Omnibus):} &  0.495 & \\textbf{  Jarque-Bera (JB):  } &    1.129  \\\\\n",
       "\\textbf{Skew:}          &  0.022 & \\textbf{  Prob(JB):          } &    0.569  \\\\\n",
       "\\textbf{Kurtosis:}      &  2.420 & \\textbf{  Cond. No.          } &     307.  \\\\\n",
       "\\bottomrule\n",
       "\\end{tabular}\n",
       "%\\caption{OLS Regression Results}\n",
       "\\end{center}\n",
       "\n",
       "Notes: \\newline\n",
       " [1] Standard Errors assume that the covariance matrix of the errors is correctly specified."
      ],
      "text/plain": [
       "<class 'statsmodels.iolib.summary.Summary'>\n",
       "\"\"\"\n",
       "                            OLS Regression Results                            \n",
       "==============================================================================\n",
       "Dep. Variable:                   calc   R-squared:                       0.329\n",
       "Model:                            OLS   Adj. R-squared:                  0.302\n",
       "Method:                 Least Squares   F-statistic:                     12.41\n",
       "Date:                Thu, 11 Apr 2024   Prob (F-statistic):           1.09e-06\n",
       "Time:                        20:10:54   Log-Likelihood:                -292.01\n",
       "No. Observations:                  80   AIC:                             592.0\n",
       "Df Residuals:                      76   BIC:                             601.5\n",
       "Df Model:                           3                                         \n",
       "Covariance Type:            nonrobust                                         \n",
       "==============================================================================\n",
       "                 coef    std err          t      P>|t|      [0.025      0.975]\n",
       "------------------------------------------------------------------------------\n",
       "const         45.5705      9.468      4.813      0.000      26.714      64.427\n",
       "calc_hs        6.6644      2.501      2.665      0.009       1.684      11.645\n",
       "act_math       0.4874      0.369      1.320      0.191      -0.248       1.223\n",
       "alg_place      0.9855      0.252      3.903      0.000       0.483       1.488\n",
       "==============================================================================\n",
       "Omnibus:                        1.406   Durbin-Watson:                   1.879\n",
       "Prob(Omnibus):                  0.495   Jarque-Bera (JB):                1.129\n",
       "Skew:                           0.022   Prob(JB):                        0.569\n",
       "Kurtosis:                       2.420   Cond. No.                         307.\n",
       "==============================================================================\n",
       "\n",
       "Notes:\n",
       "[1] Standard Errors assume that the covariance matrix of the errors is correctly specified.\n",
       "\"\"\""
      ]
     },
     "execution_count": 169,
     "metadata": {},
     "output_type": "execute_result"
    }
   ],
   "source": [
    "# three features, mind the F-statistic\n",
    "# the p-value of act_math is not ok\n",
    "X = df[[\"calc_hs\", \"act_math\", \"alg_place\"]]\n",
    "X = sm.add_constant(X)\n",
    "\n",
    "ols_results = sm.OLS(y, X).fit()\n",
    "ols_results.summary()"
   ]
  },
  {
   "cell_type": "code",
   "execution_count": 170,
   "id": "standing-alexandria",
   "metadata": {},
   "outputs": [
    {
     "data": {
      "text/html": [
       "<table class=\"simpletable\">\n",
       "<caption>OLS Regression Results</caption>\n",
       "<tr>\n",
       "  <th>Dep. Variable:</th>          <td>calc</td>       <th>  R-squared:         </th> <td>   0.313</td>\n",
       "</tr>\n",
       "<tr>\n",
       "  <th>Model:</th>                   <td>OLS</td>       <th>  Adj. R-squared:    </th> <td>   0.296</td>\n",
       "</tr>\n",
       "<tr>\n",
       "  <th>Method:</th>             <td>Least Squares</td>  <th>  F-statistic:       </th> <td>   17.57</td>\n",
       "</tr>\n",
       "<tr>\n",
       "  <th>Date:</th>             <td>Thu, 11 Apr 2024</td> <th>  Prob (F-statistic):</th> <td>5.16e-07</td>\n",
       "</tr>\n",
       "<tr>\n",
       "  <th>Time:</th>                 <td>20:10:55</td>     <th>  Log-Likelihood:    </th> <td> -292.91</td>\n",
       "</tr>\n",
       "<tr>\n",
       "  <th>No. Observations:</th>      <td>    80</td>      <th>  AIC:               </th> <td>   591.8</td>\n",
       "</tr>\n",
       "<tr>\n",
       "  <th>Df Residuals:</th>          <td>    77</td>      <th>  BIC:               </th> <td>   599.0</td>\n",
       "</tr>\n",
       "<tr>\n",
       "  <th>Df Model:</th>              <td>     2</td>      <th>                     </th>     <td> </td>   \n",
       "</tr>\n",
       "<tr>\n",
       "  <th>Covariance Type:</th>      <td>nonrobust</td>    <th>                     </th>     <td> </td>   \n",
       "</tr>\n",
       "</table>\n",
       "<table class=\"simpletable\">\n",
       "<tr>\n",
       "      <td></td>         <th>coef</th>     <th>std err</th>      <th>t</th>      <th>P>|t|</th>  <th>[0.025</th>    <th>0.975]</th>  \n",
       "</tr>\n",
       "<tr>\n",
       "  <th>const</th>     <td>   56.5221</td> <td>    4.583</td> <td>   12.333</td> <td> 0.000</td> <td>   47.396</td> <td>   65.648</td>\n",
       "</tr>\n",
       "<tr>\n",
       "  <th>calc_hs</th>   <td>    7.0958</td> <td>    2.491</td> <td>    2.848</td> <td> 0.006</td> <td>    2.135</td> <td>   12.056</td>\n",
       "</tr>\n",
       "<tr>\n",
       "  <th>alg_place</th> <td>    1.1250</td> <td>    0.230</td> <td>    4.883</td> <td> 0.000</td> <td>    0.666</td> <td>    1.584</td>\n",
       "</tr>\n",
       "</table>\n",
       "<table class=\"simpletable\">\n",
       "<tr>\n",
       "  <th>Omnibus:</th>       <td> 1.163</td> <th>  Durbin-Watson:     </th> <td>   1.901</td>\n",
       "</tr>\n",
       "<tr>\n",
       "  <th>Prob(Omnibus):</th> <td> 0.559</td> <th>  Jarque-Bera (JB):  </th> <td>   1.019</td>\n",
       "</tr>\n",
       "<tr>\n",
       "  <th>Skew:</th>          <td> 0.042</td> <th>  Prob(JB):          </th> <td>   0.601</td>\n",
       "</tr>\n",
       "<tr>\n",
       "  <th>Kurtosis:</th>      <td> 2.454</td> <th>  Cond. No.          </th> <td>    85.6</td>\n",
       "</tr>\n",
       "</table><br/><br/>Notes:<br/>[1] Standard Errors assume that the covariance matrix of the errors is correctly specified."
      ],
      "text/latex": [
       "\\begin{center}\n",
       "\\begin{tabular}{lclc}\n",
       "\\toprule\n",
       "\\textbf{Dep. Variable:}    &       calc       & \\textbf{  R-squared:         } &     0.313   \\\\\n",
       "\\textbf{Model:}            &       OLS        & \\textbf{  Adj. R-squared:    } &     0.296   \\\\\n",
       "\\textbf{Method:}           &  Least Squares   & \\textbf{  F-statistic:       } &     17.57   \\\\\n",
       "\\textbf{Date:}             & Thu, 11 Apr 2024 & \\textbf{  Prob (F-statistic):} &  5.16e-07   \\\\\n",
       "\\textbf{Time:}             &     20:10:55     & \\textbf{  Log-Likelihood:    } &   -292.91   \\\\\n",
       "\\textbf{No. Observations:} &          80      & \\textbf{  AIC:               } &     591.8   \\\\\n",
       "\\textbf{Df Residuals:}     &          77      & \\textbf{  BIC:               } &     599.0   \\\\\n",
       "\\textbf{Df Model:}         &           2      & \\textbf{                     } &             \\\\\n",
       "\\textbf{Covariance Type:}  &    nonrobust     & \\textbf{                     } &             \\\\\n",
       "\\bottomrule\n",
       "\\end{tabular}\n",
       "\\begin{tabular}{lcccccc}\n",
       "                    & \\textbf{coef} & \\textbf{std err} & \\textbf{t} & \\textbf{P$> |$t$|$} & \\textbf{[0.025} & \\textbf{0.975]}  \\\\\n",
       "\\midrule\n",
       "\\textbf{const}      &      56.5221  &        4.583     &    12.333  &         0.000        &       47.396    &       65.648     \\\\\n",
       "\\textbf{calc\\_hs}   &       7.0958  &        2.491     &     2.848  &         0.006        &        2.135    &       12.056     \\\\\n",
       "\\textbf{alg\\_place} &       1.1250  &        0.230     &     4.883  &         0.000        &        0.666    &        1.584     \\\\\n",
       "\\bottomrule\n",
       "\\end{tabular}\n",
       "\\begin{tabular}{lclc}\n",
       "\\textbf{Omnibus:}       &  1.163 & \\textbf{  Durbin-Watson:     } &    1.901  \\\\\n",
       "\\textbf{Prob(Omnibus):} &  0.559 & \\textbf{  Jarque-Bera (JB):  } &    1.019  \\\\\n",
       "\\textbf{Skew:}          &  0.042 & \\textbf{  Prob(JB):          } &    0.601  \\\\\n",
       "\\textbf{Kurtosis:}      &  2.454 & \\textbf{  Cond. No.          } &     85.6  \\\\\n",
       "\\bottomrule\n",
       "\\end{tabular}\n",
       "%\\caption{OLS Regression Results}\n",
       "\\end{center}\n",
       "\n",
       "Notes: \\newline\n",
       " [1] Standard Errors assume that the covariance matrix of the errors is correctly specified."
      ],
      "text/plain": [
       "<class 'statsmodels.iolib.summary.Summary'>\n",
       "\"\"\"\n",
       "                            OLS Regression Results                            \n",
       "==============================================================================\n",
       "Dep. Variable:                   calc   R-squared:                       0.313\n",
       "Model:                            OLS   Adj. R-squared:                  0.296\n",
       "Method:                 Least Squares   F-statistic:                     17.57\n",
       "Date:                Thu, 11 Apr 2024   Prob (F-statistic):           5.16e-07\n",
       "Time:                        20:10:55   Log-Likelihood:                -292.91\n",
       "No. Observations:                  80   AIC:                             591.8\n",
       "Df Residuals:                      77   BIC:                             599.0\n",
       "Df Model:                           2                                         \n",
       "Covariance Type:            nonrobust                                         \n",
       "==============================================================================\n",
       "                 coef    std err          t      P>|t|      [0.025      0.975]\n",
       "------------------------------------------------------------------------------\n",
       "const         56.5221      4.583     12.333      0.000      47.396      65.648\n",
       "calc_hs        7.0958      2.491      2.848      0.006       2.135      12.056\n",
       "alg_place      1.1250      0.230      4.883      0.000       0.666       1.584\n",
       "==============================================================================\n",
       "Omnibus:                        1.163   Durbin-Watson:                   1.901\n",
       "Prob(Omnibus):                  0.559   Jarque-Bera (JB):                1.019\n",
       "Skew:                           0.042   Prob(JB):                        0.601\n",
       "Kurtosis:                       2.454   Cond. No.                         85.6\n",
       "==============================================================================\n",
       "\n",
       "Notes:\n",
       "[1] Standard Errors assume that the covariance matrix of the errors is correctly specified.\n",
       "\"\"\""
      ]
     },
     "execution_count": 170,
     "metadata": {},
     "output_type": "execute_result"
    }
   ],
   "source": [
    "# tho features, mind the F-statistic\n",
    "X = df[[\"calc_hs\", \"alg_place\"]]\n",
    "X = sm.add_constant(X)\n",
    "\n",
    "ols_results = sm.OLS(y, X).fit()\n",
    "ols_results.summary()"
   ]
  },
  {
   "cell_type": "code",
   "execution_count": 171,
   "id": "statutory-allah",
   "metadata": {},
   "outputs": [
    {
     "data": {
      "text/html": [
       "<table class=\"simpletable\">\n",
       "<caption>OLS Regression Results</caption>\n",
       "<tr>\n",
       "  <th>Dep. Variable:</th>          <td>calc</td>       <th>  R-squared:         </th> <td>   0.184</td>\n",
       "</tr>\n",
       "<tr>\n",
       "  <th>Model:</th>                   <td>OLS</td>       <th>  Adj. R-squared:    </th> <td>   0.163</td>\n",
       "</tr>\n",
       "<tr>\n",
       "  <th>Method:</th>             <td>Least Squares</td>  <th>  F-statistic:       </th> <td>   8.699</td>\n",
       "</tr>\n",
       "<tr>\n",
       "  <th>Date:</th>             <td>Thu, 11 Apr 2024</td> <th>  Prob (F-statistic):</th> <td>0.000392</td>\n",
       "</tr>\n",
       "<tr>\n",
       "  <th>Time:</th>                 <td>20:10:55</td>     <th>  Log-Likelihood:    </th> <td> -299.81</td>\n",
       "</tr>\n",
       "<tr>\n",
       "  <th>No. Observations:</th>      <td>    80</td>      <th>  AIC:               </th> <td>   605.6</td>\n",
       "</tr>\n",
       "<tr>\n",
       "  <th>Df Residuals:</th>          <td>    77</td>      <th>  BIC:               </th> <td>   612.8</td>\n",
       "</tr>\n",
       "<tr>\n",
       "  <th>Df Model:</th>              <td>     2</td>      <th>                     </th>     <td> </td>   \n",
       "</tr>\n",
       "<tr>\n",
       "  <th>Covariance Type:</th>      <td>nonrobust</td>    <th>                     </th>     <td> </td>   \n",
       "</tr>\n",
       "</table>\n",
       "<table class=\"simpletable\">\n",
       "<tr>\n",
       "       <td></td>         <th>coef</th>     <th>std err</th>      <th>t</th>      <th>P>|t|</th>  <th>[0.025</th>    <th>0.975]</th>  \n",
       "</tr>\n",
       "<tr>\n",
       "  <th>const</th>      <td>   56.3616</td> <td>    7.849</td> <td>    7.181</td> <td> 0.000</td> <td>   40.733</td> <td>   71.990</td>\n",
       "</tr>\n",
       "<tr>\n",
       "  <th>calc_hs</th>    <td>    9.0287</td> <td>    2.713</td> <td>    3.328</td> <td> 0.001</td> <td>    3.627</td> <td>   14.430</td>\n",
       "</tr>\n",
       "<tr>\n",
       "  <th>alg2_grade</th> <td>    5.9602</td> <td>    2.123</td> <td>    2.807</td> <td> 0.006</td> <td>    1.733</td> <td>   10.188</td>\n",
       "</tr>\n",
       "</table>\n",
       "<table class=\"simpletable\">\n",
       "<tr>\n",
       "  <th>Omnibus:</th>       <td> 3.323</td> <th>  Durbin-Watson:     </th> <td>   2.040</td>\n",
       "</tr>\n",
       "<tr>\n",
       "  <th>Prob(Omnibus):</th> <td> 0.190</td> <th>  Jarque-Bera (JB):  </th> <td>   1.963</td>\n",
       "</tr>\n",
       "<tr>\n",
       "  <th>Skew:</th>          <td>-0.119</td> <th>  Prob(JB):          </th> <td>   0.375</td>\n",
       "</tr>\n",
       "<tr>\n",
       "  <th>Kurtosis:</th>      <td> 2.271</td> <th>  Cond. No.          </th> <td>    26.4</td>\n",
       "</tr>\n",
       "</table><br/><br/>Notes:<br/>[1] Standard Errors assume that the covariance matrix of the errors is correctly specified."
      ],
      "text/latex": [
       "\\begin{center}\n",
       "\\begin{tabular}{lclc}\n",
       "\\toprule\n",
       "\\textbf{Dep. Variable:}    &       calc       & \\textbf{  R-squared:         } &     0.184   \\\\\n",
       "\\textbf{Model:}            &       OLS        & \\textbf{  Adj. R-squared:    } &     0.163   \\\\\n",
       "\\textbf{Method:}           &  Least Squares   & \\textbf{  F-statistic:       } &     8.699   \\\\\n",
       "\\textbf{Date:}             & Thu, 11 Apr 2024 & \\textbf{  Prob (F-statistic):} &  0.000392   \\\\\n",
       "\\textbf{Time:}             &     20:10:55     & \\textbf{  Log-Likelihood:    } &   -299.81   \\\\\n",
       "\\textbf{No. Observations:} &          80      & \\textbf{  AIC:               } &     605.6   \\\\\n",
       "\\textbf{Df Residuals:}     &          77      & \\textbf{  BIC:               } &     612.8   \\\\\n",
       "\\textbf{Df Model:}         &           2      & \\textbf{                     } &             \\\\\n",
       "\\textbf{Covariance Type:}  &    nonrobust     & \\textbf{                     } &             \\\\\n",
       "\\bottomrule\n",
       "\\end{tabular}\n",
       "\\begin{tabular}{lcccccc}\n",
       "                     & \\textbf{coef} & \\textbf{std err} & \\textbf{t} & \\textbf{P$> |$t$|$} & \\textbf{[0.025} & \\textbf{0.975]}  \\\\\n",
       "\\midrule\n",
       "\\textbf{const}       &      56.3616  &        7.849     &     7.181  &         0.000        &       40.733    &       71.990     \\\\\n",
       "\\textbf{calc\\_hs}    &       9.0287  &        2.713     &     3.328  &         0.001        &        3.627    &       14.430     \\\\\n",
       "\\textbf{alg2\\_grade} &       5.9602  &        2.123     &     2.807  &         0.006        &        1.733    &       10.188     \\\\\n",
       "\\bottomrule\n",
       "\\end{tabular}\n",
       "\\begin{tabular}{lclc}\n",
       "\\textbf{Omnibus:}       &  3.323 & \\textbf{  Durbin-Watson:     } &    2.040  \\\\\n",
       "\\textbf{Prob(Omnibus):} &  0.190 & \\textbf{  Jarque-Bera (JB):  } &    1.963  \\\\\n",
       "\\textbf{Skew:}          & -0.119 & \\textbf{  Prob(JB):          } &    0.375  \\\\\n",
       "\\textbf{Kurtosis:}      &  2.271 & \\textbf{  Cond. No.          } &     26.4  \\\\\n",
       "\\bottomrule\n",
       "\\end{tabular}\n",
       "%\\caption{OLS Regression Results}\n",
       "\\end{center}\n",
       "\n",
       "Notes: \\newline\n",
       " [1] Standard Errors assume that the covariance matrix of the errors is correctly specified."
      ],
      "text/plain": [
       "<class 'statsmodels.iolib.summary.Summary'>\n",
       "\"\"\"\n",
       "                            OLS Regression Results                            \n",
       "==============================================================================\n",
       "Dep. Variable:                   calc   R-squared:                       0.184\n",
       "Model:                            OLS   Adj. R-squared:                  0.163\n",
       "Method:                 Least Squares   F-statistic:                     8.699\n",
       "Date:                Thu, 11 Apr 2024   Prob (F-statistic):           0.000392\n",
       "Time:                        20:10:55   Log-Likelihood:                -299.81\n",
       "No. Observations:                  80   AIC:                             605.6\n",
       "Df Residuals:                      77   BIC:                             612.8\n",
       "Df Model:                           2                                         \n",
       "Covariance Type:            nonrobust                                         \n",
       "==============================================================================\n",
       "                 coef    std err          t      P>|t|      [0.025      0.975]\n",
       "------------------------------------------------------------------------------\n",
       "const         56.3616      7.849      7.181      0.000      40.733      71.990\n",
       "calc_hs        9.0287      2.713      3.328      0.001       3.627      14.430\n",
       "alg2_grade     5.9602      2.123      2.807      0.006       1.733      10.188\n",
       "==============================================================================\n",
       "Omnibus:                        3.323   Durbin-Watson:                   2.040\n",
       "Prob(Omnibus):                  0.190   Jarque-Bera (JB):                1.963\n",
       "Skew:                          -0.119   Prob(JB):                        0.375\n",
       "Kurtosis:                       2.271   Cond. No.                         26.4\n",
       "==============================================================================\n",
       "\n",
       "Notes:\n",
       "[1] Standard Errors assume that the covariance matrix of the errors is correctly specified.\n",
       "\"\"\""
      ]
     },
     "execution_count": 171,
     "metadata": {},
     "output_type": "execute_result"
    }
   ],
   "source": [
    "# tho features, mind the F-statistic\n",
    "X = df[[\"calc_hs\", \"alg2_grade\"]]\n",
    "X = sm.add_constant(X)\n",
    "\n",
    "ols_results = sm.OLS(y, X).fit()\n",
    "ols_results.summary()"
   ]
  },
  {
   "cell_type": "code",
   "execution_count": 172,
   "id": "quarterly-welding",
   "metadata": {},
   "outputs": [
    {
     "data": {
      "text/html": [
       "<table class=\"simpletable\">\n",
       "<caption>OLS Regression Results</caption>\n",
       "<tr>\n",
       "  <th>Dep. Variable:</th>          <td>calc</td>       <th>  R-squared:         </th> <td>   0.194</td>\n",
       "</tr>\n",
       "<tr>\n",
       "  <th>Model:</th>                   <td>OLS</td>       <th>  Adj. R-squared:    </th> <td>   0.173</td>\n",
       "</tr>\n",
       "<tr>\n",
       "  <th>Method:</th>             <td>Least Squares</td>  <th>  F-statistic:       </th> <td>   9.281</td>\n",
       "</tr>\n",
       "<tr>\n",
       "  <th>Date:</th>             <td>Thu, 11 Apr 2024</td> <th>  Prob (F-statistic):</th> <td>0.000245</td>\n",
       "</tr>\n",
       "<tr>\n",
       "  <th>Time:</th>                 <td>20:10:56</td>     <th>  Log-Likelihood:    </th> <td> -299.32</td>\n",
       "</tr>\n",
       "<tr>\n",
       "  <th>No. Observations:</th>      <td>    80</td>      <th>  AIC:               </th> <td>   604.6</td>\n",
       "</tr>\n",
       "<tr>\n",
       "  <th>Df Residuals:</th>          <td>    77</td>      <th>  BIC:               </th> <td>   611.8</td>\n",
       "</tr>\n",
       "<tr>\n",
       "  <th>Df Model:</th>              <td>     2</td>      <th>                     </th>     <td> </td>   \n",
       "</tr>\n",
       "<tr>\n",
       "  <th>Covariance Type:</th>      <td>nonrobust</td>    <th>                     </th>     <td> </td>   \n",
       "</tr>\n",
       "</table>\n",
       "<table class=\"simpletable\">\n",
       "<tr>\n",
       "      <td></td>        <th>coef</th>     <th>std err</th>      <th>t</th>      <th>P>|t|</th>  <th>[0.025</th>    <th>0.975]</th>  \n",
       "</tr>\n",
       "<tr>\n",
       "  <th>const</th>    <td>   47.5814</td> <td>   10.291</td> <td>    4.624</td> <td> 0.000</td> <td>   27.090</td> <td>   68.073</td>\n",
       "</tr>\n",
       "<tr>\n",
       "  <th>calc_hs</th>  <td>    7.0245</td> <td>    2.720</td> <td>    2.582</td> <td> 0.012</td> <td>    1.608</td> <td>   12.441</td>\n",
       "</tr>\n",
       "<tr>\n",
       "  <th>act_math</th> <td>    1.0907</td> <td>    0.365</td> <td>    2.988</td> <td> 0.004</td> <td>    0.364</td> <td>    1.818</td>\n",
       "</tr>\n",
       "</table>\n",
       "<table class=\"simpletable\">\n",
       "<tr>\n",
       "  <th>Omnibus:</th>       <td> 3.288</td> <th>  Durbin-Watson:     </th> <td>   1.767</td>\n",
       "</tr>\n",
       "<tr>\n",
       "  <th>Prob(Omnibus):</th> <td> 0.193</td> <th>  Jarque-Bera (JB):  </th> <td>   2.820</td>\n",
       "</tr>\n",
       "<tr>\n",
       "  <th>Skew:</th>          <td>-0.356</td> <th>  Prob(JB):          </th> <td>   0.244</td>\n",
       "</tr>\n",
       "<tr>\n",
       "  <th>Kurtosis:</th>      <td> 2.418</td> <th>  Cond. No.          </th> <td>    252.</td>\n",
       "</tr>\n",
       "</table><br/><br/>Notes:<br/>[1] Standard Errors assume that the covariance matrix of the errors is correctly specified."
      ],
      "text/latex": [
       "\\begin{center}\n",
       "\\begin{tabular}{lclc}\n",
       "\\toprule\n",
       "\\textbf{Dep. Variable:}    &       calc       & \\textbf{  R-squared:         } &     0.194   \\\\\n",
       "\\textbf{Model:}            &       OLS        & \\textbf{  Adj. R-squared:    } &     0.173   \\\\\n",
       "\\textbf{Method:}           &  Least Squares   & \\textbf{  F-statistic:       } &     9.281   \\\\\n",
       "\\textbf{Date:}             & Thu, 11 Apr 2024 & \\textbf{  Prob (F-statistic):} &  0.000245   \\\\\n",
       "\\textbf{Time:}             &     20:10:56     & \\textbf{  Log-Likelihood:    } &   -299.32   \\\\\n",
       "\\textbf{No. Observations:} &          80      & \\textbf{  AIC:               } &     604.6   \\\\\n",
       "\\textbf{Df Residuals:}     &          77      & \\textbf{  BIC:               } &     611.8   \\\\\n",
       "\\textbf{Df Model:}         &           2      & \\textbf{                     } &             \\\\\n",
       "\\textbf{Covariance Type:}  &    nonrobust     & \\textbf{                     } &             \\\\\n",
       "\\bottomrule\n",
       "\\end{tabular}\n",
       "\\begin{tabular}{lcccccc}\n",
       "                   & \\textbf{coef} & \\textbf{std err} & \\textbf{t} & \\textbf{P$> |$t$|$} & \\textbf{[0.025} & \\textbf{0.975]}  \\\\\n",
       "\\midrule\n",
       "\\textbf{const}     &      47.5814  &       10.291     &     4.624  &         0.000        &       27.090    &       68.073     \\\\\n",
       "\\textbf{calc\\_hs}  &       7.0245  &        2.720     &     2.582  &         0.012        &        1.608    &       12.441     \\\\\n",
       "\\textbf{act\\_math} &       1.0907  &        0.365     &     2.988  &         0.004        &        0.364    &        1.818     \\\\\n",
       "\\bottomrule\n",
       "\\end{tabular}\n",
       "\\begin{tabular}{lclc}\n",
       "\\textbf{Omnibus:}       &  3.288 & \\textbf{  Durbin-Watson:     } &    1.767  \\\\\n",
       "\\textbf{Prob(Omnibus):} &  0.193 & \\textbf{  Jarque-Bera (JB):  } &    2.820  \\\\\n",
       "\\textbf{Skew:}          & -0.356 & \\textbf{  Prob(JB):          } &    0.244  \\\\\n",
       "\\textbf{Kurtosis:}      &  2.418 & \\textbf{  Cond. No.          } &     252.  \\\\\n",
       "\\bottomrule\n",
       "\\end{tabular}\n",
       "%\\caption{OLS Regression Results}\n",
       "\\end{center}\n",
       "\n",
       "Notes: \\newline\n",
       " [1] Standard Errors assume that the covariance matrix of the errors is correctly specified."
      ],
      "text/plain": [
       "<class 'statsmodels.iolib.summary.Summary'>\n",
       "\"\"\"\n",
       "                            OLS Regression Results                            \n",
       "==============================================================================\n",
       "Dep. Variable:                   calc   R-squared:                       0.194\n",
       "Model:                            OLS   Adj. R-squared:                  0.173\n",
       "Method:                 Least Squares   F-statistic:                     9.281\n",
       "Date:                Thu, 11 Apr 2024   Prob (F-statistic):           0.000245\n",
       "Time:                        20:10:56   Log-Likelihood:                -299.32\n",
       "No. Observations:                  80   AIC:                             604.6\n",
       "Df Residuals:                      77   BIC:                             611.8\n",
       "Df Model:                           2                                         \n",
       "Covariance Type:            nonrobust                                         \n",
       "==============================================================================\n",
       "                 coef    std err          t      P>|t|      [0.025      0.975]\n",
       "------------------------------------------------------------------------------\n",
       "const         47.5814     10.291      4.624      0.000      27.090      68.073\n",
       "calc_hs        7.0245      2.720      2.582      0.012       1.608      12.441\n",
       "act_math       1.0907      0.365      2.988      0.004       0.364       1.818\n",
       "==============================================================================\n",
       "Omnibus:                        3.288   Durbin-Watson:                   1.767\n",
       "Prob(Omnibus):                  0.193   Jarque-Bera (JB):                2.820\n",
       "Skew:                          -0.356   Prob(JB):                        0.244\n",
       "Kurtosis:                       2.418   Cond. No.                         252.\n",
       "==============================================================================\n",
       "\n",
       "Notes:\n",
       "[1] Standard Errors assume that the covariance matrix of the errors is correctly specified.\n",
       "\"\"\""
      ]
     },
     "execution_count": 172,
     "metadata": {},
     "output_type": "execute_result"
    }
   ],
   "source": [
    "# tho features, mind the F-statistic\n",
    "X = df[[\"calc_hs\", \"act_math\"]]\n",
    "X = sm.add_constant(X)\n",
    "\n",
    "ols_results = sm.OLS(y, X).fit()\n",
    "ols_results.summary()"
   ]
  },
  {
   "cell_type": "code",
   "execution_count": null,
   "id": "measured-adams",
   "metadata": {},
   "outputs": [],
   "source": []
  },
  {
   "cell_type": "code",
   "execution_count": null,
   "id": "16397781-b6bc-4d95-b1e0-508b5f5ee52c",
   "metadata": {},
   "outputs": [],
   "source": []
  }
 ],
 "metadata": {
  "kernelspec": {
   "display_name": "Python 3 (ipykernel)",
   "language": "python",
   "name": "python3"
  },
  "language_info": {
   "codemirror_mode": {
    "name": "ipython",
    "version": 3
   },
   "file_extension": ".py",
   "mimetype": "text/x-python",
   "name": "python",
   "nbconvert_exporter": "python",
   "pygments_lexer": "ipython3",
   "version": "3.11.9"
  },
  "toc-autonumbering": false,
  "toc-showmarkdowntxt": false
 },
 "nbformat": 4,
 "nbformat_minor": 5
}
