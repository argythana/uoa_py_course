{
 "cells": [
  {
   "cell_type": "markdown",
   "id": "90720fe3-258d-465c-a3ce-4dc12585712a",
   "metadata": {},
   "source": [
    "# Lecture 1, instructions, part D, Integrated Development Environments (IDEs = more than \"Editors\") and coding co-pilots.\n",
    "\n",
    "\n",
    "## 1) The role of an IDE such as PyCharm or VsCode\n",
    "[Integrated Development Editor: PyCharm IDE](https://www.jetbrains.com/pycharm/)    \n",
    "\n",
    "Install PyCharm Professional (or Visual Studio Code) and \"activate\" the pro license using your student's email.\n",
    " \n",
    "Create a new project.    \n",
    "Open an existing project.     \n",
    "Checkout the [scientific tools.](https://www.jetbrains.com/pycharm/features/scientific_tools.html)   \n",
    "\n",
    "Identify the version of python interpreter (bottom right corner in PyCharm)."
   ]
  },
  {
   "cell_type": "markdown",
   "id": "91aeafeb-77ee-4df1-a7c7-c7487bc37d17",
   "metadata": {},
   "source": [
    "## 2) Integrating AI code co-pilot in the IDE\n",
    "\n",
    "SignUp for [Github students pack.](https://education.github.com/pack)\n",
    "\n",
    "Ativate the **free for students** GitHub [AI copilot.](https://copilot.GitHub.com/)\n",
    "\n",
    "Integrate GitHub [copilot plugin in PyCharm](https://plugins.jetbrains.com/plugin/17718-github-copilot) or Visual Studio.   \n",
    "\n",
    "\n",
    "Try to discuss the lectures noteswith GitHub copilot.\n",
    "Ask it to:\n",
    "* explain in the detail the lecture notes.\n",
    "* find any mistakes, errors or typos in the lecture notes.\n",
    "* improve the lecture notes.\n",
    "\n",
    "For the whole course we will use GitHub co-pilot all the time to:\n",
    "* Explain what is presented in the lecture notes.\n",
    "* Ask questions about what is in the lecture notes.\n",
    "* Ask for more examples about each lecture.\n",
    "* Ask for more advanced examples about each lecture.\n",
    "* Solve the practice exercises.\n",
    "* Ask for alternative solutions for the practice exercises.\n",
    "* Ask to compare the alternative solutions for the practice exercises.\n",
    "* Ask for more advanced exercises to practice"
   ]
  },
  {
   "cell_type": "markdown",
   "id": "27abec7d-9d2b-4024-a7ac-b848b79fcd32",
   "metadata": {},
   "source": [
    "---\n",
    "**IMPORTANT**   \n",
    "Using an IDE and an integrated AI co-pilot is **MANDATORY** for this course.   \n",
    "Please make sure your setup is ready before the second lecture.\n",
    "\n",
    "### Please beware:\n",
    "1) AI \"hallucinations\" are a real thing.\n",
    "2) AI assistants are not \"Up-to-date\" most of the time.(e.g. pandas `append` ). We might see examples and exercises were GitHub copilot gets it totally wrong.\n",
    "3) Need for \"version control\" for AI assistants too.\n",
    "=> Copy-paste is an essential skill only if you know what you copy. A lot of replies are outdated, suboptimal, or absolutely false."
   ]
  }
 ],
 "metadata": {
  "kernelspec": {
   "display_name": "Python 3 (ipykernel)",
   "language": "python",
   "name": "python3"
  },
  "language_info": {
   "codemirror_mode": {
    "name": "ipython",
    "version": 3
   },
   "file_extension": ".py",
   "mimetype": "text/x-python",
   "name": "python",
   "nbconvert_exporter": "python",
   "pygments_lexer": "ipython3",
   "version": "3.11.11"
  }
 },
 "nbformat": 4,
 "nbformat_minor": 5
}
