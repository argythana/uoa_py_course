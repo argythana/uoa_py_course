{
 "cells": [
  {
   "cell_type": "markdown",
   "id": "90720fe3-258d-465c-a3ce-4dc12585712a",
   "metadata": {},
   "source": [
    "# Lecture 05. Python code quality Development Tools"
   ]
  },
  {
   "cell_type": "markdown",
   "id": "bab8e75d-75a9-43ca-bf24-cf6592c348cc",
   "metadata": {},
   "source": [
    "**IMPORTANT NOTE:** The following material is **optional** for this course.  \n",
    "Nevertherless, it is absolutely necessary if you want to actually learn python properly.  \n",
    "That is why it is presented almost from the start of the course.  \n",
    "\n",
    "But, because learning these tools exceeds the scope of an introductory course,\n",
    "and because you can better grasp their usage after having learned more than the basics:\n",
    "* The tools below will be presented briefly.    \n",
    "* Proper use of theses tools will not be part of the final assignment.\n",
    "\n",
    "## Python dev tools. Functionality, quality.\n",
    "* `pipx` (install python applications to be run from the command line)\n",
    "* `poetry` (package manager)\n",
    "* `black` (style formatter)\n",
    "* `ruff` (code linter). Ruff is compatible with `black`, but also has its own formatter.\n",
    "* `mypy` (static type checker)\n",
    "* `pydantic` (data type validator)\n",
    "  \n",
    "> Automate usage in Pycharm.  \n",
    "> or use from the command line.\n",
    "\n",
    "**Even better** run all tools one after another as part of your Continuous development workflow. Intro to CI/CD concepts (continuous integration/continuous deployment).  "
   ]
  },
  {
   "cell_type": "markdown",
   "id": "2339650f-c4b9-49b9-821c-c82448208de9",
   "metadata": {},
   "source": [
    "### a) Install Python applications with [pipx](https://pipx.pypa.io/stable/)\n",
    "Overview: What is pipx?\n",
    "\n",
    "pipx is a tool to help you install and run end-user applications written in Python. It's roughly similar to macOS's brew, JavaScript's npx, and Linux's apt.\n",
    "\n",
    "It's closely related to pip. In fact, it uses pip, but is focused on installing and managing Python packages that can be run from the command line directly as applications.\n",
    "How is it Different from pip?\n",
    "\n",
    "pip is a general-purpose package installer for both libraries and apps with no environment isolation. pipx is made specifically for application installation, as it adds isolation yet still makes the apps available in your shell: pipx creates an isolated environment for each application and its associated packages.\n",
    "\n",
    "pipx does not ship with pip, but installing it is often an important part of bootstrapping your system."
   ]
  },
  {
   "cell_type": "markdown",
   "id": "5e8152c2-7037-47cd-b42b-c6a70b02e940",
   "metadata": {},
   "source": [
    "### b) Python Package Management with [Poetry](https://python-poetry.org/)\n"
   ]
  },
  {
   "cell_type": "markdown",
   "id": "daa94964-3403-4333-b0f5-c31415a856ee",
   "metadata": {
    "jp-MarkdownHeadingCollapsed": true
   },
   "source": [
    "### c) Python code formatter: [Black](https://github.com/psf/black)\n",
    "Integrate Black in PyCharm. Use automatically (e.g. on save), or ad hoc from the command line. "
   ]
  },
  {
   "cell_type": "markdown",
   "id": "017ef50a-c7be-420f-8183-82d3fd1a8542",
   "metadata": {},
   "source": [
    "### d) Python linter and code formatter: [Ruff](https://github.com/astral-sh/ruff)\n",
    "Integrate Ruff in PyCharm. Use automatically (e.g. on save), or ad hoc from the command line.  "
   ]
  },
  {
   "cell_type": "markdown",
   "id": "10974f6e-569c-4821-8f9a-dbcea9ea53de",
   "metadata": {},
   "source": [
    "### e) Python static type checker: [mypy](https://mypy-lang.org/)\n",
    "Mypy type checks programs that have type annotations conforming to [PEP 484](https://peps.python.org/pep-0484/)."
   ]
  },
  {
   "cell_type": "markdown",
   "id": "24beaf96-a625-4880-b10b-226ad3c9bab1",
   "metadata": {},
   "source": [
    "### f) Python data type validator: [pydantic](https://docs.pydantic.dev/latest/)\n",
    "Pydantic uses type annotations to validates if data are what they should be according to their definition."
   ]
  }
 ],
 "metadata": {
  "kernelspec": {
   "display_name": "Python 3 (ipykernel)",
   "language": "python",
   "name": "python3"
  },
  "language_info": {
   "codemirror_mode": {
    "name": "ipython",
    "version": 3
   },
   "file_extension": ".py",
   "mimetype": "text/x-python",
   "name": "python",
   "nbconvert_exporter": "python",
   "pygments_lexer": "ipython3",
   "version": "3.11.9"
  }
 },
 "nbformat": 4,
 "nbformat_minor": 5
}
