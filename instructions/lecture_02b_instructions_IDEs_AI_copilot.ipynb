{
 "cells": [
  {
   "cell_type": "markdown",
   "id": "90720fe3-258d-465c-a3ce-4dc12585712a",
   "metadata": {},
   "source": [
    "# Lecture 02b. Instructions on Integrated Development Environments (IDEs = more than \"Editors\") and code co-pilot.\n",
    "\n",
    "\n",
    "## 1) The role of an IDE such as PyCharm or VsCode\n",
    "[Integrated Development Editor: PyCharm IDE](https://www.jetbrains.com/pycharm/)    \n",
    "\n",
    "Install PyCharm Professional or VsCode and activate it using your student's email.\n",
    " \n",
    "Create a new project.    \n",
    "Open an existing project.     \n",
    "Checkout the [scientific tools.](https://www.jetbrains.com/pycharm/features/scientific_tools.html)   \n",
    "\n",
    "Choose specific python interpreter and virtual environment per project.   "
   ]
  },
  {
   "cell_type": "markdown",
   "id": "91aeafeb-77ee-4df1-a7c7-c7487bc37d17",
   "metadata": {},
   "source": [
    "## 2) Integrating AI in the IDE\n",
    "\n",
    "SignUp for [Github students pack.](https://education.github.com/pack)\n",
    "\n",
    "Avtivate the free for students GitHub [AI copilot.](https://copilot.GitHub.com/)  \n",
    "\n",
    "Integrate GitHub [copilot plugin in PyCharm](https://plugins.jetbrains.com/plugin/17718-github-copilot) os Visual Studio.   \n",
    "\n",
    "Provide prompt examples for copilot.  \n",
    "Demonstrate usage of code completion and code generation.    \n",
    "Demonstrate documentation generation.  "
   ]
  },
  {
   "cell_type": "markdown",
   "id": "27abec7d-9d2b-4024-a7ac-b848b79fcd32",
   "metadata": {},
   "source": [
    "---\n",
    "**IMPORTANT**   \n",
    "Using an IDE and an integrated AI co-pilot is **almost MANDATORY** for this course.   \n",
    "\n",
    "### Please beware:\n",
    "1) Demonstrate AI Hallucinations.\n",
    "2) Demonstrate \"Outdated\" GitHub co-pilot (e.g. pandas `append` ). We will see examples and exercises were Github copilot gets it totally wrong in the pandas lecture.\n",
    "3) Copy paste is a skill if you know what you copy. A lot of replies in stackoverflow are outdated."
   ]
  }
 ],
 "metadata": {
  "kernelspec": {
   "display_name": "Python 3 (ipykernel)",
   "language": "python",
   "name": "python3"
  },
  "language_info": {
   "codemirror_mode": {
    "name": "ipython",
    "version": 3
   },
   "file_extension": ".py",
   "mimetype": "text/x-python",
   "name": "python",
   "nbconvert_exporter": "python",
   "pygments_lexer": "ipython3",
   "version": "3.11.9"
  }
 },
 "nbformat": 4,
 "nbformat_minor": 5
}
