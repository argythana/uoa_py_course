{
 "cells": [
  {
   "cell_type": "markdown",
   "id": "90720fe3-258d-465c-a3ce-4dc12585712a",
   "metadata": {},
   "source": [
    "# Lecture 05. Instructions on Integrated Development Environments and Tools\n",
    "\n",
    "**IMPORTANT NOTE:** Optional but very useful material.\n",
    "\n",
    "\n",
    "## 1) The role of an IDE such as PyCharm or VsCode\n",
    "[Integrated Development Editor: PyCharm IDE](https://www.jetbrains.com/pycharm/)    \n",
    "\n",
    "Install PyCharm Professional and activate it using your student's email.\n",
    " \n",
    "Create a new project in PyCharm.   \n",
    "Open an existing project in PyCharm.   \n",
    "Checkout the [scientific tools.](https://www.jetbrains.com/pycharm/features/scientific_tools.html)   \n",
    "\n",
    "Choose specific python interpreter and virtual environment per project in PyCharm.   "
   ]
  },
  {
   "cell_type": "markdown",
   "id": "91aeafeb-77ee-4df1-a7c7-c7487bc37d17",
   "metadata": {},
   "source": [
    "## 2) Integrating AI in the IDE\n",
    "\n",
    "SignUp for [Github students pack.](https://education.github.com/pack)\n",
    "\n",
    "Avtivate the free for students GitHub [AI copilot.](https://copilot.GitHub.com/)  \n",
    "\n",
    "Integrate GitHub [copilot plugin in PyCharm](https://plugins.jetbrains.com/plugin/17718-github-copilot).   \n",
    "Provide prompt examples for copilot.  \n",
    "Demonstrate usage of code completion and code generation.    \n",
    "Demonstrate documentation generation."
   ]
  },
  {
   "cell_type": "markdown",
   "id": "bab8e75d-75a9-43ca-bf24-cf6592c348cc",
   "metadata": {},
   "source": [
    "## 3) Python dev tools.\n",
    "* `pipx` (install cli packages)\n",
    "* `poetry` (package manager)\n",
    "* `black` (style formatter)\n",
    "* `ruff` (code linter). Ruff is compatible with `black`, but also has its own formatter.\n",
    "* `MyPy` (type checker)\n",
    "  \n",
    "> Automate usage of `black` and `ruff` in Pycharm.  \n",
    "or run `black` and `ruff` from the command line.\n",
    "\n",
    "**Even better** run all tools one after another as part of your development workflow. Intro to CI/CD concepts (continuous integration/continuous deployment).  "
   ]
  },
  {
   "cell_type": "markdown",
   "id": "2339650f-c4b9-49b9-821c-c82448208de9",
   "metadata": {},
   "source": [
    "### 3a) Install Python applications with [pipx](https://pipx.pypa.io/stable/)\n",
    "Overview: What is pipx?\n",
    "\n",
    "pipx is a tool to help you install and run end-user applications written in Python. It's roughly similar to macOS's brew, JavaScript's npx, and Linux's apt.\n",
    "\n",
    "It's closely related to pip. In fact, it uses pip, but is focused on installing and managing Python packages that can be run from the command line directly as applications.\n",
    "How is it Different from pip?\n",
    "\n",
    "pip is a general-purpose package installer for both libraries and apps with no environment isolation. pipx is made specifically for application installation, as it adds isolation yet still makes the apps available in your shell: pipx creates an isolated environment for each application and its associated packages.\n",
    "\n",
    "pipx does not ship with pip, but installing it is often an important part of bootstrapping your system."
   ]
  },
  {
   "cell_type": "markdown",
   "id": "5e8152c2-7037-47cd-b42b-c6a70b02e940",
   "metadata": {},
   "source": [
    "### 3b) Python Package Management with [Poetry](https://python-poetry.org/)\n"
   ]
  },
  {
   "cell_type": "markdown",
   "id": "daa94964-3403-4333-b0f5-c31415a856ee",
   "metadata": {
    "jp-MarkdownHeadingCollapsed": true
   },
   "source": [
    "### 3c) Python code formatter: [Black](https://github.com/psf/black)\n",
    "Integrate Black in PyCharm. Use automatically (e.g. on save), or ad hoc from the command line. "
   ]
  },
  {
   "cell_type": "markdown",
   "id": "017ef50a-c7be-420f-8183-82d3fd1a8542",
   "metadata": {},
   "source": [
    "### 3d) Python linter and code formatter: [Ruff](https://github.com/astral-sh/ruff)\n",
    "Integrate Ruff in PyCharm. Use automatically (e.g. on save), or ad hoc from the command line.  "
   ]
  },
  {
   "cell_type": "markdown",
   "id": "10974f6e-569c-4821-8f9a-dbcea9ea53de",
   "metadata": {},
   "source": [
    "### 3e) Python type checker: [MyPy](https://mypy-lang.org/)\n",
    "Mypy type checks programs that have type annotations conforming to [PEP 484](https://peps.python.org/pep-0484/)."
   ]
  },
  {
   "cell_type": "code",
   "execution_count": 2,
   "id": "06909072-4f18-4c40-b108-1392b9bb9c2e",
   "metadata": {},
   "outputs": [
    {
     "data": {
      "text/plain": [
       "'/home/tharg/venv_projects/uoa_py_course'"
      ]
     },
     "execution_count": 2,
     "metadata": {},
     "output_type": "execute_result"
    }
   ],
   "source": [
    "pwd"
   ]
  },
  {
   "cell_type": "code",
   "execution_count": null,
   "id": "78fcace1-9ed6-4610-b90e-7752e27c245e",
   "metadata": {},
   "outputs": [],
   "source": []
  }
 ],
 "metadata": {
  "kernelspec": {
   "display_name": "Python 3 (ipykernel)",
   "language": "python",
   "name": "python3"
  },
  "language_info": {
   "codemirror_mode": {
    "name": "ipython",
    "version": 3
   },
   "file_extension": ".py",
   "mimetype": "text/x-python",
   "name": "python",
   "nbconvert_exporter": "python",
   "pygments_lexer": "ipython3",
   "version": "3.11.8"
  }
 },
 "nbformat": 4,
 "nbformat_minor": 5
}
