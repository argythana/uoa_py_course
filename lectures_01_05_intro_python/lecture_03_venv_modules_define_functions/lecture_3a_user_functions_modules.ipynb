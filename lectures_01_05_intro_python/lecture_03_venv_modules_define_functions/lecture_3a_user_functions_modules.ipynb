{
 "cells": [
  {
   "cell_type": "markdown",
   "id": "higher-luxembourg",
   "metadata": {},
   "source": [
    "#Todo: REfactor in three files: 3a for user-functions, 3c for user-made modules.\n",
    "#Todo: Add more examples in 3b for usage of various types of parameters. Use files from \"old_stuff\" folder.\n",
    "\n",
    "#Todo: suggest two youtube videos. One from the python conference (when to create fucntions) and onr from arjan codes (for naming best practices)\n",
    "\n",
    "\n",
    "# Lecture 3a: User-defined functions, modules.\n",
    "\n",
    "> Purpose: decomposition, abstraction, reusability.\n",
    "> Modularity, modular development.  \n",
    "> Syntax, def, :, indented blocks, docstrings.  \n",
    "\n",
    "Parameters: a name that defines the arguments that a function takes.  \n",
    "\n",
    "Arguments:  \n",
    "* keyword => default values to the parameter names in the function defintion,   \n",
    "* positional => it is optional to assign values.  \n",
    "> Modular development.\n",
    "\n",
    "## Purpose: decomposition, abstraction, reusability, modularity.\n",
    "When something is repeated in the code => define a function. DNRY.  \n",
    "When a task needs to be repeated => define a function. DNRY."
   ]
  },
  {
   "cell_type": "markdown",
   "id": "located-conversation",
   "metadata": {},
   "source": [
    "## Syntax\n",
    "def function_name():  \n",
    "docstrings = documentation string = output of help(function_name)  \n",
    "Body as indented block: always 4 blank spaces.  \n",
    "Body = state what to do.  \n",
    "Call a function: function_name and parentheses.\n",
    "\n",
    "First write the code as a script, when it works, define the function.  \n",
    "Use debugging statements e.g. print(), within the function, to test and inspect the intermediate results."
   ]
  },
  {
   "cell_type": "code",
   "execution_count": 1,
   "id": "younger-algebra",
   "metadata": {},
   "outputs": [],
   "source": [
    "# a very useless function. \n",
    "def help_print():\n",
    "    help(print)\n",
    "    print(\"The most useless function ever.\")"
   ]
  },
  {
   "cell_type": "code",
   "execution_count": 2,
   "id": "incoming-there",
   "metadata": {},
   "outputs": [
    {
     "name": "stdout",
     "output_type": "stream",
     "text": [
      "Help on built-in function print in module builtins:\n",
      "\n",
      "print(...)\n",
      "    print(value, ..., sep=' ', end='\\n', file=sys.stdout, flush=False)\n",
      "    \n",
      "    Prints the values to a stream, or to sys.stdout by default.\n",
      "    Optional keyword arguments:\n",
      "    file:  a file-like object (stream); defaults to the current sys.stdout.\n",
      "    sep:   string inserted between values, default a space.\n",
      "    end:   string appended after the last value, default a newline.\n",
      "    flush: whether to forcibly flush the stream.\n",
      "\n",
      "The most useless function ever.\n"
     ]
    }
   ],
   "source": [
    "help_print()"
   ]
  },
  {
   "cell_type": "code",
   "execution_count": 3,
   "id": "complicated-peace",
   "metadata": {},
   "outputs": [],
   "source": [
    "# define function with one keyword argument.\n",
    "# Recommended: no blank space between argument and value.\n",
    "def simple_msg(message=\"Python is great.\"):  \n",
    "#     \"\"\"Trivial example, 1 positional argument, default value=Python is great.\"\"\"\n",
    "    double_message = (message + \" \") * 2\n",
    "    print(message)"
   ]
  },
  {
   "cell_type": "code",
   "execution_count": 4,
   "id": "marine-paintball",
   "metadata": {},
   "outputs": [
    {
     "name": "stdout",
     "output_type": "stream",
     "text": [
      "Python is great.\n"
     ]
    }
   ],
   "source": [
    "# call with default value\n",
    "simple_msg()"
   ]
  },
  {
   "cell_type": "code",
   "execution_count": 5,
   "id": "derived-criticism",
   "metadata": {},
   "outputs": [
    {
     "name": "stdout",
     "output_type": "stream",
     "text": [
      "Python is boring!\n"
     ]
    }
   ],
   "source": [
    "# Call with non default value\n",
    "simple_msg('Python is boring!')"
   ]
  },
  {
   "cell_type": "code",
   "execution_count": 6,
   "id": "liberal-equilibrium",
   "metadata": {},
   "outputs": [
    {
     "name": "stdout",
     "output_type": "stream",
     "text": [
      "Help on function simple_msg in module __main__:\n",
      "\n",
      "simple_msg(message='Python is great.')\n",
      "    # define function with one keyword argument.\n",
      "    # Recommended: no blank space between argument and value.\n",
      "\n"
     ]
    }
   ],
   "source": [
    "# function doc\n",
    "help(simple_msg)"
   ]
  },
  {
   "cell_type": "code",
   "execution_count": 7,
   "id": "boring-rugby",
   "metadata": {},
   "outputs": [
    {
     "name": "stdout",
     "output_type": "stream",
     "text": [
      "None\n"
     ]
    }
   ],
   "source": [
    "print(simple_msg.__doc__)"
   ]
  },
  {
   "cell_type": "code",
   "execution_count": 8,
   "id": "electric-export",
   "metadata": {},
   "outputs": [
    {
     "name": "stdout",
     "output_type": "stream",
     "text": [
      "None\n"
     ]
    }
   ],
   "source": [
    "print(help_print.__doc__)"
   ]
  },
  {
   "cell_type": "markdown",
   "id": "sought-cedar",
   "metadata": {},
   "source": [
    "## Parameters and arguments: keyword, positional\n",
    "\n",
    "Reminder variables in Python are: a name which refers to an object and is always a name=value pair.   \n",
    "\n",
    "[Argument](https://docs.python.org/3/glossary.html#term-argument) is a value passed to a function when calling the function:  \n",
    "> keyword => referenced by the name, assign value to a name.   \n",
    "> positional => referenced by position.  \n",
    "> Argumnet is a value passed to a function (or method) when calling the function. There are two kinds of argument:\n",
    "\n",
    "    keyword argument: an argument preceded by an identifier (e.g. name=) in a function call or passed as a value in a dictionary preceded by **. For example, 3 and 5 are both keyword arguments in the following calls to complex():\n",
    "    \n",
    "```python\n",
    "    complex(real=3, imag=5)\n",
    "    complex(**{'real': 3, 'imag': 5})\n",
    "```\n",
    "\n",
    "    positional argument: an argument that is not a keyword argument. Positional arguments can appear at the beginning of an argument list and/or be passed as elements of an iterable preceded by *. For example, 3 and 5 are both positional arguments in the following calls: \n",
    "```python\n",
    "complex(3, 5)\n",
    "complex(*(3, 5))\n",
    "```\n",
    "\n",
    "[Parameter](https://docs.python.org/3/glossary.html#term-parameter) is a named entity that specifies what argument a function may accept.  \n",
    "\n",
    "[Difference between Parameters and Arguments:](https://docs.python.org/3/faq/programming.html#what-is-the-difference-between-arguments-and-parameters) Parameters are defined by the names that appear in a function definition, whereas arguments are the values actually passed to a function when calling it. Parameters define what types of arguments a function can accept.  \n",
    "\n",
    "\n",
    "\n",
    "Assigning a default value for the parameter in the function definition => The argument reference is optional when calling the function.  \n",
    "In python optional arguments are arguments that have a default value.  \n",
    "Positional argument: Neither default value, not default name, no name at all.  \n",
    "Optional value assignment at definition, necessary value assignment when calling the function.  \n",
    "When calling a function you have to assign values for the positional arguments before the keyword arguments (else => SyntaxError).  \n",
    "TypeError: missing required positional argument.  \n",
    "\n",
    "Must Read: [Positional, Keyword, optional, required:](https://stackoverflow.com/a/57819001)  \n",
    "Oftenly: The accepted answer is not the correct answer in stackoverflow.  \n",
    "> Notice: dates, versions. google search is a MUST HAVE skill.  \n",
    "\n",
    "Python docs, [since 3.8 there are positional only parameters](https://docs.python.org/3.8/whatsnew/3.8.html#positional-only-parameters).    \n",
    "In my humble opinion, this is one great \"new\" feature of Python.   \n",
    "positional-only: specifies an argument that can be supplied only by position. Positional-only parameters can be defined by including a / character in the parameter list of the function definition after them, for example posonly1 and posonly2 in the following:\n",
    "```python\n",
    "def func(posonly1, posonly2, /, positional_or_keyword): ...\n",
    "```"
   ]
  },
  {
   "cell_type": "code",
   "execution_count": 9,
   "id": "comparative-exclusive",
   "metadata": {},
   "outputs": [],
   "source": [
    "# After python 3.8: the / notation separates positional-only arguments.\n",
    "def f(a, b, /, c, d, e=50):\n",
    "    print(a+1, b+2, c+3, d+4, e*2)"
   ]
  },
  {
   "cell_type": "code",
   "execution_count": 10,
   "id": "forced-smith",
   "metadata": {},
   "outputs": [
    {
     "name": "stdout",
     "output_type": "stream",
     "text": [
      "101 202 33 44 100\n"
     ]
    }
   ],
   "source": [
    "# e has a default value. It is not referenced, and takes the defaulty value.\n",
    "f(100, 200, 30, 40)"
   ]
  },
  {
   "cell_type": "code",
   "execution_count": 12,
   "id": "promotional-vegetation",
   "metadata": {},
   "outputs": [
    {
     "ename": "TypeError",
     "evalue": "f() missing 2 required positional arguments: 'c' and 'd'",
     "output_type": "error",
     "traceback": [
      "\u001B[1;31m---------------------------------------------------------------------------\u001B[0m",
      "\u001B[1;31mTypeError\u001B[0m                                 Traceback (most recent call last)",
      "\u001B[1;32m<ipython-input-12-0eb064d77f33>\u001B[0m in \u001B[0;36m<module>\u001B[1;34m\u001B[0m\n\u001B[0;32m      1\u001B[0m \u001B[1;31m# TypeError: missing positional arguments\u001B[0m\u001B[1;33m\u001B[0m\u001B[1;33m\u001B[0m\u001B[1;33m\u001B[0m\u001B[0m\n\u001B[1;32m----> 2\u001B[1;33m \u001B[0mf\u001B[0m\u001B[1;33m(\u001B[0m\u001B[1;36m10\u001B[0m\u001B[1;33m,\u001B[0m \u001B[1;36m20\u001B[0m\u001B[1;33m,\u001B[0m \u001B[0me\u001B[0m\u001B[1;33m=\u001B[0m\u001B[1;36m30\u001B[0m\u001B[1;33m)\u001B[0m\u001B[1;33m\u001B[0m\u001B[1;33m\u001B[0m\u001B[0m\n\u001B[0m",
      "\u001B[1;31mTypeError\u001B[0m: f() missing 2 required positional arguments: 'c' and 'd'"
     ]
    }
   ],
   "source": [
    "# TypeError: missing positional arguments\n",
    "f(10, 20, e=30)"
   ]
  },
  {
   "cell_type": "code",
   "execution_count": 13,
   "id": "sustained-heritage",
   "metadata": {},
   "outputs": [
    {
     "ename": "TypeError",
     "evalue": "f() got some positional-only arguments passed as keyword arguments: 'a, b'",
     "output_type": "error",
     "traceback": [
      "\u001B[1;31m---------------------------------------------------------------------------\u001B[0m",
      "\u001B[1;31mTypeError\u001B[0m                                 Traceback (most recent call last)",
      "\u001B[1;32m<ipython-input-13-edd154c1699c>\u001B[0m in \u001B[0;36m<module>\u001B[1;34m\u001B[0m\n\u001B[0;32m      1\u001B[0m \u001B[1;31m# TypeError, arguments a and b are positional only. Cannot be called by their name.\u001B[0m\u001B[1;33m\u001B[0m\u001B[1;33m\u001B[0m\u001B[1;33m\u001B[0m\u001B[0m\n\u001B[1;32m----> 2\u001B[1;33m \u001B[0mf\u001B[0m\u001B[1;33m(\u001B[0m\u001B[0ma\u001B[0m\u001B[1;33m=\u001B[0m\u001B[1;36m10\u001B[0m\u001B[1;33m,\u001B[0m \u001B[0mb\u001B[0m\u001B[1;33m=\u001B[0m\u001B[1;36m20\u001B[0m\u001B[1;33m,\u001B[0m \u001B[0me\u001B[0m\u001B[1;33m=\u001B[0m\u001B[1;36m30\u001B[0m\u001B[1;33m)\u001B[0m\u001B[1;33m\u001B[0m\u001B[1;33m\u001B[0m\u001B[0m\n\u001B[0m",
      "\u001B[1;31mTypeError\u001B[0m: f() got some positional-only arguments passed as keyword arguments: 'a, b'"
     ]
    }
   ],
   "source": [
    "# TypeError, arguments a and b are positional only. Cannot be called by their name.\n",
    "f(a=10, b=20, e=30)"
   ]
  },
  {
   "cell_type": "code",
   "execution_count": 14,
   "id": "configured-monster",
   "metadata": {},
   "outputs": [
    {
     "ename": "TypeError",
     "evalue": "f() got some positional-only arguments passed as keyword arguments: 'b'",
     "output_type": "error",
     "traceback": [
      "\u001B[1;31m---------------------------------------------------------------------------\u001B[0m",
      "\u001B[1;31mTypeError\u001B[0m                                 Traceback (most recent call last)",
      "\u001B[1;32m<ipython-input-14-c55c326911c1>\u001B[0m in \u001B[0;36m<module>\u001B[1;34m\u001B[0m\n\u001B[0;32m      1\u001B[0m \u001B[1;31m# Similar as above TypeError! Argument b cannot be a keyword argument.\u001B[0m\u001B[1;33m\u001B[0m\u001B[1;33m\u001B[0m\u001B[1;33m\u001B[0m\u001B[0m\n\u001B[1;32m----> 2\u001B[1;33m \u001B[0mf\u001B[0m\u001B[1;33m(\u001B[0m\u001B[1;36m10\u001B[0m\u001B[1;33m,\u001B[0m \u001B[0mb\u001B[0m\u001B[1;33m=\u001B[0m\u001B[1;36m20\u001B[0m\u001B[1;33m,\u001B[0m \u001B[0mc\u001B[0m\u001B[1;33m=\u001B[0m\u001B[1;36m30\u001B[0m\u001B[1;33m,\u001B[0m \u001B[0md\u001B[0m\u001B[1;33m=\u001B[0m\u001B[1;36m40\u001B[0m\u001B[1;33m,\u001B[0m \u001B[0me\u001B[0m\u001B[1;33m=\u001B[0m\u001B[1;36m50\u001B[0m\u001B[1;33m)\u001B[0m\u001B[1;33m\u001B[0m\u001B[1;33m\u001B[0m\u001B[0m\n\u001B[0m",
      "\u001B[1;31mTypeError\u001B[0m: f() got some positional-only arguments passed as keyword arguments: 'b'"
     ]
    }
   ],
   "source": [
    "# Similar as above TypeError! Argument b cannot be a keyword argument.\n",
    "f(10, b=20, c=30, d=40, e=50)"
   ]
  },
  {
   "cell_type": "code",
   "execution_count": 15,
   "id": "controversial-atlantic",
   "metadata": {},
   "outputs": [
    {
     "name": "stdout",
     "output_type": "stream",
     "text": [
      "11 22 373 1004 100\n"
     ]
    }
   ],
   "source": [
    "# Argument d is both positional and keyword.\n",
    "f(10, 20, 370, d=1000, e=50)"
   ]
  },
  {
   "cell_type": "code",
   "execution_count": 16,
   "id": "exempt-tunnel",
   "metadata": {},
   "outputs": [
    {
     "ename": "SyntaxError",
     "evalue": "positional argument follows keyword argument (<ipython-input-16-97e58e21facf>, line 3)",
     "output_type": "error",
     "traceback": [
      "\u001B[1;36m  File \u001B[1;32m\"<ipython-input-16-97e58e21facf>\"\u001B[1;36m, line \u001B[1;32m3\u001B[0m\n\u001B[1;33m    f(10, 20, c=30, 40, 50)\u001B[0m\n\u001B[1;37m                          ^\u001B[0m\n\u001B[1;31mSyntaxError\u001B[0m\u001B[1;31m:\u001B[0m positional argument follows keyword argument\n"
     ]
    }
   ],
   "source": [
    "# SyntaxError: positional arguments should always be called first.\n",
    "# Since argument c is called as keyword then d should also be called as keyword argument.\n",
    "f(10, 20, c=30, 40, 50)"
   ]
  },
  {
   "cell_type": "code",
   "execution_count": 17,
   "id": "significant-fiction",
   "metadata": {},
   "outputs": [
    {
     "name": "stdout",
     "output_type": "stream",
     "text": [
      "11 22 33 44 100\n"
     ]
    }
   ],
   "source": [
    "# Positional arguments first, c, d and e  are called as keyword arguments.\n",
    "f(10, 20, c=30, d=40, e=50)"
   ]
  },
  {
   "cell_type": "code",
   "execution_count": 18,
   "id": "killing-consolidation",
   "metadata": {},
   "outputs": [
    {
     "ename": "TypeError",
     "evalue": "f() missing 1 required positional argument: 'd'",
     "output_type": "error",
     "traceback": [
      "\u001B[1;31m---------------------------------------------------------------------------\u001B[0m",
      "\u001B[1;31mTypeError\u001B[0m                                 Traceback (most recent call last)",
      "\u001B[1;32m<ipython-input-18-462343e72fdd>\u001B[0m in \u001B[0;36m<module>\u001B[1;34m\u001B[0m\n\u001B[0;32m      1\u001B[0m \u001B[1;31m# TypeError: Argument d must be called too\u001B[0m\u001B[1;33m\u001B[0m\u001B[1;33m\u001B[0m\u001B[1;33m\u001B[0m\u001B[0m\n\u001B[1;32m----> 2\u001B[1;33m \u001B[0mf\u001B[0m\u001B[1;33m(\u001B[0m\u001B[1;36m10\u001B[0m\u001B[1;33m,\u001B[0m \u001B[1;36m20\u001B[0m\u001B[1;33m,\u001B[0m \u001B[1;36m30\u001B[0m\u001B[1;33m,\u001B[0m \u001B[0me\u001B[0m\u001B[1;33m=\u001B[0m\u001B[1;36m40\u001B[0m\u001B[1;33m)\u001B[0m\u001B[1;33m\u001B[0m\u001B[1;33m\u001B[0m\u001B[0m\n\u001B[0m",
      "\u001B[1;31mTypeError\u001B[0m: f() missing 1 required positional argument: 'd'"
     ]
    }
   ],
   "source": [
    "# TypeError: Argument d must be called too\n",
    "f(10, 20, 30, e=40)"
   ]
  },
  {
   "cell_type": "code",
   "execution_count": 19,
   "id": "dedicated-sunrise",
   "metadata": {},
   "outputs": [],
   "source": [
    "# positional and keyword argument, no default value => need to assign when calling it.\n",
    "# another useless function.\n",
    "def help_any(unknown_obj):\n",
    "    help(unknown_obj)"
   ]
  },
  {
   "cell_type": "code",
   "execution_count": 20,
   "id": "public-pottery",
   "metadata": {},
   "outputs": [
    {
     "name": "stdout",
     "output_type": "stream",
     "text": [
      "Help on method raw_input in module ipykernel.kernelbase:\n",
      "\n",
      "raw_input(prompt='') method of ipykernel.ipkernel.IPythonKernel instance\n",
      "    Forward raw_input to frontends\n",
      "    \n",
      "    Raises\n",
      "    ------\n",
      "    StdinNotImplementedError if active frontend doesn't support stdin.\n",
      "\n"
     ]
    }
   ],
   "source": [
    "# This works\n",
    "help_any(input)"
   ]
  },
  {
   "cell_type": "code",
   "execution_count": 21,
   "id": "sorted-breakdown",
   "metadata": {},
   "outputs": [
    {
     "ename": "TypeError",
     "evalue": "help_any() missing 1 required positional argument: 'unknown_obj'",
     "output_type": "error",
     "traceback": [
      "\u001B[1;31m---------------------------------------------------------------------------\u001B[0m",
      "\u001B[1;31mTypeError\u001B[0m                                 Traceback (most recent call last)",
      "\u001B[1;32m<ipython-input-21-b27e25122f2a>\u001B[0m in \u001B[0;36m<module>\u001B[1;34m\u001B[0m\n\u001B[0;32m      1\u001B[0m \u001B[1;31m# This raises TypeError\u001B[0m\u001B[1;33m\u001B[0m\u001B[1;33m\u001B[0m\u001B[1;33m\u001B[0m\u001B[0m\n\u001B[1;32m----> 2\u001B[1;33m \u001B[0mhelp_any\u001B[0m\u001B[1;33m(\u001B[0m\u001B[1;33m)\u001B[0m\u001B[1;33m\u001B[0m\u001B[1;33m\u001B[0m\u001B[0m\n\u001B[0m",
      "\u001B[1;31mTypeError\u001B[0m: help_any() missing 1 required positional argument: 'unknown_obj'"
     ]
    }
   ],
   "source": [
    "# This raises TypeError\n",
    "help_any()"
   ]
  },
  {
   "cell_type": "code",
   "execution_count": 22,
   "id": "lightweight-health",
   "metadata": {},
   "outputs": [
    {
     "ename": "SyntaxError",
     "evalue": "positional argument follows keyword argument (<ipython-input-22-c03f4e279619>, line 2)",
     "output_type": "error",
     "traceback": [
      "\u001B[1;36m  File \u001B[1;32m\"<ipython-input-22-c03f4e279619>\"\u001B[1;36m, line \u001B[1;32m2\u001B[0m\n\u001B[1;33m    print(sep=\"|\", \"This call will not work.\")\u001B[0m\n\u001B[1;37m                                             ^\u001B[0m\n\u001B[1;31mSyntaxError\u001B[0m\u001B[1;31m:\u001B[0m positional argument follows keyword argument\n"
     ]
    }
   ],
   "source": [
    "## SyntaxError: positional argument follows keyword argument\n",
    "print(sep=\"|\", \"This call will not work.\")"
   ]
  },
  {
   "cell_type": "code",
   "execution_count": 23,
   "id": "useful-familiar",
   "metadata": {},
   "outputs": [],
   "source": [
    "# 3 args, 2 non-default, 1 default value\n",
    "# assign value to positional args before keyword (else => SyntaxError)\n",
    "# output  order not the same thing as input order!\n",
    "def message_from_to(sender, receiver, message='Please study'):\n",
    "    '''3 args, 1 keyword with default value. Assign values to sender, receiver'''\n",
    "    print(sender, message, receiver)  # Very Bad order, still works."
   ]
  },
  {
   "cell_type": "code",
   "execution_count": 24,
   "id": "loaded-sunset",
   "metadata": {},
   "outputs": [
    {
     "name": "stdout",
     "output_type": "stream",
     "text": [
      "Thanasis: Please study Dear Students,\n"
     ]
    }
   ],
   "source": [
    "message_from_to('Thanasis:', 'Dear Students,')"
   ]
  },
  {
   "cell_type": "code",
   "execution_count": 25,
   "id": "cross-stroke",
   "metadata": {},
   "outputs": [
    {
     "name": "stdout",
     "output_type": "stream",
     "text": [
      "Thanasis kindly asks you to study, dear students\n"
     ]
    }
   ],
   "source": [
    "message_from_to('Thanasis', 'students', 'kindly asks you to study, dear')"
   ]
  },
  {
   "cell_type": "code",
   "execution_count": 26,
   "id": "electric-protest",
   "metadata": {},
   "outputs": [
    {
     "name": "stdout",
     "output_type": "stream",
     "text": [
      "Students: No way, this is so boring! Thanasis\n"
     ]
    }
   ],
   "source": [
    "# Both work syntatically. Which is \"wrong\", why ?\n",
    "message_from_to('Students:', 'Thanasis', 'No way, this is so boring!')"
   ]
  },
  {
   "cell_type": "code",
   "execution_count": 27,
   "id": "national-operation",
   "metadata": {},
   "outputs": [
    {
     "name": "stdout",
     "output_type": "stream",
     "text": [
      "Students: Thanasis No way this is so boring!\n"
     ]
    }
   ],
   "source": [
    "message_from_to('Students:', 'No way this is so boring!', 'Thanasis')"
   ]
  },
  {
   "cell_type": "code",
   "execution_count": 28,
   "id": "bearing-entrance",
   "metadata": {},
   "outputs": [],
   "source": [
    "def calc_bill(q, items, p):  # no object type specified\n",
    "    total = q * p\n",
    "    print(f'{q} {items}, cost {total} \\n')  # Match definition order."
   ]
  },
  {
   "cell_type": "code",
   "execution_count": 29,
   "id": "white-registrar",
   "metadata": {},
   "outputs": [
    {
     "name": "stdout",
     "output_type": "stream",
     "text": [
      "3 books, cost 30 \n",
      "\n"
     ]
    }
   ],
   "source": [
    "# Order of arguments value assignemnt matches definition,\n",
    "calc_bill(3, 'books', 10)"
   ]
  },
  {
   "cell_type": "code",
   "execution_count": 30,
   "id": "neural-yeast",
   "metadata": {},
   "outputs": [
    {
     "name": "stdout",
     "output_type": "stream",
     "text": [
      "3 books, cost 30 \n",
      "\n"
     ]
    }
   ],
   "source": [
    "# Order of values DOES NOT match definition, flexible order.\n",
    "calc_bill(items='books', p=10, q=3) "
   ]
  },
  {
   "cell_type": "markdown",
   "id": "coastal-light",
   "metadata": {},
   "source": [
    "### Arbitrary number of args *"
   ]
  },
  {
   "cell_type": "code",
   "execution_count": 31,
   "id": "surprising-polish",
   "metadata": {},
   "outputs": [
    {
     "name": "stdout",
     "output_type": "stream",
     "text": [
      "1\n",
      "2\n",
      "6\n",
      "24\n",
      "120\n",
      "720\n",
      "5040\n",
      "40320\n",
      "362880\n"
     ]
    }
   ],
   "source": [
    "def multiply(*my_arguments):\n",
    "    s = 1  # neutral factor in multiplication.\n",
    "    for number in my_arguments:\n",
    "        s *= number  # this syntax means  s = s*n\n",
    "        print(s)\n",
    "    #print(s) \n",
    "\n",
    "multiply(1, 2, 3, 4, 5, 6, 7, 8, 9)"
   ]
  },
  {
   "cell_type": "code",
   "execution_count": 32,
   "id": "literary-stevens",
   "metadata": {},
   "outputs": [
    {
     "name": "stdout",
     "output_type": "stream",
     "text": [
      "[1, 2, 3, 4, 5, 6]\n"
     ]
    }
   ],
   "source": [
    "# take your time to see why we get this result!\n",
    "my_example_list = [1, 2, 3, 4, 5, 6]\n",
    "multiply(my_example_list)"
   ]
  },
  {
   "cell_type": "code",
   "execution_count": 33,
   "id": "brutal-catalyst",
   "metadata": {},
   "outputs": [
    {
     "name": "stdout",
     "output_type": "stream",
     "text": [
      "my_imagination_is_that_of_a_brick\n"
     ]
    }
   ],
   "source": [
    "my_example_string = \"my_imagination_is_that_of_a_brick\"\n",
    "\n",
    "multiply(my_example_string)"
   ]
  },
  {
   "cell_type": "markdown",
   "id": "focused-delta",
   "metadata": {},
   "source": [
    "Reminder: Provide general purpose and intuitive names in functions and variables.  \n",
    "Always look at data types."
   ]
  },
  {
   "cell_type": "code",
   "execution_count": 34,
   "id": "conceptual-hurricane",
   "metadata": {},
   "outputs": [],
   "source": [
    "def multiply_iterable_objects(*my_object):\n",
    "    i = 1  # initiate a number to count.\n",
    "    print(my_object)\n",
    "    for iterable_object in my_object:\n",
    "        for item in iterable_object:\n",
    "            i = i + 1  # a simple counter.\n",
    "            item = i * item  \n",
    "            print(item)"
   ]
  },
  {
   "cell_type": "code",
   "execution_count": 35,
   "id": "starting-recommendation",
   "metadata": {},
   "outputs": [
    {
     "name": "stdout",
     "output_type": "stream",
     "text": [
      "('brick',)\n",
      "bb\n",
      "rrr\n",
      "iiii\n",
      "ccccc\n",
      "kkkkkk\n"
     ]
    }
   ],
   "source": [
    "my_example_string = \"brick\"\n",
    "\n",
    "multiply_iterable_objects(my_example_string)"
   ]
  },
  {
   "cell_type": "code",
   "execution_count": 36,
   "id": "protected-newport",
   "metadata": {},
   "outputs": [
    {
     "name": "stdout",
     "output_type": "stream",
     "text": [
      "([1, 2, 3, 4, 5, 6],)\n",
      "2\n",
      "6\n",
      "12\n",
      "20\n",
      "30\n",
      "42\n"
     ]
    }
   ],
   "source": [
    "my_example_list = [1, 2, 3, 4, 5, 6]\n",
    "\n",
    "multiply_iterable_objects(my_example_list)"
   ]
  },
  {
   "cell_type": "code",
   "execution_count": 37,
   "id": "hourly-layer",
   "metadata": {},
   "outputs": [
    {
     "name": "stdout",
     "output_type": "stream",
     "text": [
      "('brick', [1, 2, 3, 4, 5, 6])\n",
      "bb\n",
      "rrr\n",
      "iiii\n",
      "ccccc\n",
      "kkkkkk\n",
      "7\n",
      "16\n",
      "27\n",
      "40\n",
      "55\n",
      "72\n"
     ]
    }
   ],
   "source": [
    "# can you spot the mistake of the function above in this example?\n",
    "my_example_string = \"brick\"\n",
    "my_example_list = [1, 2, 3, 4, 5, 6]\n",
    "\n",
    "multiply_iterable_objects(my_example_string, my_example_list)"
   ]
  },
  {
   "cell_type": "code",
   "execution_count": 38,
   "id": "western-campaign",
   "metadata": {},
   "outputs": [
    {
     "name": "stdout",
     "output_type": "stream",
     "text": [
      "('brick', [1, 2, 3, 4, 5, 6])\n",
      "bb\n",
      "rr\n",
      "ii\n",
      "cc\n",
      "kk\n",
      "3\n",
      "6\n",
      "9\n",
      "12\n",
      "15\n",
      "18\n"
     ]
    }
   ],
   "source": [
    "# can you spot the problem here ?\n",
    "def multiply_iterable_objects(*my_object):\n",
    "    i = 1\n",
    "    print(my_object)\n",
    "    for iterable_object in my_object:\n",
    "        i = i + 1\n",
    "        for item in iterable_object:       \n",
    "            item = i * item  \n",
    "            print(item)\n",
    "\n",
    "            \n",
    "multiply_iterable_objects(my_example_string, my_example_list)"
   ]
  },
  {
   "cell_type": "code",
   "execution_count": 39,
   "id": "immune-shuttle",
   "metadata": {},
   "outputs": [
    {
     "name": "stdout",
     "output_type": "stream",
     "text": [
      "('brick', [1, 2, 3, 4, 5, 6])\n",
      "b\n",
      "rr\n",
      "iii\n",
      "cccc\n",
      "kkkkk\n",
      "1\n",
      "4\n",
      "9\n",
      "16\n",
      "25\n",
      "36\n"
     ]
    }
   ],
   "source": [
    "# this is a consistent definition, that performs the same process in any iterable input.\n",
    "def multiply_iterable_objects(*my_object):  \n",
    "    print(my_object)\n",
    "    for iterable_object in my_object:\n",
    "        i = 0  # initiate a number to count.\n",
    "        for item in iterable_object:\n",
    "            i = i + 1\n",
    "            item = i * item  \n",
    "            print(item)\n",
    "\n",
    "multiply_iterable_objects(my_example_string, my_example_list)"
   ]
  },
  {
   "cell_type": "markdown",
   "id": "amazing-vermont",
   "metadata": {},
   "source": [
    "## Modular development of functions.\n",
    "\n",
    "Define functions and call them from another function.    \n",
    "The return statement:  Return function’s **result** back to the caller.  \n",
    "Name space, global and local scope in variables [Extra, advanced reading](https://docs.python.org/3/tutorial/classes.html#python-scopes-and-namespaces).  \n",
    "Local scope of a variable: is available, only within the function or the code block.  \n",
    "Global scope of variable: is available in the module."
   ]
  },
  {
   "cell_type": "code",
   "execution_count": 40,
   "id": "transsexual-banking",
   "metadata": {},
   "outputs": [],
   "source": [
    "# no reference to math module when sqrt() is called.\n",
    "from math import sqrt\n",
    "\n",
    "# This way to use sqrt you need: math.sqrt()\n",
    "# import math\n",
    "\n",
    "\n",
    "def myhypot(x, y):\n",
    "    '''CALCULATE hypotenuse. Assign values for x, y.'''\n",
    "    # no reference to math module when using sqrt()\n",
    "    hyp = sqrt(x*x + y*y)  # hyp = local variable\n",
    "    return hyp  # The result only is returned by the function back to the called. Not the name value pair."
   ]
  },
  {
   "cell_type": "code",
   "execution_count": 52,
   "id": "concerned-source",
   "metadata": {},
   "outputs": [
    {
     "data": {
      "text/plain": [
       "10.0"
      ]
     },
     "execution_count": 52,
     "metadata": {},
     "output_type": "execute_result"
    }
   ],
   "source": [
    "# Need to pass exactly two arguments inside\n",
    "myhypot(6, 8)"
   ]
  },
  {
   "cell_type": "code",
   "execution_count": 53,
   "id": "freelance-plaza",
   "metadata": {},
   "outputs": [
    {
     "ename": "TypeError",
     "evalue": "myhypot() missing 1 required positional argument: 'y'",
     "output_type": "error",
     "traceback": [
      "\u001B[1;31m---------------------------------------------------------------------------\u001B[0m",
      "\u001B[1;31mTypeError\u001B[0m                                 Traceback (most recent call last)",
      "\u001B[1;32m<ipython-input-53-f718ba5c7aa4>\u001B[0m in \u001B[0;36m<module>\u001B[1;34m\u001B[0m\n\u001B[0;32m      1\u001B[0m \u001B[1;31m# TypeError: myhypot() missing 1 required positional argument: 'y'\u001B[0m\u001B[1;33m\u001B[0m\u001B[1;33m\u001B[0m\u001B[1;33m\u001B[0m\u001B[0m\n\u001B[1;32m----> 2\u001B[1;33m \u001B[0mmyhypot\u001B[0m\u001B[1;33m(\u001B[0m\u001B[1;36m6\u001B[0m\u001B[1;33m)\u001B[0m\u001B[1;33m\u001B[0m\u001B[1;33m\u001B[0m\u001B[0m\n\u001B[0m",
      "\u001B[1;31mTypeError\u001B[0m: myhypot() missing 1 required positional argument: 'y'"
     ]
    }
   ],
   "source": [
    "# TypeError: myhypot() missing 1 required positional argument: 'y'\n",
    "myhypot(6)"
   ]
  },
  {
   "cell_type": "code",
   "execution_count": 54,
   "id": "historical-context",
   "metadata": {},
   "outputs": [
    {
     "ename": "NameError",
     "evalue": "name 'hyp' is not defined",
     "output_type": "error",
     "traceback": [
      "\u001B[1;31m---------------------------------------------------------------------------\u001B[0m",
      "\u001B[1;31mNameError\u001B[0m                                 Traceback (most recent call last)",
      "\u001B[1;32m<ipython-input-54-0bc61116eae9>\u001B[0m in \u001B[0;36m<module>\u001B[1;34m\u001B[0m\n\u001B[0;32m      3\u001B[0m \u001B[1;31m## local variable: exists inside function\u001B[0m\u001B[1;33m\u001B[0m\u001B[1;33m\u001B[0m\u001B[1;33m\u001B[0m\u001B[0m\n\u001B[0;32m      4\u001B[0m \u001B[1;33m\u001B[0m\u001B[0m\n\u001B[1;32m----> 5\u001B[1;33m \u001B[0mhyp\u001B[0m\u001B[1;33m\u001B[0m\u001B[1;33m\u001B[0m\u001B[0m\n\u001B[0m",
      "\u001B[1;31mNameError\u001B[0m: name 'hyp' is not defined"
     ]
    }
   ],
   "source": [
    "##  Since hyp is a local variable inside the function:\n",
    "##  NameError: name 'hyp' is not defined.\n",
    "## local variable: exists inside function\n",
    "\n",
    "hyp"
   ]
  },
  {
   "cell_type": "code",
   "execution_count": 55,
   "id": "domestic-ridge",
   "metadata": {},
   "outputs": [],
   "source": [
    "# hyp = 3  # A bad idea. Don't mix local, global variables\n",
    "# hyp"
   ]
  },
  {
   "cell_type": "code",
   "execution_count": 56,
   "id": "blank-enclosure",
   "metadata": {},
   "outputs": [],
   "source": [
    "# define a second function that uses another function:\n",
    "\n",
    "def hypot_calculator():\n",
    "    '''Ask for triangle sides and print hypotenuse. Input should be numbers.'''\n",
    "    a = float(input(\"Insert side a: \"))\n",
    "    b = float(input(\"Insert side b: \"))\n",
    "    H = myhypot(a,b)  # call function hyp()\n",
    "    print (\"Hypotenuse = \", H)"
   ]
  },
  {
   "cell_type": "code",
   "execution_count": 57,
   "id": "educated-salad",
   "metadata": {},
   "outputs": [
    {
     "name": "stdin",
     "output_type": "stream",
     "text": [
      "Insert side a:  3\n",
      "Insert side b:  4\n"
     ]
    },
    {
     "name": "stdout",
     "output_type": "stream",
     "text": [
      "Hypotenuse =  5.0\n"
     ]
    }
   ],
   "source": [
    "# \n",
    "hypot_calculator()  # 3, 4"
   ]
  },
  {
   "cell_type": "code",
   "execution_count": 49,
   "id": "liberal-university",
   "metadata": {},
   "outputs": [
    {
     "ename": "TypeError",
     "evalue": "hypot_calculator() takes 0 positional arguments but 2 were given",
     "output_type": "error",
     "traceback": [
      "\u001B[1;31m---------------------------------------------------------------------------\u001B[0m",
      "\u001B[1;31mTypeError\u001B[0m                                 Traceback (most recent call last)",
      "\u001B[1;32m<ipython-input-49-a2e2c0c1f84b>\u001B[0m in \u001B[0;36m<module>\u001B[1;34m\u001B[0m\n\u001B[0;32m      1\u001B[0m \u001B[1;31m# TypeError: hypot_calculator() takes 0 positional arguments but 2 were given\u001B[0m\u001B[1;33m\u001B[0m\u001B[1;33m\u001B[0m\u001B[1;33m\u001B[0m\u001B[0m\n\u001B[1;32m----> 2\u001B[1;33m \u001B[0mhypot_calculator\u001B[0m\u001B[1;33m(\u001B[0m\u001B[1;36m3\u001B[0m\u001B[1;33m,\u001B[0m \u001B[1;36m4\u001B[0m\u001B[1;33m)\u001B[0m\u001B[1;33m\u001B[0m\u001B[1;33m\u001B[0m\u001B[0m\n\u001B[0m",
      "\u001B[1;31mTypeError\u001B[0m: hypot_calculator() takes 0 positional arguments but 2 were given"
     ]
    }
   ],
   "source": [
    "# TypeError: hypot_calculator() takes 0 positional arguments but 2 were given\n",
    "hypot_calculator(3, 4)"
   ]
  },
  {
   "cell_type": "code",
   "execution_count": 50,
   "id": "expanded-martial",
   "metadata": {},
   "outputs": [
    {
     "ename": "TypeError",
     "evalue": "hypot_calculator() got an unexpected keyword argument 'x'",
     "output_type": "error",
     "traceback": [
      "\u001B[1;31m---------------------------------------------------------------------------\u001B[0m",
      "\u001B[1;31mTypeError\u001B[0m                                 Traceback (most recent call last)",
      "\u001B[1;32m<ipython-input-50-fa69dc8724fd>\u001B[0m in \u001B[0;36m<module>\u001B[1;34m\u001B[0m\n\u001B[0;32m      1\u001B[0m \u001B[1;31m#  TypeError: unexpected keyword arguments.\u001B[0m\u001B[1;33m\u001B[0m\u001B[1;33m\u001B[0m\u001B[1;33m\u001B[0m\u001B[0m\n\u001B[1;32m----> 2\u001B[1;33m \u001B[0mhypot_calculator\u001B[0m\u001B[1;33m(\u001B[0m\u001B[0mx\u001B[0m\u001B[1;33m=\u001B[0m\u001B[1;36m3\u001B[0m\u001B[1;33m,\u001B[0m \u001B[0my\u001B[0m\u001B[1;33m=\u001B[0m\u001B[1;36m4\u001B[0m\u001B[1;33m)\u001B[0m\u001B[1;33m\u001B[0m\u001B[1;33m\u001B[0m\u001B[0m\n\u001B[0m",
      "\u001B[1;31mTypeError\u001B[0m: hypot_calculator() got an unexpected keyword argument 'x'"
     ]
    }
   ],
   "source": [
    "#  TypeError: unexpected keyword argument.\n",
    "hypot_calculator(x=3, y=4)"
   ]
  },
  {
   "cell_type": "markdown",
   "id": "threatened-energy",
   "metadata": {},
   "source": [
    "### User-defined modules\n",
    "\n",
    "[Modules.](https://docs.python.org/3/tutorial/modules.html)  \n",
    "\n",
    "[Best practices](https://docs.python.org/3/faq/programming.html#what-are-the-best-practices-for-using-import-in-a-module) for using import.  \n",
    "\n",
    "Stand alone scripts:\n",
    "To create stand-alone scripts, must read: ```if __name__ == \"__main__\" ``` [stack_overflow](https://stackoverflow.com/questions/419163/what-does-if-name-main-do)  \n",
    "\n",
    "Reloading and interactively working with modules.\n",
    "For efficiency reasons, each module is only imported once per interpreter session.   \n",
    "Therefore, if you make changes in your modules, you must restart the interpreter – or, if want to test the module interactively, use importlib.reload(),   \n",
    "e.g.  \n",
    "\n",
    "```import importlib;```  \n",
    "```importlib.reload(module_name)```"
   ]
  },
  {
   "cell_type": "code",
   "execution_count": 58,
   "id": "disabled-duncan",
   "metadata": {},
   "outputs": [
    {
     "name": "stdout",
     "output_type": "stream",
     "text": [
      "__main__\n"
     ]
    }
   ],
   "source": [
    "# the name of the main module is \"__main__\"\n",
    "print(__name__)"
   ]
  },
  {
   "cell_type": "code",
   "execution_count": 59,
   "id": "standing-benefit",
   "metadata": {},
   "outputs": [
    {
     "data": {
      "text/plain": [
       "'math'"
      ]
     },
     "execution_count": 59,
     "metadata": {},
     "output_type": "execute_result"
    }
   ],
   "source": [
    "# the name of the imported module is the explicit module name\n",
    "import math\n",
    "math.__name__"
   ]
  },
  {
   "cell_type": "code",
   "execution_count": 60,
   "id": "organic-lightning",
   "metadata": {},
   "outputs": [
    {
     "data": {
      "text/plain": [
       "'sqrt'"
      ]
     },
     "execution_count": 60,
     "metadata": {},
     "output_type": "execute_result"
    }
   ],
   "source": [
    "# # the imported function also has a name.\n",
    "math.sqrt.__name__"
   ]
  },
  {
   "cell_type": "code",
   "execution_count": 61,
   "id": "visible-lambda",
   "metadata": {},
   "outputs": [],
   "source": [
    "# not recommended method\n",
    "from hypot_module import hypot_calculator_modular\n",
    "\n",
    "# this function works without reference to module name\n",
    "hypot_calculator_modular()"
   ]
  },
  {
   "cell_type": "code",
   "execution_count": 63,
   "id": "invalid-parcel",
   "metadata": {},
   "outputs": [],
   "source": [
    "# Recommended import method\n",
    "import hypot_module"
   ]
  },
  {
   "cell_type": "code",
   "execution_count": 64,
   "id": "union-wealth",
   "metadata": {},
   "outputs": [
    {
     "data": {
      "text/plain": [
       "'hypot_module'"
      ]
     },
     "execution_count": 64,
     "metadata": {},
     "output_type": "execute_result"
    }
   ],
   "source": [
    "hypot_module.__name__"
   ]
  },
  {
   "cell_type": "code",
   "execution_count": 65,
   "id": "designed-tension",
   "metadata": {},
   "outputs": [
    {
     "name": "stdin",
     "output_type": "stream",
     "text": [
      "Insert side a:  3\n",
      "Insert side b:  4\n"
     ]
    },
    {
     "name": "stdout",
     "output_type": "stream",
     "text": [
      "Hypotenuse =  5.0\n"
     ]
    }
   ],
   "source": [
    "# this function works with reference to module name\n",
    "hypot_module.hypot_calculator_modular()"
   ]
  },
  {
   "cell_type": "code",
   "execution_count": 67,
   "id": "turned-beads",
   "metadata": {},
   "outputs": [
    {
     "name": "stdin",
     "output_type": "stream",
     "text": [
      "Insert side a:  4\n",
      "Insert side b:  5\n"
     ]
    },
    {
     "name": "stdout",
     "output_type": "stream",
     "text": [
      "Hypotenuse =  6.4031242374328485\n"
     ]
    }
   ],
   "source": [
    "# Uncomment line that calls the function in the *.py file.\n",
    "# Then run this cell.\n",
    "import importlib\n",
    "\n",
    "# reload() function reloads the module with the changes you made in it.\n",
    "importlib.reload(hypot_module)\n",
    "\n",
    "hypot_module.hypot_calculator_modular()"
   ]
  },
  {
   "cell_type": "markdown",
   "id": "deadly-account",
   "metadata": {},
   "source": [
    "### Extra: User defined Packages\n",
    "Python may treat directories as [packages](https://docs.python.org/3/tutorial/modules.html#packages)\n",
    "\n",
    "```__init__``` constuctor"
   ]
  },
  {
   "cell_type": "code",
   "execution_count": null,
   "id": "neither-coaching",
   "metadata": {},
   "outputs": [],
   "source": []
  }
 ],
 "metadata": {
  "kernelspec": {
   "display_name": "Python 3 (ipykernel)",
   "language": "python",
   "name": "python3"
  },
  "language_info": {
   "codemirror_mode": {
    "name": "ipython",
    "version": 3
   },
   "file_extension": ".py",
   "mimetype": "text/x-python",
   "name": "python",
   "nbconvert_exporter": "python",
   "pygments_lexer": "ipython3",
   "version": "3.9.10"
  }
 },
 "nbformat": 4,
 "nbformat_minor": 5
}
