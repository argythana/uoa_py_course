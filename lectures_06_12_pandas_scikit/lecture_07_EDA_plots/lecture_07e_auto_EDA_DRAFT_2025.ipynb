{
 "cells": [
  {
   "cell_type": "markdown",
   "id": "00b62dda-e473-40e2-bc93-d57925ea7b7d",
   "metadata": {},
   "source": [
    "# Lecture 7d: More python visualization modules. Advanced optional material.\n",
    "\n",
    "# Work in Progress, thanks to class of 2024 for always pushing me to present more material."
   ]
  },
  {
   "metadata": {},
   "cell_type": "markdown",
   "source": "### Add a section about PyGWalker in 2025",
   "id": "566392c64b4cda24"
  },
  {
   "cell_type": "markdown",
   "id": "fe50edf1-2be9-4985-bd96-5aa133952a4e",
   "metadata": {},
   "source": [
    "## Auto date reporting: pandas-profiling\n",
    "\n",
    "https://pypi.org/project/pandas-profiling/   \n",
    "\n",
    "https://pypi.org/project/ydata-profiling/\n",
    "\n",
    "Currently https://github.com/ydataai/ydata-profiling\n",
    "\n",
    "https://docs.profiling.ydata.ai/latest/\n",
    "\n",
    "\n",
    "https://www.analyticsvidhya.com/blog/2021/06/generate-reports-using-pandas-profiling-deploy-using-streamlit/"
   ]
  },
  {
   "cell_type": "markdown",
   "id": "58b5fb86-da75-439d-826d-567bc7d6f00e",
   "metadata": {},
   "source": [
    "## Similar tools:\n",
    "\n",
    "1. **Sweetviz**: Sweetviz is an open-source Python library that generates beautiful, high-density visualizations to kickstart EDA (Exploratory Data Analysis) with a single line of code. Output is a fully self-contained HTML application.\n",
    "\n",
    "2. **Dtale**: D-Tale is the combination of a Flask back-end and a React front-end to bring you an easy way to view & analyze Pandas data structures. It integrates seamlessly with ipython notebooks & python/ipython terminals.\n",
    "\n",
    "3. **Autoviz**: Autoviz is an open-source Python library that is particularly effective for rapid data visualization. With just one line of code, Autoviz can visualize any dataset, no matter the size.\n",
    "\n",
    "4. **Facets**: Facets contains two robust visualizations to aid in understanding and analyzing machine learning datasets. Facets Overview gives a high-level view of one or more datasets, and Facets Dive allows users to interactively explore up to tens of thousands of datapoints.\n"
   ]
  },
  {
   "cell_type": "markdown",
   "id": "34bbc5b57b46ae45",
   "metadata": {
    "collapsed": false,
    "jupyter": {
     "outputs_hidden": false
    }
   },
   "source": [
    "## Tools to create web applications\n",
    "\n",
    "Streamlit: Streamlit is an open-source Python library that makes it easy to create custom web apps for machine learning and data science.   \n",
    "  \n",
    "Dash: Dash is a Python framework for building analytical web applications. It's particularly suited for anyone who works with data in Python.    \n",
    "  \n",
    "Bokeh: Bokeh is an interactive visualization library for modern web browsers. It provides elegant, concise construction of versatile graphics, and affords high-performance interactivity over large or streaming datasets.   \n",
    "\n",
    "Panel: Panel is a high-level app and dashboarding solution for Python. It allows you to create interactive dashboards, notebooks, and reports from Python scripts.   \n",
    "  \n",
    "Jupyter Dashboards: Jupyter Dashboards lets you turn your Jupyter notebooks into interactive dashboards.  \n",
    " \n",
    " \n",
    "Voila: Voila turns Jupyter notebooks into standalone web applications. Unlike the usual HTML-converted notebooks, each user connecting to the Voila tornado application gets a dedicated Jupyter kernel which can execute the callbacks to changes in Jupyter interactive widgets.   \n",
    "\n",
    "What about taipy?    \n",
    "\n",
    "Taipy is not a recognized Python library or tool in the Python ecosystem. It's possible that there might be a typo in the name. Could you please provide more context or check the spelling?   \n",
    "\n",
    "\n",
    "https://github.com/Avaiga/taipy"
   ]
  },
  {
   "cell_type": "markdown",
   "id": "60f9f9fef23bbb36",
   "metadata": {
    "collapsed": false,
    "jupyter": {
     "outputs_hidden": false
    }
   },
   "source": [
    "I'm sorry, but as an AI developed by OpenAI, I don't have the ability to browse the internet or access external URLs, including GitHub repositories. Therefore, I can't provide information about the specific GitHub repository you mentioned. However, if you have any questions about Python programming, data analysis, or any other technical topic, feel free to ask!   \n",
    "\n"
   ]
  },
  {
   "cell_type": "markdown",
   "id": "b8932cdbf7ba4794",
   "metadata": {
    "collapsed": false,
    "jupyter": {
     "outputs_hidden": false
    }
   },
   "source": [
    "[Check reddit](https://www.reddit.com/r/learnpython/comments/17p5uya/tech_stack_for_migrating_off_streamlit_i_need_to/)    \n",
    "\n",
    "[New tools every week](https://www.reddit.com/r/Python/comments/1afenoc/streamlit_vs_taipy_which_tool_is_better_for/)"
   ]
  },
  {
   "cell_type": "markdown",
   "id": "15f331ff-2727-4d6e-a416-11cf31c8636a",
   "metadata": {},
   "source": [
    "## Tools to interact with Databases\n",
    "\n",
    "Jupyter for sql\n",
    "\n",
    "https://duckdb.org/2023/02/24/jupysql.html"
   ]
  },
  {
   "cell_type": "markdown",
   "id": "dc37b00b-24aa-4e74-8dcf-933d15f98085",
   "metadata": {},
   "source": [
    "https://github.com/ploomber/jupysql"
   ]
  }
 ],
 "metadata": {
  "kernelspec": {
   "display_name": "Python 3 (ipykernel)",
   "language": "python",
   "name": "python3"
  },
  "language_info": {
   "codemirror_mode": {
    "name": "ipython",
    "version": 3
   },
   "file_extension": ".py",
   "mimetype": "text/x-python",
   "name": "python",
   "nbconvert_exporter": "python",
   "pygments_lexer": "ipython3",
   "version": "3.11.9"
  }
 },
 "nbformat": 4,
 "nbformat_minor": 5
}
