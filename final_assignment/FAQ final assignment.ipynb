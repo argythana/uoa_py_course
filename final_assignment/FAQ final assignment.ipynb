{
 "cells": [
  {
   "cell_type": "markdown",
   "id": "7d4e66ec-34b2-4e8d-8297-d7125d6f723f",
   "metadata": {},
   "source": [
    "<h1>Final assignment, Frequently Asked Questions</h1>    \n",
    "\n",
    "**Thank you for asking, this helps me, you and everyone!**  \n",
    "\n",
    "\n",
    "\n",
    "**1) Q: May I select a dataset with a \"Usability Rating\"  on Kaggle lower than 8? I have found a dataset with a rating of 2.4.**\n",
    "   \n",
    "A: Yes, the decision is yours. Selecting a suitable dataset is part of the assignment. But, it is not recommended because a low usability rating means it might be more difficult to gain meaningful insights and apply Machine Learning Algorithms on the data.   \n",
    "You are encouranged to look at other notebook submissions on Kaggle and see for yourself what others have already done with this dataset.  \n",
    "\n",
    "**2) Q: Another student has selected a similar subject. Is this Ok?**\n",
    "\n",
    "A: Yes, you may even select the exact same subject, as long as you use different datasets.\n",
    "\n",
    "**3) Q: Besides the list of datasets that we should not use, are there any other datasets that we should not use?**\n",
    "\n",
    "A: You may not use any dataset that has been used as a tutorial example. The list in the guidelines may not be updated, or extensive.\n",
    "\n",
    "**4) Q: Every year some students select datasets without reading the guidelines carefully. Some even datasets that are explicitly mentioned in the \"Don't select\" sections. What can I do as an educator?**\n",
    "\n",
    "A: Write a question, include it in the FAQ and write the reply too. This will highlight the need to read the instructions carefully once more, and at the same time is like making a small joke about it. Jokes draw attention and are slightly more memorable, even bad jokes like this one. By the way, the **Don't Repeat Yourself (DRY)** principle applies in programming. In education, there should be a principle called: **Repeat Everything At Least Thrice (REALT)** and more if you have to.\n",
    "\n",
    "\n",
    "Ps. FAQ will be updated, thanks to you!"
   ]
  }
 ],
 "metadata": {
  "kernelspec": {
   "display_name": "Python 3 (ipykernel)",
   "language": "python",
   "name": "python3"
  },
  "language_info": {
   "codemirror_mode": {
    "name": "ipython",
    "version": 3
   },
   "file_extension": ".py",
   "mimetype": "text/x-python",
   "name": "python",
   "nbconvert_exporter": "python",
   "pygments_lexer": "ipython3",
   "version": "3.11.9"
  }
 },
 "nbformat": 4,
 "nbformat_minor": 5
}
