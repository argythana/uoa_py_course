{
 "cells": [
  {
   "cell_type": "markdown",
   "id": "closing-ontario",
   "metadata": {},
   "source": [
    "# Lecture e1: User-defined functions, modules.\n",
    "\n",
    "> Purpose: decomposition, abstraction, reusability, modularity.  \n",
    "> Syntax  \n",
    "> Arguments: keyword=> default values, positional => optional values.  \n",
    "> Modular development\n",
    "\n",
    "## Purpose: decomposition, abstraction, reusability, modularity.\n",
    "When something is repeated in the code => define a function. DNRY.  \n",
    "When a task needs to be repeated => define a function. DNRY."
   ]
  },
  {
   "cell_type": "markdown",
   "id": "occupied-nelson",
   "metadata": {},
   "source": [
    "## Syntax\n",
    "def function_name():  \n",
    "docstrings = documentation string = output of help(function_name)  \n",
    "Body as indented block: always 4 blank spaces.  \n",
    "Body = state what to do.  \n",
    "Call a function: function_name and parentheses.\n",
    "\n",
    "First write the code as a script, when it works, define the function.  \n",
    "Use debugging statements e.g. print(), within the function, to test and inspect the intermediate results."
   ]
  },
  {
   "cell_type": "code",
   "execution_count": 1,
   "id": "plain-cross",
   "metadata": {},
   "outputs": [],
   "source": [
    "# a very useless function. \n",
    "def help_print():\n",
    "    help(print)"
   ]
  },
  {
   "cell_type": "code",
   "execution_count": 2,
   "id": "simplified-nickname",
   "metadata": {},
   "outputs": [
    {
     "name": "stdout",
     "output_type": "stream",
     "text": [
      "Help on built-in function print in module builtins:\n",
      "\n",
      "print(...)\n",
      "    print(value, ..., sep=' ', end='\\n', file=sys.stdout, flush=False)\n",
      "    \n",
      "    Prints the values to a stream, or to sys.stdout by default.\n",
      "    Optional keyword arguments:\n",
      "    file:  a file-like object (stream); defaults to the current sys.stdout.\n",
      "    sep:   string inserted between values, default a space.\n",
      "    end:   string appended after the last value, default a newline.\n",
      "    flush: whether to forcibly flush the stream.\n",
      "\n"
     ]
    }
   ],
   "source": [
    "help_print()"
   ]
  },
  {
   "cell_type": "code",
   "execution_count": 51,
   "id": "challenging-weekend",
   "metadata": {},
   "outputs": [],
   "source": [
    "# define function with one keyword argument.\n",
    "# Recommended: no blank space between argument and value.\n",
    "def simple_msg(message=\"Python is great.\"):  \n",
    "    '''Trivial example, 1 positional argument, default value=Python is great.'''\n",
    "    print(message)"
   ]
  },
  {
   "cell_type": "code",
   "execution_count": 4,
   "id": "whole-locking",
   "metadata": {},
   "outputs": [
    {
     "name": "stdout",
     "output_type": "stream",
     "text": [
      "Python is great.\n"
     ]
    }
   ],
   "source": [
    "# call with default value\n",
    "simple_msg()"
   ]
  },
  {
   "cell_type": "code",
   "execution_count": 5,
   "id": "broken-australian",
   "metadata": {},
   "outputs": [
    {
     "name": "stdout",
     "output_type": "stream",
     "text": [
      "Python is boring!\n"
     ]
    }
   ],
   "source": [
    "# Call with non default value\n",
    "simple_msg('Python is boring!')\n",
    "#message_simp(message='Python is boring!')  # Same result."
   ]
  },
  {
   "cell_type": "code",
   "execution_count": 6,
   "id": "literary-copper",
   "metadata": {},
   "outputs": [
    {
     "name": "stdout",
     "output_type": "stream",
     "text": [
      "Help on function simple_msg in module __main__:\n",
      "\n",
      "simple_msg(message='Python is great.')\n",
      "    Trivial example, 1 positional argument, default value=Python is great.\n",
      "\n"
     ]
    }
   ],
   "source": [
    "# function doc\n",
    "help(simple_msg)"
   ]
  },
  {
   "cell_type": "code",
   "execution_count": 7,
   "id": "eleven-reasoning",
   "metadata": {},
   "outputs": [
    {
     "name": "stdout",
     "output_type": "stream",
     "text": [
      "Trivial example, 1 positional argument, default value=Python is great.\n"
     ]
    }
   ],
   "source": [
    "print(simple_msg.__doc__)"
   ]
  },
  {
   "cell_type": "code",
   "execution_count": 8,
   "id": "plastic-beginning",
   "metadata": {},
   "outputs": [
    {
     "name": "stdout",
     "output_type": "stream",
     "text": [
      "None\n"
     ]
    }
   ],
   "source": [
    "print(help_print.__doc__)"
   ]
  },
  {
   "cell_type": "markdown",
   "id": "protected-automation",
   "metadata": {},
   "source": [
    "## Arguments: keyword, positional\n",
    "Arguments:  \n",
    "> keyword=> called by the name.  \n",
    "> positional => called by position.   \n",
    "\n",
    "Python docs, [after 3.8](https://docs.python.org/3.8/whatsnew/3.8.html#positional-only-parameters).   \n",
    "Default value assignment in definition, optional when calling the function. In python optional arguments are arguments that have a default value.  \n",
    "Optional value assignment at definition, necessary value assignment when calling the function.  \n",
    "Assign values for positional args before keyword args (else => SyntaxError).  \n",
    "TypeError: missing required positional argument.  \n",
    "Must Read: [Positional, Keyword, optional, required:](https://stackoverflow.com/a/57819001)  \n",
    "Oftenly: The accepted answer is not the correct answer in stackoverflow.  \n",
    "> Notice: dates, versions. google search is a MUST HAVE skill."
   ]
  },
  {
   "cell_type": "code",
   "execution_count": 103,
   "id": "stretch-massachusetts",
   "metadata": {},
   "outputs": [],
   "source": [
    "# the / notation separates positional-only arguments.\n",
    "def f(a, b, /, c, d, e=50):\n",
    "    print(a+1, b+1, c+1, d+1, e*2)"
   ]
  },
  {
   "cell_type": "code",
   "execution_count": 104,
   "id": "wanted-might",
   "metadata": {},
   "outputs": [
    {
     "name": "stdout",
     "output_type": "stream",
     "text": [
      "11 21 31 41 100\n"
     ]
    }
   ],
   "source": [
    "f(10, 20, 30, 40)  # has a default value"
   ]
  },
  {
   "cell_type": "code",
   "execution_count": 105,
   "id": "cognitive-mentor",
   "metadata": {},
   "outputs": [
    {
     "ename": "TypeError",
     "evalue": "f() missing 2 required positional arguments: 'c' and 'd'",
     "output_type": "error",
     "traceback": [
      "\u001b[1;31m---------------------------------------------------------------------------\u001b[0m",
      "\u001b[1;31mTypeError\u001b[0m                                 Traceback (most recent call last)",
      "\u001b[1;32m<ipython-input-105-8fa95afd42f2>\u001b[0m in \u001b[0;36m<module>\u001b[1;34m\u001b[0m\n\u001b[1;32m----> 1\u001b[1;33m \u001b[0mf\u001b[0m\u001b[1;33m(\u001b[0m\u001b[1;36m10\u001b[0m\u001b[1;33m,\u001b[0m \u001b[1;36m20\u001b[0m\u001b[1;33m,\u001b[0m \u001b[0me\u001b[0m\u001b[1;33m=\u001b[0m\u001b[1;36m30\u001b[0m\u001b[1;33m)\u001b[0m\u001b[1;33m\u001b[0m\u001b[1;33m\u001b[0m\u001b[0m\n\u001b[0m",
      "\u001b[1;31mTypeError\u001b[0m: f() missing 2 required positional arguments: 'c' and 'd'"
     ]
    }
   ],
   "source": [
    "f(10, 20, e=30)"
   ]
  },
  {
   "cell_type": "code",
   "execution_count": 120,
   "id": "extra-galaxy",
   "metadata": {},
   "outputs": [
    {
     "ename": "TypeError",
     "evalue": "f() got some positional-only arguments passed as keyword arguments: 'a, b'",
     "output_type": "error",
     "traceback": [
      "\u001b[1;31m---------------------------------------------------------------------------\u001b[0m",
      "\u001b[1;31mTypeError\u001b[0m                                 Traceback (most recent call last)",
      "\u001b[1;32m<ipython-input-120-26095201b004>\u001b[0m in \u001b[0;36m<module>\u001b[1;34m\u001b[0m\n\u001b[1;32m----> 1\u001b[1;33m \u001b[0mf\u001b[0m\u001b[1;33m(\u001b[0m\u001b[0ma\u001b[0m\u001b[1;33m=\u001b[0m\u001b[1;36m10\u001b[0m\u001b[1;33m,\u001b[0m \u001b[0mb\u001b[0m\u001b[1;33m=\u001b[0m\u001b[1;36m20\u001b[0m\u001b[1;33m,\u001b[0m \u001b[0me\u001b[0m\u001b[1;33m=\u001b[0m\u001b[1;36m30\u001b[0m\u001b[1;33m)\u001b[0m\u001b[1;33m\u001b[0m\u001b[1;33m\u001b[0m\u001b[0m\n\u001b[0m",
      "\u001b[1;31mTypeError\u001b[0m: f() got some positional-only arguments passed as keyword arguments: 'a, b'"
     ]
    }
   ],
   "source": [
    "f(a=10, b=20, e=30)  # and b are positional only. Cannot be called by name."
   ]
  },
  {
   "cell_type": "code",
   "execution_count": 106,
   "id": "resistant-virtue",
   "metadata": {},
   "outputs": [
    {
     "name": "stdout",
     "output_type": "stream",
     "text": [
      "11 21 31 41 100\n"
     ]
    }
   ],
   "source": [
    "f(10, 20, 30, d=40, e=50)  # d is both positional and keyword."
   ]
  },
  {
   "cell_type": "code",
   "execution_count": 107,
   "id": "chronic-flight",
   "metadata": {},
   "outputs": [
    {
     "ename": "TypeError",
     "evalue": "f() got some positional-only arguments passed as keyword arguments: 'b'",
     "output_type": "error",
     "traceback": [
      "\u001b[1;31m---------------------------------------------------------------------------\u001b[0m",
      "\u001b[1;31mTypeError\u001b[0m                                 Traceback (most recent call last)",
      "\u001b[1;32m<ipython-input-107-93617bec7c02>\u001b[0m in \u001b[0;36m<module>\u001b[1;34m\u001b[0m\n\u001b[1;32m----> 1\u001b[1;33m \u001b[0mf\u001b[0m\u001b[1;33m(\u001b[0m\u001b[1;36m10\u001b[0m\u001b[1;33m,\u001b[0m \u001b[0mb\u001b[0m\u001b[1;33m=\u001b[0m\u001b[1;36m20\u001b[0m\u001b[1;33m,\u001b[0m \u001b[0mc\u001b[0m\u001b[1;33m=\u001b[0m\u001b[1;36m30\u001b[0m\u001b[1;33m,\u001b[0m \u001b[0md\u001b[0m\u001b[1;33m=\u001b[0m\u001b[1;36m40\u001b[0m\u001b[1;33m,\u001b[0m \u001b[0me\u001b[0m\u001b[1;33m=\u001b[0m\u001b[1;36m50\u001b[0m\u001b[1;33m)\u001b[0m  \u001b[1;31m# b cannot be a keyword argument.\u001b[0m\u001b[1;33m\u001b[0m\u001b[1;33m\u001b[0m\u001b[0m\n\u001b[0m",
      "\u001b[1;31mTypeError\u001b[0m: f() got some positional-only arguments passed as keyword arguments: 'b'"
     ]
    }
   ],
   "source": [
    "f(10, b=20, c=30, d=40, e=50)  # b cannot be a keyword argument."
   ]
  },
  {
   "cell_type": "code",
   "execution_count": 108,
   "id": "creative-motel",
   "metadata": {},
   "outputs": [
    {
     "ename": "SyntaxError",
     "evalue": "positional argument follows keyword argument (<ipython-input-108-a9d3981bf9e8>, line 1)",
     "output_type": "error",
     "traceback": [
      "\u001b[1;36m  File \u001b[1;32m\"<ipython-input-108-a9d3981bf9e8>\"\u001b[1;36m, line \u001b[1;32m1\u001b[0m\n\u001b[1;33m    f(10, 20, c=30, 40, 50)  # d ,e  must be called as keyword arguments\u001b[0m\n\u001b[1;37m                          ^\u001b[0m\n\u001b[1;31mSyntaxError\u001b[0m\u001b[1;31m:\u001b[0m positional argument follows keyword argument\n"
     ]
    }
   ],
   "source": [
    "f(10, 20, c=30, 40, 50)  # positional arguments first."
   ]
  },
  {
   "cell_type": "code",
   "execution_count": 119,
   "id": "finished-david",
   "metadata": {},
   "outputs": [
    {
     "name": "stdout",
     "output_type": "stream",
     "text": [
      "11 21 31 41 100\n"
     ]
    }
   ],
   "source": [
    "f(10, 20, c=30, d=40, e=50)  # positional arguments first or d ,e  must be called as keyword arguments."
   ]
  },
  {
   "cell_type": "code",
   "execution_count": 118,
   "id": "difficult-incidence",
   "metadata": {},
   "outputs": [
    {
     "ename": "TypeError",
     "evalue": "f() missing 1 required positional argument: 'd'",
     "output_type": "error",
     "traceback": [
      "\u001b[1;31m---------------------------------------------------------------------------\u001b[0m",
      "\u001b[1;31mTypeError\u001b[0m                                 Traceback (most recent call last)",
      "\u001b[1;32m<ipython-input-118-30659fdea334>\u001b[0m in \u001b[0;36m<module>\u001b[1;34m\u001b[0m\n\u001b[1;32m----> 1\u001b[1;33m \u001b[0mf\u001b[0m\u001b[1;33m(\u001b[0m\u001b[1;36m10\u001b[0m\u001b[1;33m,\u001b[0m \u001b[1;36m20\u001b[0m\u001b[1;33m,\u001b[0m \u001b[1;36m30\u001b[0m\u001b[1;33m,\u001b[0m \u001b[0me\u001b[0m\u001b[1;33m=\u001b[0m\u001b[1;36m40\u001b[0m\u001b[1;33m)\u001b[0m  \u001b[1;31m# d must be called too\u001b[0m\u001b[1;33m\u001b[0m\u001b[1;33m\u001b[0m\u001b[0m\n\u001b[0m",
      "\u001b[1;31mTypeError\u001b[0m: f() missing 1 required positional argument: 'd'"
     ]
    }
   ],
   "source": [
    "f(10, 20, 30, e=40)  # d must be called too"
   ]
  },
  {
   "cell_type": "code",
   "execution_count": 110,
   "id": "northern-theorem",
   "metadata": {},
   "outputs": [],
   "source": [
    "# positional and keyword argument, no default value => need to assign when calling it.\n",
    "# another useless function.\n",
    "def help_any_module(module):\n",
    "    help(module)"
   ]
  },
  {
   "cell_type": "code",
   "execution_count": 111,
   "id": "worse-means",
   "metadata": {},
   "outputs": [
    {
     "name": "stdout",
     "output_type": "stream",
     "text": [
      "Help on method raw_input in module ipykernel.kernelbase:\n",
      "\n",
      "raw_input(prompt='') method of ipykernel.ipkernel.IPythonKernel instance\n",
      "    Forward raw_input to frontends\n",
      "    \n",
      "    Raises\n",
      "    ------\n",
      "    StdinNotImplementedError if active frontend doesn't support stdin.\n",
      "\n"
     ]
    }
   ],
   "source": [
    "help_any_module(input)"
   ]
  },
  {
   "cell_type": "code",
   "execution_count": 11,
   "id": "devoted-migration",
   "metadata": {},
   "outputs": [],
   "source": [
    "## TypeError\n",
    "# help_any_module()"
   ]
  },
  {
   "cell_type": "code",
   "execution_count": 12,
   "id": "facial-genealogy",
   "metadata": {},
   "outputs": [],
   "source": [
    "## SyntaxError: positional argument follows keyword argument\n",
    "# print(sep=\"|\", \"This call will not work.\")"
   ]
  },
  {
   "cell_type": "code",
   "execution_count": 117,
   "id": "ordinary-cheese",
   "metadata": {},
   "outputs": [],
   "source": [
    "# 3 args, 2 non-default, 1 default value\n",
    "# assign value to positional args before keyword (else => SyntaxError)\n",
    "# output  order not the same thing as input order!\n",
    "def message_from_to(sender, receiver, message='Please study'):\n",
    "    '''3 args, 1 keyword with default value. Assign values to sender, receiver'''\n",
    "    print(sender, message, receiver)  # Very Bad order, still works."
   ]
  },
  {
   "cell_type": "code",
   "execution_count": 115,
   "id": "rough-chaos",
   "metadata": {},
   "outputs": [
    {
     "name": "stdout",
     "output_type": "stream",
     "text": [
      "Thanasis: Please study Dear Students,\n"
     ]
    }
   ],
   "source": [
    "message_from_to('Thanasis:', 'Dear Students,')"
   ]
  },
  {
   "cell_type": "code",
   "execution_count": 116,
   "id": "developed-mileage",
   "metadata": {},
   "outputs": [
    {
     "name": "stdout",
     "output_type": "stream",
     "text": [
      "Thanasis kindly asks you to study, dear students\n"
     ]
    }
   ],
   "source": [
    "message_from_to('Thanasis', 'students', 'kindly asks you to study, dear')"
   ]
  },
  {
   "cell_type": "code",
   "execution_count": 16,
   "id": "creative-delay",
   "metadata": {},
   "outputs": [
    {
     "name": "stdout",
     "output_type": "stream",
     "text": [
      "Students: No way, this is so boring! Thanasis\n"
     ]
    }
   ],
   "source": [
    "# Both work syntatically. Which is \"wrong\", why ?\n",
    "message_from_to('Students:', 'Thanasis', 'No way, this is so boring!')"
   ]
  },
  {
   "cell_type": "code",
   "execution_count": 17,
   "id": "hollywood-cattle",
   "metadata": {},
   "outputs": [
    {
     "name": "stdout",
     "output_type": "stream",
     "text": [
      "Students: Thanasis No way this is so boring!\n"
     ]
    }
   ],
   "source": [
    "message_from_to('Students:', 'No way this is so boring!', 'Thanasis')"
   ]
  },
  {
   "cell_type": "code",
   "execution_count": 18,
   "id": "expensive-terry",
   "metadata": {},
   "outputs": [],
   "source": [
    "def calc_bill(q, items, p):  # no object type specified\n",
    "    total = q * p\n",
    "    print(f'{q} {items}, cost {total} \\n')  # Match definition order."
   ]
  },
  {
   "cell_type": "code",
   "execution_count": 19,
   "id": "corresponding-newfoundland",
   "metadata": {},
   "outputs": [
    {
     "name": "stdout",
     "output_type": "stream",
     "text": [
      "3 books, cost 30 \n",
      "\n"
     ]
    }
   ],
   "source": [
    "# Order of arguments value assignemnt matches definition,\n",
    "calc_bill(3, 'books', 10)"
   ]
  },
  {
   "cell_type": "code",
   "execution_count": 20,
   "id": "dangerous-maximum",
   "metadata": {},
   "outputs": [
    {
     "name": "stdout",
     "output_type": "stream",
     "text": [
      "3 books, cost 30 \n",
      "\n"
     ]
    }
   ],
   "source": [
    "# Order of values DOES NOT match definition, flexible order.\n",
    "calc_bill(items='books', p=10, q=3) "
   ]
  },
  {
   "cell_type": "markdown",
   "id": "pediatric-indonesia",
   "metadata": {},
   "source": [
    "### Arbitrary number of args *"
   ]
  },
  {
   "cell_type": "code",
   "execution_count": 21,
   "id": "treated-designation",
   "metadata": {},
   "outputs": [
    {
     "name": "stdout",
     "output_type": "stream",
     "text": [
      "1\n",
      "2\n",
      "6\n",
      "24\n",
      "120\n",
      "720\n"
     ]
    }
   ],
   "source": [
    "def multiply(*my_data):\n",
    "    s = 1  # neutral factor in multiplication.\n",
    "    for number in my_data:\n",
    "        s *= number  # this syntax means  s = s*n\n",
    "        print(s)\n",
    "    #print(s) \n",
    "\n",
    "multiply(1, 2, 3, 4, 5, 6)"
   ]
  },
  {
   "cell_type": "code",
   "execution_count": 22,
   "id": "hazardous-acquisition",
   "metadata": {},
   "outputs": [
    {
     "name": "stdout",
     "output_type": "stream",
     "text": [
      "[1, 2, 3, 4, 5, 6]\n"
     ]
    }
   ],
   "source": [
    "# take your time to see why we get this result!\n",
    "my_example_list = [1, 2, 3, 4, 5, 6]\n",
    "multiply(my_example_list)"
   ]
  },
  {
   "cell_type": "code",
   "execution_count": 23,
   "id": "through-disco",
   "metadata": {},
   "outputs": [
    {
     "name": "stdout",
     "output_type": "stream",
     "text": [
      "my_imagination_is_that_of_a_brick\n"
     ]
    }
   ],
   "source": [
    "my_example_string = \"my_imagination_is_that_of_a_brick\"\n",
    "multiply(my_example_string)"
   ]
  },
  {
   "cell_type": "markdown",
   "id": "compressed-encounter",
   "metadata": {},
   "source": [
    "Reminder: Provide general purpose and intuitive names in functions and variables.  \n",
    "Always look at data types."
   ]
  },
  {
   "cell_type": "code",
   "execution_count": 25,
   "id": "bottom-biotechnology",
   "metadata": {},
   "outputs": [],
   "source": [
    "def multiply_iterable_objects(*my_object):\n",
    "    i = 1  # initiate a number to count.\n",
    "    print(my_object)\n",
    "    for iterable_object in my_object:\n",
    "        for item in iterable_object:\n",
    "            i = i + 1  # a simple counter.\n",
    "            item = i * item  \n",
    "            print(item)"
   ]
  },
  {
   "cell_type": "code",
   "execution_count": 26,
   "id": "english-mentor",
   "metadata": {},
   "outputs": [
    {
     "name": "stdout",
     "output_type": "stream",
     "text": [
      "('brick',)\n",
      "bb\n",
      "rrr\n",
      "iiii\n",
      "ccccc\n",
      "kkkkkk\n"
     ]
    }
   ],
   "source": [
    "my_example_string = \"brick\"\n",
    "multiply_iterable_objects(my_example_string)"
   ]
  },
  {
   "cell_type": "code",
   "execution_count": 27,
   "id": "thermal-hometown",
   "metadata": {},
   "outputs": [
    {
     "name": "stdout",
     "output_type": "stream",
     "text": [
      "([1, 2, 3, 4, 5, 6],)\n",
      "2\n",
      "6\n",
      "12\n",
      "20\n",
      "30\n",
      "42\n"
     ]
    }
   ],
   "source": [
    "my_example_list = [1, 2, 3, 4, 5, 6]\n",
    "multiply_iterable_objects(my_example_list)"
   ]
  },
  {
   "cell_type": "code",
   "execution_count": 28,
   "id": "casual-removal",
   "metadata": {},
   "outputs": [
    {
     "name": "stdout",
     "output_type": "stream",
     "text": [
      "('brick', [1, 2, 3, 4, 5, 6])\n",
      "bb\n",
      "rrr\n",
      "iiii\n",
      "ccccc\n",
      "kkkkkk\n",
      "7\n",
      "16\n",
      "27\n",
      "40\n",
      "55\n",
      "72\n"
     ]
    }
   ],
   "source": [
    "# can you spot the mistake here?\n",
    "my_example_string = \"brick\"\n",
    "my_example_list = [1, 2, 3, 4, 5, 6]\n",
    "multiply_iterable_objects(my_example_string, my_example_list)"
   ]
  },
  {
   "cell_type": "code",
   "execution_count": 29,
   "id": "operational-revision",
   "metadata": {},
   "outputs": [
    {
     "name": "stdout",
     "output_type": "stream",
     "text": [
      "('brick', [1, 2, 3, 4, 5, 6])\n",
      "bb\n",
      "rr\n",
      "ii\n",
      "cc\n",
      "kk\n",
      "3\n",
      "6\n",
      "9\n",
      "12\n",
      "15\n",
      "18\n"
     ]
    }
   ],
   "source": [
    "# can you spot the problem here ?\n",
    "def multiply_iterable_objects(*my_object):\n",
    "    i = 1\n",
    "    print(my_object)\n",
    "    for iterable_object in my_object:\n",
    "        i = i + 1\n",
    "        for item in iterable_object:       \n",
    "            item = i * item  \n",
    "            print(item)\n",
    "\n",
    "multiply_iterable_objects(my_example_string, my_example_list)"
   ]
  },
  {
   "cell_type": "code",
   "execution_count": 30,
   "id": "resident-bruce",
   "metadata": {},
   "outputs": [
    {
     "name": "stdout",
     "output_type": "stream",
     "text": [
      "('brick', [1, 2, 3, 4, 5, 6])\n",
      "bb\n",
      "rrr\n",
      "iiii\n",
      "ccccc\n",
      "kkkkkk\n",
      "2\n",
      "6\n",
      "12\n",
      "20\n",
      "30\n",
      "42\n"
     ]
    }
   ],
   "source": [
    "# this is the correct implementation\n",
    "def multiply_iterable_objects(*my_object):  \n",
    "    print(my_object)\n",
    "    for iterable_object in my_object:\n",
    "        i = 1  # initiate a number to count.\n",
    "        for item in iterable_object:\n",
    "            i = i + 1\n",
    "            item = i * item  \n",
    "            print(item)\n",
    "\n",
    "multiply_iterable_objects(my_example_string, my_example_list)"
   ]
  },
  {
   "cell_type": "markdown",
   "id": "inappropriate-census",
   "metadata": {},
   "source": [
    "## Modular development\n",
    "\n",
    "Calling functions   \n",
    "The return statement.  \n",
    "Global local scope.    \n"
   ]
  },
  {
   "cell_type": "code",
   "execution_count": 31,
   "id": "concerned-triple",
   "metadata": {},
   "outputs": [],
   "source": [
    "from math import sqrt  #import only sqrt => no reference math module when called\n",
    "\n",
    "\n",
    "def myhypot(x, y):\n",
    "    '''CALCULATE hypotenuse. Assign values for x, y.'''\n",
    "    hyp = sqrt(x*x + y*y)  # no reference to math module\n",
    "    return hyp  # hyp = local var"
   ]
  },
  {
   "cell_type": "code",
   "execution_count": 32,
   "id": "daily-report",
   "metadata": {},
   "outputs": [
    {
     "data": {
      "text/plain": [
       "10.0"
      ]
     },
     "execution_count": 32,
     "metadata": {},
     "output_type": "execute_result"
    }
   ],
   "source": [
    "myhypot(6, 8)"
   ]
  },
  {
   "cell_type": "code",
   "execution_count": 33,
   "id": "inside-missouri",
   "metadata": {},
   "outputs": [],
   "source": [
    "## The 1st time you run the notebook:\n",
    "##  NameError: name 'hyp' is not defined.\n",
    "## local variable: exists inside function\n",
    "# hyp  "
   ]
  },
  {
   "cell_type": "code",
   "execution_count": 34,
   "id": "structural-franchise",
   "metadata": {},
   "outputs": [],
   "source": [
    "# hyp = 3  # A bad idea. Don't mix local, global variables\n",
    "# hyp"
   ]
  },
  {
   "cell_type": "code",
   "execution_count": 35,
   "id": "instructional-peninsula",
   "metadata": {},
   "outputs": [
    {
     "data": {
      "text/plain": [
       "10.0"
      ]
     },
     "execution_count": 35,
     "metadata": {},
     "output_type": "execute_result"
    }
   ],
   "source": [
    "myhypot(6, 8)"
   ]
  },
  {
   "cell_type": "code",
   "execution_count": 37,
   "id": "weighted-trace",
   "metadata": {},
   "outputs": [],
   "source": [
    "def hypot_calculator():\n",
    "    '''Ask for triangle sides and print hypotenuse. Input should be numbers.'''\n",
    "    a = float(input(\"Insert side a: \"))\n",
    "    b = float(input(\"Insert side b: \"))\n",
    "    H = myhypot(a,b)  # call function hyp()\n",
    "    print (\"Hypotenuse = \", H)"
   ]
  },
  {
   "cell_type": "code",
   "execution_count": 39,
   "id": "welsh-owner",
   "metadata": {},
   "outputs": [
    {
     "name": "stdin",
     "output_type": "stream",
     "text": [
      "Insert side a:  3\n",
      "Insert side b:  4\n"
     ]
    },
    {
     "name": "stdout",
     "output_type": "stream",
     "text": [
      "Hypotenuse =  5.0\n"
     ]
    }
   ],
   "source": [
    "hypot_calculator()  # 3, 4"
   ]
  },
  {
   "cell_type": "code",
   "execution_count": null,
   "id": "miniature-fiction",
   "metadata": {},
   "outputs": [],
   "source": [
    "##  TypeError: hypot_calculator() takes 0 positional arguments but 2 were given\n",
    "# hypot_calculator(3, 4)"
   ]
  },
  {
   "cell_type": "markdown",
   "id": "smart-bolivia",
   "metadata": {},
   "source": [
    "#### User-defined modules\n",
    "\n",
    "[Modules.](https://docs.python.org/3/tutorial/modules.html)  \n",
    "Must read: ```if __name__ == \"__main__\" ``` [stack_overflow](https://stackoverflow.com/questions/419163/what-does-if-name-main-do)  \n",
    "\n",
    "Importing functions.  \n",
    "For efficiency reasons, each module is only imported once per interpreter session. Therefore, if you change your modules, you must restart the interpreter – or, if it’s just one module you want to test interactively, use importlib.reload(),   \n",
    "e.g. import importlib; importlib.reload(modulename)."
   ]
  },
  {
   "cell_type": "code",
   "execution_count": 40,
   "id": "particular-hometown",
   "metadata": {},
   "outputs": [
    {
     "name": "stdout",
     "output_type": "stream",
     "text": [
      "__main__\n"
     ]
    }
   ],
   "source": [
    "# the name of the main module is \"__main__\"\n",
    "print(__name__)"
   ]
  },
  {
   "cell_type": "code",
   "execution_count": 43,
   "id": "psychological-telling",
   "metadata": {},
   "outputs": [
    {
     "data": {
      "text/plain": [
       "'math'"
      ]
     },
     "execution_count": 43,
     "metadata": {},
     "output_type": "execute_result"
    }
   ],
   "source": [
    "# the name of the imported module is the explicit module name\n",
    "import math\n",
    "math.__name__"
   ]
  },
  {
   "cell_type": "code",
   "execution_count": 44,
   "id": "forced-buyer",
   "metadata": {},
   "outputs": [
    {
     "data": {
      "text/plain": [
       "'sqrt'"
      ]
     },
     "execution_count": 44,
     "metadata": {},
     "output_type": "execute_result"
    }
   ],
   "source": [
    "# the imported function also has a name.\n",
    "math.sqrt.__name__"
   ]
  },
  {
   "cell_type": "code",
   "execution_count": 45,
   "id": "promotional-blade",
   "metadata": {},
   "outputs": [],
   "source": [
    "from hypot_module import hypot_calculator_modular"
   ]
  },
  {
   "cell_type": "code",
   "execution_count": 46,
   "id": "sound-diversity",
   "metadata": {},
   "outputs": [
    {
     "name": "stdin",
     "output_type": "stream",
     "text": [
      "Insert side a:  3\n",
      "Insert side b:  4\n"
     ]
    },
    {
     "name": "stdout",
     "output_type": "stream",
     "text": [
      "Hypotenuse =  5.0\n"
     ]
    }
   ],
   "source": [
    "hypot_calculator_modular()"
   ]
  },
  {
   "cell_type": "markdown",
   "id": "whole-villa",
   "metadata": {},
   "source": [
    "Crtical Bug of the importing only hypot_calculator_modular()  \n",
    "IT NEEDS: myhypot()  \n",
    "but myhypot() needs math.sqrt()  \n",
    "It runs in this notebook only because:  \n",
    "```from math import sqrt``` had been executed above."
   ]
  },
  {
   "cell_type": "code",
   "execution_count": 48,
   "id": "professional-conservative",
   "metadata": {},
   "outputs": [],
   "source": [
    "# Alternative import\n",
    "import hypot_module"
   ]
  },
  {
   "cell_type": "code",
   "execution_count": null,
   "id": "architectural-washington",
   "metadata": {},
   "outputs": [],
   "source": [
    "hypot_module.hypot_calculator_modular()"
   ]
  },
  {
   "cell_type": "code",
   "execution_count": 50,
   "id": "beautiful-functionality",
   "metadata": {},
   "outputs": [
    {
     "name": "stdin",
     "output_type": "stream",
     "text": [
      "Insert side a:  4\n",
      "Insert side b:  5\n"
     ]
    },
    {
     "name": "stdout",
     "output_type": "stream",
     "text": [
      "Hypotenuse =  6.4031242374328485\n"
     ]
    }
   ],
   "source": [
    "# Uncomment line that calls the function in the *.py file.\n",
    "import importlib; importlib.reload(hypot_module)\n",
    "hypot_module.hypot_calculator_modular()"
   ]
  },
  {
   "cell_type": "markdown",
   "id": "quality-resource",
   "metadata": {},
   "source": [
    "#### Extra: User defined Packages\n",
    "Python may treat directories as [packages](https://docs.python.org/3/tutorial/modules.html#packages)\n",
    "\n",
    "```__init__``` constuctor"
   ]
  },
  {
   "cell_type": "code",
   "execution_count": null,
   "id": "adaptive-bikini",
   "metadata": {},
   "outputs": [],
   "source": []
  }
 ],
 "metadata": {
  "kernelspec": {
   "display_name": "Python 3 (ipykernel)",
   "language": "python",
   "name": "python3"
  },
  "language_info": {
   "codemirror_mode": {
    "name": "ipython",
    "version": 3
   },
   "file_extension": ".py",
   "mimetype": "text/x-python",
   "name": "python",
   "nbconvert_exporter": "python",
   "pygments_lexer": "ipython3",
   "version": "3.9.10"
  }
 },
 "nbformat": 4,
 "nbformat_minor": 5
}
