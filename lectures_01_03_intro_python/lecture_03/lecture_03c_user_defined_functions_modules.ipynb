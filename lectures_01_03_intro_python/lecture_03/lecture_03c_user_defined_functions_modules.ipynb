{
 "cells": [
  {
   "cell_type": "markdown",
   "id": "95b9c5c4-229d-4885-9de8-56271c8802e7",
   "metadata": {},
   "source": [
    "Do this in .py format as part of second lecture"
   ]
  },
  {
   "cell_type": "markdown",
   "id": "1435c4ea-251c-4eba-8d0e-01059bc04369",
   "metadata": {},
   "source": [
    "\n"
   ]
  },
  {
   "cell_type": "markdown",
   "id": "eb5ff61a-c6c5-4dcf-9498-a9e83116db4b",
   "metadata": {},
   "source": [
    "Add pycharm  or VS and Github co-pilot instuctions from second lectured"
   ]
  },
  {
   "cell_type": "markdown",
   "id": "a2bbae68-9a62-42c0-8d55-da001d08e934",
   "metadata": {},
   "source": [
    "Find function definctions files from previous years"
   ]
  },
  {
   "cell_type": "code",
   "execution_count": null,
   "id": "1a8db09e-6758-4463-8d65-7ef8061e759d",
   "metadata": {},
   "outputs": [],
   "source": []
  }
 ],
 "metadata": {
  "kernelspec": {
   "display_name": "Python 3 (ipykernel)",
   "language": "python",
   "name": "python3"
  },
  "language_info": {
   "codemirror_mode": {
    "name": "ipython",
    "version": 3
   },
   "file_extension": ".py",
   "mimetype": "text/x-python",
   "name": "python",
   "nbconvert_exporter": "python",
   "pygments_lexer": "ipython3",
   "version": "3.11.9"
  }
 },
 "nbformat": 4,
 "nbformat_minor": 5
}
