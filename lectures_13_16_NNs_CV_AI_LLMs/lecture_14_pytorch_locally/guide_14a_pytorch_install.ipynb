{
 "cells": [
  {
   "cell_type": "markdown",
   "id": "594ef660-ed26-430b-87f6-10ac084a7368",
   "metadata": {},
   "source": [
    "# Lecture 14a. Pytorch Installation instructions\n",
    "\n",
    "[Pytorch site](https://pytorch.org/)\n",
    "\n",
    "## [1. Installation instructions:](https://pytorch.org/get-started/locally/) Read carefully. \n",
    "Choose the right installation for: \n",
    "* Operating System.\n",
    "* Installation Package. Use `pip`\n",
    "* Language.\n",
    "* Compute platform. Please select `CPU` if you don't have a GPU.\n",
    "\n",
    "---\n",
    "\n",
    "I strongly recommend after this lecture to study pytorch in a new Virtual Environment: \n",
    "* 1) create a new directory (name it: uoa_pytorch_course):\n",
    "```bash\n",
    "mkdir uoa_py_torch\n",
    "```\n",
    "* 2) create a new virtual enviroment, (name it: venv_pytorch):\n",
    "```bash\n",
    "python3 -m venv venv_pytorch\n",
    "```\n",
    "\n",
    "* 3) activate the venv:\n",
    "```bash\n",
    "course_venv\\Scripts\\activate\n",
    "```\n",
    "\n",
    "* 4) pip install and upgreade pip setuptools and wheel:\n",
    "```bash\n",
    "python -m pip install --upgrade setuptools wheel\n",
    "```\n",
    "\n",
    "## For this lecture, just use the virtual enviroment of the course.\n",
    "\n",
    "* 5) install pytorch from the Command Line. For `Windows OS`, to install the `CPU` version, using `pip`, enter the command:  \n",
    "```bash\n",
    "pip3 install torch torchvision torchaudio --index-url https://download.pytorch.org/whl/cpu\n",
    "```\n",
    "\n",
    "--- \n",
    "\n",
    "Or, you may also install conda and create a new venv for pytorch using conda or just `pip install torch`.  \n",
    "\n",
    "---\n",
    "\n",
    "**Or, you may upload this notebook to Google Colab and install pytorch there.**  \n",
    "\n",
    "In this case: select linux, GPU and make sure colab supports at least the CUDA versions or higher than the pytorch version.  \n",
    "Currently, colab supports CUDA 12.2, so the most recent version will work.\n",
    "The command in the colab notebook is:\n",
    "```bash\n",
    "!pip3 install torch torchvision torchaudio --index-url https://download.pytorch.org/whl/cu121\n",
    "```"
   ]
  },
  {
   "cell_type": "code",
   "execution_count": 1,
   "id": "e564f20a-738b-422b-8d7c-68f04fd6cf8b",
   "metadata": {},
   "outputs": [],
   "source": [
    "# pytorch version\n",
    "import torch"
   ]
  },
  {
   "cell_type": "code",
   "execution_count": 2,
   "id": "a49ab2e1-76e2-42c1-b051-a7708e4dcca5",
   "metadata": {},
   "outputs": [
    {
     "data": {
      "text/plain": [
       "'2.3.1+cpu'"
      ]
     },
     "execution_count": 2,
     "metadata": {},
     "output_type": "execute_result"
    }
   ],
   "source": [
    "torch.__version__"
   ]
  },
  {
   "cell_type": "code",
   "execution_count": 5,
   "id": "9289313f-291b-4d82-968d-3e9a6d82a39a",
   "metadata": {},
   "outputs": [
    {
     "name": "stdout",
     "output_type": "stream",
     "text": [
      "2.3.1+cpu\n"
     ]
    }
   ],
   "source": [
    "# or from command line\n",
    "!python -c \"import torch; print(torch.__version__)\""
   ]
  },
  {
   "cell_type": "code",
   "execution_count": null,
   "id": "d475ca14-53e6-4abc-a8d0-16f1196a4171",
   "metadata": {},
   "outputs": [],
   "source": []
  }
 ],
 "metadata": {
  "kernelspec": {
   "display_name": "Python 3 (ipykernel)",
   "language": "python",
   "name": "python3"
  },
  "language_info": {
   "codemirror_mode": {
    "name": "ipython",
    "version": 3
   },
   "file_extension": ".py",
   "mimetype": "text/x-python",
   "name": "python",
   "nbconvert_exporter": "python",
   "pygments_lexer": "ipython3",
   "version": "3.11.7"
  }
 },
 "nbformat": 4,
 "nbformat_minor": 5
}
