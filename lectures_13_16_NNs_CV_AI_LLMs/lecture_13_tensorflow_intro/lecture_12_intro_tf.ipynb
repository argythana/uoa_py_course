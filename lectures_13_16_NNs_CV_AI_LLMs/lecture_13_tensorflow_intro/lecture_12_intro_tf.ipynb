{
 "cells": [
  {
   "cell_type": "markdown",
   "id": "7d3e3d96-3162-4881-af84-1815cc9aac6b",
   "metadata": {},
   "source": [
    "#Todo: Add more comments\n",
    "\n",
    "\n",
    "# Lecture 12. Intro to TensorFlow\n",
    "To be run on google colab."
   ]
  },
  {
   "cell_type": "code",
   "execution_count": 1,
   "id": "e9d38672-5a73-4606-8f12-24227dd14097",
   "metadata": {
    "ExecuteTime": {
     "end_time": "2024-05-31T13:19:29.536008Z",
     "start_time": "2024-05-31T13:19:29.482702Z"
    }
   },
   "outputs": [
    {
     "name": "stderr",
     "output_type": "stream",
     "text": [
      "2024-06-18 16:05:33.236620: I external/local_tsl/tsl/cuda/cudart_stub.cc:32] Could not find cuda drivers on your machine, GPU will not be used.\n",
      "2024-06-18 16:05:33.238569: I external/local_tsl/tsl/cuda/cudart_stub.cc:32] Could not find cuda drivers on your machine, GPU will not be used.\n",
      "2024-06-18 16:05:33.262308: I tensorflow/core/platform/cpu_feature_guard.cc:210] This TensorFlow binary is optimized to use available CPU instructions in performance-critical operations.\n",
      "To enable the following instructions: AVX2 FMA, in other operations, rebuild TensorFlow with the appropriate compiler flags.\n",
      "2024-06-18 16:05:33.854828: W tensorflow/compiler/tf2tensorrt/utils/py_utils.cc:38] TF-TRT Warning: Could not find TensorRT\n",
      "/tmp/ipykernel_57049/4032085288.py:14: DeprecationWarning: `import kerastuner` is deprecated, please use `import keras_tuner`.\n",
      "  from kerastuner.tuners import RandomSearch\n"
     ]
    }
   ],
   "source": [
    "import numpy as np \n",
    "import pandas as pd \n",
    "import matplotlib.pyplot as plt\n",
    "import seaborn as sns\n",
    "import numpy as np # linear algebra\n",
    "import pandas as pd # data processing, CSV file I/O (e.g. pd.read_csv)\n",
    "from sklearn.preprocessing import MinMaxScaler\n",
    "from sklearn.preprocessing import LabelEncoder\n",
    "import matplotlib.pyplot as plt\n",
    "import seaborn as sns\n",
    "\n",
    "from keras.models import Sequential\n",
    "from keras.layers import Dense,Dropout\n",
    "from kerastuner.tuners import RandomSearch\n",
    "from kerastuner.engine.hyperparameters import HyperParameters\n",
    "\n",
    "import os\n",
    "import warnings\n",
    "\n",
    "from tensorflow import keras\n",
    "from tensorflow.keras import layers\n",
    "from kerastuner.tuners import RandomSearch  # pip install keras-tuner\n",
    "warnings.filterwarnings('ignore')\n",
    "\n",
    "import shap"
   ]
  },
  {
   "cell_type": "code",
   "execution_count": 2,
   "id": "d785e406-52d2-4b12-adde-3760f97cf063",
   "metadata": {
    "scrolled": true
   },
   "outputs": [],
   "source": [
    "# pip install tensorflow keras keras-tuner shap"
   ]
  },
  {
   "cell_type": "code",
   "execution_count": 3,
   "id": "63614bc7-3533-4724-974f-1e4aa51c5268",
   "metadata": {
    "ExecuteTime": {
     "end_time": "2024-05-31T13:19:30.229525Z",
     "start_time": "2024-05-31T13:19:29.812205Z"
    }
   },
   "outputs": [
    {
     "name": "stdout",
     "output_type": "stream",
     "text": [
      "Shape of train data is: (7352, 563)\n",
      "Shape of test data is: (2947, 563)\n"
     ]
    }
   ],
   "source": [
    "train_data = pd.read_csv('har_train.csv')\n",
    "test_data = pd.read_csv('har_test.csv')\n",
    "\n",
    "print(f'Shape of train data is: {train_data.shape}\\nShape of test data is: {test_data.shape}')"
   ]
  },
  {
   "cell_type": "code",
   "execution_count": 4,
   "id": "7c53bc04-634e-4684-a07c-b86e87ba5b12",
   "metadata": {
    "ExecuteTime": {
     "end_time": "2024-05-31T13:19:30.241634Z",
     "start_time": "2024-05-31T13:19:30.230411Z"
    }
   },
   "outputs": [
    {
     "data": {
      "text/plain": [
       "((7352, 561), (7352, 1))"
      ]
     },
     "execution_count": 4,
     "metadata": {},
     "output_type": "execute_result"
    }
   ],
   "source": [
    "\n",
    "\n",
    "x_train, y_train = train_data.iloc[:, :-2], train_data.iloc[:, -1:]\n",
    "x_test, y_test = test_data.iloc[:, :-2], test_data.iloc[:, -1:]\n",
    "x_train.shape, y_train.shape\n",
    "\n"
   ]
  },
  {
   "cell_type": "code",
   "execution_count": 5,
   "id": "e751c2cc-0d29-4078-a3bc-65a0bb9d1aed",
   "metadata": {
    "ExecuteTime": {
     "end_time": "2024-05-31T13:19:30.247018Z",
     "start_time": "2024-05-31T13:19:30.242223Z"
    }
   },
   "outputs": [
    {
     "data": {
      "text/plain": [
       "((2947, 561), (2947, 1))"
      ]
     },
     "execution_count": 5,
     "metadata": {},
     "output_type": "execute_result"
    }
   ],
   "source": [
    "x_test, y_test = test_data.iloc[:, :-2], test_data.iloc[:, -1:]\n",
    "x_test.shape, y_test.shape"
   ]
  },
  {
   "cell_type": "code",
   "execution_count": 6,
   "id": "d61ffe86-9bc8-4680-bfc9-70137b6fa3c4",
   "metadata": {},
   "outputs": [
    {
     "data": {
      "text/html": [
       "<div>\n",
       "<style scoped>\n",
       "    .dataframe tbody tr th:only-of-type {\n",
       "        vertical-align: middle;\n",
       "    }\n",
       "\n",
       "    .dataframe tbody tr th {\n",
       "        vertical-align: top;\n",
       "    }\n",
       "\n",
       "    .dataframe thead th {\n",
       "        text-align: right;\n",
       "    }\n",
       "</style>\n",
       "<table border=\"1\" class=\"dataframe\">\n",
       "  <thead>\n",
       "    <tr style=\"text-align: right;\">\n",
       "      <th></th>\n",
       "      <th>Activity</th>\n",
       "    </tr>\n",
       "  </thead>\n",
       "  <tbody>\n",
       "    <tr>\n",
       "      <th>0</th>\n",
       "      <td>STANDING</td>\n",
       "    </tr>\n",
       "    <tr>\n",
       "      <th>1</th>\n",
       "      <td>STANDING</td>\n",
       "    </tr>\n",
       "    <tr>\n",
       "      <th>2</th>\n",
       "      <td>STANDING</td>\n",
       "    </tr>\n",
       "    <tr>\n",
       "      <th>3</th>\n",
       "      <td>STANDING</td>\n",
       "    </tr>\n",
       "    <tr>\n",
       "      <th>4</th>\n",
       "      <td>STANDING</td>\n",
       "    </tr>\n",
       "    <tr>\n",
       "      <th>...</th>\n",
       "      <td>...</td>\n",
       "    </tr>\n",
       "    <tr>\n",
       "      <th>7347</th>\n",
       "      <td>WALKING_UPSTAIRS</td>\n",
       "    </tr>\n",
       "    <tr>\n",
       "      <th>7348</th>\n",
       "      <td>WALKING_UPSTAIRS</td>\n",
       "    </tr>\n",
       "    <tr>\n",
       "      <th>7349</th>\n",
       "      <td>WALKING_UPSTAIRS</td>\n",
       "    </tr>\n",
       "    <tr>\n",
       "      <th>7350</th>\n",
       "      <td>WALKING_UPSTAIRS</td>\n",
       "    </tr>\n",
       "    <tr>\n",
       "      <th>7351</th>\n",
       "      <td>WALKING_UPSTAIRS</td>\n",
       "    </tr>\n",
       "  </tbody>\n",
       "</table>\n",
       "<p>7352 rows × 1 columns</p>\n",
       "</div>"
      ],
      "text/plain": [
       "              Activity\n",
       "0             STANDING\n",
       "1             STANDING\n",
       "2             STANDING\n",
       "3             STANDING\n",
       "4             STANDING\n",
       "...                ...\n",
       "7347  WALKING_UPSTAIRS\n",
       "7348  WALKING_UPSTAIRS\n",
       "7349  WALKING_UPSTAIRS\n",
       "7350  WALKING_UPSTAIRS\n",
       "7351  WALKING_UPSTAIRS\n",
       "\n",
       "[7352 rows x 1 columns]"
      ]
     },
     "execution_count": 6,
     "metadata": {},
     "output_type": "execute_result"
    }
   ],
   "source": [
    "y_train"
   ]
  },
  {
   "cell_type": "code",
   "execution_count": 7,
   "id": "c3cf7abc-c0ea-45e8-9fac-6061bcba7829",
   "metadata": {
    "ExecuteTime": {
     "end_time": "2024-05-31T13:19:30.402850Z",
     "start_time": "2024-05-31T13:19:30.397981Z"
    }
   },
   "outputs": [],
   "source": [
    "le = LabelEncoder()"
   ]
  },
  {
   "cell_type": "code",
   "execution_count": 8,
   "id": "aa84338a-f9e8-4e95-85a2-e6fa900c4496",
   "metadata": {
    "ExecuteTime": {
     "end_time": "2024-05-31T13:19:30.402850Z",
     "start_time": "2024-05-31T13:19:30.397981Z"
    }
   },
   "outputs": [],
   "source": [
    "y_train = le.fit_transform(y_train)\n",
    "y_test = le.fit_transform(y_test)"
   ]
  },
  {
   "cell_type": "code",
   "execution_count": 9,
   "id": "f30d6ecc-d2d1-4323-b76e-f92c25d8e672",
   "metadata": {},
   "outputs": [
    {
     "data": {
      "text/plain": [
       "array([2, 2, 2, ..., 5, 5, 5])"
      ]
     },
     "execution_count": 9,
     "metadata": {},
     "output_type": "execute_result"
    }
   ],
   "source": [
    "y_train"
   ]
  },
  {
   "cell_type": "code",
   "execution_count": 10,
   "id": "ad9f0198-856f-41c9-ba96-925f9a01babe",
   "metadata": {
    "ExecuteTime": {
     "end_time": "2024-05-31T13:19:31.078529Z",
     "start_time": "2024-05-31T13:19:31.047185Z"
    }
   },
   "outputs": [],
   "source": [
    "scaling_data = MinMaxScaler()\n",
    "\n",
    "x_train = scaling_data.fit_transform(x_train)\n",
    "x_test = scaling_data.transform(x_test)"
   ]
  },
  {
   "cell_type": "code",
   "execution_count": 11,
   "id": "146df066-8c03-4c5a-a2b0-f1563f339765",
   "metadata": {},
   "outputs": [
    {
     "data": {
      "text/plain": [
       "array([[0.64429225, 0.48985291, 0.43354743, ..., 0.07937662, 0.79825103,\n",
       "        0.47068654],\n",
       "       [0.63920942, 0.49179472, 0.4382399 , ..., 0.0776062 , 0.79848665,\n",
       "        0.47284164],\n",
       "       [0.63982653, 0.49026642, 0.44326915, ..., 0.07553327, 0.79872236,\n",
       "        0.47544109],\n",
       "       ...,\n",
       "       [0.63669369, 0.49149469, 0.47748909, ..., 0.11043369, 0.84506893,\n",
       "        0.52040559],\n",
       "       [0.64482708, 0.49057848, 0.42085971, ..., 0.10740929, 0.84323381,\n",
       "        0.51266974],\n",
       "       [0.67575173, 0.49378844, 0.39806642, ..., 0.10836653, 0.84348837,\n",
       "        0.51834742]])"
      ]
     },
     "execution_count": 11,
     "metadata": {},
     "output_type": "execute_result"
    }
   ],
   "source": [
    "x_train"
   ]
  },
  {
   "cell_type": "code",
   "execution_count": 12,
   "id": "3d676c35-b497-4451-9cce-3ecf21b73850",
   "metadata": {},
   "outputs": [
    {
     "data": {
      "text/plain": [
       "numpy.ndarray"
      ]
     },
     "execution_count": 12,
     "metadata": {},
     "output_type": "execute_result"
    }
   ],
   "source": [
    "type(x_train)"
   ]
  },
  {
   "cell_type": "markdown",
   "id": "f5fc880d-5157-4de4-84f9-354757d878b5",
   "metadata": {},
   "source": [
    "### Model"
   ]
  },
  {
   "cell_type": "code",
   "execution_count": 13,
   "id": "b43d268e-069b-4c40-8edb-8a1990d4a2ed",
   "metadata": {
    "ExecuteTime": {
     "end_time": "2024-05-31T13:19:31.237214Z",
     "start_time": "2024-05-31T13:19:31.233831Z"
    }
   },
   "outputs": [],
   "source": [
    "model = Sequential()"
   ]
  },
  {
   "cell_type": "code",
   "execution_count": 14,
   "id": "a9814720-a793-476b-a54a-588d1c7ee962",
   "metadata": {
    "scrolled": true
   },
   "outputs": [],
   "source": [
    "# Sequential??"
   ]
  },
  {
   "cell_type": "code",
   "execution_count": 15,
   "id": "c7e78396-3f99-46bc-b582-357ef7fe0ac2",
   "metadata": {},
   "outputs": [
    {
     "data": {
      "text/plain": [
       "561"
      ]
     },
     "execution_count": 15,
     "metadata": {},
     "output_type": "execute_result"
    }
   ],
   "source": [
    "x_train.shape[1]"
   ]
  },
  {
   "cell_type": "code",
   "execution_count": 16,
   "id": "5356f991-fb08-4ee6-a90d-9a8b760e52af",
   "metadata": {
    "ExecuteTime": {
     "end_time": "2024-05-31T13:19:31.540431Z",
     "start_time": "2024-05-31T13:19:31.429458Z"
    }
   },
   "outputs": [
    {
     "name": "stderr",
     "output_type": "stream",
     "text": [
      "2024-06-18 16:05:35.039394: I external/local_xla/xla/stream_executor/cuda/cuda_executor.cc:998] successful NUMA node read from SysFS had negative value (-1), but there must be at least one NUMA node, so returning NUMA node zero. See more at https://github.com/torvalds/linux/blob/v6.0/Documentation/ABI/testing/sysfs-bus-pci#L344-L355\n",
      "2024-06-18 16:05:35.039754: W tensorflow/core/common_runtime/gpu/gpu_device.cc:2251] Cannot dlopen some GPU libraries. Please make sure the missing libraries mentioned above are installed properly if you would like to use GPU. Follow the guide at https://www.tensorflow.org/install/gpu for how to download and setup the required libraries for your platform.\n",
      "Skipping registering GPU devices...\n"
     ]
    }
   ],
   "source": [
    "model.add(\n",
    "    Dense(\n",
    "    units=64,\n",
    "    kernel_initializer='normal',\n",
    "    activation='sigmoid',\n",
    "    input_dim=x_train.shape[1])\n",
    ")"
   ]
  },
  {
   "cell_type": "code",
   "execution_count": 17,
   "id": "08cdbc3d-814a-4657-8f93-fe7ab75c7d02",
   "metadata": {},
   "outputs": [
    {
     "data": {
      "text/plain": [
       "<Sequential name=sequential, built=True>"
      ]
     },
     "execution_count": 17,
     "metadata": {},
     "output_type": "execute_result"
    }
   ],
   "source": [
    "model"
   ]
  },
  {
   "cell_type": "code",
   "execution_count": 18,
   "id": "8133f847-a713-4a60-b12b-6bbe3569553b",
   "metadata": {
    "ExecuteTime": {
     "end_time": "2024-05-31T13:19:31.633827Z",
     "start_time": "2024-05-31T13:19:31.628154Z"
    }
   },
   "outputs": [],
   "source": [
    "model.add(Dropout(0.2))"
   ]
  },
  {
   "cell_type": "code",
   "execution_count": 19,
   "id": "55ae1bb6-3a19-470f-bf41-186dde5d240e",
   "metadata": {},
   "outputs": [],
   "source": [
    "model.add(keras.layers.Dense(64, activation='relu')) "
   ]
  },
  {
   "cell_type": "code",
   "execution_count": 20,
   "id": "891f497f-24bc-4a46-8af4-0060db420a84",
   "metadata": {},
   "outputs": [],
   "source": [
    "model.add(keras.layers.Dense(64, activation='relu')) "
   ]
  },
  {
   "cell_type": "code",
   "execution_count": 21,
   "id": "1b25a7ff-6143-441c-bff0-88d6807ad320",
   "metadata": {},
   "outputs": [],
   "source": [
    "# model.add(keras.layers.Dense(64,\n",
    "#                              activation='relu',\n",
    "#                              kernel_regularizer=regularizers.l1(0.01)))"
   ]
  },
  {
   "cell_type": "code",
   "execution_count": 22,
   "id": "b0500292-8775-4d60-bd3b-a37dbdcfa2a6",
   "metadata": {},
   "outputs": [],
   "source": [
    "# model.add(Dense(64, activation='relu')) "
   ]
  },
  {
   "cell_type": "code",
   "execution_count": 23,
   "id": "fa17ec13-9e1f-44e0-a887-c1cfbb1923ce",
   "metadata": {
    "ExecuteTime": {
     "end_time": "2024-05-31T13:19:31.849383Z",
     "start_time": "2024-05-31T13:19:31.837843Z"
    }
   },
   "outputs": [],
   "source": [
    "model.add(Dense(units=6,\n",
    "                kernel_initializer='uniform',\n",
    "                activation='softmax'))"
   ]
  },
  {
   "cell_type": "code",
   "execution_count": 24,
   "id": "60e6edb6-e75a-4a7e-9779-5215de67f293",
   "metadata": {
    "ExecuteTime": {
     "end_time": "2024-05-31T13:19:32.059528Z",
     "start_time": "2024-05-31T13:19:32.046845Z"
    }
   },
   "outputs": [],
   "source": [
    "model.compile(optimizer='adam',\n",
    "              loss='sparse_categorical_crossentropy',\n",
    "              metrics=['accuracy'])"
   ]
  },
  {
   "cell_type": "code",
   "execution_count": null,
   "id": "8541a46f-9261-448d-89ec-da0fc41849cd",
   "metadata": {},
   "outputs": [],
   "source": []
  },
  {
   "cell_type": "code",
   "execution_count": 25,
   "id": "89965e36-5c7c-4966-a80f-0acd88b2a2f1",
   "metadata": {
    "ExecuteTime": {
     "end_time": "2024-05-31T13:19:34.016254Z",
     "start_time": "2024-05-31T13:19:32.505011Z"
    }
   },
   "outputs": [
    {
     "name": "stdout",
     "output_type": "stream",
     "text": [
      "Epoch 1/10\n",
      "\u001B[1m115/115\u001B[0m \u001B[32m━━━━━━━━━━━━━━━━━━━━\u001B[0m\u001B[37m\u001B[0m \u001B[1m1s\u001B[0m 2ms/step - accuracy: 0.3310 - loss: 1.4746 - val_accuracy: 0.5816 - val_loss: 0.9034\n",
      "Epoch 2/10\n",
      "\u001B[1m115/115\u001B[0m \u001B[32m━━━━━━━━━━━━━━━━━━━━\u001B[0m\u001B[37m\u001B[0m \u001B[1m0s\u001B[0m 827us/step - accuracy: 0.6643 - loss: 0.7506 - val_accuracy: 0.8056 - val_loss: 0.4729\n",
      "Epoch 3/10\n",
      "\u001B[1m115/115\u001B[0m \u001B[32m━━━━━━━━━━━━━━━━━━━━\u001B[0m\u001B[37m\u001B[0m \u001B[1m0s\u001B[0m 845us/step - accuracy: 0.8327 - loss: 0.3913 - val_accuracy: 0.8534 - val_loss: 0.3347\n",
      "Epoch 4/10\n",
      "\u001B[1m115/115\u001B[0m \u001B[32m━━━━━━━━━━━━━━━━━━━━\u001B[0m\u001B[37m\u001B[0m \u001B[1m0s\u001B[0m 815us/step - accuracy: 0.8649 - loss: 0.3213 - val_accuracy: 0.9013 - val_loss: 0.2631\n",
      "Epoch 5/10\n",
      "\u001B[1m115/115\u001B[0m \u001B[32m━━━━━━━━━━━━━━━━━━━━\u001B[0m\u001B[37m\u001B[0m \u001B[1m0s\u001B[0m 813us/step - accuracy: 0.8864 - loss: 0.2655 - val_accuracy: 0.8856 - val_loss: 0.2761\n",
      "Epoch 6/10\n",
      "\u001B[1m115/115\u001B[0m \u001B[32m━━━━━━━━━━━━━━━━━━━━\u001B[0m\u001B[37m\u001B[0m \u001B[1m0s\u001B[0m 818us/step - accuracy: 0.9088 - loss: 0.2199 - val_accuracy: 0.9250 - val_loss: 0.2015\n",
      "Epoch 7/10\n",
      "\u001B[1m115/115\u001B[0m \u001B[32m━━━━━━━━━━━━━━━━━━━━\u001B[0m\u001B[37m\u001B[0m \u001B[1m0s\u001B[0m 800us/step - accuracy: 0.9171 - loss: 0.2031 - val_accuracy: 0.9274 - val_loss: 0.2032\n",
      "Epoch 8/10\n",
      "\u001B[1m115/115\u001B[0m \u001B[32m━━━━━━━━━━━━━━━━━━━━\u001B[0m\u001B[37m\u001B[0m \u001B[1m0s\u001B[0m 809us/step - accuracy: 0.9343 - loss: 0.1688 - val_accuracy: 0.9284 - val_loss: 0.1991\n",
      "Epoch 9/10\n",
      "\u001B[1m115/115\u001B[0m \u001B[32m━━━━━━━━━━━━━━━━━━━━\u001B[0m\u001B[37m\u001B[0m \u001B[1m0s\u001B[0m 790us/step - accuracy: 0.9283 - loss: 0.1743 - val_accuracy: 0.9281 - val_loss: 0.1732\n",
      "Epoch 10/10\n",
      "\u001B[1m115/115\u001B[0m \u001B[32m━━━━━━━━━━━━━━━━━━━━\u001B[0m\u001B[37m\u001B[0m \u001B[1m0s\u001B[0m 812us/step - accuracy: 0.9416 - loss: 0.1430 - val_accuracy: 0.9172 - val_loss: 0.2053\n"
     ]
    }
   ],
   "source": [
    "history = model.fit(\n",
    "    x_train, y_train, \n",
    "    batch_size = 64, \n",
    "    epochs= 10,\n",
    "    validation_data = (x_test,y_test))"
   ]
  },
  {
   "cell_type": "code",
   "execution_count": 26,
   "id": "dc6d786f-1692-42f3-a5a8-72301182ab71",
   "metadata": {},
   "outputs": [
    {
     "name": "stdout",
     "output_type": "stream",
     "text": [
      "Help on method add in module keras.src.models.sequential:\n",
      "\n",
      "add(layer, rebuild=True) method of keras.src.models.sequential.Sequential instance\n",
      "    Adds a layer instance on top of the layer stack.\n",
      "    \n",
      "    Args:\n",
      "        layer: layer instance.\n",
      "\n"
     ]
    }
   ],
   "source": [
    " help(model.add)"
   ]
  },
  {
   "cell_type": "code",
   "execution_count": 27,
   "id": "e6073dda-90b6-476d-bd48-a9a86f358a9f",
   "metadata": {},
   "outputs": [
    {
     "name": "stdout",
     "output_type": "stream",
     "text": [
      "Epoch 1/10\n",
      "\u001B[1m115/115\u001B[0m \u001B[32m━━━━━━━━━━━━━━━━━━━━\u001B[0m\u001B[37m\u001B[0m \u001B[1m0s\u001B[0m 991us/step - accuracy: 0.9441 - loss: 0.1355 - val_accuracy: 0.9338 - val_loss: 0.1705\n",
      "Epoch 2/10\n",
      "\u001B[1m115/115\u001B[0m \u001B[32m━━━━━━━━━━━━━━━━━━━━\u001B[0m\u001B[37m\u001B[0m \u001B[1m0s\u001B[0m 801us/step - accuracy: 0.9461 - loss: 0.1358 - val_accuracy: 0.9260 - val_loss: 0.2017\n",
      "Epoch 3/10\n",
      "\u001B[1m115/115\u001B[0m \u001B[32m━━━━━━━━━━━━━━━━━━━━\u001B[0m\u001B[37m\u001B[0m \u001B[1m0s\u001B[0m 814us/step - accuracy: 0.9526 - loss: 0.1173 - val_accuracy: 0.9220 - val_loss: 0.1923\n",
      "Epoch 4/10\n",
      "\u001B[1m115/115\u001B[0m \u001B[32m━━━━━━━━━━━━━━━━━━━━\u001B[0m\u001B[37m\u001B[0m \u001B[1m0s\u001B[0m 825us/step - accuracy: 0.9529 - loss: 0.1183 - val_accuracy: 0.9423 - val_loss: 0.1461\n",
      "Epoch 5/10\n",
      "\u001B[1m115/115\u001B[0m \u001B[32m━━━━━━━━━━━━━━━━━━━━\u001B[0m\u001B[37m\u001B[0m \u001B[1m0s\u001B[0m 807us/step - accuracy: 0.9594 - loss: 0.1066 - val_accuracy: 0.9223 - val_loss: 0.1942\n",
      "Epoch 6/10\n",
      "\u001B[1m115/115\u001B[0m \u001B[32m━━━━━━━━━━━━━━━━━━━━\u001B[0m\u001B[37m\u001B[0m \u001B[1m0s\u001B[0m 794us/step - accuracy: 0.9604 - loss: 0.1051 - val_accuracy: 0.9372 - val_loss: 0.1536\n",
      "Epoch 7/10\n",
      "\u001B[1m115/115\u001B[0m \u001B[32m━━━━━━━━━━━━━━━━━━━━\u001B[0m\u001B[37m\u001B[0m \u001B[1m0s\u001B[0m 807us/step - accuracy: 0.9612 - loss: 0.0965 - val_accuracy: 0.9379 - val_loss: 0.1798\n",
      "Epoch 8/10\n",
      "\u001B[1m115/115\u001B[0m \u001B[32m━━━━━━━━━━━━━━━━━━━━\u001B[0m\u001B[37m\u001B[0m \u001B[1m0s\u001B[0m 793us/step - accuracy: 0.9585 - loss: 0.0988 - val_accuracy: 0.9386 - val_loss: 0.1596\n",
      "Epoch 9/10\n",
      "\u001B[1m115/115\u001B[0m \u001B[32m━━━━━━━━━━━━━━━━━━━━\u001B[0m\u001B[37m\u001B[0m \u001B[1m0s\u001B[0m 795us/step - accuracy: 0.9600 - loss: 0.1005 - val_accuracy: 0.9481 - val_loss: 0.1338\n",
      "Epoch 10/10\n",
      "\u001B[1m115/115\u001B[0m \u001B[32m━━━━━━━━━━━━━━━━━━━━\u001B[0m\u001B[37m\u001B[0m \u001B[1m0s\u001B[0m 787us/step - accuracy: 0.9642 - loss: 0.0858 - val_accuracy: 0.9484 - val_loss: 0.1368\n"
     ]
    },
    {
     "data": {
      "text/plain": [
       "<keras.src.callbacks.history.History at 0x7f5a8c343d50>"
      ]
     },
     "execution_count": 27,
     "metadata": {},
     "output_type": "execute_result"
    }
   ],
   "source": [
    "model.fit(\n",
    "    x_train, y_train, \n",
    "    batch_size = 64, \n",
    "    epochs= 10,\n",
    "    validation_data = (x_test,y_test))"
   ]
  },
  {
   "cell_type": "code",
   "execution_count": 28,
   "id": "34f9a6e0-8b64-4c19-b473-d1f0ea99fd65",
   "metadata": {},
   "outputs": [],
   "source": [
    "# # we use the first 100 training examples as our background dataset to integrate over\n",
    "# explainer = shap.DeepExplainer(model, x_train)\n",
    "\n",
    "# # explain the first 10 predictions\n",
    "# # explaining each prediction requires 2 * background dataset size runs\n",
    "# shap_values = explainer.shap_values(x_test)\n",
    "\n"
   ]
  },
  {
   "cell_type": "code",
   "execution_count": 29,
   "id": "1b00a7827a9d20bf",
   "metadata": {
    "ExecuteTime": {
     "end_time": "2024-05-31T13:20:11.984275Z",
     "start_time": "2024-05-31T13:20:11.971437Z"
    }
   },
   "outputs": [
    {
     "name": "stdout",
     "output_type": "stream",
     "text": [
      "Reloading Tuner from project/Human_activity_recognition/tuner0.json\n",
      "Search space summary\n",
      "Default search space size: 27\n",
      "num_layers (Int)\n",
      "{'default': None, 'conditions': [], 'min_value': 2, 'max_value': 25, 'step': 1, 'sampling': 'linear'}\n",
      "units0 (Int)\n",
      "{'default': None, 'conditions': [], 'min_value': 32, 'max_value': 512, 'step': 32, 'sampling': 'linear'}\n",
      "initializer (Choice)\n",
      "{'default': 'uniform', 'conditions': [], 'values': ['uniform', 'normal'], 'ordered': False}\n",
      "activation (Choice)\n",
      "{'default': 'relu', 'conditions': [], 'values': ['relu', 'sigmoid', 'tanh'], 'ordered': False}\n",
      "units1 (Int)\n",
      "{'default': None, 'conditions': [], 'min_value': 32, 'max_value': 512, 'step': 32, 'sampling': 'linear'}\n",
      "units2 (Int)\n",
      "{'default': None, 'conditions': [], 'min_value': 32, 'max_value': 512, 'step': 32, 'sampling': 'linear'}\n",
      "units3 (Int)\n",
      "{'default': None, 'conditions': [], 'min_value': 32, 'max_value': 512, 'step': 32, 'sampling': 'linear'}\n",
      "units4 (Int)\n",
      "{'default': None, 'conditions': [], 'min_value': 32, 'max_value': 512, 'step': 32, 'sampling': 'linear'}\n",
      "units5 (Int)\n",
      "{'default': None, 'conditions': [], 'min_value': 32, 'max_value': 512, 'step': 32, 'sampling': 'linear'}\n",
      "units6 (Int)\n",
      "{'default': None, 'conditions': [], 'min_value': 32, 'max_value': 512, 'step': 32, 'sampling': 'linear'}\n",
      "units7 (Int)\n",
      "{'default': None, 'conditions': [], 'min_value': 32, 'max_value': 512, 'step': 32, 'sampling': 'linear'}\n",
      "units8 (Int)\n",
      "{'default': None, 'conditions': [], 'min_value': 32, 'max_value': 512, 'step': 32, 'sampling': 'linear'}\n",
      "units9 (Int)\n",
      "{'default': None, 'conditions': [], 'min_value': 32, 'max_value': 512, 'step': 32, 'sampling': 'linear'}\n",
      "units10 (Int)\n",
      "{'default': None, 'conditions': [], 'min_value': 32, 'max_value': 512, 'step': 32, 'sampling': 'linear'}\n",
      "units11 (Int)\n",
      "{'default': None, 'conditions': [], 'min_value': 32, 'max_value': 512, 'step': 32, 'sampling': 'linear'}\n",
      "units12 (Int)\n",
      "{'default': None, 'conditions': [], 'min_value': 32, 'max_value': 512, 'step': 32, 'sampling': 'linear'}\n",
      "units13 (Int)\n",
      "{'default': None, 'conditions': [], 'min_value': 32, 'max_value': 512, 'step': 32, 'sampling': 'linear'}\n",
      "units14 (Int)\n",
      "{'default': None, 'conditions': [], 'min_value': 32, 'max_value': 512, 'step': 32, 'sampling': 'linear'}\n",
      "units15 (Int)\n",
      "{'default': None, 'conditions': [], 'min_value': 32, 'max_value': 512, 'step': 32, 'sampling': 'linear'}\n",
      "units16 (Int)\n",
      "{'default': None, 'conditions': [], 'min_value': 32, 'max_value': 512, 'step': 32, 'sampling': 'linear'}\n",
      "units17 (Int)\n",
      "{'default': None, 'conditions': [], 'min_value': 32, 'max_value': 512, 'step': 32, 'sampling': 'linear'}\n",
      "units18 (Int)\n",
      "{'default': None, 'conditions': [], 'min_value': 32, 'max_value': 512, 'step': 32, 'sampling': 'linear'}\n",
      "units19 (Int)\n",
      "{'default': None, 'conditions': [], 'min_value': 32, 'max_value': 512, 'step': 32, 'sampling': 'linear'}\n",
      "units20 (Int)\n",
      "{'default': None, 'conditions': [], 'min_value': 32, 'max_value': 512, 'step': 32, 'sampling': 'linear'}\n",
      "units21 (Int)\n",
      "{'default': None, 'conditions': [], 'min_value': 32, 'max_value': 512, 'step': 32, 'sampling': 'linear'}\n",
      "units22 (Int)\n",
      "{'default': None, 'conditions': [], 'min_value': 32, 'max_value': 512, 'step': 32, 'sampling': 'linear'}\n",
      "units23 (Int)\n",
      "{'default': None, 'conditions': [], 'min_value': 32, 'max_value': 512, 'step': 32, 'sampling': 'linear'}\n"
     ]
    }
   ],
   "source": [
    "def build_model(hp):\n",
    "    model = keras.Sequential()\n",
    "    for i in range(hp.Int('num_layers', 2, 25)):\n",
    "        model.add(layers.Dense(units = hp.Int('units' + str(i), min_value=32, max_value=512, step=32),\n",
    "                               kernel_initializer= hp.Choice('initializer', ['uniform', 'normal']),\n",
    "                               activation= hp.Choice('activation', ['relu', 'sigmoid', 'tanh'])))\n",
    "    model.add(layers.Dense(6, kernel_initializer= hp.Choice('initializer', ['uniform', 'normal']), activation='softmax'))\n",
    "    model.add(\n",
    "            Dropout(0.2))\n",
    "    model.compile(\n",
    "        optimizer = 'adam',\n",
    "        loss='sparse_categorical_crossentropy',\n",
    "        metrics=['accuracy'])\n",
    "    return model\n",
    "\n",
    "\n",
    "tuner = RandomSearch(\n",
    "    build_model,\n",
    "    objective='val_accuracy',\n",
    "    max_trials= 5,\n",
    "    executions_per_trial=3,\n",
    "    directory='project', project_name = 'Human_activity_recognition')\n",
    "\n",
    "tuner.search_space_summary()"
   ]
  },
  {
   "cell_type": "code",
   "execution_count": 30,
   "id": "65760e68-af98-40c4-ba57-5cbd000f65e3",
   "metadata": {},
   "outputs": [],
   "source": [
    "tuner.search(x_train, y_train,\n",
    "             epochs= 10,\n",
    "             validation_data=(x_test, y_test))"
   ]
  },
  {
   "cell_type": "code",
   "execution_count": 31,
   "id": "8c5aa1c761369015",
   "metadata": {
    "ExecuteTime": {
     "end_time": "2024-05-31T13:24:27.485258Z",
     "start_time": "2024-05-31T13:24:22.195643Z"
    }
   },
   "outputs": [
    {
     "data": {
      "text/html": [
       "<pre style=\"white-space:pre;overflow-x:auto;line-height:normal;font-family:Menlo,'DejaVu Sans Mono',consolas,'Courier New',monospace\"><span style=\"font-weight: bold\">Model: \"sequential\"</span>\n",
       "</pre>\n"
      ],
      "text/plain": [
       "\u001B[1mModel: \"sequential\"\u001B[0m\n"
      ]
     },
     "metadata": {},
     "output_type": "display_data"
    },
    {
     "data": {
      "text/html": [
       "<pre style=\"white-space:pre;overflow-x:auto;line-height:normal;font-family:Menlo,'DejaVu Sans Mono',consolas,'Courier New',monospace\">┏━━━━━━━━━━━━━━━━━━━━━━━━━━━━━━━━━┳━━━━━━━━━━━━━━━━━━━━━━━━┳━━━━━━━━━━━━━━━┓\n",
       "┃<span style=\"font-weight: bold\"> Layer (type)                    </span>┃<span style=\"font-weight: bold\"> Output Shape           </span>┃<span style=\"font-weight: bold\">       Param # </span>┃\n",
       "┡━━━━━━━━━━━━━━━━━━━━━━━━━━━━━━━━━╇━━━━━━━━━━━━━━━━━━━━━━━━╇━━━━━━━━━━━━━━━┩\n",
       "│ dense (<span style=\"color: #0087ff; text-decoration-color: #0087ff\">Dense</span>)                   │ (<span style=\"color: #00d7ff; text-decoration-color: #00d7ff\">None</span>, <span style=\"color: #00af00; text-decoration-color: #00af00\">64</span>)             │        <span style=\"color: #00af00; text-decoration-color: #00af00\">35,968</span> │\n",
       "├─────────────────────────────────┼────────────────────────┼───────────────┤\n",
       "│ dropout (<span style=\"color: #0087ff; text-decoration-color: #0087ff\">Dropout</span>)               │ (<span style=\"color: #00d7ff; text-decoration-color: #00d7ff\">None</span>, <span style=\"color: #00af00; text-decoration-color: #00af00\">64</span>)             │             <span style=\"color: #00af00; text-decoration-color: #00af00\">0</span> │\n",
       "├─────────────────────────────────┼────────────────────────┼───────────────┤\n",
       "│ dense_1 (<span style=\"color: #0087ff; text-decoration-color: #0087ff\">Dense</span>)                 │ (<span style=\"color: #00d7ff; text-decoration-color: #00d7ff\">None</span>, <span style=\"color: #00af00; text-decoration-color: #00af00\">64</span>)             │         <span style=\"color: #00af00; text-decoration-color: #00af00\">4,160</span> │\n",
       "├─────────────────────────────────┼────────────────────────┼───────────────┤\n",
       "│ dense_2 (<span style=\"color: #0087ff; text-decoration-color: #0087ff\">Dense</span>)                 │ (<span style=\"color: #00d7ff; text-decoration-color: #00d7ff\">None</span>, <span style=\"color: #00af00; text-decoration-color: #00af00\">64</span>)             │         <span style=\"color: #00af00; text-decoration-color: #00af00\">4,160</span> │\n",
       "├─────────────────────────────────┼────────────────────────┼───────────────┤\n",
       "│ dense_3 (<span style=\"color: #0087ff; text-decoration-color: #0087ff\">Dense</span>)                 │ (<span style=\"color: #00d7ff; text-decoration-color: #00d7ff\">None</span>, <span style=\"color: #00af00; text-decoration-color: #00af00\">6</span>)              │           <span style=\"color: #00af00; text-decoration-color: #00af00\">390</span> │\n",
       "└─────────────────────────────────┴────────────────────────┴───────────────┘\n",
       "</pre>\n"
      ],
      "text/plain": [
       "┏━━━━━━━━━━━━━━━━━━━━━━━━━━━━━━━━━┳━━━━━━━━━━━━━━━━━━━━━━━━┳━━━━━━━━━━━━━━━┓\n",
       "┃\u001B[1m \u001B[0m\u001B[1mLayer (type)                   \u001B[0m\u001B[1m \u001B[0m┃\u001B[1m \u001B[0m\u001B[1mOutput Shape          \u001B[0m\u001B[1m \u001B[0m┃\u001B[1m \u001B[0m\u001B[1m      Param #\u001B[0m\u001B[1m \u001B[0m┃\n",
       "┡━━━━━━━━━━━━━━━━━━━━━━━━━━━━━━━━━╇━━━━━━━━━━━━━━━━━━━━━━━━╇━━━━━━━━━━━━━━━┩\n",
       "│ dense (\u001B[38;5;33mDense\u001B[0m)                   │ (\u001B[38;5;45mNone\u001B[0m, \u001B[38;5;34m64\u001B[0m)             │        \u001B[38;5;34m35,968\u001B[0m │\n",
       "├─────────────────────────────────┼────────────────────────┼───────────────┤\n",
       "│ dropout (\u001B[38;5;33mDropout\u001B[0m)               │ (\u001B[38;5;45mNone\u001B[0m, \u001B[38;5;34m64\u001B[0m)             │             \u001B[38;5;34m0\u001B[0m │\n",
       "├─────────────────────────────────┼────────────────────────┼───────────────┤\n",
       "│ dense_1 (\u001B[38;5;33mDense\u001B[0m)                 │ (\u001B[38;5;45mNone\u001B[0m, \u001B[38;5;34m64\u001B[0m)             │         \u001B[38;5;34m4,160\u001B[0m │\n",
       "├─────────────────────────────────┼────────────────────────┼───────────────┤\n",
       "│ dense_2 (\u001B[38;5;33mDense\u001B[0m)                 │ (\u001B[38;5;45mNone\u001B[0m, \u001B[38;5;34m64\u001B[0m)             │         \u001B[38;5;34m4,160\u001B[0m │\n",
       "├─────────────────────────────────┼────────────────────────┼───────────────┤\n",
       "│ dense_3 (\u001B[38;5;33mDense\u001B[0m)                 │ (\u001B[38;5;45mNone\u001B[0m, \u001B[38;5;34m6\u001B[0m)              │           \u001B[38;5;34m390\u001B[0m │\n",
       "└─────────────────────────────────┴────────────────────────┴───────────────┘\n"
      ]
     },
     "metadata": {},
     "output_type": "display_data"
    },
    {
     "data": {
      "text/html": [
       "<pre style=\"white-space:pre;overflow-x:auto;line-height:normal;font-family:Menlo,'DejaVu Sans Mono',consolas,'Courier New',monospace\"><span style=\"font-weight: bold\"> Total params: </span><span style=\"color: #00af00; text-decoration-color: #00af00\">134,036</span> (523.58 KB)\n",
       "</pre>\n"
      ],
      "text/plain": [
       "\u001B[1m Total params: \u001B[0m\u001B[38;5;34m134,036\u001B[0m (523.58 KB)\n"
      ]
     },
     "metadata": {},
     "output_type": "display_data"
    },
    {
     "data": {
      "text/html": [
       "<pre style=\"white-space:pre;overflow-x:auto;line-height:normal;font-family:Menlo,'DejaVu Sans Mono',consolas,'Courier New',monospace\"><span style=\"font-weight: bold\"> Trainable params: </span><span style=\"color: #00af00; text-decoration-color: #00af00\">44,678</span> (174.52 KB)\n",
       "</pre>\n"
      ],
      "text/plain": [
       "\u001B[1m Trainable params: \u001B[0m\u001B[38;5;34m44,678\u001B[0m (174.52 KB)\n"
      ]
     },
     "metadata": {},
     "output_type": "display_data"
    },
    {
     "data": {
      "text/html": [
       "<pre style=\"white-space:pre;overflow-x:auto;line-height:normal;font-family:Menlo,'DejaVu Sans Mono',consolas,'Courier New',monospace\"><span style=\"font-weight: bold\"> Non-trainable params: </span><span style=\"color: #00af00; text-decoration-color: #00af00\">0</span> (0.00 B)\n",
       "</pre>\n"
      ],
      "text/plain": [
       "\u001B[1m Non-trainable params: \u001B[0m\u001B[38;5;34m0\u001B[0m (0.00 B)\n"
      ]
     },
     "metadata": {},
     "output_type": "display_data"
    },
    {
     "data": {
      "text/html": [
       "<pre style=\"white-space:pre;overflow-x:auto;line-height:normal;font-family:Menlo,'DejaVu Sans Mono',consolas,'Courier New',monospace\"><span style=\"font-weight: bold\"> Optimizer params: </span><span style=\"color: #00af00; text-decoration-color: #00af00\">89,358</span> (349.06 KB)\n",
       "</pre>\n"
      ],
      "text/plain": [
       "\u001B[1m Optimizer params: \u001B[0m\u001B[38;5;34m89,358\u001B[0m (349.06 KB)\n"
      ]
     },
     "metadata": {},
     "output_type": "display_data"
    },
    {
     "name": "stdout",
     "output_type": "stream",
     "text": [
      "Epoch 1/200\n",
      "\u001B[1m230/230\u001B[0m \u001B[32m━━━━━━━━━━━━━━━━━━━━\u001B[0m\u001B[37m\u001B[0m \u001B[1m0s\u001B[0m 815us/step - accuracy: 0.9618 - loss: 0.1077 - val_accuracy: 0.9199 - val_loss: 0.2219\n",
      "Epoch 2/200\n",
      "\u001B[1m230/230\u001B[0m \u001B[32m━━━━━━━━━━━━━━━━━━━━\u001B[0m\u001B[37m\u001B[0m \u001B[1m0s\u001B[0m 705us/step - accuracy: 0.9580 - loss: 0.1028 - val_accuracy: 0.9491 - val_loss: 0.1275\n",
      "Epoch 3/200\n",
      "\u001B[1m230/230\u001B[0m \u001B[32m━━━━━━━━━━━━━━━━━━━━\u001B[0m\u001B[37m\u001B[0m \u001B[1m0s\u001B[0m 717us/step - accuracy: 0.9675 - loss: 0.0788 - val_accuracy: 0.9494 - val_loss: 0.1372\n",
      "Epoch 4/200\n",
      "\u001B[1m230/230\u001B[0m \u001B[32m━━━━━━━━━━━━━━━━━━━━\u001B[0m\u001B[37m\u001B[0m \u001B[1m0s\u001B[0m 711us/step - accuracy: 0.9702 - loss: 0.0771 - val_accuracy: 0.9474 - val_loss: 0.1359\n",
      "Epoch 5/200\n",
      "\u001B[1m230/230\u001B[0m \u001B[32m━━━━━━━━━━━━━━━━━━━━\u001B[0m\u001B[37m\u001B[0m \u001B[1m0s\u001B[0m 712us/step - accuracy: 0.9670 - loss: 0.0807 - val_accuracy: 0.9389 - val_loss: 0.1647\n",
      "Epoch 6/200\n",
      "\u001B[1m230/230\u001B[0m \u001B[32m━━━━━━━━━━━━━━━━━━━━\u001B[0m\u001B[37m\u001B[0m \u001B[1m0s\u001B[0m 700us/step - accuracy: 0.9643 - loss: 0.0873 - val_accuracy: 0.9382 - val_loss: 0.1714\n",
      "Epoch 7/200\n",
      "\u001B[1m230/230\u001B[0m \u001B[32m━━━━━━━━━━━━━━━━━━━━\u001B[0m\u001B[37m\u001B[0m \u001B[1m0s\u001B[0m 726us/step - accuracy: 0.9672 - loss: 0.0809 - val_accuracy: 0.9403 - val_loss: 0.1784\n",
      "Epoch 8/200\n",
      "\u001B[1m230/230\u001B[0m \u001B[32m━━━━━━━━━━━━━━━━━━━━\u001B[0m\u001B[37m\u001B[0m \u001B[1m0s\u001B[0m 735us/step - accuracy: 0.9727 - loss: 0.0673 - val_accuracy: 0.9447 - val_loss: 0.1510\n",
      "Epoch 9/200\n",
      "\u001B[1m230/230\u001B[0m \u001B[32m━━━━━━━━━━━━━━━━━━━━\u001B[0m\u001B[37m\u001B[0m \u001B[1m0s\u001B[0m 737us/step - accuracy: 0.9648 - loss: 0.0860 - val_accuracy: 0.9549 - val_loss: 0.1302\n",
      "Epoch 10/200\n",
      "\u001B[1m230/230\u001B[0m \u001B[32m━━━━━━━━━━━━━━━━━━━━\u001B[0m\u001B[37m\u001B[0m \u001B[1m0s\u001B[0m 706us/step - accuracy: 0.9712 - loss: 0.0699 - val_accuracy: 0.9396 - val_loss: 0.1956\n",
      "Epoch 11/200\n",
      "\u001B[1m230/230\u001B[0m \u001B[32m━━━━━━━━━━━━━━━━━━━━\u001B[0m\u001B[37m\u001B[0m \u001B[1m0s\u001B[0m 702us/step - accuracy: 0.9724 - loss: 0.0652 - val_accuracy: 0.9450 - val_loss: 0.1565\n",
      "Epoch 12/200\n",
      "\u001B[1m230/230\u001B[0m \u001B[32m━━━━━━━━━━━━━━━━━━━━\u001B[0m\u001B[37m\u001B[0m \u001B[1m0s\u001B[0m 684us/step - accuracy: 0.9712 - loss: 0.0724 - val_accuracy: 0.9481 - val_loss: 0.1562\n",
      "Epoch 13/200\n",
      "\u001B[1m230/230\u001B[0m \u001B[32m━━━━━━━━━━━━━━━━━━━━\u001B[0m\u001B[37m\u001B[0m \u001B[1m0s\u001B[0m 720us/step - accuracy: 0.9748 - loss: 0.0648 - val_accuracy: 0.9315 - val_loss: 0.2211\n",
      "Epoch 14/200\n",
      "\u001B[1m230/230\u001B[0m \u001B[32m━━━━━━━━━━━━━━━━━━━━\u001B[0m\u001B[37m\u001B[0m \u001B[1m0s\u001B[0m 711us/step - accuracy: 0.9710 - loss: 0.0723 - val_accuracy: 0.9542 - val_loss: 0.1408\n",
      "Epoch 15/200\n",
      "\u001B[1m230/230\u001B[0m \u001B[32m━━━━━━━━━━━━━━━━━━━━\u001B[0m\u001B[37m\u001B[0m \u001B[1m0s\u001B[0m 712us/step - accuracy: 0.9747 - loss: 0.0612 - val_accuracy: 0.9562 - val_loss: 0.1241\n",
      "Epoch 16/200\n",
      "\u001B[1m230/230\u001B[0m \u001B[32m━━━━━━━━━━━━━━━━━━━━\u001B[0m\u001B[37m\u001B[0m \u001B[1m0s\u001B[0m 713us/step - accuracy: 0.9783 - loss: 0.0566 - val_accuracy: 0.9566 - val_loss: 0.1249\n",
      "Epoch 17/200\n",
      "\u001B[1m230/230\u001B[0m \u001B[32m━━━━━━━━━━━━━━━━━━━━\u001B[0m\u001B[37m\u001B[0m \u001B[1m0s\u001B[0m 729us/step - accuracy: 0.9775 - loss: 0.0598 - val_accuracy: 0.9240 - val_loss: 0.2302\n",
      "Epoch 18/200\n",
      "\u001B[1m230/230\u001B[0m \u001B[32m━━━━━━━━━━━━━━━━━━━━\u001B[0m\u001B[37m\u001B[0m \u001B[1m0s\u001B[0m 739us/step - accuracy: 0.9765 - loss: 0.0643 - val_accuracy: 0.9569 - val_loss: 0.1375\n",
      "Epoch 19/200\n",
      "\u001B[1m230/230\u001B[0m \u001B[32m━━━━━━━━━━━━━━━━━━━━\u001B[0m\u001B[37m\u001B[0m \u001B[1m0s\u001B[0m 707us/step - accuracy: 0.9793 - loss: 0.0565 - val_accuracy: 0.9569 - val_loss: 0.1320\n",
      "Epoch 20/200\n",
      "\u001B[1m230/230\u001B[0m \u001B[32m━━━━━━━━━━━━━━━━━━━━\u001B[0m\u001B[37m\u001B[0m \u001B[1m0s\u001B[0m 684us/step - accuracy: 0.9772 - loss: 0.0588 - val_accuracy: 0.9562 - val_loss: 0.1217\n",
      "Epoch 21/200\n",
      "\u001B[1m230/230\u001B[0m \u001B[32m━━━━━━━━━━━━━━━━━━━━\u001B[0m\u001B[37m\u001B[0m \u001B[1m0s\u001B[0m 732us/step - accuracy: 0.9743 - loss: 0.0649 - val_accuracy: 0.9535 - val_loss: 0.1403\n",
      "Epoch 22/200\n",
      "\u001B[1m230/230\u001B[0m \u001B[32m━━━━━━━━━━━━━━━━━━━━\u001B[0m\u001B[37m\u001B[0m \u001B[1m0s\u001B[0m 708us/step - accuracy: 0.9838 - loss: 0.0452 - val_accuracy: 0.9613 - val_loss: 0.1127\n"
     ]
    }
   ],
   "source": [
    "\n",
    "\n",
    "model.summary()\n",
    "import tensorflow as tf\n",
    "from tensorflow import keras\n",
    "\n",
    "Callback = tf.keras.callbacks.EarlyStopping(monitor='accuracy', patience=3)\n",
    "mo_fitt = model.fit(x_train,y_train, epochs=200, validation_data=(x_test,y_test), callbacks=Callback)\n",
    "\n"
   ]
  },
  {
   "cell_type": "markdown",
   "id": "d456f5117340f50f",
   "metadata": {},
   "source": [
    "https://www.kaggle.com/code/fahadmehfoooz/human-activity-recognition-with-neural-networks"
   ]
  },
  {
   "cell_type": "code",
   "execution_count": null,
   "id": "24b39665f5181143",
   "metadata": {},
   "outputs": [],
   "source": []
  },
  {
   "cell_type": "code",
   "execution_count": null,
   "id": "6943a5ba-c986-423a-a5b6-bc90535106be",
   "metadata": {},
   "outputs": [],
   "source": []
  }
 ],
 "metadata": {
  "kernelspec": {
   "display_name": "Python 3 (ipykernel)",
   "language": "python",
   "name": "python3"
  },
  "language_info": {
   "codemirror_mode": {
    "name": "ipython",
    "version": 3
   },
   "file_extension": ".py",
   "mimetype": "text/x-python",
   "name": "python",
   "nbconvert_exporter": "python",
   "pygments_lexer": "ipython3",
   "version": "3.11.7"
  }
 },
 "nbformat": 4,
 "nbformat_minor": 5
}
