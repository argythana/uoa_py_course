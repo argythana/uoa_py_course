{
 "cells": [
  {
   "cell_type": "markdown",
   "id": "ce36a451-9d85-482e-9a75-553bbdc226ef",
   "metadata": {},
   "source": [
    "[Installation instructions:](https://pytorch.org/get-started/locally/) Read carefully.  \n",
    "Choose the right installation for your system.   \n",
    "\n",
    "If you want, make in a different folder, install conda and create a new venv for pytorch using conda or just ```pip install torch```.  \n",
    "I recommend to use a separate folder and install conda to create a different virtual enviroment,"
   ]
  },
  {
   "cell_type": "markdown",
   "id": "d3774269-1b55-4f15-9a1a-dffc39022d7a",
   "metadata": {},
   "source": [
    "## Definitions"
   ]
  },
  {
   "cell_type": "markdown",
   "id": "5aef9437-9123-4e04-bae6-aad1e0dbe0a4",
   "metadata": {},
   "source": [
    "### tensor  \n",
    "### layers"
   ]
  },
  {
   "cell_type": "code",
   "execution_count": 2,
   "id": "0d857306-7a4d-46f4-ac90-c19636a1741c",
   "metadata": {
    "ExecuteTime": {
     "end_time": "2024-05-31T12:25:13.987776Z",
     "start_time": "2024-05-31T12:25:12.805442Z"
    }
   },
   "outputs": [],
   "source": [
    "import pandas as pd\n",
    "\n",
    "from sklearn.preprocessing import LabelEncoder \n",
    "# use this for categorical nominal (not Ordinal )target variables\n",
    "\n",
    "import torch\n",
    "import torch.nn as nn\n",
    "import torch.nn.functional as F\n",
    "from torch.utils.data import TensorDataset, DataLoader\n"
   ]
  },
  {
   "cell_type": "code",
   "execution_count": null,
   "id": "4b0916f7f8225c60",
   "metadata": {},
   "outputs": [],
   "source": []
  },
  {
   "cell_type": "code",
   "execution_count": null,
   "id": "eebb20460ce0a56d",
   "metadata": {},
   "outputs": [],
   "source": []
  },
  {
   "cell_type": "code",
   "execution_count": null,
   "id": "4e796d07ce4761ea",
   "metadata": {},
   "outputs": [],
   "source": []
  },
  {
   "cell_type": "code",
   "execution_count": null,
   "id": "551c6cdbcf40b50",
   "metadata": {},
   "outputs": [],
   "source": []
  },
  {
   "cell_type": "code",
   "execution_count": null,
   "id": "07bd4ee9-8eb4-4a7c-9155-90749a79172c",
   "metadata": {},
   "outputs": [],
   "source": []
  },
  {
   "cell_type": "code",
   "execution_count": null,
   "id": "594ea593-8c3b-4a95-99f6-85f2b64cf4e2",
   "metadata": {},
   "outputs": [],
   "source": []
  },
  {
   "cell_type": "code",
   "execution_count": null,
   "id": "003c488b-7224-4a18-b8cf-11ab163c178b",
   "metadata": {},
   "outputs": [],
   "source": []
  },
  {
   "cell_type": "code",
   "execution_count": null,
   "id": "119452c3-fbcb-4cfc-95ae-48463ebcd9b1",
   "metadata": {},
   "outputs": [],
   "source": []
  },
  {
   "cell_type": "code",
   "execution_count": 8,
   "id": "4cbd0485-8534-4cc3-a75c-313f754b05bb",
   "metadata": {},
   "outputs": [
    {
     "name": "stdout",
     "output_type": "stream",
     "text": [
      "Net(\n",
      "  (fc1): Linear(in_features=16, out_features=32, bias=True)\n",
      "  (fc2): Linear(in_features=32, out_features=64, bias=True)\n",
      "  (fc3): Linear(in_features=64, out_features=10, bias=True)\n",
      ")\n",
      "tensor([[-0.1404, -0.0014,  0.0943, -0.1679,  0.0425, -0.0859,  0.0717, -0.1721,\n",
      "         -0.0490, -0.0124]], grad_fn=<AddmmBackward0>)\n"
     ]
    }
   ],
   "source": [
    "# Define the network\n",
    "class Net(nn.Module):\n",
    "    def __init__(self):\n",
    "        super(Net, self).__init__()\n",
    "        self.fc1 = nn.Linear(16, 32)  # 16 input units to 32 output units\n",
    "        self.fc2 = nn.Linear(32, 64)  # 32 input units to 64 output units\n",
    "        self.fc3 = nn.Linear(64, 10)  # 64 input units to 10 output units\n",
    "\n",
    "    def forward(self, x):\n",
    "        x = F.relu(self.fc1(x))\n",
    "        x = F.relu(self.fc2(x))\n",
    "        x = self.fc3(x)\n",
    "        return x\n",
    "\n",
    "# Create the network\n",
    "net = Net()\n",
    "print(net)\n",
    "\n",
    "# Create a random tensor of size (1, 16)\n",
    "input = torch.randn(1, 16)\n",
    "\n",
    "# Perform a forward pass\n",
    "out = net(input)\n",
    "print(out)"
   ]
  },
  {
   "cell_type": "code",
   "execution_count": 9,
   "id": "e1a31a74-fcea-4b36-92ad-b8c1fe81c121",
   "metadata": {},
   "outputs": [
    {
     "name": "stdout",
     "output_type": "stream",
     "text": [
      "Sequential(\n",
      "  (0): Linear(in_features=16, out_features=32, bias=True)\n",
      "  (1): ReLU()\n",
      "  (2): Linear(in_features=32, out_features=64, bias=True)\n",
      "  (3): ReLU()\n",
      "  (4): Linear(in_features=64, out_features=10, bias=True)\n",
      ")\n",
      "tensor([[-0.1994, -0.0149, -0.1130, -0.0910, -0.0127, -0.2123, -0.1483, -0.2518,\n",
      "          0.0025,  0.0781]], grad_fn=<AddmmBackward0>)\n"
     ]
    }
   ],
   "source": [
    "\n",
    "# Define the network using nn.Sequential\n",
    "net = nn.Sequential(\n",
    "    nn.Linear(16, 32),  # 16 input units to 32 output units\n",
    "    nn.ReLU(),\n",
    "    nn.Linear(32, 64),  # 32 input units to 64 output units\n",
    "    nn.ReLU(),\n",
    "    nn.Linear(64, 10)   # 64 input units to 10 output units\n",
    ")\n",
    "\n",
    "print(net)\n",
    "\n",
    "\n",
    "\n",
    "\n",
    "# Perform a forward pass\n",
    "out = net(input)\n",
    "print(out)"
   ]
  },
  {
   "cell_type": "code",
   "execution_count": 10,
   "id": "2baf993e-e35f-476f-949f-8aef84e63b51",
   "metadata": {},
   "outputs": [
    {
     "name": "stdout",
     "output_type": "stream",
     "text": [
      "Input batch shape: torch.Size([8, 50, 384])\n",
      "Hidden state 0 shape: torch.Size([2, 8, 16])\n",
      "Cell state 0 shape: torch.Size([2, 8, 16])\n",
      "Output batch shape: torch.Size([8, 50, 16])\n"
     ]
    }
   ],
   "source": [
    "BATCH_SIZE = 8 # Number of sequences in your batch\n",
    "HIDDEN_SIZE = 16 # Number of features in the hidden state \n",
    "INPUT_SIZE = 384 # Size of each embedding in the sequence\n",
    "NUM_LAYERS = 2 # Number of LSTM layers in the LSTM network\n",
    "SEQUENCE_LENGTH = 50 # Number of embeddings per sequence\n",
    "\n",
    "# === LSTM Network ===\n",
    "LSTM = nn.LSTM(\n",
    "    input_size=INPUT_SIZE,\n",
    "    hidden_size=HIDDEN_SIZE,        \n",
    "    num_layers=NUM_LAYERS,       \n",
    "    batch_first=True\n",
    ")\n",
    "\n",
    "inputs = torch.randn(BATCH_SIZE, SEQUENCE_LENGTH, INPUT_SIZE) # LSTM Network input\n",
    "h0 = torch.randn(NUM_LAYERS, BATCH_SIZE, HIDDEN_SIZE) # Initial Hidden state\n",
    "c0 = torch.randn(NUM_LAYERS, BATCH_SIZE, HIDDEN_SIZE) # Initial Cell state\n",
    "outputs, (hn, cn) = LSTM(inputs, (h0, c0)) # LSTM Network output\n",
    "\n",
    "print(f\"Input batch shape: {inputs.shape}\")\n",
    "print(f\"Hidden state 0 shape: {h0.shape}\")\n",
    "print(f\"Cell state 0 shape: {c0.shape}\")\n",
    "print(f\"Output batch shape: {outputs.shape}\")"
   ]
  },
  {
   "cell_type": "code",
   "execution_count": null,
   "id": "62c45865-1015-4d2b-b6f0-432d6d4c4c33",
   "metadata": {},
   "outputs": [],
   "source": []
  },
  {
   "cell_type": "code",
   "execution_count": null,
   "id": "73c57b35-1069-4904-8dc3-e8bfa2c461b4",
   "metadata": {},
   "outputs": [],
   "source": []
  }
 ],
 "metadata": {
  "kernelspec": {
   "display_name": "Python 3 (ipykernel)",
   "language": "python",
   "name": "python3"
  },
  "language_info": {
   "codemirror_mode": {
    "name": "ipython",
    "version": 3
   },
   "file_extension": ".py",
   "mimetype": "text/x-python",
   "name": "python",
   "nbconvert_exporter": "python",
   "pygments_lexer": "ipython3",
   "version": "3.11.7"
  }
 },
 "nbformat": 4,
 "nbformat_minor": 5
}
