{
 "cells": [
  {
   "cell_type": "markdown",
   "id": "d48f23a5-74e3-4b34-b098-f69a35eecff2",
   "metadata": {},
   "source": [
    "# Lecture Sources\n",
    "\n",
    "[YOLOv10 official repo on git](https://github.com/THU-MIG/yolov10)\n",
    "\n",
    "[Yolov5 PyTorch](https://pytorch.org/hub/ultralytics_yolov5/)  \n",
    "\n",
    "[Ultralytics official site](https://docs.ultralytics.com/)    \n",
    "[Ultralytics Github](https://github.com/ultralytics/ultralytics)    \n",
    "\n",
    "[Ultralytics pypy](https://pypi.org/project/ultralytics/)   \n",
    "\n",
    "[Ultralytics Yolov10 announcement docs](https://docs.ultralytics.com/models/yolov10/)  \n",
    "\n",
    "[Ultralytics yolov5 Tutotrial](https://docs.ultralytics.com/yolov5/tutorials/train_custom_data/)  \n",
    "\n",
    "[Roboflow Supervision](https://github.com/roboflow/supervision)  \n",
    "\n",
    "[Roboflow Github](https://github.com/roboflow)  \n",
    "\n",
    "[Hugging Face detection datasets coco](https://huggingface.co/datasets/detection-datasets/coco)  \n",
    "\n",
    "Tutorials Kaggle\n",
    "\n",
    "[Yolov5](https://www.kaggle.com/code/andradaolteanu/greatbarrierreef-yolo-full-guide-train-infer/notebook)  \n",
    "[Yolov7](https://www.kaggle.com/code/taranmarley/yolo-v7-object-detection)  \n",
    "[Yolov10](https://www.kaggle.com/code/tnguynfew/yolov10-for-object-detection/notebook)  \n",
    "\n",
    "\n",
    "\n",
    "[Tutorials LearnOpenCV](https://github.com/spmallick/learnopencv/blob/master/README.md)\n",
    "\n",
    "\n",
    "\n",
    "\n",
    "\n"
   ]
  },
  {
   "cell_type": "code",
   "execution_count": null,
   "id": "78587f1f-ec5a-4942-b0b1-3b721e08f1a2",
   "metadata": {},
   "outputs": [],
   "source": []
  }
 ],
 "metadata": {
  "kernelspec": {
   "display_name": "Python 3 (ipykernel)",
   "language": "python",
   "name": "python3"
  },
  "language_info": {
   "codemirror_mode": {
    "name": "ipython",
    "version": 3
   },
   "file_extension": ".py",
   "mimetype": "text/x-python",
   "name": "python",
   "nbconvert_exporter": "python",
   "pygments_lexer": "ipython3",
   "version": "3.11.9"
  }
 },
 "nbformat": 4,
 "nbformat_minor": 5
}
