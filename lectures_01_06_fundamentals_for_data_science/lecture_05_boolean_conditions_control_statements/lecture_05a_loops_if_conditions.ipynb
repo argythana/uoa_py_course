{
 "cells": [
  {
   "cell_type": "markdown",
   "id": "c6d14d45-ed7b-4eb6-9082-ba58b1b43867",
   "metadata": {},
   "source": [
    "# Todo for 2025: Split to three notebooks.\n",
    "\n",
    "# Lecture 05a: Control Flow Structures: loops, conditions.\n",
    "\n",
    "1. [Intro to `while` loop statements.](https://docs.python.org/3/tutorial/introduction.html#first-steps-towards-programming)\n",
    "\n",
    "2. [Intro to `if` statements](https://docs.python.org/3/tutorial/controlflow.html#if-statements)\n",
    "\n",
    "3. [Intro to `for` loop statements](https://docs.python.org/3/tutorial/controlflow.html#for-statements)\n",
    "\n",
    "\n",
    "[More reading](https://docs.python.org/3/reference/compound_stmts.html)\n",
    "\n",
    "\n",
    "Basic Control Flow statements (control structures): while, if, for, try.   \n",
    "Used to: make decisions and direct the order of program execution.   \n",
    "Loops could be defined as conditional iterations. Loops are iterations that are bounded by some specified conditions.\n",
    "\n",
    "\n",
    "**Topics**:   \n",
    "\n",
    "a) Syntax notation:  \n",
    "    \n",
    "* indented blocks.  \n",
    "    \n",
    "* `:` sign at end of statement line.  \n",
    "\n",
    "b) Conditions: Use for all kind of boolean operations such as comparisons, membership tests.   \n",
    "\n",
    "c) Within structures [\"inner\" statements](https://docs.python.org/3/tutorial/controlflow.html#break-and-continue-statements-and-else-clauses-on-loops): `break`, `continue`.   \n",
    "\n",
    "d) The `else`, `elif` \"*clauses*\".  \n",
    "\n",
    "e) The [`pass` statements.](https://docs.python.org/3/tutorial/controlflow.html#pass-statements)\n",
    "\n",
    "f) Nested control flow statements: `nested loops`, `nested conditions`.  \n",
    "\n",
    "\n",
    "More reading about \n",
    "\n",
    "**Most common control flow errors are logical errors. Be mindful:**  \n",
    "\n",
    "        a) Desciptive control flow assignment.  \n",
    "        b) Controling logically for all the possible cases when dealing with multiple conditions.  \n",
    "        c) Position of statements.\n",
    "\n",
    "THE MOST IMPORTANT ISSUE TO REMEMBER: **position of statements in strucutres.**  \n",
    "\n",
    "Advanced reading:   \n",
    "[`match` statements.](https://docs.python.org/3/tutorial/controlflow.html#match-statements)   \n",
    "[`exception handling`]()\n",
    "\n",
    "Extra concept in this lecture: **Pseudocoding**:  \n",
    "Always has been a necessary prerequisite skill for optimal coding.  \n",
    "Even more important skill in the era of AI coding assistants."
   ]
  },
  {
   "cell_type": "markdown",
   "id": "2d72c565-b810-41c7-9988-c78e838879f1",
   "metadata": {},
   "source": [
    "## 1. `while` loops.\n",
    "\n",
    "`while`: Repeat execution (loop) **as long as** an expression is true.  \n",
    "\n",
    "`break`: terminates enclosing loop, control value keeps current value.  \n",
    "`continue`: continue enclosing loop => go to start of loop.  \n",
    "`pass`: do nothing.   \n",
    "Stop infinite loops with \"Interrupt kernel\" in notebook, or \"Ctrl + c\" in python.   "
   ]
  },
  {
   "cell_type": "markdown",
   "id": "841996c2-1908-4c14-ad4d-6c204663b9f5",
   "metadata": {},
   "source": [
    "#### Example with print inside the loop, but in *wrong* position .  \n",
    "In the example below, the print statement does not print the final values.  \n",
    "It prints the values before the operations in each iteration of the loop."
   ]
  },
  {
   "cell_type": "code",
   "execution_count": null,
   "id": "entitled-prototype",
   "metadata": {
    "tags": []
   },
   "outputs": [],
   "source": [
    "# Fibonacci series: the sum of two elements defines the next.\n",
    "a = 0\n",
    "b = 1\n",
    "\n",
    "while a < 20:\n",
    "    print(a, b)   # Print before the operations.\n",
    "    a = b  # a becomes 1\n",
    "    b = a + b  # becomes 2 \n",
    "    #a, b = b, a + b\n",
    "    # break  # Uncomment to break the loop after the first iteration."
   ]
  },
  {
   "cell_type": "code",
   "execution_count": null,
   "id": "played-directive",
   "metadata": {},
   "outputs": [],
   "source": [
    "# The final value of a.\n",
    "a"
   ]
  },
  {
   "cell_type": "code",
   "execution_count": null,
   "id": "08633910-bdca-4e9c-91a8-5a42fda5ffaf",
   "metadata": {},
   "outputs": [],
   "source": [
    "# The final value of b.\n",
    "b"
   ]
  },
  {
   "cell_type": "markdown",
   "id": "f1e80904-a854-4a8b-8351-7998f98f4771",
   "metadata": {},
   "source": [
    "#### Example with print inside the loop, but in the *correct* position.  \n",
    "In the example below, the print statement prints the final values.  \n",
    "It also prints the value of a and of b after each iteration of the loop."
   ]
  },
  {
   "cell_type": "code",
   "execution_count": null,
   "id": "disabled-council",
   "metadata": {},
   "outputs": [],
   "source": [
    "a = 0\n",
    "b = 1\n",
    "\n",
    "while a < 20:\n",
    "    a = b  # a becomes 1\n",
    "    b = a + b  # becomes 2 \n",
    "    print(a, b)   # Print after the operation\n",
    "    #a, b = b, a + b\n",
    "    # break  # Uncomment to break the loop"
   ]
  },
  {
   "cell_type": "markdown",
   "id": "c8b9984a-60b1-4de2-b558-274e58591eab",
   "metadata": {},
   "source": [
    "#### Example with print outside of the loop, in an incorrect position.  \n",
    "In the example below, the print statement prints the final values.  \n",
    "It prints the value of a and of b only once, outside of the loop."
   ]
  },
  {
   "cell_type": "code",
   "execution_count": null,
   "id": "similar-product",
   "metadata": {},
   "outputs": [],
   "source": [
    "b = 1\n",
    "a = 0\n",
    "\n",
    "while a < 20:\n",
    "    a = b  # a becomes 1\n",
    "    b = a + b  # becomes 2 \n",
    "\n",
    "print(a, b)"
   ]
  },
  {
   "cell_type": "markdown",
   "id": "78968d9f-f629-4fe4-ac41-d23c93df9d7d",
   "metadata": {},
   "source": [
    "#### Example of infinite while loop.\n",
    "Stop using jupyter GUI square button: -> \"interrupt the kernel\".  \n",
    "Or use Tab Menu: Kernel -> Interrupt kernel.  \n",
    "Stop with \"Ctrl + c\".  \n",
    "\n",
    "If you uncomment the code below and run it, you will enter an infinite loop until all your RAM is utilised. Then your PC will crash."
   ]
  },
  {
   "cell_type": "code",
   "execution_count": null,
   "id": "certain-suffering",
   "metadata": {
    "tags": []
   },
   "outputs": [],
   "source": [
    "a = 1\n",
    "\n",
    "# while a < 2:\n",
    "#     print(a)"
   ]
  },
  {
   "cell_type": "markdown",
   "id": "629c46c5-8b71-40b8-b314-45250ccd8355",
   "metadata": {},
   "source": [
    "#### Example of print position inside and outside of a loop. "
   ]
  },
  {
   "cell_type": "code",
   "execution_count": null,
   "id": "possible-slovenia",
   "metadata": {},
   "outputs": [],
   "source": [
    "a = 1\n",
    "\n",
    "while a <= 4:\n",
    "    print(\"In the loop, before the operation: \", a)\n",
    "    #break\n",
    "    \n",
    "    a = a + 1   #a += 1\n",
    "    \n",
    "    print(\"Still in the loop, after the operation:\", a)\n",
    "    #break\n",
    "\n",
    "print()\n",
    "print(\"This is out of the loop: \", a)"
   ]
  },
  {
   "cell_type": "markdown",
   "id": "de18c6a0-5aac-4e32-b49b-29cbbc4e98e9",
   "metadata": {},
   "source": [
    "#### Trivial example of a nested loop.   \n",
    "In this case, the nested loop finishes before the outer loop.    \n",
    "The outer loop continues its operations until its condition is met.  \n",
    "If you \"comment out\" the `break` statement in the nested loop, the nested loop will become infinite because there is no operation in it to increase the value of a."
   ]
  },
  {
   "cell_type": "code",
   "execution_count": null,
   "id": "respective-reporter",
   "metadata": {},
   "outputs": [],
   "source": [
    "a = 1\n",
    "\n",
    "while a <= 9:\n",
    "    print(a, \": in outer loop. Before the addition operation.\")\n",
    "    a += 1 # notation same as: a = a + 1\n",
    "    # print(a) # Position returns different results !\n",
    "    while a <= 3:\n",
    "        print(a, \": in Nested loop. After the addition operation.\")\n",
    "        break # Comment to have infinite loop. Stop with \"Ctrl + c\"\n",
    "        \n",
    "\n",
    "print(f\"Out of loop {a}\")"
   ]
  },
  {
   "cell_type": "markdown",
   "id": "1c918e9d-1e1c-45af-99ea-83452c48fb36",
   "metadata": {},
   "source": [
    "#### Boring example of a nested loop.   \n",
    "In this case, the nested loop finishes after the outer loop.    \n",
    "The nested loop continues its operations until its condition is met.  \n"
   ]
  },
  {
   "cell_type": "code",
   "execution_count": null,
   "id": "loose-artwork",
   "metadata": {},
   "outputs": [],
   "source": [
    "a = 1\n",
    "\n",
    "while a <= 10:\n",
    "    print(a, \": in outer loop. Before the addition operation.\")\n",
    "    a += 1  # notation same as: a = a + 1\n",
    "    # print(a) # Position returns different results !\n",
    "    while a <= 50:\n",
    "        print(a, \": in nested loop. Before the multiplication operation.\")\n",
    "        a *= 2  # notation same as: a = a * 2\n",
    "        print(a, \": in Nested loop. After the multiplication operation.\")\n",
    "        \n",
    "\n",
    "print(f\"Out of loop {a}\")"
   ]
  },
  {
   "cell_type": "markdown",
   "id": "fae7405b-34e6-476a-bffb-047f00ebf6ba",
   "metadata": {},
   "source": [
    "#### `pass` statement example"
   ]
  },
  {
   "cell_type": "code",
   "execution_count": null,
   "id": "c716bd03-0863-40b0-88f8-e56e65bac063",
   "metadata": {},
   "outputs": [],
   "source": [
    "a, b = 0, 1\n",
    "\n",
    "while a < 20:\n",
    "    a, b = b, a + b\n",
    "    print(a, end=' ')\n",
    "    if a == 5:\n",
    "        print(\"five\",  end=' ')\n",
    "        pass  # Placeholder for future code"
   ]
  },
  {
   "cell_type": "markdown",
   "id": "aec4233f-fb26-4b5f-9ecb-75af5440784f",
   "metadata": {},
   "source": [
    "#### Password example with infinite `while` loop until correct input."
   ]
  },
  {
   "cell_type": "code",
   "execution_count": null,
   "id": "f5c620af-dc23-4d2a-b3ae-09e4ce9b6720",
   "metadata": {},
   "outputs": [],
   "source": [
    "correct_pwd= \"date\"\n",
    "\n",
    "user_pwd = input(\"Enter password: \")\n",
    "\n",
    "while correct_pwd != user_pwd:\n",
    "    user_pwd = input(\"Enter correct password: \")\n",
    "\n",
    "print(\"Succesfully logged in.\")"
   ]
  },
  {
   "cell_type": "code",
   "execution_count": null,
   "id": "6d7dcc36-33a2-4f2f-b597-77e53962402a",
   "metadata": {},
   "outputs": [],
   "source": [
    "# What will be the value of this variable after we run the script above?\n",
    "# Think, then uncomment the line below and run this cell.\n",
    "# user_pwd"
   ]
  },
  {
   "cell_type": "markdown",
   "id": "disturbed-tsunami",
   "metadata": {},
   "source": [
    "## 2. `if` conditional statements\n",
    "There can be zero or more `elif` parts, and the `else` part is optional.   \n",
    "The keyword `elif` is short for ‘else if’, and is useful to avoid excessive indentation."
   ]
  },
  {
   "cell_type": "code",
   "execution_count": null,
   "id": "lined-ranch",
   "metadata": {},
   "outputs": [],
   "source": [
    "my_shopping_list = ['apples', 'coffee', 'pasta', 'juice', 'chocolate', 'yoghourt']\n",
    "num_of_items = len(my_shopping_list)\n",
    "num_of_items"
   ]
  },
  {
   "cell_type": "markdown",
   "id": "b2a50fb7-5cea-4e8c-bbaa-8395eb940776",
   "metadata": {},
   "source": [
    "### Single condition.\n",
    "Comment or comment out the `num_of_missing_items` to see the difference."
   ]
  },
  {
   "cell_type": "code",
   "execution_count": null,
   "id": "closing-morning",
   "metadata": {},
   "outputs": [],
   "source": [
    "# num_of_missing_items = 2\n",
    "num_of_missing_items = 5\n",
    "\n",
    "# If, else syntax, multiple statements, single condition.\n",
    "if num_of_missing_items > 3:\n",
    "    print(f\"Go to Supermarket. It is worth the extra time for items = {num_of_missing_items}\")\n",
    "else:\n",
    "    print(f\"Go to Minimarket for {num_of_missing_items} missing items.\")  # 1st else statment"
   ]
  },
  {
   "cell_type": "markdown",
   "id": "2ebe22c5-8889-444c-8aa4-91c77a0270a7",
   "metadata": {},
   "source": [
    "### Multiple Conditions"
   ]
  },
  {
   "cell_type": "code",
   "execution_count": null,
   "id": "f90c82c1-cf52-4372-aed9-5cbd9eb36284",
   "metadata": {},
   "outputs": [],
   "source": [
    "## Multiple Conditions\n",
    "a = 10\n",
    "\n",
    "guess = int(input('Guess number: '))  # convert to int\n",
    "\n",
    "\n",
    "if guess == a:\n",
    "    print('Got it.')\n",
    "elif guess == a - 1 or guess == a + 1:\n",
    "    print('Missed by 1.')\n",
    "elif (a - 5) == guess or guess == (a + 5):\n",
    "    print('Missed by 5.')\n",
    "#elif guess > a - 5 and guess < a + 5:  # guess > 5 and guess < 15\n",
    "elif 5 < guess < 15:  # This has the same result as the line of code above.\n",
    "    print('Missed by less than 5.')\n",
    "else:  # use `else` always in last statement\n",
    "    print('Missed by more than 5.')"
   ]
  },
  {
   "cell_type": "markdown",
   "id": "90d7b4ca-1156-4afb-acbf-a4c362bb5b63",
   "metadata": {},
   "source": [
    "### Examples of nested conditions.\n",
    "In these examples the nested conditions are \"evaluated\" only if the outer condition is met."
   ]
  },
  {
   "cell_type": "code",
   "execution_count": null,
   "id": "responsible-roots",
   "metadata": {},
   "outputs": [],
   "source": [
    "# Nested conditions execution\n",
    "my_shopping_list = ['apples', 'coffee', 'pasta', 'juice']\n",
    "\n",
    "my_shopping_list.append('bananas')\n",
    "\n",
    "my_shopping_list"
   ]
  },
  {
   "cell_type": "code",
   "execution_count": null,
   "id": "heard-brick",
   "metadata": {},
   "outputs": [],
   "source": [
    "# if bananas not in list, will do nothing\n",
    "if 'bananas' in my_shopping_list:\n",
    "    print('Dont forget the bananas')\n",
    "    # nested condition evaluated only if outer condition is True\n",
    "    if 'apples' in my_shopping_list: \n",
    "        print('Dont forget the apples too.')\n",
    "    else:\n",
    "        print(f\"Buy {my_shopping_list}\")        "
   ]
  },
  {
   "cell_type": "code",
   "execution_count": null,
   "id": "cb77e187-9fc5-4afd-8489-afb6b1fb01f0",
   "metadata": {},
   "outputs": [],
   "source": [
    "my_shopping_list = ['coffee', 'pasta', 'juice']"
   ]
  },
  {
   "cell_type": "code",
   "execution_count": null,
   "id": "c11577c6-3f63-4001-9064-8c8a6df03ab1",
   "metadata": {},
   "outputs": [],
   "source": [
    "if 'bananas' in my_shopping_list:\n",
    "    print('Dont forget the bananas')\n",
    "elif \"bananas\" not in my_shopping_list:\n",
    "    my_shopping_list.append('bananas')\n",
    "    print('Dont forget the bananas')\n",
    "    # nested condition evaluated only if outer condition is True\n",
    "    if 'apples' in my_shopping_list: \n",
    "        print('Dont forget the apples too')\n",
    "    else:\n",
    "        print(f\"Buy {my_shopping_list}\")"
   ]
  },
  {
   "cell_type": "markdown",
   "id": "909f8428-7e0f-4681-adfe-728fb5a26cde",
   "metadata": {},
   "source": [
    "### Pseudo coding: Best Practice to make scripts and functions\n",
    "\n",
    "Set a pwd value.  \n",
    "Ask user for pwd.  \n",
    "Count number of tries.  \n",
    "If pwd is not correct ask again for three times.  \n",
    "If number of wrong tries is 3 stop execution.  \n",
    "If correct pwd is entered, print a success message and show number of tries."
   ]
  },
  {
   "cell_type": "markdown",
   "id": "8cbf09d2-8513-4b78-9845-861215599580",
   "metadata": {},
   "source": [
    "### Combine `while` and `if` (a pwd example script)."
   ]
  },
  {
   "cell_type": "code",
   "execution_count": null,
   "id": "d81f9eb1-e70c-4481-aa79-5d040c8e4f43",
   "metadata": {},
   "outputs": [],
   "source": [
    "pwd = \"date\"\n",
    "enter_pwd = input(\"Enter password: \")\n",
    "number_of_tries = 1\n",
    "\n",
    "# loop 3 times only, as long as user does not enter the correct pwd.\n",
    "while pwd != enter_pwd:\n",
    "    enter_pwd = input(\"Enter correct password: \")\n",
    "    number_of_tries += 1\n",
    "\n",
    "    if number_of_tries == 3 and pwd != enter_pwd:\n",
    "        print(\"Your account is locked.\")\n",
    "        break\n",
    "    \n",
    "if pwd == enter_pwd:\n",
    "    print(f\"Succesfully logged in after {number_of_tries} tries.\")"
   ]
  },
  {
   "cell_type": "markdown",
   "id": "3e572d21-4a48-44bb-b986-b9740ab35b1c",
   "metadata": {},
   "source": [
    "#### The same enter password example. Different coding by GitHub AI copilot.  \n",
    "The prompt was the pseudocoding lines above."
   ]
  },
  {
   "cell_type": "code",
   "execution_count": null,
   "id": "c8a778cd-7276-4917-833e-f6bbaf729bce",
   "metadata": {},
   "outputs": [],
   "source": [
    "# Set a password value\n",
    "password = \"secret\"\n",
    "\n",
    "# Initialize a counter for the number of tries\n",
    "tries = 0\n",
    "\n",
    "# Loop until the user enters the correct password or has tried 3 times\n",
    "while tries < 3:\n",
    "    # Ask the user for the password\n",
    "    user_password = input(\"Enter the password: \")\n",
    "\n",
    "    # Check if the entered password is correct\n",
    "    if user_password == password:\n",
    "        print(\"Success! You entered the correct password.\")\n",
    "        print(\"Number of tries:\", tries + 1)\n",
    "        break\n",
    "    else:\n",
    "        print(\"Incorrect password.\")\n",
    "        tries += 1\n",
    "\n",
    "# If the user failed to enter the correct password after 3 tries, stop execution\n",
    "if tries == 3:\n",
    "    print(\"You have entered the wrong password 3 times. Execution stopped.\")"
   ]
  },
  {
   "cell_type": "markdown",
   "id": "37a61e77-1f4a-4705-8c68-b91a04e009ed",
   "metadata": {},
   "source": [
    "#### The same enter password example. Different coding by GitHub AI copilot.  \n",
    "The prompt was: rewrite the code with fewer lines of code."
   ]
  },
  {
   "cell_type": "code",
   "execution_count": null,
   "id": "0b9fcd50-4939-4832-98c5-8b7c65f98b61",
   "metadata": {},
   "outputs": [],
   "source": [
    "password = \"secret\"\n",
    "\n",
    "for tries in range(3):\n",
    "    if input(\"Enter the password: \") == password:\n",
    "        print(f\"Success! You entered the correct password in {tries + 1} tries.\")\n",
    "        break\n",
    "else:\n",
    "    print(\"You have entered the wrong password 3 times. Execution stopped.\")"
   ]
  },
  {
   "cell_type": "markdown",
   "id": "a3bc7989-22a1-4754-bb63-99fcecb0f962",
   "metadata": {},
   "source": [
    "### Another pwd example  \n",
    "Similar as above but instead of breaking the script after 3 wrong tries:  \n",
    "Endless loop until correct password.  \n",
    "Give a hint and ask user to try again after 3 wrong tries.    \n",
    "Use three counters:    \n",
    "\n",
    "    a) number of tries is reset to zero after 3 tries.  \n",
    "    b) number of warnings. We warn the user once, after three tries.  \n",
    "    c) the total number of tries."
   ]
  },
  {
   "cell_type": "code",
   "execution_count": 2,
   "id": "a835a754-3bf2-4440-9e0a-a2c9df9e960e",
   "metadata": {},
   "outputs": [
    {
     "name": "stdin",
     "output_type": "stream",
     "text": [
      "Enter password:  srfgsfg\n",
      "Enter correct password:  sdfgsdfg\n",
      "Enter correct password:  sdfgs\n"
     ]
    },
    {
     "name": "stdout",
     "output_type": "stream",
     "text": [
      "You tried 3 times. Are you Ok? The pwd is written some lines above.\n"
     ]
    },
    {
     "name": "stdin",
     "output_type": "stream",
     "text": [
      "Enter correct password:  fsdgsdf\n",
      "Enter correct password:  sdfgsfd\n",
      "Enter correct password:  sdfgs\n"
     ]
    },
    {
     "name": "stdout",
     "output_type": "stream",
     "text": [
      "You tried 6 times. Are you Ok? The pwd is written some lines above.\n"
     ]
    },
    {
     "name": "stdin",
     "output_type": "stream",
     "text": [
      "Enter correct password:  date\n"
     ]
    },
    {
     "name": "stdout",
     "output_type": "stream",
     "text": [
      "Succesfully logged in after 7 tries. You got 2 warnings.\n"
     ]
    }
   ],
   "source": [
    "pwd = \"date\"\n",
    "enter_pwd = input(\"Enter password: \")\n",
    "number_of_tries = 1  # This is after the input() for a reason.\n",
    "number_of_warnings = 0  # Counters are helfpuf and bug-friendly!\n",
    "total_tries = 0\n",
    "\n",
    "# endless loop until correct pwd\n",
    "while pwd != enter_pwd:\n",
    "    enter_pwd = input(\"Enter correct password: \")\n",
    "    number_of_tries += 1\n",
    "    if number_of_tries == 3:\n",
    "        number_of_warnings += 1\n",
    "        total_tries = number_of_tries*number_of_warnings\n",
    "        print(f\"You tried {total_tries} times. Are you Ok? The pwd is written some lines above.\")\n",
    "        number_of_tries = 0    \n",
    "\n",
    "\n",
    "print(f\"Succesfully logged in after {total_tries+number_of_tries} tries. You got {number_of_warnings} warnings.\")"
   ]
  },
  {
   "cell_type": "markdown",
   "id": "complicated-rabbit",
   "metadata": {},
   "source": [
    "## 3. `for` loops\n",
    "\n",
    "Reminder:  \n",
    "The range function paremeters: range(start, stop, step)\n",
    "\n",
    "Be careful and use:  \n",
    "* ```range()``` to iterate N times.    \n",
    "* ```for``` to iterate over all objects, all items of a sequence.  \n",
    "\n",
    "\n",
    "To iterate:  \n",
    ">  don't use reserved names,  \n",
    "> use intuitive, descriptive names."
   ]
  },
  {
   "cell_type": "code",
   "execution_count": null,
   "id": "a7787ee7-e19c-4cf3-9a1f-85a86f1eb558",
   "metadata": {},
   "outputs": [],
   "source": [
    "# consice help in interactive python notebooks.\n",
    "range?"
   ]
  },
  {
   "cell_type": "code",
   "execution_count": null,
   "id": "parliamentary-syria",
   "metadata": {},
   "outputs": [],
   "source": [
    "user_name = input('Enter your name:\\n\\n')\n",
    "\n",
    "# range start from 0, stop at 4, default step=1\n",
    "for i in range(4):\n",
    "    print(user_name)"
   ]
  },
  {
   "cell_type": "code",
   "execution_count": null,
   "id": "pleasant-scientist",
   "metadata": {},
   "outputs": [],
   "source": [
    "# range start from 0, stop at 4, default step=2\n",
    "for i in range(0, 4, 2):\n",
    "    print(user_name)"
   ]
  },
  {
   "cell_type": "markdown",
   "id": "cd07482b-ffa2-4f2e-ad5c-004ca8462101",
   "metadata": {},
   "source": [
    "#### Use the word \"repetitions\" instead of \"i\""
   ]
  },
  {
   "cell_type": "code",
   "execution_count": null,
   "id": "5ad18b89-04c8-4caf-81c2-b3c6f3ba1b31",
   "metadata": {},
   "outputs": [],
   "source": [
    "user_name = input('Enter your name: ')\n",
    "\n",
    "# start from 0, stop at 4, default step=1\n",
    "for repetitions in range(4):\n",
    "    print(f'{user_name}')"
   ]
  },
  {
   "cell_type": "markdown",
   "id": "cb1cb27a-7c3f-45be-8c64-a6c062a8c62d",
   "metadata": {},
   "source": [
    "#### Assign `for` loop repetitions to a descriptive name"
   ]
  },
  {
   "cell_type": "code",
   "execution_count": null,
   "id": "7f00883d-034f-4249-bc0f-47be0fe9c428",
   "metadata": {},
   "outputs": [],
   "source": [
    "example_string = 'carefull with spaces'\n",
    "\n",
    "for letter in example_string:  # use letter instead of i\n",
    "    print(letter)"
   ]
  },
  {
   "cell_type": "code",
   "execution_count": null,
   "id": "closed-scenario",
   "metadata": {},
   "outputs": [],
   "source": [
    "# Assign `for` loop repetitions to a descriptive name\n",
    "example_list = ['a' , 4, 'john', 'jill']\n",
    "for item in example_list:\n",
    "    print(item * 2)"
   ]
  },
  {
   "cell_type": "code",
   "execution_count": null,
   "id": "ambient-wages",
   "metadata": {},
   "outputs": [],
   "source": [
    "# Find even or odd numbers\n",
    "for num in range(2, 10):\n",
    "    if num % 2 == 0:\n",
    "        print(\"Found an even number\", num)\n",
    "    else:\n",
    "        print(\"Found an odd number\", num)"
   ]
  },
  {
   "cell_type": "markdown",
   "id": "thrown-ukraine",
   "metadata": {},
   "source": [
    "### Continue statement   \n",
    "[continue](https://docs.python.org/3/tutorial/controlflow.html#break-and-continue-statements-and-else-clauses-on-loops)\n",
    "\n",
    "Continue with the next cycle of the nearest enclosing loop."
   ]
  },
  {
   "cell_type": "code",
   "execution_count": null,
   "id": "breathing-excess",
   "metadata": {},
   "outputs": [],
   "source": [
    "# Find even or odd numbers\n",
    "# Check the difference wth the script above\n",
    "for num in range(2, 10):  # 2\n",
    "    if num % 2 == 0:   # True\n",
    "        print(\"Found an even number\", num)\n",
    "        # continue passes control to the beginning of the loop that it belongs to.\n",
    "        continue  # the nearest enclosing loop is the if:\n",
    "    print(\"Found an odd number\", num)"
   ]
  },
  {
   "cell_type": "code",
   "execution_count": null,
   "id": "every-assessment",
   "metadata": {},
   "outputs": [],
   "source": [
    "# Find even or odd numbers\n",
    "# if continue is in the wrong block:\n",
    "# This is a total ABSOLUTE Mess\n",
    "\n",
    "for num in range(2, 10):  # 2\n",
    "    if num % 2 == 0:   # True\n",
    "        print(\"Found an even number\", num)\n",
    "        # continue passes control to the beginning of the loop that it belongs to.\n",
    "    continue  # the nearest enclosing loop is the for:\n",
    "    # when the flow ot the script comes to continue, it passes control to the for and iteration continues.\n",
    "    # the print and odd is never executed, and the loop finishes always ignoring it\n",
    "    print(\"Found an odd number\", num)"
   ]
  },
  {
   "cell_type": "code",
   "execution_count": null,
   "id": "saved-debut",
   "metadata": {},
   "outputs": [],
   "source": [
    "# Find even or odd numbers. WRONG.\n",
    "# Without continue, the loop is a mess.\n",
    "for num in range(2, 10):\n",
    "    if num % 2 == 0:\n",
    "        print(\"Found an even number\", num)\n",
    "        # continue  # commented \"continue\" to see difference\n",
    "        # without continue the inner (nested) loop finishes,\n",
    "        # then goes to the next statement of the outer loop\n",
    "        # then executes the last print everytime.\n",
    "        # then goes to beggining to iterate over the next number.\n",
    "    print(\"Found an odd number\", num)"
   ]
  },
  {
   "cell_type": "markdown",
   "id": "5bf62fb2-2c9c-4f72-9dc0-5514a8a7c258",
   "metadata": {
    "tags": [],
    "toc-hr-collapsed": true
   },
   "source": [
    "## Assignment, Practice Exercise\n",
    "\n",
    "**Create a guessing game. Will be graded with 10 points.**  \n",
    "**Goal: Show pseudo coding and test learning so far.**   \n",
    "\n",
    "\n",
    "\n",
    "Create a random integer number from 1 to 100. (Hint: try with a range from 1 to 20 first)  \n",
    "Ask user to guess the random number that was created.  \n",
    "Store the number of users' tries in a counter.  \n",
    "\n",
    "If user guess < number: inform users that their guess is lower than the number and ask user again.  \n",
    "If user guess > number: inform users that their guess is higher than the number and ask user again.   \n",
    "If user guess is equal to the number, inform user about the number of tries it took and then congratulate user.   \n",
    "\n",
    "Important:   \n",
    "Try to make different versions using AI assistants.  \n",
    "If you have more than one solutions, include your pseudocoding variations in the solutions file."
   ]
  },
  {
   "cell_type": "code",
   "execution_count": null,
   "id": "1e8bae26-af21-480f-85ff-de60e25f2206",
   "metadata": {},
   "outputs": [],
   "source": []
  }
 ],
 "metadata": {
  "kernelspec": {
   "display_name": "Python 3 (ipykernel)",
   "language": "python",
   "name": "python3"
  },
  "language_info": {
   "codemirror_mode": {
    "name": "ipython",
    "version": 3
   },
   "file_extension": ".py",
   "mimetype": "text/x-python",
   "name": "python",
   "nbconvert_exporter": "python",
   "pygments_lexer": "ipython3",
   "version": "3.11.8"
  }
 },
 "nbformat": 4,
 "nbformat_minor": 5
}
